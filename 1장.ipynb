{
 "cells": [
  {
   "attachments": {},
   "cell_type": "markdown",
   "metadata": {},
   "source": [
    "# 변수와 상수"
   ]
  },
  {
   "cell_type": "code",
   "execution_count": 2,
   "metadata": {},
   "outputs": [
    {
     "name": "stdout",
     "output_type": "stream",
     "text": [
      "5\n"
     ]
    }
   ],
   "source": [
    "x=5\n",
    "print(x)"
   ]
  },
  {
   "cell_type": "code",
   "execution_count": 3,
   "metadata": {},
   "outputs": [
    {
     "name": "stdout",
     "output_type": "stream",
     "text": [
      "1 2 3\n"
     ]
    }
   ],
   "source": [
    "x,y,z = 1,2,3\n",
    "print(x,y,z)"
   ]
  },
  {
   "cell_type": "code",
   "execution_count": 4,
   "metadata": {},
   "outputs": [
    {
     "name": "stdout",
     "output_type": "stream",
     "text": [
      "12\n",
      "-4\n",
      "3\n",
      "2187\n",
      "1\n"
     ]
    }
   ],
   "source": [
    "a,b,c = 3,7,2\n",
    "\n",
    "print(a+b+c)\n",
    "print(a-b)\n",
    "print(a%b)\n",
    "print(a**b)\n",
    "print(a//c)"
   ]
  },
  {
   "attachments": {},
   "cell_type": "markdown",
   "metadata": {},
   "source": [
    "# 방정식과 부등식"
   ]
  },
  {
   "cell_type": "code",
   "execution_count": 5,
   "metadata": {},
   "outputs": [
    {
     "data": {
      "text/plain": [
       "[3]"
      ]
     },
     "execution_count": 5,
     "metadata": {},
     "output_type": "execute_result"
    }
   ],
   "source": [
    "from sympy import Symbol, solve\n",
    "\n",
    "x = Symbol('x') # 기호변수 x\n",
    "equation = 2*x - 6\n",
    "solve(equation)"
   ]
  },
  {
   "cell_type": "code",
   "execution_count": 7,
   "metadata": {},
   "outputs": [
    {
     "data": {
      "text/plain": [
       "[{x: 1, y: -1}]"
      ]
     },
     "execution_count": 7,
     "metadata": {},
     "output_type": "execute_result"
    }
   ],
   "source": [
    "# 연립방정식\n",
    "\n",
    "x = Symbol('x')\n",
    "y = Symbol('y')\n",
    "\n",
    "equation1 = 3*x + y -2\n",
    "equation2 = x-2*y -3\n",
    "\n",
    "solve((equation1, equation2), dict = True) # 해를 dict로 반환"
   ]
  },
  {
   "attachments": {},
   "cell_type": "markdown",
   "metadata": {},
   "source": [
    "# 함수"
   ]
  },
  {
   "attachments": {},
   "cell_type": "markdown",
   "metadata": {},
   "source": [
    "- x,y 변수가 있을 때 x 값에 따라 y 값이 결정되면 함수\n",
    "\n",
    "- 변수를 포함하는 등식에서 변수 값에 따라 참 또는 거짓이 성립하는 식은 방정식\n",
    "\n",
    "- 방정식은 함수를 포괄하는 개념, 모든 함수는 방정식으로 바꾸어서 표현 가능\n",
    "\n",
    "- 일차 함수와 이차 함수 모두 a기울기와 b 절편에 따라 실수 범위 내에서 좌표평면에 표시 가능"
   ]
  },
  {
   "attachments": {},
   "cell_type": "markdown",
   "metadata": {},
   "source": [
    "# 거듭제곱과 거듭제곱근"
   ]
  },
  {
   "cell_type": "code",
   "execution_count": 8,
   "metadata": {},
   "outputs": [
    {
     "data": {
      "text/plain": [
       "32"
      ]
     },
     "execution_count": 8,
     "metadata": {},
     "output_type": "execute_result"
    }
   ],
   "source": [
    "2**5"
   ]
  },
  {
   "cell_type": "code",
   "execution_count": 10,
   "metadata": {},
   "outputs": [
    {
     "name": "stdout",
     "output_type": "stream",
     "text": [
      "1.4142135623730951\n",
      "3.0\n"
     ]
    }
   ],
   "source": [
    "import math\n",
    "\n",
    "print(math.sqrt(2)) # 제곱근\n",
    "print(math.sqrt(9))"
   ]
  },
  {
   "attachments": {},
   "cell_type": "markdown",
   "metadata": {},
   "source": [
    "# 인수분해"
   ]
  },
  {
   "cell_type": "code",
   "execution_count": 11,
   "metadata": {},
   "outputs": [
    {
     "data": {
      "text/latex": [
       "$\\displaystyle x^{2} + 6 x + 5$"
      ],
      "text/plain": [
       "x**2 + 6*x + 5"
      ]
     },
     "execution_count": 11,
     "metadata": {},
     "output_type": "execute_result"
    }
   ],
   "source": [
    "from sympy import expand, factor, Symbol\n",
    "\n",
    "x = Symbol('x')\n",
    "expand((x+1)*(x+5)) # 수식 전개"
   ]
  },
  {
   "cell_type": "code",
   "execution_count": 12,
   "metadata": {},
   "outputs": [
    {
     "data": {
      "text/latex": [
       "$\\displaystyle \\left(x + 1\\right) \\left(x + 5\\right)$"
      ],
      "text/plain": [
       "(x + 1)*(x + 5)"
      ]
     },
     "execution_count": 12,
     "metadata": {},
     "output_type": "execute_result"
    }
   ],
   "source": [
    "factor(x**2 + 6*x + 5) # 인수분해 함수"
   ]
  },
  {
   "attachments": {},
   "cell_type": "markdown",
   "metadata": {},
   "source": [
    "# 지수함수"
   ]
  },
  {
   "attachments": {},
   "cell_type": "markdown",
   "metadata": {},
   "source": [
    "- 지수함수 : 지수에 미지수 x가 있는 함수, f(x) = a^x(a>0, a!=1)\n",
    "\n",
    "- a는 밑으로, 양의 정수이어야 하며 0<a<1 or a>1\n",
    "\n",
    "- 지수함수의 그래프는 x축과 만나지 않으며, 반드시 y축을 지나고 그 점은 1 또는 -1\n",
    "\n",
    "- 지수함수와 로그함수는 인공지능의 오차역전파에서 활용"
   ]
  },
  {
   "cell_type": "code",
   "execution_count": 17,
   "metadata": {},
   "outputs": [
    {
     "name": "stdout",
     "output_type": "stream",
     "text": [
      "pow 결과 : 32.0\n",
      "pow 결과 : 1.4142135623730951\n",
      "pow 결과 : 7.38905609893065\n"
     ]
    }
   ],
   "source": [
    "import math\n",
    "\n",
    "# 2의 5제곱\n",
    "pow = math.pow(2,5)\n",
    "print(f'pow 결과 : {pow}')\n",
    "\n",
    "# 2의 제곱근\n",
    "sqrt = math.sqrt(2)\n",
    "print(f'pow 결과 : {sqrt}')\n",
    "\n",
    "# e의 2 제곱\n",
    "exp = math.exp(2)\n",
    "print(f'pow 결과 : {exp}')"
   ]
  },
  {
   "attachments": {},
   "cell_type": "markdown",
   "metadata": {},
   "source": [
    "# 로그함수"
   ]
  },
  {
   "attachments": {},
   "cell_type": "markdown",
   "metadata": {},
   "source": [
    "- 로그함수 : 로그의 진수나 밑에 미지수 x가 있는 함수, f(x)=log{a}x (x>0, a>0, a!= 1)\n",
    "\n",
    "- 로그함수는 지수함수와 역함수\n",
    "\n",
    "- log{a}xy = log{a}x + log{a}y\n",
    "\n",
    "- log{a}1 = 0"
   ]
  },
  {
   "cell_type": "code",
   "execution_count": 19,
   "metadata": {},
   "outputs": [
    {
     "data": {
      "text/plain": [
       "0.5"
      ]
     },
     "execution_count": 19,
     "metadata": {},
     "output_type": "execute_result"
    }
   ],
   "source": [
    "import math\n",
    "\n",
    "print(math.log(2,4)) # 밑이 4고, 진수가 2인 로그\n",
    "print(math.log(4,2)) # 밑이 2고, 진수가 4인 로그"
   ]
  },
  {
   "attachments": {},
   "cell_type": "markdown",
   "metadata": {},
   "source": [
    "# 미분"
   ]
  },
  {
   "attachments": {},
   "cell_type": "markdown",
   "metadata": {},
   "source": [
    "- 미분은 인공지능에서 가중치와 편향의 값을 조절할 때 사용\n",
    "\n",
    "- 역전파 : (출력 값 - 정답)^2의 값을 가중치로 미분하여 정답과 출력 값의 오차를 감소시키는 과정\n",
    "\n",
    "- 인공지능에서 학습이란 신경망에서 원하는 결과를 얻기 위해 뉴런 사이의 적당한 가중치를 알아내서 최적화하는 것"
   ]
  },
  {
   "attachments": {},
   "cell_type": "markdown",
   "metadata": {},
   "source": [
    "# 함수의 극한"
   ]
  },
  {
   "cell_type": "code",
   "execution_count": 21,
   "metadata": {},
   "outputs": [
    {
     "data": {
      "text/latex": [
       "$\\displaystyle 0$"
      ],
      "text/plain": [
       "0"
      ]
     },
     "execution_count": 21,
     "metadata": {},
     "output_type": "execute_result"
    }
   ],
   "source": [
    "from sympy import Limit, S, Symbol\n",
    "\n",
    "# x 변수를 생성하고, x가 0으로 한없이 가까워질 때의 1/x에 대한 극한값\n",
    "# Limit(극한을 구하는 함수, x변수, x 변수가 다가가는 값)\n",
    "# 극한값이 존재하려면 우극한과 좌극한이 같아야 함\n",
    "\n",
    "x = Symbol('x')\n",
    "Limit(1/x,x,S.Infinity).doit()"
   ]
  },
  {
   "cell_type": "code",
   "execution_count": 22,
   "metadata": {},
   "outputs": [
    {
     "data": {
      "text/latex": [
       "$\\displaystyle \\infty$"
      ],
      "text/plain": [
       "oo"
      ]
     },
     "execution_count": 22,
     "metadata": {},
     "output_type": "execute_result"
    }
   ],
   "source": [
    "Limit(1/x,x,0).doit() # 우극한값"
   ]
  },
  {
   "cell_type": "code",
   "execution_count": 24,
   "metadata": {},
   "outputs": [
    {
     "data": {
      "text/latex": [
       "$\\displaystyle -\\infty$"
      ],
      "text/plain": [
       "-oo"
      ]
     },
     "execution_count": 24,
     "metadata": {},
     "output_type": "execute_result"
    }
   ],
   "source": [
    "Limit(1/x,x,0,dir = '-').doit() # 좌극한값"
   ]
  }
 ],
 "metadata": {
  "kernelspec": {
   "display_name": "Python 3",
   "language": "python",
   "name": "python3"
  },
  "language_info": {
   "codemirror_mode": {
    "name": "ipython",
    "version": 3
   },
   "file_extension": ".py",
   "mimetype": "text/x-python",
   "name": "python",
   "nbconvert_exporter": "python",
   "pygments_lexer": "ipython3",
   "version": "3.10.11"
  },
  "orig_nbformat": 4
 },
 "nbformat": 4,
 "nbformat_minor": 2
}
