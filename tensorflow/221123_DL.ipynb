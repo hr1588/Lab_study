{
  "nbformat": 4,
  "nbformat_minor": 0,
  "metadata": {
    "colab": {
      "provenance": []
    },
    "kernelspec": {
      "name": "python3",
      "display_name": "Python 3"
    },
    "language_info": {
      "name": "python"
    },
    "gpuClass": "standard"
  },
  "cells": [
    {
      "cell_type": "code",
      "execution_count": 1,
      "metadata": {
        "id": "YrrKBF341xFm"
      },
      "outputs": [],
      "source": [
        "!pip install tensorflow -q"
      ]
    },
    {
      "cell_type": "code",
      "source": [
        "from tensorflow.keras.datasets import imdb\n",
        "\n",
        "(train_input, train_target), (test_input, test_target) = imdb.load_data(num_words = 500)"
      ],
      "metadata": {
        "colab": {
          "base_uri": "https://localhost:8080/"
        },
        "id": "lnOoK81K16gR",
        "outputId": "9d3a13b9-b5e3-4de6-9623-f73feeb229f0"
      },
      "execution_count": 2,
      "outputs": [
        {
          "output_type": "stream",
          "name": "stdout",
          "text": [
            "Downloading data from https://storage.googleapis.com/tensorflow/tf-keras-datasets/imdb.npz\n",
            "17464789/17464789 [==============================] - 0s 0us/step\n"
          ]
        }
      ]
    },
    {
      "cell_type": "code",
      "source": [
        "from sklearn.model_selection import train_test_split\n",
        "\n",
        "train_input, val_input, train_target, val_target = train_test_split(train_input, train_target,\n",
        "                                                                    test_size = 0.2, random_state =42)"
      ],
      "metadata": {
        "id": "iobovpeF2Ox8"
      },
      "execution_count": 3,
      "outputs": []
    },
    {
      "cell_type": "code",
      "source": [
        "import numpy as np\n",
        "lengths = np.array([len(x) for x in train_input])\n",
        "print(np.mean(lengths), np.median(lengths))"
      ],
      "metadata": {
        "colab": {
          "base_uri": "https://localhost:8080/"
        },
        "id": "ytGdOJ4N2dT6",
        "outputId": "dc869fe7-28d1-4a7e-e71d-fa753de7e914"
      },
      "execution_count": 4,
      "outputs": [
        {
          "output_type": "stream",
          "name": "stdout",
          "text": [
            "239.00925 178.0\n"
          ]
        }
      ]
    },
    {
      "cell_type": "code",
      "source": [
        "import matplotlib.pyplot as plt\n",
        "plt.hist(lengths)"
      ],
      "metadata": {
        "colab": {
          "base_uri": "https://localhost:8080/",
          "height": 357
        },
        "id": "4-GXZW6-2lZd",
        "outputId": "86232b72-3610-419c-db5f-b3ccef64a189"
      },
      "execution_count": 5,
      "outputs": [
        {
          "output_type": "execute_result",
          "data": {
            "text/plain": [
              "(array([1.1149e+04, 5.7490e+03, 1.8590e+03, 7.3200e+02, 3.0600e+02,\n",
              "        1.8800e+02, 6.0000e+00, 4.0000e+00, 4.0000e+00, 3.0000e+00]),\n",
              " array([  11. ,  195.3,  379.6,  563.9,  748.2,  932.5, 1116.8, 1301.1,\n",
              "        1485.4, 1669.7, 1854. ]),\n",
              " <a list of 10 Patch objects>)"
            ]
          },
          "metadata": {},
          "execution_count": 5
        },
        {
          "output_type": "display_data",
          "data": {
            "text/plain": [
              "<Figure size 432x288 with 1 Axes>"
            ],
            "image/png": "[encoded data removed]"
          },
          "metadata": {
            "needs_background": "light"
          }
        }
      ]
    },
    {
      "cell_type": "code",
      "source": [
        "from tensorflow.keras.preprocessing.sequence import pad_sequences\n",
        "\n",
        "train_seq = pad_sequences(train_input, maxlen = 100)"
      ],
      "metadata": {
        "id": "0hUIEXaN2rNC"
      },
      "execution_count": 6,
      "outputs": []
    },
    {
      "cell_type": "code",
      "source": [
        "val_seq = pad_sequences(val_input, maxlen = 100)"
      ],
      "metadata": {
        "id": "nt202hGA210f"
      },
      "execution_count": 7,
      "outputs": []
    },
    {
      "cell_type": "code",
      "source": [
        "from tensorflow import keras\n",
        "\n",
        "model = keras.Sequential()\n",
        "model.add(keras.layers.SimpleRNN(8, input_shape = (100,500)))\n",
        "model.add(keras.layers.Dense(1, activation = 'sigmoid'))"
      ],
      "metadata": {
        "id": "V686Jf4Y25ti"
      },
      "execution_count": 8,
      "outputs": []
    },
    {
      "cell_type": "code",
      "source": [
        "train_oh = keras.utils.to_categorical(train_seq)"
      ],
      "metadata": {
        "id": "UT4AN90V3Syb"
      },
      "execution_count": 9,
      "outputs": []
    },
    {
      "cell_type": "code",
      "source": [
        "train_oh.shape"
      ],
      "metadata": {
        "colab": {
          "base_uri": "https://localhost:8080/"
        },
        "id": "Uk7l4LYv3nSZ",
        "outputId": "f822d5d0-3ec5-4303-deda-4539290ccdc9"
      },
      "execution_count": 10,
      "outputs": [
        {
          "output_type": "execute_result",
          "data": {
            "text/plain": [
              "(20000, 100, 500)"
            ]
          },
          "metadata": {},
          "execution_count": 10
        }
      ]
    },
    {
      "cell_type": "code",
      "source": [
        "len(train_oh[0][0])"
      ],
      "metadata": {
        "colab": {
          "base_uri": "https://localhost:8080/"
        },
        "id": "cn_WSv0S3oYR",
        "outputId": "a324161d-6d66-4192-83c7-74abb170af27"
      },
      "execution_count": 11,
      "outputs": [
        {
          "output_type": "execute_result",
          "data": {
            "text/plain": [
              "500"
            ]
          },
          "metadata": {},
          "execution_count": 11
        }
      ]
    },
    {
      "cell_type": "code",
      "source": [
        "val_oh = keras.utils.to_categorical(val_seq)"
      ],
      "metadata": {
        "id": "TOWHW4X53W6j"
      },
      "execution_count": 12,
      "outputs": []
    },
    {
      "cell_type": "code",
      "source": [
        "model.summary()"
      ],
      "metadata": {
        "colab": {
          "base_uri": "https://localhost:8080/"
        },
        "id": "NV1Fzrkj3iwz",
        "outputId": "fc62320f-7808-4a8e-9368-5b3cbb6934a7"
      },
      "execution_count": 13,
      "outputs": [
        {
          "output_type": "stream",
          "name": "stdout",
          "text": [
            "Model: \"sequential\"\n",
            "_________________________________________________________________\n",
            " Layer (type)                Output Shape              Param #   \n",
            "=================================================================\n",
            " simple_rnn (SimpleRNN)      (None, 8)                 4072      \n",
            "                                                                 \n",
            " dense (Dense)               (None, 1)                 9         \n",
            "                                                                 \n",
            "=================================================================\n",
            "Total params: 4,081\n",
            "Trainable params: 4,081\n",
            "Non-trainable params: 0\n",
            "_________________________________________________________________\n"
          ]
        }
      ]
    },
    {
      "cell_type": "code",
      "source": [
        "rmsprop = keras.optimizers.RMSprop(learning_rate = 1e-4)\n",
        "model.compile(optimizer = rmsprop, loss = 'binary_crossentropy', metrics = ['accuracy'])\n",
        "checkpoint_cb = keras.callbacks.ModelCheckpoint('best-simplernn-model.h5')\n",
        "early_stopping_cb = keras.callbacks.EarlyStopping(patience = 3, restore_best_weights = True)\n",
        "\n",
        "history = model.fit(train_oh, train_target, epochs = 10, batch_size = 64, \n",
        "                    validation_data = (val_oh, val_target), callbacks = [checkpoint_cb, early_stopping_cb])"
      ],
      "metadata": {
        "colab": {
          "base_uri": "https://localhost:8080/"
        },
        "id": "6R_ETeXR3j-e",
        "outputId": "6de7bd2f-1226-41e7-9bd5-dbf1f54c710c"
      },
      "execution_count": 16,
      "outputs": [
        {
          "output_type": "stream",
          "name": "stdout",
          "text": [
            "Epoch 1/10\n",
            "313/313 [==============================] - 15s 40ms/step - loss: 0.7044 - accuracy: 0.4987 - val_loss: 0.7025 - val_accuracy: 0.4936\n",
            "Epoch 2/10\n",
            "313/313 [==============================] - 12s 39ms/step - loss: 0.6982 - accuracy: 0.5103 - val_loss: 0.6981 - val_accuracy: 0.5056\n",
            "Epoch 3/10\n",
            "313/313 [==============================] - 12s 40ms/step - loss: 0.6938 - accuracy: 0.5214 - val_loss: 0.6949 - val_accuracy: 0.5152\n",
            "Epoch 4/10\n",
            "313/313 [==============================] - 12s 39ms/step - loss: 0.6903 - accuracy: 0.5317 - val_loss: 0.6922 - val_accuracy: 0.5232\n",
            "Epoch 5/10\n",
            "313/313 [==============================] - 14s 43ms/step - loss: 0.6871 - accuracy: 0.5444 - val_loss: 0.6899 - val_accuracy: 0.5316\n",
            "Epoch 6/10\n",
            "313/313 [==============================] - 12s 39ms/step - loss: 0.6841 - accuracy: 0.5547 - val_loss: 0.6877 - val_accuracy: 0.5396\n",
            "Epoch 7/10\n",
            "313/313 [==============================] - 12s 39ms/step - loss: 0.6812 - accuracy: 0.5645 - val_loss: 0.6854 - val_accuracy: 0.5484\n",
            "Epoch 8/10\n",
            "313/313 [==============================] - 13s 40ms/step - loss: 0.6781 - accuracy: 0.5749 - val_loss: 0.6829 - val_accuracy: 0.5526\n",
            "Epoch 9/10\n",
            "313/313 [==============================] - 14s 44ms/step - loss: 0.6746 - accuracy: 0.5849 - val_loss: 0.6803 - val_accuracy: 0.5590\n",
            "Epoch 10/10\n",
            "313/313 [==============================] - 12s 39ms/step - loss: 0.6707 - accuracy: 0.5964 - val_loss: 0.6765 - val_accuracy: 0.5706\n"
          ]
        }
      ]
    },
    {
      "cell_type": "markdown",
      "source": [
        "# 단어 임베딩"
      ],
      "metadata": {
        "id": "2EhoOv3L6gvm"
      }
    },
    {
      "cell_type": "code",
      "source": [
        "model2 = keras.Sequential()\n",
        "model2.add(keras.layers.Embedding(500, 16, input_length = 100)) \n",
        "# 어휘 사전 top 500, 16 : 임베딩 벡터 크기, input_length : 입력 시퀀스 길이\n",
        "model2.add(keras.layers.SimpleRNN(8))\n",
        "model2.add(keras.layers.Dense(1, activation = \"sigmoid\"))"
      ],
      "metadata": {
        "id": "SHO8Xe_x5kub"
      },
      "execution_count": 26,
      "outputs": []
    },
    {
      "cell_type": "code",
      "source": [
        "model2.summary()"
      ],
      "metadata": {
        "colab": {
          "base_uri": "https://localhost:8080/"
        },
        "id": "xKBK2srf63hc",
        "outputId": "f9899633-682f-4f9d-b2b7-3598eb82bac3"
      },
      "execution_count": 27,
      "outputs": [
        {
          "output_type": "stream",
          "name": "stdout",
          "text": [
            "Model: \"sequential_6\"\n",
            "_________________________________________________________________\n",
            " Layer (type)                Output Shape              Param #   \n",
            "=================================================================\n",
            " embedding_5 (Embedding)     (None, 100, 16)           8000      \n",
            "                                                                 \n",
            " simple_rnn_5 (SimpleRNN)    (None, 8)                 200       \n",
            "                                                                 \n",
            " dense_5 (Dense)             (None, 1)                 9         \n",
            "                                                                 \n",
            "=================================================================\n",
            "Total params: 8,209\n",
            "Trainable params: 8,209\n",
            "Non-trainable params: 0\n",
            "_________________________________________________________________\n"
          ]
        }
      ]
    },
    {
      "cell_type": "code",
      "source": [],
      "metadata": {
        "id": "3afKoE5Y68E9"
      },
      "execution_count": null,
      "outputs": []
    }
  ]
}