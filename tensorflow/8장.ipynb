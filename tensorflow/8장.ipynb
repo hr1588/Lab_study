{
 "cells": [
  {
   "cell_type": "markdown",
   "metadata": {},
   "source": [
    "### CNN(합성곱 신경망)\n",
    "\n",
    "- 합성곱 : 마치 입력 데이터에 마법의 도장을 찍어서 유용한 특성을 드러나게 하는 것\n",
    "\n",
    "- 합성곱의 동작 원리 : 밀집층에는 뉴런마다 입력 개수 만큼의 가중치가 있다. 모든 입력에 가중치를 곱한다.\n",
    "\n",
    "- 합성곱 신경망에서는 완전 연결 신경망과 달리 뉴런을 필터 혹은 커널\n",
    "\n",
    "- 커널은 입력에 곱하는 가중치이고, 필터는 뉴런 개수를 표현할 때 사용 / 필터 = 하이퍼 파라미터\n",
    "\n",
    "- 합성곱은 2차원 배열에서도 허용된다. 단, 입력이 2차원 배열이면 필터도 2차원이어야 함.\n",
    "\n",
    "- 밀집층에서 여러 개의 뉴런을 사용하듯이 합성곱에서도 여러 개의 필터를 사용함.\n",
    "\n",
    "- 이 때 합성곱 계산을 통해 얻은 출력을 특성맵(feature map)"
   ]
  },
  {
   "cell_type": "code",
   "execution_count": 2,
   "metadata": {},
   "outputs": [
    {
     "data": {
      "text/plain": [
       "<keras.layers.convolutional.conv2d.Conv2D at 0x23a3f1711c0>"
      ]
     },
     "execution_count": 2,
     "metadata": {},
     "output_type": "execute_result"
    }
   ],
   "source": [
    "from tensorflow import keras\n",
    "\n",
    "keras.layers.Conv2D(10, kernel_size = (3,3), activation = 'relu')\n",
    "\n",
    "# Conv2D(필터 개수, 커널 사이즈, 활성화 함수), 필터 개수와 커널 사이즈는 필수 매개변수\n",
    "\n",
    "# 특별히 입력 위를 이동하는 합성곱은 Conv2D로 제공\n",
    "# Conv2D의 첫 번째 매개변수는 필터의 개수(도장의 개수)\n",
    "# kernel_size = 필터에 사용할 커널의 크기 지정(도장의 크기), 하이퍼 파라미터, 커널은 실제 이미지 크기를 넘길 수 없고, 크기가 동일해도 의미가 없음\n",
    "# 밀집층에서처럼 활성화 함수 지정 - 여기서는 relu 함수\n",
    "# 특성맵은 활성화 함수를 적용한 후 \n",
    "# 합성곱 신경망 : 일반적으로 1개 이상의 합성곱 층을 쓴 인공 신경망을 합성곱 신경망이라고 부름, 합성곱 층만 사용한 신경망을 합성곱 신경망이라고 부르는 것은 아님"
   ]
  },
  {
   "cell_type": "markdown",
   "metadata": {},
   "source": [
    "### 패딩(padding)\n",
    " \n",
    "- 패딩 : 입력 배열의 주위를 가상의 원소로 채우는 것, 패딩은 0으로 채움, 실제 역할은 순전히 커널이 도장을 찍을 횟수를 늘려주는 것 밖에는 없음\n",
    "\n",
    "- 실제 값은 0으로 채워져 있기 때문에 계산에 영향을 미치지는 않음\n",
    "\n",
    "- 세임 패딩(same padding) : 입력과 특성 매의 크기를 동일하게 만들기 위해 입력 주위에 0으로 패딩하는 것 -> 입력과 특성 맵의 크기를 동일\n",
    "\n",
    "- 밸리드 패딩(valid padding) : 패딩 없이 순수한 입력 배열에서만 합성곱을 하여 특성 맵을 만드는 경우, 특성 맵의 크기가 줄어들 수 밖에 없음\n",
    "\n",
    "- 케라스 Conv2D 클래스에서는 padding 매개변수로 패딩을 지정할 수 있음. 기본값은 valid로 밸리드 패딩, 세임 패딩은 'same'으로 지정\n",
    "\n",
    "- 스트라이드(stride) : 이동의 크기, 기본적으로 스트라이드는 1, 한 칸씩 이동\n",
    "\n",
    "- stride가 1일 경우 촘촘해 봐서 모든 feature를 계산한다는 의미, input에 가까운 layer일수록 촘촘히 보는 것이 좋다. 모든 feature를 놓치지 않고 추출하지만, 중복된 정보까지 가져올 수 있음\n",
    "\n",
    "- stride가 2일 경우 꼼꼼하게 보지 않지만, 반대로 중복된 정보를 삭제할 수 있음\n"
   ]
  },
  {
   "cell_type": "code",
   "execution_count": 3,
   "metadata": {},
   "outputs": [
    {
     "data": {
      "text/plain": [
       "<keras.layers.convolutional.conv2d.Conv2D at 0x23a3f1713d0>"
      ]
     },
     "execution_count": 3,
     "metadata": {},
     "output_type": "execute_result"
    }
   ],
   "source": [
    "keras.layers.Conv2D(10, kernel_size = (3,3), activation = 'relu', padding = 'same', strides = 1)"
   ]
  },
  {
   "cell_type": "markdown",
   "metadata": {},
   "source": [
    "### 풀링(pooling)\n",
    "\n",
    "- 풀링 : 합성곱 맵의 가로세로 크기를 줄이는 역할을 수행, 하지만 특성 맵의 개수는 줄이지 않음\n",
    "\n",
    "- 최대 풀링(max pooling) : 도장을 찍은 영역에서 가장 큰 값\n",
    "\n",
    "- 평균 풀링 : 도장을 찍은 영역에서 평균값(클래스는 AveragePooling2D)\n",
    "\n",
    "- 풀링은 가로세로 방향으로만 진행\n",
    "\n",
    "- pool_size : pooling window의 너비와 높이(height and width) 지정\n",
    "\n",
    "- 아래의 인자는 옵셔널하다. (세부조정 가능)\n",
    "\n",
    "- strides : 수직, 수평 stride 값. 디폴트 값은 pool_size 값이 됨.\n",
    "\n",
    "- padding : 'valid' 또는 'same' 을 지정. 디폴트 값은 'valid'가 됨.\n",
    "\n",
    "- pool_size 와 strides 는 숫자 또는 튜플로 값을 줄 수 있다."
   ]
  },
  {
   "cell_type": "code",
   "execution_count": 4,
   "metadata": {},
   "outputs": [
    {
     "data": {
      "text/plain": [
       "<keras.layers.pooling.max_pooling2d.MaxPooling2D at 0x23a5985ad90>"
      ]
     },
     "execution_count": 4,
     "metadata": {},
     "output_type": "execute_result"
    }
   ],
   "source": [
    "keras.layers.MaxPooling2D(2, strides = 2, padding = 'valid')"
   ]
  },
  {
   "cell_type": "code",
   "execution_count": 5,
   "metadata": {},
   "outputs": [
    {
     "data": {
      "text/plain": [
       "<keras.layers.pooling.average_pooling2d.AveragePooling2D at 0x23a3f171340>"
      ]
     },
     "execution_count": 5,
     "metadata": {},
     "output_type": "execute_result"
    }
   ],
   "source": [
    "keras.layers.AveragePooling2D(3, strides =  2)"
   ]
  },
  {
   "cell_type": "markdown",
   "metadata": {},
   "source": [
    "### CNN의 전체구조\n",
    "\n",
    "1. (4,4) 입력, 패딩으로 인해 (6,6)\n",
    "\n",
    "2. 합성곱 층에서 커널의 크기는(3,3), 세임 패딩이므로 1픽셀 추가 => 입력과 특성 맵의 크기 동일하게\n",
    "\n",
    "3. 서로 다른 (3,3)필터 3개로 (4,4) 특성 맵 3개 => (4,4,3) 특성 맵\n",
    "\n",
    "4. 풀링층은 합성곱 층에서 만든 특성 맵의 가로세로 크기를 줄임  (4,4,3) => (2,2,3) <최대 풀링 사용>\n",
    "\n",
    "5. 밀집층인 출력층에 전달하러면 3차원 배열을 1차원으로 펼쳐야 함\n",
    "\n",
    "6. 출력층에는 3개의 뉴런 - 3개의 클래스를 분류하는 다중 분류 문제\n",
    "\n",
    "7. 출력층에서 계산된 값은 소프트맥스와 같은 활성화 함수를 거쳐 최종 예측 확률이 됨."
   ]
  },
  {
   "cell_type": "markdown",
   "metadata": {},
   "source": [
    "### 컬러 이미지를 사용한 합성곱\n",
    "\n",
    "- 컬러 이미지는 RGB(빨강, 초록, 파랑) 채널에 구성되어 있기 떄문에 컴퓨터는 이를 3차원 배열로 표시(3,3,3)\n",
    "\n",
    "- 합성곱의 계산은 (3,3,3) 영역에 해당하는 27개의 원소에 27개의 가중치를 곱하고 절편을 더하는 식"
   ]
  },
  {
   "cell_type": "markdown",
   "metadata": {},
   "source": [
    "### 패션 MINST 데이터 불러오기\n",
    "\n",
    "- train_scaled의 차원은 (50000,28,28)에서 (50000,28,28,1)\n",
    "\n",
    "- 28*28 사진이 5만장"
   ]
  },
  {
   "cell_type": "code",
   "execution_count": 6,
   "metadata": {},
   "outputs": [],
   "source": [
    "from tensorflow import keras\n",
    "from sklearn.model_selection import train_test_split\n",
    "\n",
    "(train_input, train_target), (test_input, test_target) = keras.datasets.fashion_mnist.load_data()\n",
    "\n",
    "train_scaled = train_input.reshape(-1,28,28,1) / 255.0\n",
    "train_scaled, val_scaled, train_target, val_target = train_test_split(train_scaled, train_target, test_size=0.2, random_state=42)"
   ]
  },
  {
   "cell_type": "markdown",
   "metadata": {},
   "source": [
    "### 합성곱 신경망 만들기"
   ]
  },
  {
   "cell_type": "code",
   "execution_count": 7,
   "metadata": {},
   "outputs": [],
   "source": [
    "model = keras.Sequential()\n",
    "model.add(keras.layers.Conv2D(32, kernel_size = 3, activation = 'relu', \n",
    "                              padding = 'same', input_shape = (28,28,1)))"
   ]
  },
  {
   "cell_type": "code",
   "execution_count": 8,
   "metadata": {},
   "outputs": [
    {
     "name": "stdout",
     "output_type": "stream",
     "text": [
      "Model: \"sequential\"\n",
      "_________________________________________________________________\n",
      " Layer (type)                Output Shape              Param #   \n",
      "=================================================================\n",
      " conv2d_3 (Conv2D)           (None, 28, 28, 32)        320       \n",
      "                                                                 \n",
      "=================================================================\n",
      "Total params: 320\n",
      "Trainable params: 320\n",
      "Non-trainable params: 0\n",
      "_________________________________________________________________\n"
     ]
    }
   ],
   "source": [
    "model.summary()"
   ]
  }
 ],
 "metadata": {
  "kernelspec": {
   "display_name": "Python 3.9.13 ('base')",
   "language": "python",
   "name": "python3"
  },
  "language_info": {
   "codemirror_mode": {
    "name": "ipython",
    "version": 3
   },
   "file_extension": ".py",
   "mimetype": "text/x-python",
   "name": "python",
   "nbconvert_exporter": "python",
   "pygments_lexer": "ipython3",
   "version": "3.9.13"
  },
  "orig_nbformat": 4,
  "vscode": {
   "interpreter": {
    "hash": "43af7393c8e3bb0730eb35f197fc5ab4355397fc73467075a0f020e747dbc619"
   }
  }
 },
 "nbformat": 4,
 "nbformat_minor": 2
}
