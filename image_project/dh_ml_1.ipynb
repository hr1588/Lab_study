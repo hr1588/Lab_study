{
  "nbformat": 4,
  "nbformat_minor": 0,
  "metadata": {
    "colab": {
      "provenance": []
    },
    "kernelspec": {
      "name": "python3",
      "display_name": "Python 3"
    },
    "language_info": {
      "name": "python"
    },
    "accelerator": "GPU",
    "gpuClass": "standard"
  },
  "cells": [
    {
      "cell_type": "code",
      "execution_count": 1,
      "metadata": {
        "id": "tgBKlR3Q26iQ"
      },
      "outputs": [],
      "source": [
        "!pip install tensorflow -q"
      ]
    },
    {
      "cell_type": "code",
      "source": [
        "from google.colab import drive\n",
        "drive.mount('/content/drive')\n",
        "%cd drive/MyDrive/data/dataset"
      ],
      "metadata": {
        "colab": {
          "base_uri": "https://localhost:8080/"
        },
        "id": "QSCdU2RWRh_v",
        "outputId": "5a125f68-a272-46ee-b676-e687b6e3c23f"
      },
      "execution_count": 2,
      "outputs": [
        {
          "output_type": "stream",
          "name": "stdout",
          "text": [
            "Drive already mounted at /content/drive; to attempt to forcibly remount, call drive.mount(\"/content/drive\", force_remount=True).\n",
            "/content/drive/MyDrive/data/dataset\n"
          ]
        }
      ]
    },
    {
      "cell_type": "code",
      "source": [
        "import tensorflow as tf\n",
        "import pathlib\n",
        "import os\n",
        "import cv2\n",
        "from sklearn.model_selection import train_test_split\n",
        "import numpy as np\n",
        "from tensorflow import keras"
      ],
      "metadata": {
        "id": "r3FhDMTM5vHK"
      },
      "execution_count": 43,
      "outputs": []
    },
    {
      "cell_type": "markdown",
      "source": [
        "# 데이터 로드 및 전처리"
      ],
      "metadata": {
        "id": "EusEX5Rf8ax_"
      }
    },
    {
      "cell_type": "code",
      "source": [
        "categories = os.listdir()\n",
        "num_labels = len(categories)"
      ],
      "metadata": {
        "id": "nt79dNl38cNP"
      },
      "execution_count": 45,
      "outputs": []
    },
    {
      "cell_type": "code",
      "source": [
        "categories"
      ],
      "metadata": {
        "colab": {
          "base_uri": "https://localhost:8080/"
        },
        "id": "6RbGQCVIEuS6",
        "outputId": "7047feb1-7875-4864-e77b-1c04436b0a53"
      },
      "execution_count": 109,
      "outputs": [
        {
          "output_type": "execute_result",
          "data": {
            "text/plain": [
              "['슬픔', '중립', '기쁨', '당황', '분노', '불안', '상처']"
            ]
          },
          "metadata": {},
          "execution_count": 109
        }
      ]
    },
    {
      "cell_type": "code",
      "source": [
        "for label, cat in enumerate(categories): \n",
        "        class_num = label\n",
        "        image_dir = cat + '/'\n",
        "        print(class_num, image_dir)"
      ],
      "metadata": {
        "colab": {
          "base_uri": "https://localhost:8080/"
        },
        "id": "qO92BDUgD_AS",
        "outputId": "c2154908-b78a-4e3a-ad70-03e40e9c6fff"
      },
      "execution_count": 113,
      "outputs": [
        {
          "output_type": "stream",
          "name": "stdout",
          "text": [
            "0 슬픔/\n",
            "1 중립/\n",
            "2 기쁨/\n",
            "3 당황/\n",
            "4 분노/\n",
            "5 불안/\n",
            "6 상처/\n"
          ]
        }
      ]
    },
    {
      "cell_type": "code",
      "source": [
        "image_w = 28\n",
        "image_h = 28\n",
        "  \n",
        "X = []\n",
        "Y = []\n",
        "  \n",
        "for idex, categorie in enumerate(categories):\n",
        "    label = idex\n",
        "    image_dir = categorie + '/'\n",
        "  \n",
        "    for top, dir, f in os.walk(image_dir):\n",
        "        for filename in f:\n",
        "            img = cv2.imread(image_dir+filename) # cv2.IMREAD_GRAYSCALE : 흑백 처리\n",
        "            img = cv2.resize(img, None, fx=image_w/img.shape[1], fy=image_h/img.shape[0])\n",
        "            X.append(img/256)\n",
        "            Y.append(label)\n",
        " \n",
        "X = np.array(X)\n",
        "Y = np.array(Y)\n",
        " \n",
        "X_train, X_test, Y_train, Y_test = train_test_split(X,Y)\n",
        "xy = (X_train, X_test, Y_train, Y_test)"
      ],
      "metadata": {
        "id": "nw6h250x8rD5"
      },
      "execution_count": 139,
      "outputs": []
    },
    {
      "cell_type": "code",
      "source": [
        "# 흑백 처리하면 사용\n",
        "\n",
        "X_train = X_train.reshape(-1,28,28,1)\n",
        "X_test = X_test.reshape(-1,28,28,1)"
      ],
      "metadata": {
        "id": "XWH4V8oS7rTB"
      },
      "execution_count": 116,
      "outputs": []
    },
    {
      "cell_type": "code",
      "source": [
        "print(X_train.shape, X_test.shape, Y_train.shape, Y_test.shape)"
      ],
      "metadata": {
        "colab": {
          "base_uri": "https://localhost:8080/"
        },
        "id": "trpcTmbp59aK",
        "outputId": "06102275-ec18-4bf5-ce3f-757c6651cd91"
      },
      "execution_count": 140,
      "outputs": [
        {
          "output_type": "stream",
          "name": "stdout",
          "text": [
            "(1575, 28, 28, 3) (525, 28, 28, 3) (1575,) (525,)\n"
          ]
        }
      ]
    },
    {
      "cell_type": "code",
      "source": [
        "train_input, val_input, train_target, val_target = train_test_split(X_train, Y_train, \n",
        "                                                                      test_size=0.2, random_state=42)"
      ],
      "metadata": {
        "id": "jXtbv8rEHOne"
      },
      "execution_count": 141,
      "outputs": []
    },
    {
      "cell_type": "code",
      "source": [
        "train_input.shape"
      ],
      "metadata": {
        "colab": {
          "base_uri": "https://localhost:8080/"
        },
        "id": "KH0-zCwW_589",
        "outputId": "84023453-69c6-40ac-daa9-e4fd30f3238b"
      },
      "execution_count": 142,
      "outputs": [
        {
          "output_type": "execute_result",
          "data": {
            "text/plain": [
              "(1260, 28, 28, 3)"
            ]
          },
          "metadata": {},
          "execution_count": 142
        }
      ]
    },
    {
      "cell_type": "code",
      "source": [
        "val_input.shape"
      ],
      "metadata": {
        "colab": {
          "base_uri": "https://localhost:8080/"
        },
        "id": "gYUiz7lQ_7_9",
        "outputId": "394c631a-26d3-44bc-dc26-71d20ec1f114"
      },
      "execution_count": 143,
      "outputs": [
        {
          "output_type": "execute_result",
          "data": {
            "text/plain": [
              "(315, 28, 28, 3)"
            ]
          },
          "metadata": {},
          "execution_count": 143
        }
      ]
    },
    {
      "cell_type": "code",
      "source": [
        "train_target.shape"
      ],
      "metadata": {
        "colab": {
          "base_uri": "https://localhost:8080/"
        },
        "id": "WdPu_v_v_-1K",
        "outputId": "c319e3f2-ca93-42d8-c026-d2fd97acdfed"
      },
      "execution_count": 144,
      "outputs": [
        {
          "output_type": "execute_result",
          "data": {
            "text/plain": [
              "(1260,)"
            ]
          },
          "metadata": {},
          "execution_count": 144
        }
      ]
    },
    {
      "cell_type": "code",
      "source": [
        "val_target.shape"
      ],
      "metadata": {
        "colab": {
          "base_uri": "https://localhost:8080/"
        },
        "id": "_1l2ZYvC__su",
        "outputId": "ae3ded4d-5875-4bb2-9eea-b414c8d29858"
      },
      "execution_count": 145,
      "outputs": [
        {
          "output_type": "execute_result",
          "data": {
            "text/plain": [
              "(315,)"
            ]
          },
          "metadata": {},
          "execution_count": 145
        }
      ]
    },
    {
      "cell_type": "markdown",
      "source": [
        "# 모델 제작 및 훈련"
      ],
      "metadata": {
        "id": "B2WWJC_uGIFA"
      }
    },
    {
      "cell_type": "code",
      "source": [
        "model = keras.Sequential() # 순서대로 구조 정의\n",
        "model.add(keras.layers.Conv2D(32, kernel_size = 3, activation = 'relu', \n",
        "                              padding = 'valid', input_shape = train_input.shape[1:]))\n",
        "model.add(keras.layers.MaxPooling2D(2))\n",
        "model.add(keras.layers.Conv2D(64, kernel_size = 3, activation = 'relu', padding = 'same'))\n",
        "model.add(keras.layers.MaxPooling2D(2))\n",
        "model.add(keras.layers.Flatten())\n",
        "model.add(keras.layers.Dense(100, activation = 'relu'))\n",
        "model.add(keras.layers.Dropout(0.4))\n",
        "model.add(keras.layers.Dense(10, activation = 'softmax'))\n",
        "\n",
        "model.summary()"
      ],
      "metadata": {
        "id": "of-cei3lHmRy",
        "colab": {
          "base_uri": "https://localhost:8080/"
        },
        "outputId": "6d7d5f95-3f01-4af6-d151-a5a1077f58d0"
      },
      "execution_count": 146,
      "outputs": [
        {
          "output_type": "stream",
          "name": "stdout",
          "text": [
            "Model: \"sequential_15\"\n",
            "_________________________________________________________________\n",
            " Layer (type)                Output Shape              Param #   \n",
            "=================================================================\n",
            " conv2d_24 (Conv2D)          (None, 26, 26, 32)        896       \n",
            "                                                                 \n",
            " max_pooling2d_21 (MaxPoolin  (None, 13, 13, 32)       0         \n",
            " g2D)                                                            \n",
            "                                                                 \n",
            " conv2d_25 (Conv2D)          (None, 13, 13, 64)        18496     \n",
            "                                                                 \n",
            " max_pooling2d_22 (MaxPoolin  (None, 6, 6, 64)         0         \n",
            " g2D)                                                            \n",
            "                                                                 \n",
            " flatten_3 (Flatten)         (None, 2304)              0         \n",
            "                                                                 \n",
            " dense_20 (Dense)            (None, 100)               230500    \n",
            "                                                                 \n",
            " dropout_10 (Dropout)        (None, 100)               0         \n",
            "                                                                 \n",
            " dense_21 (Dense)            (None, 10)                1010      \n",
            "                                                                 \n",
            "=================================================================\n",
            "Total params: 250,902\n",
            "Trainable params: 250,902\n",
            "Non-trainable params: 0\n",
            "_________________________________________________________________\n"
          ]
        }
      ]
    },
    {
      "cell_type": "code",
      "source": [
        "model.compile(optimizer = 'adam', loss = 'sparse_categorical_crossentropy',\n",
        "              metrics = ['accuracy'])\n",
        "\n",
        "checkpoint_cb = keras.callbacks.ModelCheckpoint('best-cnn-model.h5',\n",
        "                                                save_best_only = True)\n",
        "\n",
        "early_stopping_cb = keras.callbacks.EarlyStopping(patience=2,\n",
        "                                                  restore_best_weights = True)\n",
        "\n",
        "history = model.fit(train_input, train_target, epochs = 100,\n",
        "                    validation_data = (val_input, val_target),\n",
        "                    callbacks = [checkpoint_cb, early_stopping_cb])"
      ],
      "metadata": {
        "colab": {
          "base_uri": "https://localhost:8080/"
        },
        "id": "nnicecjLHx_o",
        "outputId": "bfc30d9b-738a-4351-a469-c999ee3e0019"
      },
      "execution_count": 147,
      "outputs": [
        {
          "output_type": "stream",
          "name": "stdout",
          "text": [
            "Epoch 1/100\n",
            "40/40 [==============================] - 1s 27ms/step - loss: 2.1024 - accuracy: 0.1452 - val_loss: 1.9970 - val_accuracy: 0.1429\n",
            "Epoch 2/100\n",
            "40/40 [==============================] - 0s 7ms/step - loss: 2.0173 - accuracy: 0.1349 - val_loss: 1.9726 - val_accuracy: 0.1460\n",
            "Epoch 3/100\n",
            "40/40 [==============================] - 0s 4ms/step - loss: 1.9956 - accuracy: 0.1595 - val_loss: 1.9782 - val_accuracy: 0.1302\n",
            "Epoch 4/100\n",
            "40/40 [==============================] - 0s 6ms/step - loss: 1.9835 - accuracy: 0.1659 - val_loss: 1.9528 - val_accuracy: 0.1651\n",
            "Epoch 5/100\n",
            "40/40 [==============================] - 0s 6ms/step - loss: 1.9524 - accuracy: 0.1881 - val_loss: 1.9020 - val_accuracy: 0.1683\n",
            "Epoch 6/100\n",
            "40/40 [==============================] - 0s 6ms/step - loss: 1.8637 - accuracy: 0.2381 - val_loss: 1.8372 - val_accuracy: 0.2857\n",
            "Epoch 7/100\n",
            "40/40 [==============================] - 0s 7ms/step - loss: 1.7878 - accuracy: 0.2865 - val_loss: 1.7461 - val_accuracy: 0.3079\n",
            "Epoch 8/100\n",
            "40/40 [==============================] - 0s 6ms/step - loss: 1.6921 - accuracy: 0.3262 - val_loss: 1.7280 - val_accuracy: 0.3175\n",
            "Epoch 9/100\n",
            "40/40 [==============================] - 0s 6ms/step - loss: 1.6700 - accuracy: 0.3325 - val_loss: 1.6920 - val_accuracy: 0.3206\n",
            "Epoch 10/100\n",
            "40/40 [==============================] - 0s 6ms/step - loss: 1.6350 - accuracy: 0.3556 - val_loss: 1.6897 - val_accuracy: 0.3365\n",
            "Epoch 11/100\n",
            "40/40 [==============================] - 0s 7ms/step - loss: 1.6012 - accuracy: 0.3603 - val_loss: 1.6522 - val_accuracy: 0.3238\n",
            "Epoch 12/100\n",
            "40/40 [==============================] - 0s 7ms/step - loss: 1.5593 - accuracy: 0.4016 - val_loss: 1.6381 - val_accuracy: 0.3492\n",
            "Epoch 13/100\n",
            "40/40 [==============================] - 0s 6ms/step - loss: 1.5568 - accuracy: 0.3833 - val_loss: 1.6452 - val_accuracy: 0.3524\n",
            "Epoch 14/100\n",
            "40/40 [==============================] - 0s 6ms/step - loss: 1.5112 - accuracy: 0.4159 - val_loss: 1.6330 - val_accuracy: 0.3524\n",
            "Epoch 15/100\n",
            "40/40 [==============================] - 0s 7ms/step - loss: 1.4687 - accuracy: 0.4278 - val_loss: 1.6100 - val_accuracy: 0.3619\n",
            "Epoch 16/100\n",
            "40/40 [==============================] - 0s 9ms/step - loss: 1.4371 - accuracy: 0.4230 - val_loss: 1.5887 - val_accuracy: 0.3937\n",
            "Epoch 17/100\n",
            "40/40 [==============================] - 0s 6ms/step - loss: 1.4216 - accuracy: 0.4484 - val_loss: 1.6056 - val_accuracy: 0.3651\n",
            "Epoch 18/100\n",
            "40/40 [==============================] - 0s 8ms/step - loss: 1.3619 - accuracy: 0.4746 - val_loss: 1.5777 - val_accuracy: 0.3905\n",
            "Epoch 19/100\n",
            "40/40 [==============================] - 0s 6ms/step - loss: 1.3407 - accuracy: 0.4905 - val_loss: 1.5638 - val_accuracy: 0.3841\n",
            "Epoch 20/100\n",
            "40/40 [==============================] - 0s 6ms/step - loss: 1.3249 - accuracy: 0.4929 - val_loss: 1.6221 - val_accuracy: 0.3587\n",
            "Epoch 21/100\n",
            "40/40 [==============================] - 0s 5ms/step - loss: 1.2995 - accuracy: 0.5040 - val_loss: 1.6427 - val_accuracy: 0.3651\n"
          ]
        }
      ]
    },
    {
      "cell_type": "code",
      "source": [
        "import matplotlib.pyplot as plt\n",
        "\n",
        "plt.plot(history.history['loss'])\n",
        "plt.plot(history.history['val_loss'])\n",
        "plt.xlabel('epoch')\n",
        "plt.ylabel('loss')\n",
        "plt.legend(['train','val'])\n",
        "plt.show()"
      ],
      "metadata": {
        "id": "2gY-ygsDH58g",
        "colab": {
          "base_uri": "https://localhost:8080/",
          "height": 279
        },
        "outputId": "b9384eed-7975-4997-db1f-f4ddcd853c69"
      },
      "execution_count": 148,
      "outputs": [
        {
          "output_type": "display_data",
          "data": {
            "text/plain": [
              "<Figure size 432x288 with 1 Axes>"
            ],
            "image/png": "[encoded data removed]"
          },
          "metadata": {
            "needs_background": "light"
          }
        }
      ]
    },
    {
      "cell_type": "code",
      "source": [
        "model.evaluate(val_input, val_target)"
      ],
      "metadata": {
        "colab": {
          "base_uri": "https://localhost:8080/"
        },
        "id": "qQWgyzu3Gx7q",
        "outputId": "52e85a96-9947-4fb4-d833-55cf37c01aa1"
      },
      "execution_count": 149,
      "outputs": [
        {
          "output_type": "stream",
          "name": "stdout",
          "text": [
            "10/10 [==============================] - 0s 3ms/step - loss: 1.5638 - accuracy: 0.3841\n"
          ]
        },
        {
          "output_type": "execute_result",
          "data": {
            "text/plain": [
              "[1.5638437271118164, 0.3841269910335541]"
            ]
          },
          "metadata": {},
          "execution_count": 149
        }
      ]
    }
  ]
}
