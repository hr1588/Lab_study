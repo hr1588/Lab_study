{
 "cells": [
  {
   "cell_type": "markdown",
   "metadata": {},
   "source": [
    "## pycaret 설치"
   ]
  },
  {
   "cell_type": "markdown",
   "metadata": {},
   "source": [
    "1. anaconda prompt 관리자로 실행\n",
    "\n",
    "2. pip install --user pycaret\n",
    "\n",
    "3. from pycaret.classification import * 코드 실행\n",
    "\n",
    "4. 오류 발생시 pip install jinja2, pip install markupsafe == 2.01 설치"
   ]
  },
  {
   "cell_type": "code",
   "execution_count": 2,
   "metadata": {},
   "outputs": [],
   "source": [
    "import markupsafe\n",
    "import jinja2\n",
    "from pycaret.classification import *"
   ]
  },
  {
   "cell_type": "markdown",
   "metadata": {},
   "source": [
    "### Setup Environment : 여기서 데이터에 대한 추가적인 engineering이 가능합니다\n",
    "\n",
    "- data : 사용할 데이터를 입력해 줍니다.\n",
    "\n",
    "- target : data에서 어떤 데이터를 target으로 할 지 입력합니다. 우리는 투표이기 때문에 \"voted\"를 입력할 예정입니다.\n",
    "\n",
    "- train_size : train_test_split과 동일하다고 생각하시면 됩니다. train_size만큼 학습하고, 나머지는 validation data로 사용합니다.\n",
    "\n",
    "- sample_estimator : 어떤 모델로 예측해 볼 것인지를 입력합니다. 입력하지 않으면 Logistic Regression Model이 자동으로 사용됩니다. 이 sample_estimator를 통해서 다양한 것들을 예측하는데, 대표적으로 train_size를 몇으로 사용할지를 정할 수 있습니다.\n",
    "\n",
    "- categorical_features : 범주형 변수를 여기에 입력할 수 있습니다.\n",
    "\n",
    "- silent : True로 설정하면, 입력된 데이터의 형태에 따라서 알아서 데이터를 조정합니다.\n",
    "\n",
    "- remove_perfect_collinearity : True로 설정하면 상관관계가 1인 피쳐를 삭제합니다.\n",
    "\n",
    "- fix_imbalance : True로 설정하면 SMOTE를 적용합니다. SMOTE는 클래스가 적은 데이터의 표본을 임의의 값으로 변형해 데이터를 추가하는 방법입니다.\n",
    "\n",
    "- fix_imbalance_method : imblearn에서 제공하는 다양한 모듈을 적용할 수 있습니다.\n",
    "\n",
    "- data_split_shuffle : False로 설정하면 데이터 split을 할 때 shuffle하는 것을 막습니다.\n",
    "\n",
    "- folds_shuffle : False로 설정하면 cross-validation을 할 때 shuffle하는 것을 막습니다.\n",
    "\n",
    "- n_jobs : 몇개의 processor를 이용할지 입력할 수 있습니다.\n",
    "\n",
    "- log_experiment : True로 설정하면 로그를 MLFlow 서버에 기록합니다.\n",
    "\n",
    "- experiment_name : 로그를 기록할 때 사용할 이름입니다.\n",
    "\n",
    "- log_plots : True로 설정하면 MLFlow에 정확한 plot이 기록됩니다.\n",
    "\n",
    "- log_profile : True로 설정하면 html파일이 MLFlow에 저장됩니다.\n",
    "\n",
    "- log_data : True로 설정하면 train, test 데이터가 csv파일로 저장됩니다.\n",
    "\n",
    "- verbose : True로 설정하면 진행중인 상황이 나타납니다."
   ]
  }
 ],
 "metadata": {
  "kernelspec": {
   "display_name": "Python 3.9.12 ('base')",
   "language": "python",
   "name": "python3"
  },
  "language_info": {
   "codemirror_mode": {
    "name": "ipython",
    "version": 3
   },
   "file_extension": ".py",
   "mimetype": "text/x-python",
   "name": "python",
   "nbconvert_exporter": "python",
   "pygments_lexer": "ipython3",
   "version": "3.9.12"
  },
  "orig_nbformat": 4,
  "vscode": {
   "interpreter": {
    "hash": "43af7393c8e3bb0730eb35f197fc5ab4355397fc73467075a0f020e747dbc619"
   }
  }
 },
 "nbformat": 4,
 "nbformat_minor": 2
}
