{
 "cells": [
  {
   "cell_type": "markdown",
   "metadata": {},
   "source": [
    "## stratified k-fold"
   ]
  },
  {
   "cell_type": "markdown",
   "metadata": {},
   "source": [
    "- k-fold는 데이터 셋을 일정한 간격으로 잘라서 사용하는데, 이 때 타켓 변수의 비율이 일정하지 않게 테스트 셋에 들어갈 수 있음\n",
    "- k-fold의 문제점인 target 데이터의 비율을 일정하게 유지 하지 못하는 것을 일정 하게 유지하며, 교차 검증을 진행 하는 것이 stratified k-fold "
   ]
  },
  {
   "cell_type": "code",
   "execution_count": 1,
   "metadata": {},
   "outputs": [],
   "source": [
    "import pandas as pd\n",
    "from lightgbm import LGBMClassifier\n",
    "from sklearn.model_selection import StratifiedKFold\n",
    "from sklearn.metrics import accuracy_score\n",
    "\n",
    "train = pd.read_csv('train.csv')\n",
    "test = pd.read_csv('test.csv')\n",
    "\n",
    "train.drop('index', axis=1, inplace= True)\n",
    "test.drop('index', axis=1, inplace= True)"
   ]
  },
  {
   "cell_type": "code",
   "execution_count": 2,
   "metadata": {},
   "outputs": [],
   "source": [
    "train_one = pd.get_dummies(train)\n",
    "test_one = pd.get_dummies(test)"
   ]
  },
  {
   "cell_type": "code",
   "execution_count": 3,
   "metadata": {},
   "outputs": [
    {
     "name": "stdout",
     "output_type": "stream",
     "text": [
      "1  번째 모델 정확도 :  0.6609090909090909\n",
      "2  번째 모델 정확도 :  0.6581818181818182\n",
      "3  번째 모델 정확도 :  0.6606005459508644\n",
      "4  번째 모델 정확도 :  0.632393084622384\n",
      "5  번째 모델 정확도 :  0.6469517743403094\n",
      "모델 정확도 평균 :  0.6518072628008933\n"
     ]
    }
   ],
   "source": [
    "# Stratified KFold 라이브러리를 이용해 5개의 fold로 분할\n",
    "\n",
    "skf = StratifiedKFold(n_splits = 5)\n",
    "\n",
    "x = train_one.drop('quality',axis = 1)\n",
    "y = train_one['quality']\n",
    "cnt = 1\n",
    "acc = 0\n",
    "\n",
    "for train_idx, valid_idx in skf.split(x,y):\n",
    "  \n",
    "  train_data = train_one.iloc[train_idx]\n",
    "  valid_data = train_one.iloc[valid_idx]\n",
    "\n",
    "  # 모델 정의\n",
    "  model = LGBMClassifier()\n",
    "\n",
    "  # train_X 는 train_data에서 quality 를 제외한 모든 변수\n",
    "  # train_y 는 train_data의 qulity 변수\n",
    "\n",
    "  train_x = train_data.drop('quality',axis= 1)\n",
    "  train_y = train_data['quality']\n",
    "\n",
    "  # fit 메소드를 이용해 모델 학습\n",
    "  model.fit(train_x,train_y)\n",
    "\n",
    "  valid_x = valid_data.drop('quality',axis = 1)\n",
    "  valid_y = valid_data['quality']\n",
    "\n",
    "  # predict 메소드와 valid_X 데이터를 이용해 품질 예측\n",
    "  pred = model.predict(valid_x)\n",
    "\n",
    "  # 모델 정확도 출력\n",
    "  print(cnt,\" 번째 모델 정확도 : \" ,accuracy_score(pred,valid_y))\n",
    "  acc += accuracy_score(pred,valid_y)\n",
    "  cnt+=1\n",
    "\n",
    "print('모델 정확도 평균 : ',acc/5)\n",
    "\n"
   ]
  }
 ],
 "metadata": {
  "kernelspec": {
   "display_name": "Python 3.9.12 ('base')",
   "language": "python",
   "name": "python3"
  },
  "language_info": {
   "codemirror_mode": {
    "name": "ipython",
    "version": 3
   },
   "file_extension": ".py",
   "mimetype": "text/x-python",
   "name": "python",
   "nbconvert_exporter": "python",
   "pygments_lexer": "ipython3",
   "version": "3.9.12"
  },
  "orig_nbformat": 4,
  "vscode": {
   "interpreter": {
    "hash": "43af7393c8e3bb0730eb35f197fc5ab4355397fc73467075a0f020e747dbc619"
   }
  }
 },
 "nbformat": 4,
 "nbformat_minor": 2
}
