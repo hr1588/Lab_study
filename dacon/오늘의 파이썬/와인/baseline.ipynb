{
  "nbformat": 4,
  "nbformat_minor": 0,
  "metadata": {
    "colab": {
      "name": "오늘의 파이썬 - 3.ipynb",
      "provenance": [],
      "collapsed_sections": [],
      "authorship_tag": "ABX9TyN4cFkvuzJr41z0aLG0BSz4",
      "include_colab_link": true
    },
    "kernelspec": {
      "name": "python3",
      "display_name": "Python 3"
    },
    "language_info": {
      "name": "python"
    }
  },
  "cells": [
    {
      "cell_type": "markdown",
      "metadata": {
        "id": "view-in-github",
        "colab_type": "text"
      },
      "source": [
        "<a href=\"https://colab.research.google.com/github/hr1588/dacon/blob/main/%EC%98%A4%EB%8A%98%EC%9D%98_%ED%8C%8C%EC%9D%B4%EC%8D%AC_3.ipynb\" target=\"_parent\"><img src=\"https://colab.research.google.com/assets/colab-badge.svg\" alt=\"Open In Colab\"/></a>"
      ]
    },
    {
      "cell_type": "markdown",
      "source": [
        "\n",
        "# 교차검증과 LGBM 모델을 활용한 와인 품질 분류"
      ],
      "metadata": {
        "id": "tziOcxRWnznf"
      }
    },
    {
      "cell_type": "markdown",
      "source": [
        "## 데이터 로드 및 라이브러리 불러오기"
      ],
      "metadata": {
        "id": "NTHrPVHHoGNF"
      }
    },
    {
      "cell_type": "code",
      "execution_count": null,
      "metadata": {
        "id": "_qNt1pdMnxJv"
      },
      "outputs": [],
      "source": [
        "!wget 'https://bit.ly/3i4n1QB'\n",
        "\n",
        "import zipfile\n",
        "with zipfile.ZipFile('3i4n1QB', 'r') as existing_zip:\n",
        "    existing_zip.extractall('data')"
      ]
    },
    {
      "cell_type": "code",
      "source": [
        "import pandas as pd"
      ],
      "metadata": {
        "id": "LJLJZeOtn7qO"
      },
      "execution_count": 2,
      "outputs": []
    },
    {
      "cell_type": "code",
      "source": [
        "train = pd.read_csv('data/train.csv')\n",
        "test = pd.read_csv('data/test.csv')"
      ],
      "metadata": {
        "id": "NGhOqF2Un-rm"
      },
      "execution_count": 13,
      "outputs": []
    },
    {
      "cell_type": "markdown",
      "source": [
        "## EDA"
      ],
      "metadata": {
        "id": "_AGsAyfHoNtf"
      }
    },
    {
      "cell_type": "code",
      "source": [
        "train.info()"
      ],
      "metadata": {
        "colab": {
          "base_uri": "https://localhost:8080/"
        },
        "id": "XJ6eG9UppeZo",
        "outputId": "e8eb147f-025f-4ceb-95ce-bde1e42f297a"
      },
      "execution_count": 5,
      "outputs": [
        {
          "output_type": "stream",
          "name": "stdout",
          "text": [
            "<class 'pandas.core.frame.DataFrame'>\n",
            "RangeIndex: 5497 entries, 0 to 5496\n",
            "Data columns (total 14 columns):\n",
            " #   Column                Non-Null Count  Dtype  \n",
            "---  ------                --------------  -----  \n",
            " 0   index                 5497 non-null   int64  \n",
            " 1   quality               5497 non-null   int64  \n",
            " 2   fixed acidity         5497 non-null   float64\n",
            " 3   volatile acidity      5497 non-null   float64\n",
            " 4   citric acid           5497 non-null   float64\n",
            " 5   residual sugar        5497 non-null   float64\n",
            " 6   chlorides             5497 non-null   float64\n",
            " 7   free sulfur dioxide   5497 non-null   float64\n",
            " 8   total sulfur dioxide  5497 non-null   float64\n",
            " 9   density               5497 non-null   float64\n",
            " 10  pH                    5497 non-null   float64\n",
            " 11  sulphates             5497 non-null   float64\n",
            " 12  alcohol               5497 non-null   float64\n",
            " 13  type                  5497 non-null   object \n",
            "dtypes: float64(11), int64(2), object(1)\n",
            "memory usage: 601.4+ KB\n"
          ]
        }
      ]
    },
    {
      "cell_type": "code",
      "source": [
        "train.shape"
      ],
      "metadata": {
        "colab": {
          "base_uri": "https://localhost:8080/"
        },
        "id": "8AUhO0PKpem8",
        "outputId": "c740b125-605e-4b52-9cdc-8ab892c3c84c"
      },
      "execution_count": 6,
      "outputs": [
        {
          "output_type": "execute_result",
          "data": {
            "text/plain": [
              "(5497, 14)"
            ]
          },
          "metadata": {},
          "execution_count": 6
        }
      ]
    },
    {
      "cell_type": "code",
      "source": [
        "train.head()"
      ],
      "metadata": {
        "colab": {
          "base_uri": "https://localhost:8080/",
          "height": 206
        },
        "id": "S5ZaaOGRpepI",
        "outputId": "001f1ea6-243d-4efb-b0cf-301fc9d305b8"
      },
      "execution_count": 10,
      "outputs": [
        {
          "output_type": "execute_result",
          "data": {
            "text/plain": [
              "   index  quality  fixed acidity  volatile acidity  citric acid  \\\n",
              "0      0        5            5.6             0.695         0.06   \n",
              "1      1        5            8.8             0.610         0.14   \n",
              "2      2        5            7.9             0.210         0.39   \n",
              "3      3        6            7.0             0.210         0.31   \n",
              "4      4        6            7.8             0.400         0.26   \n",
              "\n",
              "   residual sugar  chlorides  free sulfur dioxide  total sulfur dioxide  \\\n",
              "0             6.8      0.042                  9.0                  84.0   \n",
              "1             2.4      0.067                 10.0                  42.0   \n",
              "2             2.0      0.057                 21.0                 138.0   \n",
              "3             6.0      0.046                 29.0                 108.0   \n",
              "4             9.5      0.059                 32.0                 178.0   \n",
              "\n",
              "   density    pH  sulphates  alcohol   type  \n",
              "0  0.99432  3.44       0.44     10.2  white  \n",
              "1  0.99690  3.19       0.59      9.5    red  \n",
              "2  0.99176  3.05       0.52     10.9  white  \n",
              "3  0.99390  3.26       0.50     10.8  white  \n",
              "4  0.99550  3.04       0.43     10.9  white  "
            ],
            "text/html": [
              "\n",
              "  <div id=\"df-eb3ce492-13bf-4526-acb9-bacd93a97688\">\n",
              "    <div class=\"colab-df-container\">\n",
              "      <div>\n",
              "<style scoped>\n",
              "    .dataframe tbody tr th:only-of-type {\n",
              "        vertical-align: middle;\n",
              "    }\n",
              "\n",
              "    .dataframe tbody tr th {\n",
              "        vertical-align: top;\n",
              "    }\n",
              "\n",
              "    .dataframe thead th {\n",
              "        text-align: right;\n",
              "    }\n",
              "</style>\n",
              "<table border=\"1\" class=\"dataframe\">\n",
              "  <thead>\n",
              "    <tr style=\"text-align: right;\">\n",
              "      <th></th>\n",
              "      <th>index</th>\n",
              "      <th>quality</th>\n",
              "      <th>fixed acidity</th>\n",
              "      <th>volatile acidity</th>\n",
              "      <th>citric acid</th>\n",
              "      <th>residual sugar</th>\n",
              "      <th>chlorides</th>\n",
              "      <th>free sulfur dioxide</th>\n",
              "      <th>total sulfur dioxide</th>\n",
              "      <th>density</th>\n",
              "      <th>pH</th>\n",
              "      <th>sulphates</th>\n",
              "      <th>alcohol</th>\n",
              "      <th>type</th>\n",
              "    </tr>\n",
              "  </thead>\n",
              "  <tbody>\n",
              "    <tr>\n",
              "      <th>0</th>\n",
              "      <td>0</td>\n",
              "      <td>5</td>\n",
              "      <td>5.6</td>\n",
              "      <td>0.695</td>\n",
              "      <td>0.06</td>\n",
              "      <td>6.8</td>\n",
              "      <td>0.042</td>\n",
              "      <td>9.0</td>\n",
              "      <td>84.0</td>\n",
              "      <td>0.99432</td>\n",
              "      <td>3.44</td>\n",
              "      <td>0.44</td>\n",
              "      <td>10.2</td>\n",
              "      <td>white</td>\n",
              "    </tr>\n",
              "    <tr>\n",
              "      <th>1</th>\n",
              "      <td>1</td>\n",
              "      <td>5</td>\n",
              "      <td>8.8</td>\n",
              "      <td>0.610</td>\n",
              "      <td>0.14</td>\n",
              "      <td>2.4</td>\n",
              "      <td>0.067</td>\n",
              "      <td>10.0</td>\n",
              "      <td>42.0</td>\n",
              "      <td>0.99690</td>\n",
              "      <td>3.19</td>\n",
              "      <td>0.59</td>\n",
              "      <td>9.5</td>\n",
              "      <td>red</td>\n",
              "    </tr>\n",
              "    <tr>\n",
              "      <th>2</th>\n",
              "      <td>2</td>\n",
              "      <td>5</td>\n",
              "      <td>7.9</td>\n",
              "      <td>0.210</td>\n",
              "      <td>0.39</td>\n",
              "      <td>2.0</td>\n",
              "      <td>0.057</td>\n",
              "      <td>21.0</td>\n",
              "      <td>138.0</td>\n",
              "      <td>0.99176</td>\n",
              "      <td>3.05</td>\n",
              "      <td>0.52</td>\n",
              "      <td>10.9</td>\n",
              "      <td>white</td>\n",
              "    </tr>\n",
              "    <tr>\n",
              "      <th>3</th>\n",
              "      <td>3</td>\n",
              "      <td>6</td>\n",
              "      <td>7.0</td>\n",
              "      <td>0.210</td>\n",
              "      <td>0.31</td>\n",
              "      <td>6.0</td>\n",
              "      <td>0.046</td>\n",
              "      <td>29.0</td>\n",
              "      <td>108.0</td>\n",
              "      <td>0.99390</td>\n",
              "      <td>3.26</td>\n",
              "      <td>0.50</td>\n",
              "      <td>10.8</td>\n",
              "      <td>white</td>\n",
              "    </tr>\n",
              "    <tr>\n",
              "      <th>4</th>\n",
              "      <td>4</td>\n",
              "      <td>6</td>\n",
              "      <td>7.8</td>\n",
              "      <td>0.400</td>\n",
              "      <td>0.26</td>\n",
              "      <td>9.5</td>\n",
              "      <td>0.059</td>\n",
              "      <td>32.0</td>\n",
              "      <td>178.0</td>\n",
              "      <td>0.99550</td>\n",
              "      <td>3.04</td>\n",
              "      <td>0.43</td>\n",
              "      <td>10.9</td>\n",
              "      <td>white</td>\n",
              "    </tr>\n",
              "  </tbody>\n",
              "</table>\n",
              "</div>\n",
              "      <button class=\"colab-df-convert\" onclick=\"convertToInteractive('df-eb3ce492-13bf-4526-acb9-bacd93a97688')\"\n",
              "              title=\"Convert this dataframe to an interactive table.\"\n",
              "              style=\"display:none;\">\n",
              "        \n",
              "  <svg xmlns=\"http://www.w3.org/2000/svg\" height=\"24px\"viewBox=\"0 0 24 24\"\n",
              "       width=\"24px\">\n",
              "    <path d=\"M0 0h24v24H0V0z\" fill=\"none\"/>\n",
              "    <path d=\"M18.56 5.44l.94 2.06.94-2.06 2.06-.94-2.06-.94-.94-2.06-.94 2.06-2.06.94zm-11 1L8.5 8.5l.94-2.06 2.06-.94-2.06-.94L8.5 2.5l-.94 2.06-2.06.94zm10 10l.94 2.06.94-2.06 2.06-.94-2.06-.94-.94-2.06-.94 2.06-2.06.94z\"/><path d=\"M17.41 7.96l-1.37-1.37c-.4-.4-.92-.59-1.43-.59-.52 0-1.04.2-1.43.59L10.3 9.45l-7.72 7.72c-.78.78-.78 2.05 0 2.83L4 21.41c.39.39.9.59 1.41.59.51 0 1.02-.2 1.41-.59l7.78-7.78 2.81-2.81c.8-.78.8-2.07 0-2.86zM5.41 20L4 18.59l7.72-7.72 1.47 1.35L5.41 20z\"/>\n",
              "  </svg>\n",
              "      </button>\n",
              "      \n",
              "  <style>\n",
              "    .colab-df-container {\n",
              "      display:flex;\n",
              "      flex-wrap:wrap;\n",
              "      gap: 12px;\n",
              "    }\n",
              "\n",
              "    .colab-df-convert {\n",
              "      background-color: #E8F0FE;\n",
              "      border: none;\n",
              "      border-radius: 50%;\n",
              "      cursor: pointer;\n",
              "      display: none;\n",
              "      fill: #1967D2;\n",
              "      height: 32px;\n",
              "      padding: 0 0 0 0;\n",
              "      width: 32px;\n",
              "    }\n",
              "\n",
              "    .colab-df-convert:hover {\n",
              "      background-color: #E2EBFA;\n",
              "      box-shadow: 0px 1px 2px rgba(60, 64, 67, 0.3), 0px 1px 3px 1px rgba(60, 64, 67, 0.15);\n",
              "      fill: #174EA6;\n",
              "    }\n",
              "\n",
              "    [theme=dark] .colab-df-convert {\n",
              "      background-color: #3B4455;\n",
              "      fill: #D2E3FC;\n",
              "    }\n",
              "\n",
              "    [theme=dark] .colab-df-convert:hover {\n",
              "      background-color: #434B5C;\n",
              "      box-shadow: 0px 1px 3px 1px rgba(0, 0, 0, 0.15);\n",
              "      filter: drop-shadow(0px 1px 2px rgba(0, 0, 0, 0.3));\n",
              "      fill: #FFFFFF;\n",
              "    }\n",
              "  </style>\n",
              "\n",
              "      <script>\n",
              "        const buttonEl =\n",
              "          document.querySelector('#df-eb3ce492-13bf-4526-acb9-bacd93a97688 button.colab-df-convert');\n",
              "        buttonEl.style.display =\n",
              "          google.colab.kernel.accessAllowed ? 'block' : 'none';\n",
              "\n",
              "        async function convertToInteractive(key) {\n",
              "          const element = document.querySelector('#df-eb3ce492-13bf-4526-acb9-bacd93a97688');\n",
              "          const dataTable =\n",
              "            await google.colab.kernel.invokeFunction('convertToInteractive',\n",
              "                                                     [key], {});\n",
              "          if (!dataTable) return;\n",
              "\n",
              "          const docLinkHtml = 'Like what you see? Visit the ' +\n",
              "            '<a target=\"_blank\" href=https://colab.research.google.com/notebooks/data_table.ipynb>data table notebook</a>'\n",
              "            + ' to learn more about interactive tables.';\n",
              "          element.innerHTML = '';\n",
              "          dataTable['output_type'] = 'display_data';\n",
              "          await google.colab.output.renderOutput(dataTable, element);\n",
              "          const docLink = document.createElement('div');\n",
              "          docLink.innerHTML = docLinkHtml;\n",
              "          element.appendChild(docLink);\n",
              "        }\n",
              "      </script>\n",
              "    </div>\n",
              "  </div>\n",
              "  "
            ]
          },
          "metadata": {},
          "execution_count": 10
        }
      ]
    },
    {
      "cell_type": "code",
      "source": [
        "train.isnull().sum() # 결측치 확인"
      ],
      "metadata": {
        "colab": {
          "base_uri": "https://localhost:8080/"
        },
        "id": "uv48ko8uper8",
        "outputId": "b4670300-da92-43ea-cd58-e982e4d4a154"
      },
      "execution_count": 60,
      "outputs": [
        {
          "output_type": "execute_result",
          "data": {
            "text/plain": [
              "index                   0\n",
              "quality                 0\n",
              "fixed acidity           0\n",
              "volatile acidity        0\n",
              "citric acid             0\n",
              "residual sugar          0\n",
              "chlorides               0\n",
              "free sulfur dioxide     0\n",
              "total sulfur dioxide    0\n",
              "density                 0\n",
              "pH                      0\n",
              "sulphates               0\n",
              "alcohol                 0\n",
              "dtype: int64"
            ]
          },
          "metadata": {},
          "execution_count": 60
        }
      ]
    },
    {
      "cell_type": "code",
      "source": [
        "test.info()"
      ],
      "metadata": {
        "colab": {
          "base_uri": "https://localhost:8080/"
        },
        "id": "3MUAwFwFpvaJ",
        "outputId": "282223af-2f71-4ad8-c6ad-b8274d130601"
      },
      "execution_count": 14,
      "outputs": [
        {
          "output_type": "stream",
          "name": "stdout",
          "text": [
            "<class 'pandas.core.frame.DataFrame'>\n",
            "RangeIndex: 1000 entries, 0 to 999\n",
            "Data columns (total 13 columns):\n",
            " #   Column                Non-Null Count  Dtype  \n",
            "---  ------                --------------  -----  \n",
            " 0   index                 1000 non-null   int64  \n",
            " 1   fixed acidity         1000 non-null   float64\n",
            " 2   volatile acidity      1000 non-null   float64\n",
            " 3   citric acid           1000 non-null   float64\n",
            " 4   residual sugar        1000 non-null   float64\n",
            " 5   chlorides             1000 non-null   float64\n",
            " 6   free sulfur dioxide   1000 non-null   float64\n",
            " 7   total sulfur dioxide  1000 non-null   float64\n",
            " 8   density               1000 non-null   float64\n",
            " 9   pH                    1000 non-null   float64\n",
            " 10  sulphates             1000 non-null   float64\n",
            " 11  alcohol               1000 non-null   float64\n",
            " 12  type                  1000 non-null   object \n",
            "dtypes: float64(11), int64(1), object(1)\n",
            "memory usage: 101.7+ KB\n"
          ]
        }
      ]
    },
    {
      "cell_type": "code",
      "source": [
        "test.isnull().sum()"
      ],
      "metadata": {
        "colab": {
          "base_uri": "https://localhost:8080/"
        },
        "id": "d6SZYn1rpvcf",
        "outputId": "71c8ab78-2e75-42ac-e467-4beb6d5abc17"
      },
      "execution_count": 15,
      "outputs": [
        {
          "output_type": "execute_result",
          "data": {
            "text/plain": [
              "index                   0\n",
              "fixed acidity           0\n",
              "volatile acidity        0\n",
              "citric acid             0\n",
              "residual sugar          0\n",
              "chlorides               0\n",
              "free sulfur dioxide     0\n",
              "total sulfur dioxide    0\n",
              "density                 0\n",
              "pH                      0\n",
              "sulphates               0\n",
              "alcohol                 0\n",
              "type                    0\n",
              "dtype: int64"
            ]
          },
          "metadata": {},
          "execution_count": 15
        }
      ]
    },
    {
      "cell_type": "code",
      "source": [
        "train.describe() # 통계치 확인"
      ],
      "metadata": {
        "colab": {
          "base_uri": "https://localhost:8080/",
          "height": 300
        },
        "id": "-q6x5L7rpvfC",
        "outputId": "c7a84ca3-0c87-4729-ace0-83e4a4cb0c22"
      },
      "execution_count": 16,
      "outputs": [
        {
          "output_type": "execute_result",
          "data": {
            "text/plain": [
              "             index      quality  fixed acidity  volatile acidity  citric acid  \\\n",
              "count  5497.000000  5497.000000    5497.000000       5497.000000  5497.000000   \n",
              "mean   2748.000000     5.818992       7.210115          0.338163     0.318543   \n",
              "std    1586.991546     0.870311       1.287579          0.163224     0.145104   \n",
              "min       0.000000     3.000000       3.800000          0.080000     0.000000   \n",
              "25%    1374.000000     5.000000       6.400000          0.230000     0.250000   \n",
              "50%    2748.000000     6.000000       7.000000          0.290000     0.310000   \n",
              "75%    4122.000000     6.000000       7.700000          0.400000     0.390000   \n",
              "max    5496.000000     9.000000      15.900000          1.580000     1.660000   \n",
              "\n",
              "       residual sugar    chlorides  free sulfur dioxide  total sulfur dioxide  \\\n",
              "count     5497.000000  5497.000000          5497.000000           5497.000000   \n",
              "mean         5.438075     0.055808            30.417682            115.566491   \n",
              "std          4.756676     0.034653            17.673881             56.288223   \n",
              "min          0.600000     0.009000             1.000000              6.000000   \n",
              "25%          1.800000     0.038000            17.000000             78.000000   \n",
              "50%          3.000000     0.047000            29.000000            118.000000   \n",
              "75%          8.100000     0.064000            41.000000            155.000000   \n",
              "max         65.800000     0.610000           289.000000            440.000000   \n",
              "\n",
              "           density           pH    sulphates      alcohol  \n",
              "count  5497.000000  5497.000000  5497.000000  5497.000000  \n",
              "mean      0.994673     3.219502     0.530524    10.504918  \n",
              "std       0.003014     0.160713     0.149396     1.194524  \n",
              "min       0.987110     2.740000     0.220000     8.000000  \n",
              "25%       0.992300     3.110000     0.430000     9.500000  \n",
              "50%       0.994800     3.210000     0.510000    10.300000  \n",
              "75%       0.996930     3.320000     0.600000    11.300000  \n",
              "max       1.038980     4.010000     2.000000    14.900000  "
            ],
            "text/html": [
              "\n",
              "  <div id=\"df-3539a6b9-2983-47bf-a07c-e66fb07a5424\">\n",
              "    <div class=\"colab-df-container\">\n",
              "      <div>\n",
              "<style scoped>\n",
              "    .dataframe tbody tr th:only-of-type {\n",
              "        vertical-align: middle;\n",
              "    }\n",
              "\n",
              "    .dataframe tbody tr th {\n",
              "        vertical-align: top;\n",
              "    }\n",
              "\n",
              "    .dataframe thead th {\n",
              "        text-align: right;\n",
              "    }\n",
              "</style>\n",
              "<table border=\"1\" class=\"dataframe\">\n",
              "  <thead>\n",
              "    <tr style=\"text-align: right;\">\n",
              "      <th></th>\n",
              "      <th>index</th>\n",
              "      <th>quality</th>\n",
              "      <th>fixed acidity</th>\n",
              "      <th>volatile acidity</th>\n",
              "      <th>citric acid</th>\n",
              "      <th>residual sugar</th>\n",
              "      <th>chlorides</th>\n",
              "      <th>free sulfur dioxide</th>\n",
              "      <th>total sulfur dioxide</th>\n",
              "      <th>density</th>\n",
              "      <th>pH</th>\n",
              "      <th>sulphates</th>\n",
              "      <th>alcohol</th>\n",
              "    </tr>\n",
              "  </thead>\n",
              "  <tbody>\n",
              "    <tr>\n",
              "      <th>count</th>\n",
              "      <td>5497.000000</td>\n",
              "      <td>5497.000000</td>\n",
              "      <td>5497.000000</td>\n",
              "      <td>5497.000000</td>\n",
              "      <td>5497.000000</td>\n",
              "      <td>5497.000000</td>\n",
              "      <td>5497.000000</td>\n",
              "      <td>5497.000000</td>\n",
              "      <td>5497.000000</td>\n",
              "      <td>5497.000000</td>\n",
              "      <td>5497.000000</td>\n",
              "      <td>5497.000000</td>\n",
              "      <td>5497.000000</td>\n",
              "    </tr>\n",
              "    <tr>\n",
              "      <th>mean</th>\n",
              "      <td>2748.000000</td>\n",
              "      <td>5.818992</td>\n",
              "      <td>7.210115</td>\n",
              "      <td>0.338163</td>\n",
              "      <td>0.318543</td>\n",
              "      <td>5.438075</td>\n",
              "      <td>0.055808</td>\n",
              "      <td>30.417682</td>\n",
              "      <td>115.566491</td>\n",
              "      <td>0.994673</td>\n",
              "      <td>3.219502</td>\n",
              "      <td>0.530524</td>\n",
              "      <td>10.504918</td>\n",
              "    </tr>\n",
              "    <tr>\n",
              "      <th>std</th>\n",
              "      <td>1586.991546</td>\n",
              "      <td>0.870311</td>\n",
              "      <td>1.287579</td>\n",
              "      <td>0.163224</td>\n",
              "      <td>0.145104</td>\n",
              "      <td>4.756676</td>\n",
              "      <td>0.034653</td>\n",
              "      <td>17.673881</td>\n",
              "      <td>56.288223</td>\n",
              "      <td>0.003014</td>\n",
              "      <td>0.160713</td>\n",
              "      <td>0.149396</td>\n",
              "      <td>1.194524</td>\n",
              "    </tr>\n",
              "    <tr>\n",
              "      <th>min</th>\n",
              "      <td>0.000000</td>\n",
              "      <td>3.000000</td>\n",
              "      <td>3.800000</td>\n",
              "      <td>0.080000</td>\n",
              "      <td>0.000000</td>\n",
              "      <td>0.600000</td>\n",
              "      <td>0.009000</td>\n",
              "      <td>1.000000</td>\n",
              "      <td>6.000000</td>\n",
              "      <td>0.987110</td>\n",
              "      <td>2.740000</td>\n",
              "      <td>0.220000</td>\n",
              "      <td>8.000000</td>\n",
              "    </tr>\n",
              "    <tr>\n",
              "      <th>25%</th>\n",
              "      <td>1374.000000</td>\n",
              "      <td>5.000000</td>\n",
              "      <td>6.400000</td>\n",
              "      <td>0.230000</td>\n",
              "      <td>0.250000</td>\n",
              "      <td>1.800000</td>\n",
              "      <td>0.038000</td>\n",
              "      <td>17.000000</td>\n",
              "      <td>78.000000</td>\n",
              "      <td>0.992300</td>\n",
              "      <td>3.110000</td>\n",
              "      <td>0.430000</td>\n",
              "      <td>9.500000</td>\n",
              "    </tr>\n",
              "    <tr>\n",
              "      <th>50%</th>\n",
              "      <td>2748.000000</td>\n",
              "      <td>6.000000</td>\n",
              "      <td>7.000000</td>\n",
              "      <td>0.290000</td>\n",
              "      <td>0.310000</td>\n",
              "      <td>3.000000</td>\n",
              "      <td>0.047000</td>\n",
              "      <td>29.000000</td>\n",
              "      <td>118.000000</td>\n",
              "      <td>0.994800</td>\n",
              "      <td>3.210000</td>\n",
              "      <td>0.510000</td>\n",
              "      <td>10.300000</td>\n",
              "    </tr>\n",
              "    <tr>\n",
              "      <th>75%</th>\n",
              "      <td>4122.000000</td>\n",
              "      <td>6.000000</td>\n",
              "      <td>7.700000</td>\n",
              "      <td>0.400000</td>\n",
              "      <td>0.390000</td>\n",
              "      <td>8.100000</td>\n",
              "      <td>0.064000</td>\n",
              "      <td>41.000000</td>\n",
              "      <td>155.000000</td>\n",
              "      <td>0.996930</td>\n",
              "      <td>3.320000</td>\n",
              "      <td>0.600000</td>\n",
              "      <td>11.300000</td>\n",
              "    </tr>\n",
              "    <tr>\n",
              "      <th>max</th>\n",
              "      <td>5496.000000</td>\n",
              "      <td>9.000000</td>\n",
              "      <td>15.900000</td>\n",
              "      <td>1.580000</td>\n",
              "      <td>1.660000</td>\n",
              "      <td>65.800000</td>\n",
              "      <td>0.610000</td>\n",
              "      <td>289.000000</td>\n",
              "      <td>440.000000</td>\n",
              "      <td>1.038980</td>\n",
              "      <td>4.010000</td>\n",
              "      <td>2.000000</td>\n",
              "      <td>14.900000</td>\n",
              "    </tr>\n",
              "  </tbody>\n",
              "</table>\n",
              "</div>\n",
              "      <button class=\"colab-df-convert\" onclick=\"convertToInteractive('df-3539a6b9-2983-47bf-a07c-e66fb07a5424')\"\n",
              "              title=\"Convert this dataframe to an interactive table.\"\n",
              "              style=\"display:none;\">\n",
              "        \n",
              "  <svg xmlns=\"http://www.w3.org/2000/svg\" height=\"24px\"viewBox=\"0 0 24 24\"\n",
              "       width=\"24px\">\n",
              "    <path d=\"M0 0h24v24H0V0z\" fill=\"none\"/>\n",
              "    <path d=\"M18.56 5.44l.94 2.06.94-2.06 2.06-.94-2.06-.94-.94-2.06-.94 2.06-2.06.94zm-11 1L8.5 8.5l.94-2.06 2.06-.94-2.06-.94L8.5 2.5l-.94 2.06-2.06.94zm10 10l.94 2.06.94-2.06 2.06-.94-2.06-.94-.94-2.06-.94 2.06-2.06.94z\"/><path d=\"M17.41 7.96l-1.37-1.37c-.4-.4-.92-.59-1.43-.59-.52 0-1.04.2-1.43.59L10.3 9.45l-7.72 7.72c-.78.78-.78 2.05 0 2.83L4 21.41c.39.39.9.59 1.41.59.51 0 1.02-.2 1.41-.59l7.78-7.78 2.81-2.81c.8-.78.8-2.07 0-2.86zM5.41 20L4 18.59l7.72-7.72 1.47 1.35L5.41 20z\"/>\n",
              "  </svg>\n",
              "      </button>\n",
              "      \n",
              "  <style>\n",
              "    .colab-df-container {\n",
              "      display:flex;\n",
              "      flex-wrap:wrap;\n",
              "      gap: 12px;\n",
              "    }\n",
              "\n",
              "    .colab-df-convert {\n",
              "      background-color: #E8F0FE;\n",
              "      border: none;\n",
              "      border-radius: 50%;\n",
              "      cursor: pointer;\n",
              "      display: none;\n",
              "      fill: #1967D2;\n",
              "      height: 32px;\n",
              "      padding: 0 0 0 0;\n",
              "      width: 32px;\n",
              "    }\n",
              "\n",
              "    .colab-df-convert:hover {\n",
              "      background-color: #E2EBFA;\n",
              "      box-shadow: 0px 1px 2px rgba(60, 64, 67, 0.3), 0px 1px 3px 1px rgba(60, 64, 67, 0.15);\n",
              "      fill: #174EA6;\n",
              "    }\n",
              "\n",
              "    [theme=dark] .colab-df-convert {\n",
              "      background-color: #3B4455;\n",
              "      fill: #D2E3FC;\n",
              "    }\n",
              "\n",
              "    [theme=dark] .colab-df-convert:hover {\n",
              "      background-color: #434B5C;\n",
              "      box-shadow: 0px 1px 3px 1px rgba(0, 0, 0, 0.15);\n",
              "      filter: drop-shadow(0px 1px 2px rgba(0, 0, 0, 0.3));\n",
              "      fill: #FFFFFF;\n",
              "    }\n",
              "  </style>\n",
              "\n",
              "      <script>\n",
              "        const buttonEl =\n",
              "          document.querySelector('#df-3539a6b9-2983-47bf-a07c-e66fb07a5424 button.colab-df-convert');\n",
              "        buttonEl.style.display =\n",
              "          google.colab.kernel.accessAllowed ? 'block' : 'none';\n",
              "\n",
              "        async function convertToInteractive(key) {\n",
              "          const element = document.querySelector('#df-3539a6b9-2983-47bf-a07c-e66fb07a5424');\n",
              "          const dataTable =\n",
              "            await google.colab.kernel.invokeFunction('convertToInteractive',\n",
              "                                                     [key], {});\n",
              "          if (!dataTable) return;\n",
              "\n",
              "          const docLinkHtml = 'Like what you see? Visit the ' +\n",
              "            '<a target=\"_blank\" href=https://colab.research.google.com/notebooks/data_table.ipynb>data table notebook</a>'\n",
              "            + ' to learn more about interactive tables.';\n",
              "          element.innerHTML = '';\n",
              "          dataTable['output_type'] = 'display_data';\n",
              "          await google.colab.output.renderOutput(dataTable, element);\n",
              "          const docLink = document.createElement('div');\n",
              "          docLink.innerHTML = docLinkHtml;\n",
              "          element.appendChild(docLink);\n",
              "        }\n",
              "      </script>\n",
              "    </div>\n",
              "  </div>\n",
              "  "
            ]
          },
          "metadata": {},
          "execution_count": 16
        }
      ]
    },
    {
      "cell_type": "code",
      "source": [
        "test.describe()"
      ],
      "metadata": {
        "colab": {
          "base_uri": "https://localhost:8080/",
          "height": 300
        },
        "id": "ZI9NEPjFpvha",
        "outputId": "a892c38e-3a34-4251-cb77-02aee8b33f10"
      },
      "execution_count": 17,
      "outputs": [
        {
          "output_type": "execute_result",
          "data": {
            "text/plain": [
              "             index  fixed acidity  volatile acidity  citric acid  \\\n",
              "count  1000.000000    1000.000000       1000.000000  1000.000000   \n",
              "mean    499.500000       7.243850          0.347930     0.319130   \n",
              "std     288.819436       1.344372          0.172043     0.146561   \n",
              "min       0.000000       4.200000          0.080000     0.000000   \n",
              "25%     249.750000       6.400000          0.230000     0.240000   \n",
              "50%     499.500000       7.000000          0.300000     0.300000   \n",
              "75%     749.250000       7.700000          0.410000     0.392500   \n",
              "max     999.000000      15.600000          1.240000     0.810000   \n",
              "\n",
              "       residual sugar    chlorides  free sulfur dioxide  total sulfur dioxide  \\\n",
              "count      1000.00000  1000.000000          1000.000000           1000.000000   \n",
              "mean          5.47160     0.057275            31.117000            116.723500   \n",
              "std           4.76628     0.037048            18.156527             57.808145   \n",
              "min           0.70000     0.014000             1.000000              7.000000   \n",
              "25%           1.80000     0.039000            17.750000             76.750000   \n",
              "50%           2.90000     0.048000            29.000000            118.500000   \n",
              "75%           8.20000     0.067250            42.000000            156.000000   \n",
              "max          22.60000     0.611000           122.500000            289.000000   \n",
              "\n",
              "           density           pH    sulphates      alcohol  \n",
              "count  1000.000000  1000.000000  1000.000000  1000.000000  \n",
              "mean      0.994825     3.213000     0.535360    10.419693  \n",
              "std       0.002912     0.161165     0.145525     1.180694  \n",
              "min       0.988150     2.720000     0.230000     8.400000  \n",
              "25%       0.992448     3.100000     0.437500     9.500000  \n",
              "50%       0.995130     3.200000     0.510000    10.200000  \n",
              "75%       0.997060     3.312500     0.620000    11.200000  \n",
              "max       1.003150     3.780000     1.310000    14.000000  "
            ],
            "text/html": [
              "\n",
              "  <div id=\"df-135e0cb5-2762-4bc2-89fb-66b81c0241ef\">\n",
              "    <div class=\"colab-df-container\">\n",
              "      <div>\n",
              "<style scoped>\n",
              "    .dataframe tbody tr th:only-of-type {\n",
              "        vertical-align: middle;\n",
              "    }\n",
              "\n",
              "    .dataframe tbody tr th {\n",
              "        vertical-align: top;\n",
              "    }\n",
              "\n",
              "    .dataframe thead th {\n",
              "        text-align: right;\n",
              "    }\n",
              "</style>\n",
              "<table border=\"1\" class=\"dataframe\">\n",
              "  <thead>\n",
              "    <tr style=\"text-align: right;\">\n",
              "      <th></th>\n",
              "      <th>index</th>\n",
              "      <th>fixed acidity</th>\n",
              "      <th>volatile acidity</th>\n",
              "      <th>citric acid</th>\n",
              "      <th>residual sugar</th>\n",
              "      <th>chlorides</th>\n",
              "      <th>free sulfur dioxide</th>\n",
              "      <th>total sulfur dioxide</th>\n",
              "      <th>density</th>\n",
              "      <th>pH</th>\n",
              "      <th>sulphates</th>\n",
              "      <th>alcohol</th>\n",
              "    </tr>\n",
              "  </thead>\n",
              "  <tbody>\n",
              "    <tr>\n",
              "      <th>count</th>\n",
              "      <td>1000.000000</td>\n",
              "      <td>1000.000000</td>\n",
              "      <td>1000.000000</td>\n",
              "      <td>1000.000000</td>\n",
              "      <td>1000.00000</td>\n",
              "      <td>1000.000000</td>\n",
              "      <td>1000.000000</td>\n",
              "      <td>1000.000000</td>\n",
              "      <td>1000.000000</td>\n",
              "      <td>1000.000000</td>\n",
              "      <td>1000.000000</td>\n",
              "      <td>1000.000000</td>\n",
              "    </tr>\n",
              "    <tr>\n",
              "      <th>mean</th>\n",
              "      <td>499.500000</td>\n",
              "      <td>7.243850</td>\n",
              "      <td>0.347930</td>\n",
              "      <td>0.319130</td>\n",
              "      <td>5.47160</td>\n",
              "      <td>0.057275</td>\n",
              "      <td>31.117000</td>\n",
              "      <td>116.723500</td>\n",
              "      <td>0.994825</td>\n",
              "      <td>3.213000</td>\n",
              "      <td>0.535360</td>\n",
              "      <td>10.419693</td>\n",
              "    </tr>\n",
              "    <tr>\n",
              "      <th>std</th>\n",
              "      <td>288.819436</td>\n",
              "      <td>1.344372</td>\n",
              "      <td>0.172043</td>\n",
              "      <td>0.146561</td>\n",
              "      <td>4.76628</td>\n",
              "      <td>0.037048</td>\n",
              "      <td>18.156527</td>\n",
              "      <td>57.808145</td>\n",
              "      <td>0.002912</td>\n",
              "      <td>0.161165</td>\n",
              "      <td>0.145525</td>\n",
              "      <td>1.180694</td>\n",
              "    </tr>\n",
              "    <tr>\n",
              "      <th>min</th>\n",
              "      <td>0.000000</td>\n",
              "      <td>4.200000</td>\n",
              "      <td>0.080000</td>\n",
              "      <td>0.000000</td>\n",
              "      <td>0.70000</td>\n",
              "      <td>0.014000</td>\n",
              "      <td>1.000000</td>\n",
              "      <td>7.000000</td>\n",
              "      <td>0.988150</td>\n",
              "      <td>2.720000</td>\n",
              "      <td>0.230000</td>\n",
              "      <td>8.400000</td>\n",
              "    </tr>\n",
              "    <tr>\n",
              "      <th>25%</th>\n",
              "      <td>249.750000</td>\n",
              "      <td>6.400000</td>\n",
              "      <td>0.230000</td>\n",
              "      <td>0.240000</td>\n",
              "      <td>1.80000</td>\n",
              "      <td>0.039000</td>\n",
              "      <td>17.750000</td>\n",
              "      <td>76.750000</td>\n",
              "      <td>0.992448</td>\n",
              "      <td>3.100000</td>\n",
              "      <td>0.437500</td>\n",
              "      <td>9.500000</td>\n",
              "    </tr>\n",
              "    <tr>\n",
              "      <th>50%</th>\n",
              "      <td>499.500000</td>\n",
              "      <td>7.000000</td>\n",
              "      <td>0.300000</td>\n",
              "      <td>0.300000</td>\n",
              "      <td>2.90000</td>\n",
              "      <td>0.048000</td>\n",
              "      <td>29.000000</td>\n",
              "      <td>118.500000</td>\n",
              "      <td>0.995130</td>\n",
              "      <td>3.200000</td>\n",
              "      <td>0.510000</td>\n",
              "      <td>10.200000</td>\n",
              "    </tr>\n",
              "    <tr>\n",
              "      <th>75%</th>\n",
              "      <td>749.250000</td>\n",
              "      <td>7.700000</td>\n",
              "      <td>0.410000</td>\n",
              "      <td>0.392500</td>\n",
              "      <td>8.20000</td>\n",
              "      <td>0.067250</td>\n",
              "      <td>42.000000</td>\n",
              "      <td>156.000000</td>\n",
              "      <td>0.997060</td>\n",
              "      <td>3.312500</td>\n",
              "      <td>0.620000</td>\n",
              "      <td>11.200000</td>\n",
              "    </tr>\n",
              "    <tr>\n",
              "      <th>max</th>\n",
              "      <td>999.000000</td>\n",
              "      <td>15.600000</td>\n",
              "      <td>1.240000</td>\n",
              "      <td>0.810000</td>\n",
              "      <td>22.60000</td>\n",
              "      <td>0.611000</td>\n",
              "      <td>122.500000</td>\n",
              "      <td>289.000000</td>\n",
              "      <td>1.003150</td>\n",
              "      <td>3.780000</td>\n",
              "      <td>1.310000</td>\n",
              "      <td>14.000000</td>\n",
              "    </tr>\n",
              "  </tbody>\n",
              "</table>\n",
              "</div>\n",
              "      <button class=\"colab-df-convert\" onclick=\"convertToInteractive('df-135e0cb5-2762-4bc2-89fb-66b81c0241ef')\"\n",
              "              title=\"Convert this dataframe to an interactive table.\"\n",
              "              style=\"display:none;\">\n",
              "        \n",
              "  <svg xmlns=\"http://www.w3.org/2000/svg\" height=\"24px\"viewBox=\"0 0 24 24\"\n",
              "       width=\"24px\">\n",
              "    <path d=\"M0 0h24v24H0V0z\" fill=\"none\"/>\n",
              "    <path d=\"M18.56 5.44l.94 2.06.94-2.06 2.06-.94-2.06-.94-.94-2.06-.94 2.06-2.06.94zm-11 1L8.5 8.5l.94-2.06 2.06-.94-2.06-.94L8.5 2.5l-.94 2.06-2.06.94zm10 10l.94 2.06.94-2.06 2.06-.94-2.06-.94-.94-2.06-.94 2.06-2.06.94z\"/><path d=\"M17.41 7.96l-1.37-1.37c-.4-.4-.92-.59-1.43-.59-.52 0-1.04.2-1.43.59L10.3 9.45l-7.72 7.72c-.78.78-.78 2.05 0 2.83L4 21.41c.39.39.9.59 1.41.59.51 0 1.02-.2 1.41-.59l7.78-7.78 2.81-2.81c.8-.78.8-2.07 0-2.86zM5.41 20L4 18.59l7.72-7.72 1.47 1.35L5.41 20z\"/>\n",
              "  </svg>\n",
              "      </button>\n",
              "      \n",
              "  <style>\n",
              "    .colab-df-container {\n",
              "      display:flex;\n",
              "      flex-wrap:wrap;\n",
              "      gap: 12px;\n",
              "    }\n",
              "\n",
              "    .colab-df-convert {\n",
              "      background-color: #E8F0FE;\n",
              "      border: none;\n",
              "      border-radius: 50%;\n",
              "      cursor: pointer;\n",
              "      display: none;\n",
              "      fill: #1967D2;\n",
              "      height: 32px;\n",
              "      padding: 0 0 0 0;\n",
              "      width: 32px;\n",
              "    }\n",
              "\n",
              "    .colab-df-convert:hover {\n",
              "      background-color: #E2EBFA;\n",
              "      box-shadow: 0px 1px 2px rgba(60, 64, 67, 0.3), 0px 1px 3px 1px rgba(60, 64, 67, 0.15);\n",
              "      fill: #174EA6;\n",
              "    }\n",
              "\n",
              "    [theme=dark] .colab-df-convert {\n",
              "      background-color: #3B4455;\n",
              "      fill: #D2E3FC;\n",
              "    }\n",
              "\n",
              "    [theme=dark] .colab-df-convert:hover {\n",
              "      background-color: #434B5C;\n",
              "      box-shadow: 0px 1px 3px 1px rgba(0, 0, 0, 0.15);\n",
              "      filter: drop-shadow(0px 1px 2px rgba(0, 0, 0, 0.3));\n",
              "      fill: #FFFFFF;\n",
              "    }\n",
              "  </style>\n",
              "\n",
              "      <script>\n",
              "        const buttonEl =\n",
              "          document.querySelector('#df-135e0cb5-2762-4bc2-89fb-66b81c0241ef button.colab-df-convert');\n",
              "        buttonEl.style.display =\n",
              "          google.colab.kernel.accessAllowed ? 'block' : 'none';\n",
              "\n",
              "        async function convertToInteractive(key) {\n",
              "          const element = document.querySelector('#df-135e0cb5-2762-4bc2-89fb-66b81c0241ef');\n",
              "          const dataTable =\n",
              "            await google.colab.kernel.invokeFunction('convertToInteractive',\n",
              "                                                     [key], {});\n",
              "          if (!dataTable) return;\n",
              "\n",
              "          const docLinkHtml = 'Like what you see? Visit the ' +\n",
              "            '<a target=\"_blank\" href=https://colab.research.google.com/notebooks/data_table.ipynb>data table notebook</a>'\n",
              "            + ' to learn more about interactive tables.';\n",
              "          element.innerHTML = '';\n",
              "          dataTable['output_type'] = 'display_data';\n",
              "          await google.colab.output.renderOutput(dataTable, element);\n",
              "          const docLink = document.createElement('div');\n",
              "          docLink.innerHTML = docLinkHtml;\n",
              "          element.appendChild(docLink);\n",
              "        }\n",
              "      </script>\n",
              "    </div>\n",
              "  </div>\n",
              "  "
            ]
          },
          "metadata": {},
          "execution_count": 17
        }
      ]
    },
    {
      "cell_type": "markdown",
      "source": [
        "# 시각화"
      ],
      "metadata": {
        "id": "Khx6xb2kqPaA"
      }
    },
    {
      "cell_type": "code",
      "source": [
        "# 시각화를 위한 한글 폰트 다운로드\n",
        "\n",
        "!sudo apt-get install -y fonts-nanum\n",
        "!sudo fc-cache -fv\n",
        "!rm ~/.cache/matplotlib -rf"
      ],
      "metadata": {
        "id": "IQM9-KyqqCw_"
      },
      "execution_count": null,
      "outputs": []
    },
    {
      "cell_type": "code",
      "source": [
        "# 필요한 라이브러리 로드\n",
        "\n",
        "import matplotlib\n",
        "import matplotlib.pyplot as plt\n",
        "import seaborn as sns\n",
        "\n",
        "# 쥬피터노트에서 결과를 출력하도록 설정\n",
        "%matplotlib inline\n",
        "\n",
        "# 글꼴 설정\n",
        "plt.rc('font', family='NanumBarunGothic')\n",
        "\n",
        "# 마이너스 기호 출력\n",
        "plt.rc('axes', unicode_minus=False)\n",
        "\n",
        "# 분석에 문제가 없는 경고 메세지는 숨긴다.\n",
        "import warnings\n",
        "warnings.filterwarnings('ignore')"
      ],
      "metadata": {
        "id": "oLaYieC9qCzf"
      },
      "execution_count": 23,
      "outputs": []
    },
    {
      "cell_type": "code",
      "source": [
        "traindata = train.copy()"
      ],
      "metadata": {
        "id": "LSS2RbtmqC1l"
      },
      "execution_count": 21,
      "outputs": []
    },
    {
      "cell_type": "code",
      "source": [
        "# 타깃 변수(와인 품질) 분포 시각화\n",
        "sns.distplot(traindata['quality'], kde=False, bins=10)\n",
        "plt.axis([2, 10, 0, 2500]) # [x 축 최솟값, x 축 최댓값, y 축 최솟값, y 축 최댓값]\n",
        "plt.title(\"와인 품질\") # 그래프 제목 지정\n",
        "plt.show() # 그래프 그리기"
      ],
      "metadata": {
        "colab": {
          "base_uri": "https://localhost:8080/",
          "height": 295
        },
        "id": "BSKutai1qC3z",
        "outputId": "9370e662-ce05-4be6-eaa6-25ac32039415"
      },
      "execution_count": 28,
      "outputs": [
        {
          "output_type": "display_data",
          "data": {
            "text/plain": [
              "<Figure size 432x288 with 1 Axes>"
            ],
            "image/png": "[encoded data removed]"
          },
          "metadata": {
            "needs_background": "light"
          }
        }
      ]
    },
    {
      "cell_type": "markdown",
      "source": [
        "- kde: 그래프에 선을 출력할지 여부\n",
        "- bins: 출력할 막대그래프 갯수"
      ],
      "metadata": {
        "id": "TiTDTK1Lq7H-"
      }
    },
    {
      "cell_type": "markdown",
      "source": [
        "## 이상치 탐지 후 제거"
      ],
      "metadata": {
        "id": "5S_cw0-9rdMP"
      }
    },
    {
      "cell_type": "code",
      "source": [
        "sns.boxplot(data=train['fixed acidity'])"
      ],
      "metadata": {
        "colab": {
          "base_uri": "https://localhost:8080/",
          "height": 283
        },
        "id": "vAovGdIDrhHQ",
        "outputId": "efc8a0d0-23fe-4a89-ffaf-36b0a249c3fb"
      },
      "execution_count": 31,
      "outputs": [
        {
          "output_type": "execute_result",
          "data": {
            "text/plain": [
              "<matplotlib.axes._subplots.AxesSubplot at 0x7f69120e0d90>"
            ]
          },
          "metadata": {},
          "execution_count": 31
        },
        {
          "output_type": "display_data",
          "data": {
            "text/plain": [
              "<Figure size 432x288 with 1 Axes>"
            ],
            "image/png": "[encoded data removed]"
          },
          "metadata": {
            "needs_background": "light"
          }
        }
      ]
    },
    {
      "cell_type": "markdown",
      "source": [
        "- IQR을 활용해서 이상치 제거"
      ],
      "metadata": {
        "id": "KvxcTITFr5dX"
      }
    },
    {
      "cell_type": "code",
      "source": [
        "import numpy as np\n",
        "quantile_25 = np.quantile(train['fixed acidity'], 0.25) # 1 사분위수\n",
        "quantile_75 = np.quantile(train['fixed acidity'], 0.75) # 3 사분위수\n",
        "IQR = quantile_75 - quantile_25 # 사분위수 범위\n",
        "minimum = quantile_25 - 1.5 * IQR # 최솟값\n",
        "maximum = quantile_75 + 1.5 * IQR # 최댓값\n",
        "train2 = train[(minimum <= train['fixed acidity']) & (train['fixed acidity'] <= maximum)] # 이상치를 제외한 값을 따로 저장\n",
        "train2.shape"
      ],
      "metadata": {
        "colab": {
          "base_uri": "https://localhost:8080/"
        },
        "id": "ITgW7-5XqC8D",
        "outputId": "a3dc7b0c-ab75-430a-aedd-ae64beed6a45"
      },
      "execution_count": 32,
      "outputs": [
        {
          "output_type": "execute_result",
          "data": {
            "text/plain": [
              "(5203, 14)"
            ]
          },
          "metadata": {},
          "execution_count": 32
        }
      ]
    },
    {
      "cell_type": "code",
      "source": [
        "sns.boxplot(data = train2['fixed acidity'])"
      ],
      "metadata": {
        "colab": {
          "base_uri": "https://localhost:8080/",
          "height": 283
        },
        "id": "tKDDAkSqqC-Y",
        "outputId": "e3d78439-4d0a-439d-8e78-4921edf6546a"
      },
      "execution_count": 33,
      "outputs": [
        {
          "output_type": "execute_result",
          "data": {
            "text/plain": [
              "<matplotlib.axes._subplots.AxesSubplot at 0x7f6912018e10>"
            ]
          },
          "metadata": {},
          "execution_count": 33
        },
        {
          "output_type": "display_data",
          "data": {
            "text/plain": [
              "<Figure size 432x288 with 1 Axes>"
            ],
            "image/png": "[encoded data removed]"
          },
          "metadata": {
            "needs_background": "light"
          }
        }
      ]
    },
    {
      "cell_type": "code",
      "source": [
        "train.shape[0] - train2.shape[0] # 제거한 이상치 개수 확인"
      ],
      "metadata": {
        "colab": {
          "base_uri": "https://localhost:8080/"
        },
        "id": "aHS5jrk0sfJY",
        "outputId": "9abc883a-db63-47ce-aa57-381731d580dd"
      },
      "execution_count": 34,
      "outputs": [
        {
          "output_type": "execute_result",
          "data": {
            "text/plain": [
              "294"
            ]
          },
          "metadata": {},
          "execution_count": 34
        }
      ]
    },
    {
      "cell_type": "markdown",
      "source": [
        "## 정규화\n"
      ],
      "metadata": {
        "id": "mXLT5jcTsp2p"
      }
    },
    {
      "cell_type": "code",
      "source": [
        "train2.describe() # 이상치를 제거한 데이터셋 활용"
      ],
      "metadata": {
        "colab": {
          "base_uri": "https://localhost:8080/",
          "height": 300
        },
        "id": "4oChNTjysrSD",
        "outputId": "934e7f57-d5d8-4b3e-d633-f958210805cf"
      },
      "execution_count": 35,
      "outputs": [
        {
          "output_type": "execute_result",
          "data": {
            "text/plain": [
              "             index      quality  fixed acidity  volatile acidity  citric acid  \\\n",
              "count  5203.000000  5203.000000    5203.000000       5203.000000  5203.000000   \n",
              "mean   2753.771670     5.821065       7.004132          0.332852     0.309366   \n",
              "std    1587.326459     0.868565       0.906623          0.162106     0.140360   \n",
              "min       0.000000     3.000000       4.500000          0.080000     0.000000   \n",
              "25%    1380.500000     5.000000       6.400000          0.220000     0.240000   \n",
              "50%    2754.000000     6.000000       6.900000          0.290000     0.300000   \n",
              "75%    4129.500000     6.000000       7.500000          0.390000     0.380000   \n",
              "max    5496.000000     9.000000       9.600000          1.580000     1.660000   \n",
              "\n",
              "       residual sugar    chlorides  free sulfur dioxide  total sulfur dioxide  \\\n",
              "count     5203.000000  5203.000000          5203.000000           5203.000000   \n",
              "mean         5.573131     0.054088            31.337113            119.578897   \n",
              "std          4.828254     0.033831            17.536054             54.483795   \n",
              "min          0.600000     0.009000             1.000000              6.000000   \n",
              "25%          1.800000     0.037000            18.000000             86.000000   \n",
              "50%          3.300000     0.046000            30.000000            121.000000   \n",
              "75%          8.300000     0.060000            42.000000            157.000000   \n",
              "max         65.800000     0.610000           289.000000            440.000000   \n",
              "\n",
              "           density           pH    sulphates      alcohol  \n",
              "count  5203.000000  5203.000000  5203.000000  5203.000000  \n",
              "mean      0.994472     3.222862     0.521893    10.504133  \n",
              "std       0.002926     0.161715     0.143725     1.201914  \n",
              "min       0.987110     2.740000     0.220000     8.000000  \n",
              "25%       0.992160     3.110000     0.430000     9.500000  \n",
              "50%       0.994600     3.210000     0.500000    10.300000  \n",
              "75%       0.996660     3.330000     0.590000    11.300000  \n",
              "max       1.038980     4.010000     2.000000    14.200000  "
            ],
            "text/html": [
              "\n",
              "  <div id=\"df-37771cfb-b881-4a42-8a14-d58c6b63e20f\">\n",
              "    <div class=\"colab-df-container\">\n",
              "      <div>\n",
              "<style scoped>\n",
              "    .dataframe tbody tr th:only-of-type {\n",
              "        vertical-align: middle;\n",
              "    }\n",
              "\n",
              "    .dataframe tbody tr th {\n",
              "        vertical-align: top;\n",
              "    }\n",
              "\n",
              "    .dataframe thead th {\n",
              "        text-align: right;\n",
              "    }\n",
              "</style>\n",
              "<table border=\"1\" class=\"dataframe\">\n",
              "  <thead>\n",
              "    <tr style=\"text-align: right;\">\n",
              "      <th></th>\n",
              "      <th>index</th>\n",
              "      <th>quality</th>\n",
              "      <th>fixed acidity</th>\n",
              "      <th>volatile acidity</th>\n",
              "      <th>citric acid</th>\n",
              "      <th>residual sugar</th>\n",
              "      <th>chlorides</th>\n",
              "      <th>free sulfur dioxide</th>\n",
              "      <th>total sulfur dioxide</th>\n",
              "      <th>density</th>\n",
              "      <th>pH</th>\n",
              "      <th>sulphates</th>\n",
              "      <th>alcohol</th>\n",
              "    </tr>\n",
              "  </thead>\n",
              "  <tbody>\n",
              "    <tr>\n",
              "      <th>count</th>\n",
              "      <td>5203.000000</td>\n",
              "      <td>5203.000000</td>\n",
              "      <td>5203.000000</td>\n",
              "      <td>5203.000000</td>\n",
              "      <td>5203.000000</td>\n",
              "      <td>5203.000000</td>\n",
              "      <td>5203.000000</td>\n",
              "      <td>5203.000000</td>\n",
              "      <td>5203.000000</td>\n",
              "      <td>5203.000000</td>\n",
              "      <td>5203.000000</td>\n",
              "      <td>5203.000000</td>\n",
              "      <td>5203.000000</td>\n",
              "    </tr>\n",
              "    <tr>\n",
              "      <th>mean</th>\n",
              "      <td>2753.771670</td>\n",
              "      <td>5.821065</td>\n",
              "      <td>7.004132</td>\n",
              "      <td>0.332852</td>\n",
              "      <td>0.309366</td>\n",
              "      <td>5.573131</td>\n",
              "      <td>0.054088</td>\n",
              "      <td>31.337113</td>\n",
              "      <td>119.578897</td>\n",
              "      <td>0.994472</td>\n",
              "      <td>3.222862</td>\n",
              "      <td>0.521893</td>\n",
              "      <td>10.504133</td>\n",
              "    </tr>\n",
              "    <tr>\n",
              "      <th>std</th>\n",
              "      <td>1587.326459</td>\n",
              "      <td>0.868565</td>\n",
              "      <td>0.906623</td>\n",
              "      <td>0.162106</td>\n",
              "      <td>0.140360</td>\n",
              "      <td>4.828254</td>\n",
              "      <td>0.033831</td>\n",
              "      <td>17.536054</td>\n",
              "      <td>54.483795</td>\n",
              "      <td>0.002926</td>\n",
              "      <td>0.161715</td>\n",
              "      <td>0.143725</td>\n",
              "      <td>1.201914</td>\n",
              "    </tr>\n",
              "    <tr>\n",
              "      <th>min</th>\n",
              "      <td>0.000000</td>\n",
              "      <td>3.000000</td>\n",
              "      <td>4.500000</td>\n",
              "      <td>0.080000</td>\n",
              "      <td>0.000000</td>\n",
              "      <td>0.600000</td>\n",
              "      <td>0.009000</td>\n",
              "      <td>1.000000</td>\n",
              "      <td>6.000000</td>\n",
              "      <td>0.987110</td>\n",
              "      <td>2.740000</td>\n",
              "      <td>0.220000</td>\n",
              "      <td>8.000000</td>\n",
              "    </tr>\n",
              "    <tr>\n",
              "      <th>25%</th>\n",
              "      <td>1380.500000</td>\n",
              "      <td>5.000000</td>\n",
              "      <td>6.400000</td>\n",
              "      <td>0.220000</td>\n",
              "      <td>0.240000</td>\n",
              "      <td>1.800000</td>\n",
              "      <td>0.037000</td>\n",
              "      <td>18.000000</td>\n",
              "      <td>86.000000</td>\n",
              "      <td>0.992160</td>\n",
              "      <td>3.110000</td>\n",
              "      <td>0.430000</td>\n",
              "      <td>9.500000</td>\n",
              "    </tr>\n",
              "    <tr>\n",
              "      <th>50%</th>\n",
              "      <td>2754.000000</td>\n",
              "      <td>6.000000</td>\n",
              "      <td>6.900000</td>\n",
              "      <td>0.290000</td>\n",
              "      <td>0.300000</td>\n",
              "      <td>3.300000</td>\n",
              "      <td>0.046000</td>\n",
              "      <td>30.000000</td>\n",
              "      <td>121.000000</td>\n",
              "      <td>0.994600</td>\n",
              "      <td>3.210000</td>\n",
              "      <td>0.500000</td>\n",
              "      <td>10.300000</td>\n",
              "    </tr>\n",
              "    <tr>\n",
              "      <th>75%</th>\n",
              "      <td>4129.500000</td>\n",
              "      <td>6.000000</td>\n",
              "      <td>7.500000</td>\n",
              "      <td>0.390000</td>\n",
              "      <td>0.380000</td>\n",
              "      <td>8.300000</td>\n",
              "      <td>0.060000</td>\n",
              "      <td>42.000000</td>\n",
              "      <td>157.000000</td>\n",
              "      <td>0.996660</td>\n",
              "      <td>3.330000</td>\n",
              "      <td>0.590000</td>\n",
              "      <td>11.300000</td>\n",
              "    </tr>\n",
              "    <tr>\n",
              "      <th>max</th>\n",
              "      <td>5496.000000</td>\n",
              "      <td>9.000000</td>\n",
              "      <td>9.600000</td>\n",
              "      <td>1.580000</td>\n",
              "      <td>1.660000</td>\n",
              "      <td>65.800000</td>\n",
              "      <td>0.610000</td>\n",
              "      <td>289.000000</td>\n",
              "      <td>440.000000</td>\n",
              "      <td>1.038980</td>\n",
              "      <td>4.010000</td>\n",
              "      <td>2.000000</td>\n",
              "      <td>14.200000</td>\n",
              "    </tr>\n",
              "  </tbody>\n",
              "</table>\n",
              "</div>\n",
              "      <button class=\"colab-df-convert\" onclick=\"convertToInteractive('df-37771cfb-b881-4a42-8a14-d58c6b63e20f')\"\n",
              "              title=\"Convert this dataframe to an interactive table.\"\n",
              "              style=\"display:none;\">\n",
              "        \n",
              "  <svg xmlns=\"http://www.w3.org/2000/svg\" height=\"24px\"viewBox=\"0 0 24 24\"\n",
              "       width=\"24px\">\n",
              "    <path d=\"M0 0h24v24H0V0z\" fill=\"none\"/>\n",
              "    <path d=\"M18.56 5.44l.94 2.06.94-2.06 2.06-.94-2.06-.94-.94-2.06-.94 2.06-2.06.94zm-11 1L8.5 8.5l.94-2.06 2.06-.94-2.06-.94L8.5 2.5l-.94 2.06-2.06.94zm10 10l.94 2.06.94-2.06 2.06-.94-2.06-.94-.94-2.06-.94 2.06-2.06.94z\"/><path d=\"M17.41 7.96l-1.37-1.37c-.4-.4-.92-.59-1.43-.59-.52 0-1.04.2-1.43.59L10.3 9.45l-7.72 7.72c-.78.78-.78 2.05 0 2.83L4 21.41c.39.39.9.59 1.41.59.51 0 1.02-.2 1.41-.59l7.78-7.78 2.81-2.81c.8-.78.8-2.07 0-2.86zM5.41 20L4 18.59l7.72-7.72 1.47 1.35L5.41 20z\"/>\n",
              "  </svg>\n",
              "      </button>\n",
              "      \n",
              "  <style>\n",
              "    .colab-df-container {\n",
              "      display:flex;\n",
              "      flex-wrap:wrap;\n",
              "      gap: 12px;\n",
              "    }\n",
              "\n",
              "    .colab-df-convert {\n",
              "      background-color: #E8F0FE;\n",
              "      border: none;\n",
              "      border-radius: 50%;\n",
              "      cursor: pointer;\n",
              "      display: none;\n",
              "      fill: #1967D2;\n",
              "      height: 32px;\n",
              "      padding: 0 0 0 0;\n",
              "      width: 32px;\n",
              "    }\n",
              "\n",
              "    .colab-df-convert:hover {\n",
              "      background-color: #E2EBFA;\n",
              "      box-shadow: 0px 1px 2px rgba(60, 64, 67, 0.3), 0px 1px 3px 1px rgba(60, 64, 67, 0.15);\n",
              "      fill: #174EA6;\n",
              "    }\n",
              "\n",
              "    [theme=dark] .colab-df-convert {\n",
              "      background-color: #3B4455;\n",
              "      fill: #D2E3FC;\n",
              "    }\n",
              "\n",
              "    [theme=dark] .colab-df-convert:hover {\n",
              "      background-color: #434B5C;\n",
              "      box-shadow: 0px 1px 3px 1px rgba(0, 0, 0, 0.15);\n",
              "      filter: drop-shadow(0px 1px 2px rgba(0, 0, 0, 0.3));\n",
              "      fill: #FFFFFF;\n",
              "    }\n",
              "  </style>\n",
              "\n",
              "      <script>\n",
              "        const buttonEl =\n",
              "          document.querySelector('#df-37771cfb-b881-4a42-8a14-d58c6b63e20f button.colab-df-convert');\n",
              "        buttonEl.style.display =\n",
              "          google.colab.kernel.accessAllowed ? 'block' : 'none';\n",
              "\n",
              "        async function convertToInteractive(key) {\n",
              "          const element = document.querySelector('#df-37771cfb-b881-4a42-8a14-d58c6b63e20f');\n",
              "          const dataTable =\n",
              "            await google.colab.kernel.invokeFunction('convertToInteractive',\n",
              "                                                     [key], {});\n",
              "          if (!dataTable) return;\n",
              "\n",
              "          const docLinkHtml = 'Like what you see? Visit the ' +\n",
              "            '<a target=\"_blank\" href=https://colab.research.google.com/notebooks/data_table.ipynb>data table notebook</a>'\n",
              "            + ' to learn more about interactive tables.';\n",
              "          element.innerHTML = '';\n",
              "          dataTable['output_type'] = 'display_data';\n",
              "          await google.colab.output.renderOutput(dataTable, element);\n",
              "          const docLink = document.createElement('div');\n",
              "          docLink.innerHTML = docLinkHtml;\n",
              "          element.appendChild(docLink);\n",
              "        }\n",
              "      </script>\n",
              "    </div>\n",
              "  </div>\n",
              "  "
            ]
          },
          "metadata": {},
          "execution_count": 35
        }
      ]
    },
    {
      "cell_type": "code",
      "source": [
        "from sklearn.preprocessing import MinMaxScaler # Min Max Scailing 기법 사용\n",
        "scaler = MinMaxScaler()\n",
        "scaler.fit(train2[['fixed acidity']])\n",
        "train2['Scaled fixed acidity'] = scaler.transform(train2[['fixed acidity']])\n",
        "test['Scaled fixed acidity'] = scaler.transform(test[['fixed acidity']])"
      ],
      "metadata": {
        "id": "llkgl4njsqk_"
      },
      "execution_count": 106,
      "outputs": []
    },
    {
      "cell_type": "code",
      "source": [
        "sns.distplot(train['fixed acidity'])"
      ],
      "metadata": {
        "colab": {
          "base_uri": "https://localhost:8080/",
          "height": 297
        },
        "id": "hCsZCwIltS3D",
        "outputId": "fe3fcc7e-d07f-45d0-9c98-1cb204b4cb82"
      },
      "execution_count": 40,
      "outputs": [
        {
          "output_type": "execute_result",
          "data": {
            "text/plain": [
              "<matplotlib.axes._subplots.AxesSubplot at 0x7f690f93e210>"
            ]
          },
          "metadata": {},
          "execution_count": 40
        },
        {
          "output_type": "display_data",
          "data": {
            "text/plain": [
              "<Figure size 432x288 with 1 Axes>"
            ],
            "image/png": "[encoded data removed]"
          },
          "metadata": {
            "needs_background": "light"
          }
        }
      ]
    },
    {
      "cell_type": "code",
      "source": [
        "sns.distplot(train2['Scaled fixed acidity'])"
      ],
      "metadata": {
        "colab": {
          "base_uri": "https://localhost:8080/",
          "height": 297
        },
        "id": "Rz3bq9uIs3Y6",
        "outputId": "2a7cefef-6bfe-45c5-9164-d2f8db2d5406"
      },
      "execution_count": 39,
      "outputs": [
        {
          "output_type": "execute_result",
          "data": {
            "text/plain": [
              "<matplotlib.axes._subplots.AxesSubplot at 0x7f69102b4850>"
            ]
          },
          "metadata": {},
          "execution_count": 39
        },
        {
          "output_type": "display_data",
          "data": {
            "text/plain": [
              "<Figure size 432x288 with 1 Axes>"
            ],
            "image/png": "[encoded data removed]"
          },
          "metadata": {
            "needs_background": "light"
          }
        }
      ]
    },
    {
      "cell_type": "markdown",
      "source": [
        "- Min Max Scaling은 \"이상치\"에 민감함 \n",
        "- 이상치를 처리하지 않은 경우 상대적으로 굉장히 큰 값이나, 작은 값을 1이나 0으로 만들기 때문에 문제가 발생할 수 있음"
      ],
      "metadata": {
        "id": "DHMhCjSpteYd"
      }
    },
    {
      "cell_type": "code",
      "source": [
        ""
      ],
      "metadata": {
        "id": "7qTxCOml_B9f"
      },
      "execution_count": null,
      "outputs": []
    },
    {
      "cell_type": "markdown",
      "source": [
        "## One-Hot Encoding"
      ],
      "metadata": {
        "id": "GkVfIQp_trJp"
      }
    },
    {
      "cell_type": "code",
      "source": [
        "from sklearn.preprocessing import OneHotEncoder\n",
        "encoder = OneHotEncoder()\n",
        "encoder.fit(train2[['type']])\n",
        "onehot = encoder.transform(train2[['type']])\n",
        "onehot = onehot.toarray()\n",
        "onehot = pd.DataFrame(onehot)\n",
        "onehot.columns = encoder.get_feature_names()\n",
        "onehot = pd.concat([train2, onehot], axis = 1).drop(columns = ['type']) # type 컬럼은 필요없기 때문에 제거\n",
        "onehot.head()\n",
        "onehot = onehot.dropna()"
      ],
      "metadata": {
        "id": "Y7PK2FT6s3bt"
      },
      "execution_count": 77,
      "outputs": []
    },
    {
      "cell_type": "markdown",
      "source": [
        "- One-Hot Encoding은 말 그대로, '하나만 Hot 하고, 나머지는 Cold한 데이터'라는 의미\n",
        "\n",
        "- 자신에게 맞는 것은 1로, 나머지는 0으로 치환\n"
      ],
      "metadata": {
        "id": "rvza93wz386i"
      }
    },
    {
      "cell_type": "code",
      "source": [
        "onehot = encoder.transform(test[['type']])\n",
        "onehot = onehot.toarray()\n",
        "onehot = pd.DataFrame(onehot)\n",
        "onehot.columns = encoder.get_feature_names()\n",
        "test = pd.concat([test, onehot], axis = 1)\n",
        "test = test.drop(columns = ['type'])\n",
        "\n",
        "test.head()"
      ],
      "metadata": {
        "colab": {
          "base_uri": "https://localhost:8080/",
          "height": 206
        },
        "id": "kRQsfqj99TbZ",
        "outputId": "b3fc84e7-741b-4c5b-9c50-21a6c29c1cd6"
      },
      "execution_count": 99,
      "outputs": [
        {
          "output_type": "execute_result",
          "data": {
            "text/plain": [
              "   index  fixed acidity  volatile acidity  citric acid  residual sugar  \\\n",
              "0      0            9.0              0.31         0.48             6.6   \n",
              "1      1           13.3              0.43         0.58             1.9   \n",
              "2      2            6.5              0.28         0.27             5.2   \n",
              "3      3            7.2              0.15         0.39             1.8   \n",
              "4      4            6.8              0.26         0.26             2.0   \n",
              "\n",
              "   chlorides  free sulfur dioxide  total sulfur dioxide  density    pH  \\\n",
              "0      0.043                 11.0                  73.0  0.99380  2.90   \n",
              "1      0.070                 15.0                  40.0  1.00040  3.06   \n",
              "2      0.040                 44.0                 179.0  0.99480  3.19   \n",
              "3      0.043                 21.0                 159.0  0.99480  3.52   \n",
              "4      0.019                 23.5                  72.0  0.99041  3.16   \n",
              "\n",
              "   sulphates  alcohol  x0_red  x0_white  \n",
              "0       0.38     11.6     0.0       1.0  \n",
              "1       0.49      9.0     1.0       0.0  \n",
              "2       0.69      9.4     0.0       1.0  \n",
              "3       0.47     10.0     0.0       1.0  \n",
              "4       0.47     11.8     0.0       1.0  "
            ],
            "text/html": [
              "\n",
              "  <div id=\"df-4d89400a-e7a9-46e4-a2f7-d0f25d0f3f71\">\n",
              "    <div class=\"colab-df-container\">\n",
              "      <div>\n",
              "<style scoped>\n",
              "    .dataframe tbody tr th:only-of-type {\n",
              "        vertical-align: middle;\n",
              "    }\n",
              "\n",
              "    .dataframe tbody tr th {\n",
              "        vertical-align: top;\n",
              "    }\n",
              "\n",
              "    .dataframe thead th {\n",
              "        text-align: right;\n",
              "    }\n",
              "</style>\n",
              "<table border=\"1\" class=\"dataframe\">\n",
              "  <thead>\n",
              "    <tr style=\"text-align: right;\">\n",
              "      <th></th>\n",
              "      <th>index</th>\n",
              "      <th>fixed acidity</th>\n",
              "      <th>volatile acidity</th>\n",
              "      <th>citric acid</th>\n",
              "      <th>residual sugar</th>\n",
              "      <th>chlorides</th>\n",
              "      <th>free sulfur dioxide</th>\n",
              "      <th>total sulfur dioxide</th>\n",
              "      <th>density</th>\n",
              "      <th>pH</th>\n",
              "      <th>sulphates</th>\n",
              "      <th>alcohol</th>\n",
              "      <th>x0_red</th>\n",
              "      <th>x0_white</th>\n",
              "    </tr>\n",
              "  </thead>\n",
              "  <tbody>\n",
              "    <tr>\n",
              "      <th>0</th>\n",
              "      <td>0</td>\n",
              "      <td>9.0</td>\n",
              "      <td>0.31</td>\n",
              "      <td>0.48</td>\n",
              "      <td>6.6</td>\n",
              "      <td>0.043</td>\n",
              "      <td>11.0</td>\n",
              "      <td>73.0</td>\n",
              "      <td>0.99380</td>\n",
              "      <td>2.90</td>\n",
              "      <td>0.38</td>\n",
              "      <td>11.6</td>\n",
              "      <td>0.0</td>\n",
              "      <td>1.0</td>\n",
              "    </tr>\n",
              "    <tr>\n",
              "      <th>1</th>\n",
              "      <td>1</td>\n",
              "      <td>13.3</td>\n",
              "      <td>0.43</td>\n",
              "      <td>0.58</td>\n",
              "      <td>1.9</td>\n",
              "      <td>0.070</td>\n",
              "      <td>15.0</td>\n",
              "      <td>40.0</td>\n",
              "      <td>1.00040</td>\n",
              "      <td>3.06</td>\n",
              "      <td>0.49</td>\n",
              "      <td>9.0</td>\n",
              "      <td>1.0</td>\n",
              "      <td>0.0</td>\n",
              "    </tr>\n",
              "    <tr>\n",
              "      <th>2</th>\n",
              "      <td>2</td>\n",
              "      <td>6.5</td>\n",
              "      <td>0.28</td>\n",
              "      <td>0.27</td>\n",
              "      <td>5.2</td>\n",
              "      <td>0.040</td>\n",
              "      <td>44.0</td>\n",
              "      <td>179.0</td>\n",
              "      <td>0.99480</td>\n",
              "      <td>3.19</td>\n",
              "      <td>0.69</td>\n",
              "      <td>9.4</td>\n",
              "      <td>0.0</td>\n",
              "      <td>1.0</td>\n",
              "    </tr>\n",
              "    <tr>\n",
              "      <th>3</th>\n",
              "      <td>3</td>\n",
              "      <td>7.2</td>\n",
              "      <td>0.15</td>\n",
              "      <td>0.39</td>\n",
              "      <td>1.8</td>\n",
              "      <td>0.043</td>\n",
              "      <td>21.0</td>\n",
              "      <td>159.0</td>\n",
              "      <td>0.99480</td>\n",
              "      <td>3.52</td>\n",
              "      <td>0.47</td>\n",
              "      <td>10.0</td>\n",
              "      <td>0.0</td>\n",
              "      <td>1.0</td>\n",
              "    </tr>\n",
              "    <tr>\n",
              "      <th>4</th>\n",
              "      <td>4</td>\n",
              "      <td>6.8</td>\n",
              "      <td>0.26</td>\n",
              "      <td>0.26</td>\n",
              "      <td>2.0</td>\n",
              "      <td>0.019</td>\n",
              "      <td>23.5</td>\n",
              "      <td>72.0</td>\n",
              "      <td>0.99041</td>\n",
              "      <td>3.16</td>\n",
              "      <td>0.47</td>\n",
              "      <td>11.8</td>\n",
              "      <td>0.0</td>\n",
              "      <td>1.0</td>\n",
              "    </tr>\n",
              "  </tbody>\n",
              "</table>\n",
              "</div>\n",
              "      <button class=\"colab-df-convert\" onclick=\"convertToInteractive('df-4d89400a-e7a9-46e4-a2f7-d0f25d0f3f71')\"\n",
              "              title=\"Convert this dataframe to an interactive table.\"\n",
              "              style=\"display:none;\">\n",
              "        \n",
              "  <svg xmlns=\"http://www.w3.org/2000/svg\" height=\"24px\"viewBox=\"0 0 24 24\"\n",
              "       width=\"24px\">\n",
              "    <path d=\"M0 0h24v24H0V0z\" fill=\"none\"/>\n",
              "    <path d=\"M18.56 5.44l.94 2.06.94-2.06 2.06-.94-2.06-.94-.94-2.06-.94 2.06-2.06.94zm-11 1L8.5 8.5l.94-2.06 2.06-.94-2.06-.94L8.5 2.5l-.94 2.06-2.06.94zm10 10l.94 2.06.94-2.06 2.06-.94-2.06-.94-.94-2.06-.94 2.06-2.06.94z\"/><path d=\"M17.41 7.96l-1.37-1.37c-.4-.4-.92-.59-1.43-.59-.52 0-1.04.2-1.43.59L10.3 9.45l-7.72 7.72c-.78.78-.78 2.05 0 2.83L4 21.41c.39.39.9.59 1.41.59.51 0 1.02-.2 1.41-.59l7.78-7.78 2.81-2.81c.8-.78.8-2.07 0-2.86zM5.41 20L4 18.59l7.72-7.72 1.47 1.35L5.41 20z\"/>\n",
              "  </svg>\n",
              "      </button>\n",
              "      \n",
              "  <style>\n",
              "    .colab-df-container {\n",
              "      display:flex;\n",
              "      flex-wrap:wrap;\n",
              "      gap: 12px;\n",
              "    }\n",
              "\n",
              "    .colab-df-convert {\n",
              "      background-color: #E8F0FE;\n",
              "      border: none;\n",
              "      border-radius: 50%;\n",
              "      cursor: pointer;\n",
              "      display: none;\n",
              "      fill: #1967D2;\n",
              "      height: 32px;\n",
              "      padding: 0 0 0 0;\n",
              "      width: 32px;\n",
              "    }\n",
              "\n",
              "    .colab-df-convert:hover {\n",
              "      background-color: #E2EBFA;\n",
              "      box-shadow: 0px 1px 2px rgba(60, 64, 67, 0.3), 0px 1px 3px 1px rgba(60, 64, 67, 0.15);\n",
              "      fill: #174EA6;\n",
              "    }\n",
              "\n",
              "    [theme=dark] .colab-df-convert {\n",
              "      background-color: #3B4455;\n",
              "      fill: #D2E3FC;\n",
              "    }\n",
              "\n",
              "    [theme=dark] .colab-df-convert:hover {\n",
              "      background-color: #434B5C;\n",
              "      box-shadow: 0px 1px 3px 1px rgba(0, 0, 0, 0.15);\n",
              "      filter: drop-shadow(0px 1px 2px rgba(0, 0, 0, 0.3));\n",
              "      fill: #FFFFFF;\n",
              "    }\n",
              "  </style>\n",
              "\n",
              "      <script>\n",
              "        const buttonEl =\n",
              "          document.querySelector('#df-4d89400a-e7a9-46e4-a2f7-d0f25d0f3f71 button.colab-df-convert');\n",
              "        buttonEl.style.display =\n",
              "          google.colab.kernel.accessAllowed ? 'block' : 'none';\n",
              "\n",
              "        async function convertToInteractive(key) {\n",
              "          const element = document.querySelector('#df-4d89400a-e7a9-46e4-a2f7-d0f25d0f3f71');\n",
              "          const dataTable =\n",
              "            await google.colab.kernel.invokeFunction('convertToInteractive',\n",
              "                                                     [key], {});\n",
              "          if (!dataTable) return;\n",
              "\n",
              "          const docLinkHtml = 'Like what you see? Visit the ' +\n",
              "            '<a target=\"_blank\" href=https://colab.research.google.com/notebooks/data_table.ipynb>data table notebook</a>'\n",
              "            + ' to learn more about interactive tables.';\n",
              "          element.innerHTML = '';\n",
              "          dataTable['output_type'] = 'display_data';\n",
              "          await google.colab.output.renderOutput(dataTable, element);\n",
              "          const docLink = document.createElement('div');\n",
              "          docLink.innerHTML = docLinkHtml;\n",
              "          element.appendChild(docLink);\n",
              "        }\n",
              "      </script>\n",
              "    </div>\n",
              "  </div>\n",
              "  "
            ]
          },
          "metadata": {},
          "execution_count": 99
        }
      ]
    },
    {
      "cell_type": "markdown",
      "source": [
        "## 랜덤포레스트 분류 모형 사용"
      ],
      "metadata": {
        "id": "s3Kt0KSQ4a43"
      }
    },
    {
      "cell_type": "code",
      "source": [
        "from sklearn.ensemble import RandomForestClassifier\n",
        "random_forest = RandomForestClassifier()"
      ],
      "metadata": {
        "id": "3j7TpmBi281G"
      },
      "execution_count": 55,
      "outputs": []
    },
    {
      "cell_type": "code",
      "source": [
        "x = onehot.drop(columns = ['quality'])\n",
        "y = onehot['quality']\n",
        "random_forest.fit(x,y)"
      ],
      "metadata": {
        "colab": {
          "base_uri": "https://localhost:8080/"
        },
        "id": "HJK2WbsT283y",
        "outputId": "a79acc05-51d3-49ea-a2a4-22f0a164b35f"
      },
      "execution_count": 78,
      "outputs": [
        {
          "output_type": "execute_result",
          "data": {
            "text/plain": [
              "RandomForestClassifier()"
            ]
          },
          "metadata": {},
          "execution_count": 78
        }
      ]
    },
    {
      "cell_type": "markdown",
      "source": [
        "## K-fold"
      ],
      "metadata": {
        "id": "eGmCG6Ib57Qs"
      }
    },
    {
      "cell_type": "code",
      "source": [
        "from sklearn.model_selection import KFold\n",
        "kf = KFold(n_splits = 5, shuffle = True, random_state = 0)"
      ],
      "metadata": {
        "id": "Vovs59sN5259"
      },
      "execution_count": 79,
      "outputs": []
    },
    {
      "cell_type": "code",
      "source": [
        "for train_idx, valid_idx in kf.split(train) :\n",
        "  train_data = train.iloc[train_idx]\n",
        "  valid_data = train.iloc[valid_idx]"
      ],
      "metadata": {
        "id": "odOlefRQ53nd"
      },
      "execution_count": 80,
      "outputs": []
    },
    {
      "cell_type": "code",
      "source": [
        "import matplotlib.pyplot as plt\n",
        "\n",
        "kf = KFold(n_splits = 5, shuffle = False)\n",
        "train_idx_store = []\n",
        "valid_idx_store = []\n",
        "\n",
        "i = 1\n",
        "for train_idx, valid_idx in kf.split(train) :\n",
        "  plt.scatter(valid_idx, [i for x in range(len(valid_idx))], alpha = 0.1)\n",
        "  i += 1\n",
        "plt.show()\n",
        "\n",
        "\n",
        "## 아래의 이미지는 shuffle = False로 했을 때, 데이터가 겹치지 않게 순서대로 쪼개지는 것을 볼 수 있습니다."
      ],
      "metadata": {
        "colab": {
          "base_uri": "https://localhost:8080/",
          "height": 265
        },
        "id": "djAqMWxs53p0",
        "outputId": "7ae03433-1737-429d-c600-8a1518f27a19"
      },
      "execution_count": 84,
      "outputs": [
        {
          "output_type": "display_data",
          "data": {
            "text/plain": [
              "<Figure size 432x288 with 1 Axes>"
            ],
            "image/png": "[encoded data removed]"
          },
          "metadata": {
            "needs_background": "light"
          }
        }
      ]
    },
    {
      "cell_type": "markdown",
      "source": [
        "## 실제 모델에 사용"
      ],
      "metadata": {
        "id": "GFicTNBG67Pa"
      }
    },
    {
      "cell_type": "code",
      "source": [
        "x = onehot.drop(columns = ['index','quality'])\n",
        "y = onehot['quality']"
      ],
      "metadata": {
        "id": "1CSZgL4k53sH"
      },
      "execution_count": 95,
      "outputs": []
    },
    {
      "cell_type": "code",
      "source": [
        "kf = KFold(n_splits = 5, shuffle = True, random_state = 0) # kfold 지정"
      ],
      "metadata": {
        "id": "u_zmyoZG7Fuc"
      },
      "execution_count": 86,
      "outputs": []
    },
    {
      "cell_type": "code",
      "source": [
        "model = RandomForestClassifier(random_state = 0)\n",
        "valid_scores = []\n",
        "test_predictions = []"
      ],
      "metadata": {
        "id": "bA71zvds7FxH"
      },
      "execution_count": 87,
      "outputs": []
    },
    {
      "cell_type": "code",
      "source": [
        "from sklearn.metrics import accuracy_score\n",
        "\n",
        "for train_idx, valid_idx in kf.split(x,y) : \n",
        "  x_tr = x.iloc[train_idx]\n",
        "  y_tr = y.iloc[train_idx]\n",
        "\n",
        "  x_val = x.iloc[valid_idx]\n",
        "  y_val = y.iloc[valid_idx]\n",
        "\n",
        "  model.fit(x_tr, y_tr)\n",
        "  valid_prediction = model.predict(x_val)\n",
        "  score = accuracy_score(y_val, valid_prediction)\n",
        "  valid_scores.append(score)\n",
        "\n",
        "  test_prediction = model.predict(test.drop(columns = ['index']))\n",
        "  test_predictions.append(test_prediction)\n",
        "  \n",
        "print('평균 점수 : ', np.mean(valid_scores))\n",
        "\n",
        "test_predictions = pd.DataFrame(test_predictions)\n",
        "test_predictions"
      ],
      "metadata": {
        "colab": {
          "base_uri": "https://localhost:8080/",
          "height": 411
        },
        "id": "ygSCKnb97FzQ",
        "outputId": "d39fa0ff-b9ae-4ce0-a96c-3f28e3c21f24"
      },
      "execution_count": 109,
      "outputs": [
        {
          "output_type": "stream",
          "name": "stdout",
          "text": [
            "평균 점수 :  0.6750508130081301\n"
          ]
        },
        {
          "output_type": "execute_result",
          "data": {
            "text/plain": [
              "   0    1    2    3    4    5    6    7    8    9    ...  990  991  992  993  \\\n",
              "0  6.0  5.0  6.0  6.0  6.0  6.0  6.0  6.0  6.0  6.0  ...  6.0  6.0  6.0  6.0   \n",
              "1  6.0  5.0  6.0  6.0  6.0  6.0  6.0  6.0  6.0  6.0  ...  6.0  6.0  6.0  6.0   \n",
              "2  6.0  5.0  6.0  5.0  6.0  6.0  6.0  6.0  6.0  7.0  ...  6.0  6.0  6.0  6.0   \n",
              "3  6.0  5.0  6.0  5.0  6.0  6.0  5.0  6.0  6.0  7.0  ...  6.0  6.0  6.0  6.0   \n",
              "4  6.0  5.0  5.0  5.0  6.0  6.0  6.0  6.0  6.0  6.0  ...  6.0  6.0  6.0  5.0   \n",
              "5  6.0  5.0  6.0  6.0  6.0  6.0  6.0  6.0  6.0  6.0  ...  6.0  6.0  6.0  6.0   \n",
              "6  6.0  5.0  6.0  6.0  6.0  6.0  6.0  6.0  6.0  6.0  ...  6.0  6.0  6.0  6.0   \n",
              "7  6.0  5.0  6.0  5.0  6.0  6.0  6.0  6.0  6.0  7.0  ...  6.0  6.0  6.0  6.0   \n",
              "8  6.0  5.0  6.0  5.0  6.0  6.0  5.0  6.0  6.0  7.0  ...  6.0  6.0  6.0  6.0   \n",
              "9  6.0  5.0  5.0  5.0  6.0  6.0  6.0  6.0  6.0  6.0  ...  6.0  6.0  6.0  5.0   \n",
              "\n",
              "   994  995  996  997  998  999  \n",
              "0  7.0  6.0  6.0  5.0  6.0  6.0  \n",
              "1  6.0  6.0  6.0  5.0  6.0  6.0  \n",
              "2  6.0  6.0  6.0  5.0  6.0  6.0  \n",
              "3  7.0  5.0  6.0  5.0  6.0  6.0  \n",
              "4  6.0  6.0  6.0  5.0  6.0  6.0  \n",
              "5  7.0  6.0  6.0  5.0  6.0  6.0  \n",
              "6  6.0  6.0  6.0  5.0  6.0  6.0  \n",
              "7  6.0  6.0  6.0  5.0  6.0  6.0  \n",
              "8  7.0  5.0  6.0  5.0  6.0  6.0  \n",
              "9  6.0  6.0  6.0  5.0  6.0  6.0  \n",
              "\n",
              "[10 rows x 1000 columns]"
            ],
            "text/html": [
              "\n",
              "  <div id=\"df-fcfd3cc8-50f0-4cd6-be99-e0d876bb962f\">\n",
              "    <div class=\"colab-df-container\">\n",
              "      <div>\n",
              "<style scoped>\n",
              "    .dataframe tbody tr th:only-of-type {\n",
              "        vertical-align: middle;\n",
              "    }\n",
              "\n",
              "    .dataframe tbody tr th {\n",
              "        vertical-align: top;\n",
              "    }\n",
              "\n",
              "    .dataframe thead th {\n",
              "        text-align: right;\n",
              "    }\n",
              "</style>\n",
              "<table border=\"1\" class=\"dataframe\">\n",
              "  <thead>\n",
              "    <tr style=\"text-align: right;\">\n",
              "      <th></th>\n",
              "      <th>0</th>\n",
              "      <th>1</th>\n",
              "      <th>2</th>\n",
              "      <th>3</th>\n",
              "      <th>4</th>\n",
              "      <th>5</th>\n",
              "      <th>6</th>\n",
              "      <th>7</th>\n",
              "      <th>8</th>\n",
              "      <th>9</th>\n",
              "      <th>...</th>\n",
              "      <th>990</th>\n",
              "      <th>991</th>\n",
              "      <th>992</th>\n",
              "      <th>993</th>\n",
              "      <th>994</th>\n",
              "      <th>995</th>\n",
              "      <th>996</th>\n",
              "      <th>997</th>\n",
              "      <th>998</th>\n",
              "      <th>999</th>\n",
              "    </tr>\n",
              "  </thead>\n",
              "  <tbody>\n",
              "    <tr>\n",
              "      <th>0</th>\n",
              "      <td>6.0</td>\n",
              "      <td>5.0</td>\n",
              "      <td>6.0</td>\n",
              "      <td>6.0</td>\n",
              "      <td>6.0</td>\n",
              "      <td>6.0</td>\n",
              "      <td>6.0</td>\n",
              "      <td>6.0</td>\n",
              "      <td>6.0</td>\n",
              "      <td>6.0</td>\n",
              "      <td>...</td>\n",
              "      <td>6.0</td>\n",
              "      <td>6.0</td>\n",
              "      <td>6.0</td>\n",
              "      <td>6.0</td>\n",
              "      <td>7.0</td>\n",
              "      <td>6.0</td>\n",
              "      <td>6.0</td>\n",
              "      <td>5.0</td>\n",
              "      <td>6.0</td>\n",
              "      <td>6.0</td>\n",
              "    </tr>\n",
              "    <tr>\n",
              "      <th>1</th>\n",
              "      <td>6.0</td>\n",
              "      <td>5.0</td>\n",
              "      <td>6.0</td>\n",
              "      <td>6.0</td>\n",
              "      <td>6.0</td>\n",
              "      <td>6.0</td>\n",
              "      <td>6.0</td>\n",
              "      <td>6.0</td>\n",
              "      <td>6.0</td>\n",
              "      <td>6.0</td>\n",
              "      <td>...</td>\n",
              "      <td>6.0</td>\n",
              "      <td>6.0</td>\n",
              "      <td>6.0</td>\n",
              "      <td>6.0</td>\n",
              "      <td>6.0</td>\n",
              "      <td>6.0</td>\n",
              "      <td>6.0</td>\n",
              "      <td>5.0</td>\n",
              "      <td>6.0</td>\n",
              "      <td>6.0</td>\n",
              "    </tr>\n",
              "    <tr>\n",
              "      <th>2</th>\n",
              "      <td>6.0</td>\n",
              "      <td>5.0</td>\n",
              "      <td>6.0</td>\n",
              "      <td>5.0</td>\n",
              "      <td>6.0</td>\n",
              "      <td>6.0</td>\n",
              "      <td>6.0</td>\n",
              "      <td>6.0</td>\n",
              "      <td>6.0</td>\n",
              "      <td>7.0</td>\n",
              "      <td>...</td>\n",
              "      <td>6.0</td>\n",
              "      <td>6.0</td>\n",
              "      <td>6.0</td>\n",
              "      <td>6.0</td>\n",
              "      <td>6.0</td>\n",
              "      <td>6.0</td>\n",
              "      <td>6.0</td>\n",
              "      <td>5.0</td>\n",
              "      <td>6.0</td>\n",
              "      <td>6.0</td>\n",
              "    </tr>\n",
              "    <tr>\n",
              "      <th>3</th>\n",
              "      <td>6.0</td>\n",
              "      <td>5.0</td>\n",
              "      <td>6.0</td>\n",
              "      <td>5.0</td>\n",
              "      <td>6.0</td>\n",
              "      <td>6.0</td>\n",
              "      <td>5.0</td>\n",
              "      <td>6.0</td>\n",
              "      <td>6.0</td>\n",
              "      <td>7.0</td>\n",
              "      <td>...</td>\n",
              "      <td>6.0</td>\n",
              "      <td>6.0</td>\n",
              "      <td>6.0</td>\n",
              "      <td>6.0</td>\n",
              "      <td>7.0</td>\n",
              "      <td>5.0</td>\n",
              "      <td>6.0</td>\n",
              "      <td>5.0</td>\n",
              "      <td>6.0</td>\n",
              "      <td>6.0</td>\n",
              "    </tr>\n",
              "    <tr>\n",
              "      <th>4</th>\n",
              "      <td>6.0</td>\n",
              "      <td>5.0</td>\n",
              "      <td>5.0</td>\n",
              "      <td>5.0</td>\n",
              "      <td>6.0</td>\n",
              "      <td>6.0</td>\n",
              "      <td>6.0</td>\n",
              "      <td>6.0</td>\n",
              "      <td>6.0</td>\n",
              "      <td>6.0</td>\n",
              "      <td>...</td>\n",
              "      <td>6.0</td>\n",
              "      <td>6.0</td>\n",
              "      <td>6.0</td>\n",
              "      <td>5.0</td>\n",
              "      <td>6.0</td>\n",
              "      <td>6.0</td>\n",
              "      <td>6.0</td>\n",
              "      <td>5.0</td>\n",
              "      <td>6.0</td>\n",
              "      <td>6.0</td>\n",
              "    </tr>\n",
              "    <tr>\n",
              "      <th>5</th>\n",
              "      <td>6.0</td>\n",
              "      <td>5.0</td>\n",
              "      <td>6.0</td>\n",
              "      <td>6.0</td>\n",
              "      <td>6.0</td>\n",
              "      <td>6.0</td>\n",
              "      <td>6.0</td>\n",
              "      <td>6.0</td>\n",
              "      <td>6.0</td>\n",
              "      <td>6.0</td>\n",
              "      <td>...</td>\n",
              "      <td>6.0</td>\n",
              "      <td>6.0</td>\n",
              "      <td>6.0</td>\n",
              "      <td>6.0</td>\n",
              "      <td>7.0</td>\n",
              "      <td>6.0</td>\n",
              "      <td>6.0</td>\n",
              "      <td>5.0</td>\n",
              "      <td>6.0</td>\n",
              "      <td>6.0</td>\n",
              "    </tr>\n",
              "    <tr>\n",
              "      <th>6</th>\n",
              "      <td>6.0</td>\n",
              "      <td>5.0</td>\n",
              "      <td>6.0</td>\n",
              "      <td>6.0</td>\n",
              "      <td>6.0</td>\n",
              "      <td>6.0</td>\n",
              "      <td>6.0</td>\n",
              "      <td>6.0</td>\n",
              "      <td>6.0</td>\n",
              "      <td>6.0</td>\n",
              "      <td>...</td>\n",
              "      <td>6.0</td>\n",
              "      <td>6.0</td>\n",
              "      <td>6.0</td>\n",
              "      <td>6.0</td>\n",
              "      <td>6.0</td>\n",
              "      <td>6.0</td>\n",
              "      <td>6.0</td>\n",
              "      <td>5.0</td>\n",
              "      <td>6.0</td>\n",
              "      <td>6.0</td>\n",
              "    </tr>\n",
              "    <tr>\n",
              "      <th>7</th>\n",
              "      <td>6.0</td>\n",
              "      <td>5.0</td>\n",
              "      <td>6.0</td>\n",
              "      <td>5.0</td>\n",
              "      <td>6.0</td>\n",
              "      <td>6.0</td>\n",
              "      <td>6.0</td>\n",
              "      <td>6.0</td>\n",
              "      <td>6.0</td>\n",
              "      <td>7.0</td>\n",
              "      <td>...</td>\n",
              "      <td>6.0</td>\n",
              "      <td>6.0</td>\n",
              "      <td>6.0</td>\n",
              "      <td>6.0</td>\n",
              "      <td>6.0</td>\n",
              "      <td>6.0</td>\n",
              "      <td>6.0</td>\n",
              "      <td>5.0</td>\n",
              "      <td>6.0</td>\n",
              "      <td>6.0</td>\n",
              "    </tr>\n",
              "    <tr>\n",
              "      <th>8</th>\n",
              "      <td>6.0</td>\n",
              "      <td>5.0</td>\n",
              "      <td>6.0</td>\n",
              "      <td>5.0</td>\n",
              "      <td>6.0</td>\n",
              "      <td>6.0</td>\n",
              "      <td>5.0</td>\n",
              "      <td>6.0</td>\n",
              "      <td>6.0</td>\n",
              "      <td>7.0</td>\n",
              "      <td>...</td>\n",
              "      <td>6.0</td>\n",
              "      <td>6.0</td>\n",
              "      <td>6.0</td>\n",
              "      <td>6.0</td>\n",
              "      <td>7.0</td>\n",
              "      <td>5.0</td>\n",
              "      <td>6.0</td>\n",
              "      <td>5.0</td>\n",
              "      <td>6.0</td>\n",
              "      <td>6.0</td>\n",
              "    </tr>\n",
              "    <tr>\n",
              "      <th>9</th>\n",
              "      <td>6.0</td>\n",
              "      <td>5.0</td>\n",
              "      <td>5.0</td>\n",
              "      <td>5.0</td>\n",
              "      <td>6.0</td>\n",
              "      <td>6.0</td>\n",
              "      <td>6.0</td>\n",
              "      <td>6.0</td>\n",
              "      <td>6.0</td>\n",
              "      <td>6.0</td>\n",
              "      <td>...</td>\n",
              "      <td>6.0</td>\n",
              "      <td>6.0</td>\n",
              "      <td>6.0</td>\n",
              "      <td>5.0</td>\n",
              "      <td>6.0</td>\n",
              "      <td>6.0</td>\n",
              "      <td>6.0</td>\n",
              "      <td>5.0</td>\n",
              "      <td>6.0</td>\n",
              "      <td>6.0</td>\n",
              "    </tr>\n",
              "  </tbody>\n",
              "</table>\n",
              "<p>10 rows × 1000 columns</p>\n",
              "</div>\n",
              "      <button class=\"colab-df-convert\" onclick=\"convertToInteractive('df-fcfd3cc8-50f0-4cd6-be99-e0d876bb962f')\"\n",
              "              title=\"Convert this dataframe to an interactive table.\"\n",
              "              style=\"display:none;\">\n",
              "        \n",
              "  <svg xmlns=\"http://www.w3.org/2000/svg\" height=\"24px\"viewBox=\"0 0 24 24\"\n",
              "       width=\"24px\">\n",
              "    <path d=\"M0 0h24v24H0V0z\" fill=\"none\"/>\n",
              "    <path d=\"M18.56 5.44l.94 2.06.94-2.06 2.06-.94-2.06-.94-.94-2.06-.94 2.06-2.06.94zm-11 1L8.5 8.5l.94-2.06 2.06-.94-2.06-.94L8.5 2.5l-.94 2.06-2.06.94zm10 10l.94 2.06.94-2.06 2.06-.94-2.06-.94-.94-2.06-.94 2.06-2.06.94z\"/><path d=\"M17.41 7.96l-1.37-1.37c-.4-.4-.92-.59-1.43-.59-.52 0-1.04.2-1.43.59L10.3 9.45l-7.72 7.72c-.78.78-.78 2.05 0 2.83L4 21.41c.39.39.9.59 1.41.59.51 0 1.02-.2 1.41-.59l7.78-7.78 2.81-2.81c.8-.78.8-2.07 0-2.86zM5.41 20L4 18.59l7.72-7.72 1.47 1.35L5.41 20z\"/>\n",
              "  </svg>\n",
              "      </button>\n",
              "      \n",
              "  <style>\n",
              "    .colab-df-container {\n",
              "      display:flex;\n",
              "      flex-wrap:wrap;\n",
              "      gap: 12px;\n",
              "    }\n",
              "\n",
              "    .colab-df-convert {\n",
              "      background-color: #E8F0FE;\n",
              "      border: none;\n",
              "      border-radius: 50%;\n",
              "      cursor: pointer;\n",
              "      display: none;\n",
              "      fill: #1967D2;\n",
              "      height: 32px;\n",
              "      padding: 0 0 0 0;\n",
              "      width: 32px;\n",
              "    }\n",
              "\n",
              "    .colab-df-convert:hover {\n",
              "      background-color: #E2EBFA;\n",
              "      box-shadow: 0px 1px 2px rgba(60, 64, 67, 0.3), 0px 1px 3px 1px rgba(60, 64, 67, 0.15);\n",
              "      fill: #174EA6;\n",
              "    }\n",
              "\n",
              "    [theme=dark] .colab-df-convert {\n",
              "      background-color: #3B4455;\n",
              "      fill: #D2E3FC;\n",
              "    }\n",
              "\n",
              "    [theme=dark] .colab-df-convert:hover {\n",
              "      background-color: #434B5C;\n",
              "      box-shadow: 0px 1px 3px 1px rgba(0, 0, 0, 0.15);\n",
              "      filter: drop-shadow(0px 1px 2px rgba(0, 0, 0, 0.3));\n",
              "      fill: #FFFFFF;\n",
              "    }\n",
              "  </style>\n",
              "\n",
              "      <script>\n",
              "        const buttonEl =\n",
              "          document.querySelector('#df-fcfd3cc8-50f0-4cd6-be99-e0d876bb962f button.colab-df-convert');\n",
              "        buttonEl.style.display =\n",
              "          google.colab.kernel.accessAllowed ? 'block' : 'none';\n",
              "\n",
              "        async function convertToInteractive(key) {\n",
              "          const element = document.querySelector('#df-fcfd3cc8-50f0-4cd6-be99-e0d876bb962f');\n",
              "          const dataTable =\n",
              "            await google.colab.kernel.invokeFunction('convertToInteractive',\n",
              "                                                     [key], {});\n",
              "          if (!dataTable) return;\n",
              "\n",
              "          const docLinkHtml = 'Like what you see? Visit the ' +\n",
              "            '<a target=\"_blank\" href=https://colab.research.google.com/notebooks/data_table.ipynb>data table notebook</a>'\n",
              "            + ' to learn more about interactive tables.';\n",
              "          element.innerHTML = '';\n",
              "          dataTable['output_type'] = 'display_data';\n",
              "          await google.colab.output.renderOutput(dataTable, element);\n",
              "          const docLink = document.createElement('div');\n",
              "          docLink.innerHTML = docLinkHtml;\n",
              "          element.appendChild(docLink);\n",
              "        }\n",
              "      </script>\n",
              "    </div>\n",
              "  </div>\n",
              "  "
            ]
          },
          "metadata": {},
          "execution_count": 109
        }
      ]
    },
    {
      "cell_type": "code",
      "source": [
        "test_prediction = test_predictions.mode() # 열별 최빈값 확인\n",
        "test_prediction = test_prediction.values[0]\n",
        "test_prediction"
      ],
      "metadata": {
        "id": "Cx6TwCo07F1k"
      },
      "execution_count": null,
      "outputs": []
    },
    {
      "cell_type": "code",
      "source": [
        "sample_submission = pd.read_csv('data/sample_submission.csv')\n",
        "sample_submission['quality'] = test_prediction\n",
        "sample_submission"
      ],
      "metadata": {
        "colab": {
          "base_uri": "https://localhost:8080/",
          "height": 424
        },
        "id": "hH3EjjgI_r8_",
        "outputId": "dbf4f59b-2bf6-465b-ac86-adc49d89314a"
      },
      "execution_count": 111,
      "outputs": [
        {
          "output_type": "execute_result",
          "data": {
            "text/plain": [
              "     index  quality\n",
              "0        0      6.0\n",
              "1        1      5.0\n",
              "2        2      6.0\n",
              "3        3      5.0\n",
              "4        4      6.0\n",
              "..     ...      ...\n",
              "995    995      6.0\n",
              "996    996      6.0\n",
              "997    997      5.0\n",
              "998    998      6.0\n",
              "999    999      6.0\n",
              "\n",
              "[1000 rows x 2 columns]"
            ],
            "text/html": [
              "\n",
              "  <div id=\"df-c0a99448-e36b-436c-ad94-cd1f044544cd\">\n",
              "    <div class=\"colab-df-container\">\n",
              "      <div>\n",
              "<style scoped>\n",
              "    .dataframe tbody tr th:only-of-type {\n",
              "        vertical-align: middle;\n",
              "    }\n",
              "\n",
              "    .dataframe tbody tr th {\n",
              "        vertical-align: top;\n",
              "    }\n",
              "\n",
              "    .dataframe thead th {\n",
              "        text-align: right;\n",
              "    }\n",
              "</style>\n",
              "<table border=\"1\" class=\"dataframe\">\n",
              "  <thead>\n",
              "    <tr style=\"text-align: right;\">\n",
              "      <th></th>\n",
              "      <th>index</th>\n",
              "      <th>quality</th>\n",
              "    </tr>\n",
              "  </thead>\n",
              "  <tbody>\n",
              "    <tr>\n",
              "      <th>0</th>\n",
              "      <td>0</td>\n",
              "      <td>6.0</td>\n",
              "    </tr>\n",
              "    <tr>\n",
              "      <th>1</th>\n",
              "      <td>1</td>\n",
              "      <td>5.0</td>\n",
              "    </tr>\n",
              "    <tr>\n",
              "      <th>2</th>\n",
              "      <td>2</td>\n",
              "      <td>6.0</td>\n",
              "    </tr>\n",
              "    <tr>\n",
              "      <th>3</th>\n",
              "      <td>3</td>\n",
              "      <td>5.0</td>\n",
              "    </tr>\n",
              "    <tr>\n",
              "      <th>4</th>\n",
              "      <td>4</td>\n",
              "      <td>6.0</td>\n",
              "    </tr>\n",
              "    <tr>\n",
              "      <th>...</th>\n",
              "      <td>...</td>\n",
              "      <td>...</td>\n",
              "    </tr>\n",
              "    <tr>\n",
              "      <th>995</th>\n",
              "      <td>995</td>\n",
              "      <td>6.0</td>\n",
              "    </tr>\n",
              "    <tr>\n",
              "      <th>996</th>\n",
              "      <td>996</td>\n",
              "      <td>6.0</td>\n",
              "    </tr>\n",
              "    <tr>\n",
              "      <th>997</th>\n",
              "      <td>997</td>\n",
              "      <td>5.0</td>\n",
              "    </tr>\n",
              "    <tr>\n",
              "      <th>998</th>\n",
              "      <td>998</td>\n",
              "      <td>6.0</td>\n",
              "    </tr>\n",
              "    <tr>\n",
              "      <th>999</th>\n",
              "      <td>999</td>\n",
              "      <td>6.0</td>\n",
              "    </tr>\n",
              "  </tbody>\n",
              "</table>\n",
              "<p>1000 rows × 2 columns</p>\n",
              "</div>\n",
              "      <button class=\"colab-df-convert\" onclick=\"convertToInteractive('df-c0a99448-e36b-436c-ad94-cd1f044544cd')\"\n",
              "              title=\"Convert this dataframe to an interactive table.\"\n",
              "              style=\"display:none;\">\n",
              "        \n",
              "  <svg xmlns=\"http://www.w3.org/2000/svg\" height=\"24px\"viewBox=\"0 0 24 24\"\n",
              "       width=\"24px\">\n",
              "    <path d=\"M0 0h24v24H0V0z\" fill=\"none\"/>\n",
              "    <path d=\"M18.56 5.44l.94 2.06.94-2.06 2.06-.94-2.06-.94-.94-2.06-.94 2.06-2.06.94zm-11 1L8.5 8.5l.94-2.06 2.06-.94-2.06-.94L8.5 2.5l-.94 2.06-2.06.94zm10 10l.94 2.06.94-2.06 2.06-.94-2.06-.94-.94-2.06-.94 2.06-2.06.94z\"/><path d=\"M17.41 7.96l-1.37-1.37c-.4-.4-.92-.59-1.43-.59-.52 0-1.04.2-1.43.59L10.3 9.45l-7.72 7.72c-.78.78-.78 2.05 0 2.83L4 21.41c.39.39.9.59 1.41.59.51 0 1.02-.2 1.41-.59l7.78-7.78 2.81-2.81c.8-.78.8-2.07 0-2.86zM5.41 20L4 18.59l7.72-7.72 1.47 1.35L5.41 20z\"/>\n",
              "  </svg>\n",
              "      </button>\n",
              "      \n",
              "  <style>\n",
              "    .colab-df-container {\n",
              "      display:flex;\n",
              "      flex-wrap:wrap;\n",
              "      gap: 12px;\n",
              "    }\n",
              "\n",
              "    .colab-df-convert {\n",
              "      background-color: #E8F0FE;\n",
              "      border: none;\n",
              "      border-radius: 50%;\n",
              "      cursor: pointer;\n",
              "      display: none;\n",
              "      fill: #1967D2;\n",
              "      height: 32px;\n",
              "      padding: 0 0 0 0;\n",
              "      width: 32px;\n",
              "    }\n",
              "\n",
              "    .colab-df-convert:hover {\n",
              "      background-color: #E2EBFA;\n",
              "      box-shadow: 0px 1px 2px rgba(60, 64, 67, 0.3), 0px 1px 3px 1px rgba(60, 64, 67, 0.15);\n",
              "      fill: #174EA6;\n",
              "    }\n",
              "\n",
              "    [theme=dark] .colab-df-convert {\n",
              "      background-color: #3B4455;\n",
              "      fill: #D2E3FC;\n",
              "    }\n",
              "\n",
              "    [theme=dark] .colab-df-convert:hover {\n",
              "      background-color: #434B5C;\n",
              "      box-shadow: 0px 1px 3px 1px rgba(0, 0, 0, 0.15);\n",
              "      filter: drop-shadow(0px 1px 2px rgba(0, 0, 0, 0.3));\n",
              "      fill: #FFFFFF;\n",
              "    }\n",
              "  </style>\n",
              "\n",
              "      <script>\n",
              "        const buttonEl =\n",
              "          document.querySelector('#df-c0a99448-e36b-436c-ad94-cd1f044544cd button.colab-df-convert');\n",
              "        buttonEl.style.display =\n",
              "          google.colab.kernel.accessAllowed ? 'block' : 'none';\n",
              "\n",
              "        async function convertToInteractive(key) {\n",
              "          const element = document.querySelector('#df-c0a99448-e36b-436c-ad94-cd1f044544cd');\n",
              "          const dataTable =\n",
              "            await google.colab.kernel.invokeFunction('convertToInteractive',\n",
              "                                                     [key], {});\n",
              "          if (!dataTable) return;\n",
              "\n",
              "          const docLinkHtml = 'Like what you see? Visit the ' +\n",
              "            '<a target=\"_blank\" href=https://colab.research.google.com/notebooks/data_table.ipynb>data table notebook</a>'\n",
              "            + ' to learn more about interactive tables.';\n",
              "          element.innerHTML = '';\n",
              "          dataTable['output_type'] = 'display_data';\n",
              "          await google.colab.output.renderOutput(dataTable, element);\n",
              "          const docLink = document.createElement('div');\n",
              "          docLink.innerHTML = docLinkHtml;\n",
              "          element.appendChild(docLink);\n",
              "        }\n",
              "      </script>\n",
              "    </div>\n",
              "  </div>\n",
              "  "
            ]
          },
          "metadata": {},
          "execution_count": 111
        }
      ]
    },
    {
      "cell_type": "code",
      "source": [
        "sns.distplot(sample_submission['quality'])"
      ],
      "metadata": {
        "colab": {
          "base_uri": "https://localhost:8080/",
          "height": 297
        },
        "id": "KNurKAOJ_wSp",
        "outputId": "5b7f5468-4c92-4769-d25f-f9618822cabb"
      },
      "execution_count": 113,
      "outputs": [
        {
          "output_type": "execute_result",
          "data": {
            "text/plain": [
              "<matplotlib.axes._subplots.AxesSubplot at 0x7f690ecfec90>"
            ]
          },
          "metadata": {},
          "execution_count": 113
        },
        {
          "output_type": "display_data",
          "data": {
            "text/plain": [
              "<Figure size 432x288 with 1 Axes>"
            ],
            "image/png": "[encoded data removed]"
          },
          "metadata": {
            "needs_background": "light"
          }
        }
      ]
    }
  ]
}
