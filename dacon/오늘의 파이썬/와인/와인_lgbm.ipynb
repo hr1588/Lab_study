{
 "cells": [
  {
   "cell_type": "markdown",
   "metadata": {},
   "source": [
    "## LightGBM??"
   ]
  },
  {
   "cell_type": "markdown",
   "metadata": {},
   "source": [
    "- Gradient Boosting Machine(GBM)은 가중치를 경사하강법(gradint boosting)으로 업데이트\n",
    "- XGBoost는 GBM의 단점을 보완한 알고리즘으로, 성능은 좋지만 속도가 조금 느리다는 단점 보유\n",
    "- 이러한 단점을 보완해주기 위해 탄생한 것이 LGBM\n",
    "\n",
    "- 기존 boosting 모델들은 트리를 level-wise 하게 늘어나는 방법을 사용한 반면, LGBM은 leaf wise(리프 중심) 트리 분할을 사용"
   ]
  },
  {
   "cell_type": "markdown",
   "metadata": {},
   "source": [
    "LGBM의 장점\n",
    "- 대용량 데이터 처리\n",
    "- 효율적인 메모리 사용\n",
    "- 빠른 속도\n",
    "- GPU 지원\n",
    "\n",
    "LGBM의 단점\n",
    "- Light GBM은 Leaf-wise growh로 과적합의 우려가 다른 Tree 알고리즘 대비 높은 편\n",
    "- 데이터의 양이 적을 경우 Overfiitng(과적합)에 취약한 면이 있어 데이터 양의 적을 경우 사용을 자제하는 것이 좋음"
   ]
  },
  {
   "cell_type": "code",
   "execution_count": 6,
   "metadata": {},
   "outputs": [],
   "source": [
    "import pandas as pd\n",
    "from lightgbm import LGBMClassifier\n",
    "\n",
    "train = pd.read_csv('train.csv')\n",
    "test = pd.read_csv('test.csv')"
   ]
  },
  {
   "cell_type": "code",
   "execution_count": 8,
   "metadata": {},
   "outputs": [
    {
     "data": {
      "text/plain": [
       "LGBMClassifier()"
      ]
     },
     "execution_count": 8,
     "metadata": {},
     "output_type": "execute_result"
    }
   ],
   "source": [
    "train.drop('index',axis = 1 ,inplace =True)\n",
    "test.drop('index',axis = 1 ,inplace =True)\n",
    "\n",
    "train_one = pd.get_dummies(train)\n",
    "test_one = pd.get_dummies(test)\n",
    "\n",
    "x = train_one.drop('quality',axis=1)\n",
    "y = train_one['quality']\n",
    "\n",
    "model = LGBMClassifier()\n",
    "model.fit(x,y)"
   ]
  },
  {
   "cell_type": "code",
   "execution_count": 9,
   "metadata": {},
   "outputs": [],
   "source": [
    "pred = model.predict(test_one)\n",
    "\n",
    "submission = pd.read_csv('submission.csv')\n",
    "submission['quality'] = pred\n",
    "submission.to_csv('lgbm_pred.csv', index=False)"
   ]
  }
 ],
 "metadata": {
  "kernelspec": {
   "display_name": "Python 3.9.12 ('base')",
   "language": "python",
   "name": "python3"
  },
  "language_info": {
   "codemirror_mode": {
    "name": "ipython",
    "version": 3
   },
   "file_extension": ".py",
   "mimetype": "text/x-python",
   "name": "python",
   "nbconvert_exporter": "python",
   "pygments_lexer": "ipython3",
   "version": "3.9.12"
  },
  "orig_nbformat": 4,
  "vscode": {
   "interpreter": {
    "hash": "43af7393c8e3bb0730eb35f197fc5ab4355397fc73467075a0f020e747dbc619"
   }
  }
 },
 "nbformat": 4,
 "nbformat_minor": 2
}
