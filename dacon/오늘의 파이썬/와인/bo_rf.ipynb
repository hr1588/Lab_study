{
  "nbformat": 4,
  "nbformat_minor": 0,
  "metadata": {
    "colab": {
      "name": "오늘의 파이썬 - 4.ipynb",
      "provenance": [],
      "collapsed_sections": [],
      "authorship_tag": "ABX9TyOYNtRQ16an07Du9Da6cNWC",
      "include_colab_link": true
    },
    "kernelspec": {
      "name": "python3",
      "display_name": "Python 3"
    },
    "language_info": {
      "name": "python"
    }
  },
  "cells": [
    {
      "cell_type": "markdown",
      "metadata": {
        "id": "view-in-github",
        "colab_type": "text"
      },
      "source": [
        "<a href=\"https://colab.research.google.com/github/hr1588/dacon/blob/main/%EC%98%A4%EB%8A%98%EC%9D%98_%ED%8C%8C%EC%9D%B4%EC%8D%AC%20-%204.ipynb\" target=\"_parent\"><img src=\"https://colab.research.google.com/assets/colab-badge.svg\" alt=\"Open In Colab\"/></a>"
      ]
    },
    {
      "cell_type": "markdown",
      "source": [
        "# Bayesian Optimization 설치 및 로드"
      ],
      "metadata": {
        "id": "-A7xAUP7eEff"
      }
    },
    {
      "cell_type": "code",
      "execution_count": 1,
      "metadata": {
        "colab": {
          "base_uri": "https://localhost:8080/"
        },
        "id": "o2yuCfpjd1ap",
        "outputId": "daeabb65-3d1c-4816-cb1f-bdb94946cb50"
      },
      "outputs": [
        {
          "output_type": "stream",
          "name": "stdout",
          "text": [
            "  Building wheel for bayesian-optimization (setup.py) ... \u001b[?25l\u001b[?25hdone\n"
          ]
        }
      ],
      "source": [
        "pip install bayesian-optimization --q"
      ]
    },
    {
      "cell_type": "code",
      "source": [
        "from bayes_opt import BayesianOptimization"
      ],
      "metadata": {
        "id": "co1TVTzXd7fc"
      },
      "execution_count": 8,
      "outputs": []
    },
    {
      "cell_type": "markdown",
      "source": [
        "- Bayesian Optimization은 하이퍼 파라미터 튜닝과 관련\n",
        "- 흔히 알려진 하이퍼 파라미터 튜닝은 Grid Search, Random Search\n",
        "- 위의 두 가지는 최적의 값을 찾아갈 수 없다는 문제점 발생\n",
        "- Bayesian Optimization으로 문제를 해결할 수 있음"
      ],
      "metadata": {
        "id": "yNP--08zeIUJ"
      }
    },
    {
      "cell_type": "markdown",
      "source": [
        "# 하이퍼 파라미터의 3가지 튜닝 방법 비교"
      ],
      "metadata": {
        "id": "MLtdMr8rerzZ"
      }
    },
    {
      "cell_type": "markdown",
      "source": [
        "## 1. Grid Search"
      ],
      "metadata": {
        "id": "sJtjSC3meubn"
      }
    },
    {
      "cell_type": "markdown",
      "source": [
        "- 방법 : Grid Search는 사전에 탐색할 값들을 미리 지정해주고, 그 값들의 모든 조합을 바탕으로 성능의 최고점 탐색\n",
        "- 장점 : 원하는 범위를 정확하게 비교 분석\n",
        "- 단점 : 시간이 오래걸림, 성능의 최고점이 아닐 가능성이 높음\n",
        "\n",
        "- 최적화 검색(여러 개를 비교 분석해서 최고를 찾아내는 기법)이지, 최적화 탐색(성능이 가장 높은 점으로 점차 찾아가는 기법)이 아님"
      ],
      "metadata": {
        "id": "xZARMZ72e0nF"
      }
    },
    {
      "cell_type": "markdown",
      "source": [
        "## 2. Random Search"
      ],
      "metadata": {
        "id": "wwinDNm1fSJD"
      }
    },
    {
      "cell_type": "markdown",
      "source": [
        "- 방법 : 사전에 탐색할 값들의 범위를 지정해주고, 그 범위 속에서 가능한 조합을 바탕으로 최고점 탐색\n",
        "- 장점 : Grid Search에 비해 시간이 짧게 걸리고, Grid Search보다 랜덤하게 점을 찍어 성능이 더 좋은 점으로 갈 가능성이 높음\n",
        "- 단점 : 반대로 성능이 Grid Search보다 낮을 수 있고, 하이퍼 파라미터의 범위가 너무 넓으면 일반화된 결과가 나오지 않음\n",
        "- seed를 고정하지 않으면 할 때마다 결과가 달라지고, Grid Search와 마찬가지로 최적화 검색의 개념\n"
      ],
      "metadata": {
        "id": "w8i0NWoufUeE"
      }
    },
    {
      "cell_type": "markdown",
      "source": [
        "## 3. Bayeisan Optimization"
      ],
      "metadata": {
        "id": "QruqaJVMf2VE"
      }
    },
    {
      "cell_type": "markdown",
      "source": [
        "- 방법 : 하이퍼파라미터의 범위를 지정한 후, Random하게 R 번 탐색한 후, B번 만큼 최적의 값을 찾아간다.\n",
        "- 장점 : 정말 최적의 값을 찾아갈 수 있고, 상대적으로 시간이 덜 걸리며 결과값을 신뢰할 수 있음\n",
        "- 단점 : 랜덤하게 찍은 값이 달라질 경우 최적화 하는데 오랜 시간 소요, 랜덤하게 찍은 값이 부족하면 최적의 값을 탐색하는게 불가능, 랜덤하게 찍은 값이 너무 많으면 최적화 이전에 이미 최적값을 가지고 있을 수 있음\n",
        "- Bayesian Optimization은 수동적으로 하이퍼 파라미터를 튜닝하는데 좋은 결과를 가져온다."
      ],
      "metadata": {
        "id": "vXKyieYFf3rR"
      }
    },
    {
      "cell_type": "markdown",
      "source": [
        "# Bayeisan Optimization 활용"
      ],
      "metadata": {
        "id": "SB84f14VgZRW"
      }
    },
    {
      "cell_type": "code",
      "source": [
        "# 데이터 다운로드 링크로 데이터를 코랩에 불러옵니다.\n",
        "\n",
        "!wget 'https://bit.ly/3i4n1QB'\n",
        "\n",
        "import zipfile\n",
        "with zipfile.ZipFile('3i4n1QB', 'r') as existing_zip:\n",
        "    existing_zip.extractall('data')"
      ],
      "metadata": {
        "id": "F_3mEvAgeBF8"
      },
      "execution_count": null,
      "outputs": []
    },
    {
      "cell_type": "code",
      "source": [
        "# 라이브러리 불러오기\n",
        "\n",
        "import pandas as pd\n",
        "from sklearn.preprocessing import MinMaxScaler, OneHotEncoder\n",
        "from sklearn.ensemble import RandomForestClassifier\n",
        "\n",
        "from sklearn.model_selection import KFold, train_test_split\n",
        "from sklearn.metrics import accuracy_score\n",
        "import numpy as np"
      ],
      "metadata": {
        "id": "nNpbk3YMemwZ"
      },
      "execution_count": 2,
      "outputs": []
    },
    {
      "cell_type": "code",
      "source": [
        "# 어제 진행한 코드 깔끔하게 요약\n",
        "\n",
        "train = pd.read_csv('data/train.csv')\n",
        "test = pd.read_csv('data/test.csv')\n",
        "\n",
        "# Scailing\n",
        "scaler = MinMaxScaler()\n",
        "scaler.fit(train[['fixed acidity']])\n",
        "train['Scaled fixed acidity'] = scaler.transform(train[['fixed acidity']])\n",
        "test['Scaled fixed acidity'] = scaler.transform(test[['fixed acidity']])\n",
        "\n",
        "# Encoding\n",
        "encoder = OneHotEncoder()\n",
        "encoder.fit(train[['type']])\n",
        "onehot = encoder.transform(train[['type']])\n",
        "onehot = onehot.toarray()\n",
        "onehot = pd.DataFrame(onehot)\n",
        "onehot.columns = encoder.get_feature_names()\n",
        "train = pd.concat([train, onehot], axis = 1)\n",
        "train = train.drop(columns = ['type'])\n",
        "\n",
        "onehot = encoder.transform(test[['type']])\n",
        "onehot = onehot.toarray()\n",
        "onehot = pd.DataFrame(onehot)\n",
        "onehot.columns = encoder.get_feature_names()\n",
        "test = pd.concat([test, onehot], axis = 1)\n",
        "test = test.drop(columns = ['type','index'])\n",
        "\n",
        "test.head()"
      ],
      "metadata": {
        "colab": {
          "base_uri": "https://localhost:8080/",
          "height": 280
        },
        "id": "SE9HwOqPeBIu",
        "outputId": "d26d03a0-c626-43a9-840b-d93b57e099aa"
      },
      "execution_count": 22,
      "outputs": [
        {
          "output_type": "stream",
          "name": "stderr",
          "text": [
            "/usr/local/lib/python3.7/dist-packages/sklearn/utils/deprecation.py:87: FutureWarning: Function get_feature_names is deprecated; get_feature_names is deprecated in 1.0 and will be removed in 1.2. Please use get_feature_names_out instead.\n",
            "  warnings.warn(msg, category=FutureWarning)\n",
            "/usr/local/lib/python3.7/dist-packages/sklearn/utils/deprecation.py:87: FutureWarning: Function get_feature_names is deprecated; get_feature_names is deprecated in 1.0 and will be removed in 1.2. Please use get_feature_names_out instead.\n",
            "  warnings.warn(msg, category=FutureWarning)\n"
          ]
        },
        {
          "output_type": "execute_result",
          "data": {
            "text/plain": [
              "   fixed acidity  volatile acidity  citric acid  residual sugar  chlorides  \\\n",
              "0            9.0              0.31         0.48             6.6      0.043   \n",
              "1           13.3              0.43         0.58             1.9      0.070   \n",
              "2            6.5              0.28         0.27             5.2      0.040   \n",
              "3            7.2              0.15         0.39             1.8      0.043   \n",
              "4            6.8              0.26         0.26             2.0      0.019   \n",
              "\n",
              "   free sulfur dioxide  total sulfur dioxide  density    pH  sulphates  \\\n",
              "0                 11.0                  73.0  0.99380  2.90       0.38   \n",
              "1                 15.0                  40.0  1.00040  3.06       0.49   \n",
              "2                 44.0                 179.0  0.99480  3.19       0.69   \n",
              "3                 21.0                 159.0  0.99480  3.52       0.47   \n",
              "4                 23.5                  72.0  0.99041  3.16       0.47   \n",
              "\n",
              "   alcohol  Scaled fixed acidity  x0_red  x0_white  \n",
              "0     11.6              0.429752     0.0       1.0  \n",
              "1      9.0              0.785124     1.0       0.0  \n",
              "2      9.4              0.223140     0.0       1.0  \n",
              "3     10.0              0.280992     0.0       1.0  \n",
              "4     11.8              0.247934     0.0       1.0  "
            ],
            "text/html": [
              "\n",
              "  <div id=\"df-f7284bb2-a461-44f3-b612-1624b1c0dcc7\">\n",
              "    <div class=\"colab-df-container\">\n",
              "      <div>\n",
              "<style scoped>\n",
              "    .dataframe tbody tr th:only-of-type {\n",
              "        vertical-align: middle;\n",
              "    }\n",
              "\n",
              "    .dataframe tbody tr th {\n",
              "        vertical-align: top;\n",
              "    }\n",
              "\n",
              "    .dataframe thead th {\n",
              "        text-align: right;\n",
              "    }\n",
              "</style>\n",
              "<table border=\"1\" class=\"dataframe\">\n",
              "  <thead>\n",
              "    <tr style=\"text-align: right;\">\n",
              "      <th></th>\n",
              "      <th>fixed acidity</th>\n",
              "      <th>volatile acidity</th>\n",
              "      <th>citric acid</th>\n",
              "      <th>residual sugar</th>\n",
              "      <th>chlorides</th>\n",
              "      <th>free sulfur dioxide</th>\n",
              "      <th>total sulfur dioxide</th>\n",
              "      <th>density</th>\n",
              "      <th>pH</th>\n",
              "      <th>sulphates</th>\n",
              "      <th>alcohol</th>\n",
              "      <th>Scaled fixed acidity</th>\n",
              "      <th>x0_red</th>\n",
              "      <th>x0_white</th>\n",
              "    </tr>\n",
              "  </thead>\n",
              "  <tbody>\n",
              "    <tr>\n",
              "      <th>0</th>\n",
              "      <td>9.0</td>\n",
              "      <td>0.31</td>\n",
              "      <td>0.48</td>\n",
              "      <td>6.6</td>\n",
              "      <td>0.043</td>\n",
              "      <td>11.0</td>\n",
              "      <td>73.0</td>\n",
              "      <td>0.99380</td>\n",
              "      <td>2.90</td>\n",
              "      <td>0.38</td>\n",
              "      <td>11.6</td>\n",
              "      <td>0.429752</td>\n",
              "      <td>0.0</td>\n",
              "      <td>1.0</td>\n",
              "    </tr>\n",
              "    <tr>\n",
              "      <th>1</th>\n",
              "      <td>13.3</td>\n",
              "      <td>0.43</td>\n",
              "      <td>0.58</td>\n",
              "      <td>1.9</td>\n",
              "      <td>0.070</td>\n",
              "      <td>15.0</td>\n",
              "      <td>40.0</td>\n",
              "      <td>1.00040</td>\n",
              "      <td>3.06</td>\n",
              "      <td>0.49</td>\n",
              "      <td>9.0</td>\n",
              "      <td>0.785124</td>\n",
              "      <td>1.0</td>\n",
              "      <td>0.0</td>\n",
              "    </tr>\n",
              "    <tr>\n",
              "      <th>2</th>\n",
              "      <td>6.5</td>\n",
              "      <td>0.28</td>\n",
              "      <td>0.27</td>\n",
              "      <td>5.2</td>\n",
              "      <td>0.040</td>\n",
              "      <td>44.0</td>\n",
              "      <td>179.0</td>\n",
              "      <td>0.99480</td>\n",
              "      <td>3.19</td>\n",
              "      <td>0.69</td>\n",
              "      <td>9.4</td>\n",
              "      <td>0.223140</td>\n",
              "      <td>0.0</td>\n",
              "      <td>1.0</td>\n",
              "    </tr>\n",
              "    <tr>\n",
              "      <th>3</th>\n",
              "      <td>7.2</td>\n",
              "      <td>0.15</td>\n",
              "      <td>0.39</td>\n",
              "      <td>1.8</td>\n",
              "      <td>0.043</td>\n",
              "      <td>21.0</td>\n",
              "      <td>159.0</td>\n",
              "      <td>0.99480</td>\n",
              "      <td>3.52</td>\n",
              "      <td>0.47</td>\n",
              "      <td>10.0</td>\n",
              "      <td>0.280992</td>\n",
              "      <td>0.0</td>\n",
              "      <td>1.0</td>\n",
              "    </tr>\n",
              "    <tr>\n",
              "      <th>4</th>\n",
              "      <td>6.8</td>\n",
              "      <td>0.26</td>\n",
              "      <td>0.26</td>\n",
              "      <td>2.0</td>\n",
              "      <td>0.019</td>\n",
              "      <td>23.5</td>\n",
              "      <td>72.0</td>\n",
              "      <td>0.99041</td>\n",
              "      <td>3.16</td>\n",
              "      <td>0.47</td>\n",
              "      <td>11.8</td>\n",
              "      <td>0.247934</td>\n",
              "      <td>0.0</td>\n",
              "      <td>1.0</td>\n",
              "    </tr>\n",
              "  </tbody>\n",
              "</table>\n",
              "</div>\n",
              "      <button class=\"colab-df-convert\" onclick=\"convertToInteractive('df-f7284bb2-a461-44f3-b612-1624b1c0dcc7')\"\n",
              "              title=\"Convert this dataframe to an interactive table.\"\n",
              "              style=\"display:none;\">\n",
              "        \n",
              "  <svg xmlns=\"http://www.w3.org/2000/svg\" height=\"24px\"viewBox=\"0 0 24 24\"\n",
              "       width=\"24px\">\n",
              "    <path d=\"M0 0h24v24H0V0z\" fill=\"none\"/>\n",
              "    <path d=\"M18.56 5.44l.94 2.06.94-2.06 2.06-.94-2.06-.94-.94-2.06-.94 2.06-2.06.94zm-11 1L8.5 8.5l.94-2.06 2.06-.94-2.06-.94L8.5 2.5l-.94 2.06-2.06.94zm10 10l.94 2.06.94-2.06 2.06-.94-2.06-.94-.94-2.06-.94 2.06-2.06.94z\"/><path d=\"M17.41 7.96l-1.37-1.37c-.4-.4-.92-.59-1.43-.59-.52 0-1.04.2-1.43.59L10.3 9.45l-7.72 7.72c-.78.78-.78 2.05 0 2.83L4 21.41c.39.39.9.59 1.41.59.51 0 1.02-.2 1.41-.59l7.78-7.78 2.81-2.81c.8-.78.8-2.07 0-2.86zM5.41 20L4 18.59l7.72-7.72 1.47 1.35L5.41 20z\"/>\n",
              "  </svg>\n",
              "      </button>\n",
              "      \n",
              "  <style>\n",
              "    .colab-df-container {\n",
              "      display:flex;\n",
              "      flex-wrap:wrap;\n",
              "      gap: 12px;\n",
              "    }\n",
              "\n",
              "    .colab-df-convert {\n",
              "      background-color: #E8F0FE;\n",
              "      border: none;\n",
              "      border-radius: 50%;\n",
              "      cursor: pointer;\n",
              "      display: none;\n",
              "      fill: #1967D2;\n",
              "      height: 32px;\n",
              "      padding: 0 0 0 0;\n",
              "      width: 32px;\n",
              "    }\n",
              "\n",
              "    .colab-df-convert:hover {\n",
              "      background-color: #E2EBFA;\n",
              "      box-shadow: 0px 1px 2px rgba(60, 64, 67, 0.3), 0px 1px 3px 1px rgba(60, 64, 67, 0.15);\n",
              "      fill: #174EA6;\n",
              "    }\n",
              "\n",
              "    [theme=dark] .colab-df-convert {\n",
              "      background-color: #3B4455;\n",
              "      fill: #D2E3FC;\n",
              "    }\n",
              "\n",
              "    [theme=dark] .colab-df-convert:hover {\n",
              "      background-color: #434B5C;\n",
              "      box-shadow: 0px 1px 3px 1px rgba(0, 0, 0, 0.15);\n",
              "      filter: drop-shadow(0px 1px 2px rgba(0, 0, 0, 0.3));\n",
              "      fill: #FFFFFF;\n",
              "    }\n",
              "  </style>\n",
              "\n",
              "      <script>\n",
              "        const buttonEl =\n",
              "          document.querySelector('#df-f7284bb2-a461-44f3-b612-1624b1c0dcc7 button.colab-df-convert');\n",
              "        buttonEl.style.display =\n",
              "          google.colab.kernel.accessAllowed ? 'block' : 'none';\n",
              "\n",
              "        async function convertToInteractive(key) {\n",
              "          const element = document.querySelector('#df-f7284bb2-a461-44f3-b612-1624b1c0dcc7');\n",
              "          const dataTable =\n",
              "            await google.colab.kernel.invokeFunction('convertToInteractive',\n",
              "                                                     [key], {});\n",
              "          if (!dataTable) return;\n",
              "\n",
              "          const docLinkHtml = 'Like what you see? Visit the ' +\n",
              "            '<a target=\"_blank\" href=https://colab.research.google.com/notebooks/data_table.ipynb>data table notebook</a>'\n",
              "            + ' to learn more about interactive tables.';\n",
              "          element.innerHTML = '';\n",
              "          dataTable['output_type'] = 'display_data';\n",
              "          await google.colab.output.renderOutput(dataTable, element);\n",
              "          const docLink = document.createElement('div');\n",
              "          docLink.innerHTML = docLinkHtml;\n",
              "          element.appendChild(docLink);\n",
              "        }\n",
              "      </script>\n",
              "    </div>\n",
              "  </div>\n",
              "  "
            ]
          },
          "metadata": {},
          "execution_count": 22
        }
      ]
    },
    {
      "cell_type": "code",
      "source": [
        "x = train.drop(columns = ['index','quality']) # 학습할 데이터\n",
        "y = train['quality'] # 목표 변수"
      ],
      "metadata": {
        "id": "u_PzxBzNeBLQ"
      },
      "execution_count": 4,
      "outputs": []
    },
    {
      "cell_type": "code",
      "source": [
        "# 랜덤 포레스트의 하이퍼 파라미터 범위를 딕셔너리 형태로 저장\n",
        "# key는 파라미터 이름, value는 탐색할 범위\n",
        "\n",
        "rf_parameter_bounds = {\n",
        "                      'max_depth' : (1,10), # 나무의 깊이\n",
        "                      'n_estimators' : (20,100),\n",
        "                      }"
      ],
      "metadata": {
        "id": "DFDM-rWJeBNe"
      },
      "execution_count": 5,
      "outputs": []
    },
    {
      "cell_type": "markdown",
      "source": [
        "**n_estimators**\t\n",
        "- 결정트리의 갯수를 지정\n",
        "- Default = 10\n",
        "- 무작정 트리 갯수를 늘리면 성능 좋아지는 것 대비 시간이 걸릴 수 있음\n",
        "\n",
        "**min_samples_split**\t\n",
        "- 노드를 분할하기 위한 최소한의 샘플 데이터수\n",
        "→ 과적합을 제어하는데 사용\n",
        "- Default = 2 → 작게 설정할 수록 분할 노드가 많아져 과적합 가능성 증가\n",
        "\n",
        "**min_samples_leaf**\n",
        "- 리프노드가 되기 위해 필요한 최소한의 샘플 데이터수\n",
        "- min_samples_split과 함께 과적합 제어 용도\n",
        "- 불균형 데이터의 경우 특정 클래스의 데이터가 극도로 작을 수 있으므로 작게 설정 필요\n",
        "\n",
        "**max_features**\t\n",
        "- 최적의 분할을 위해 고려할 최대 feature 개수\n",
        "- Default = 'auto' (결정트리에서는 default가 none이었음)\n",
        "- int형으로 지정 →피처 갯수 / float형으로 지정 →비중\n",
        "- sqrt 또는 auto : 전체 피처 중 √(피처개수) 만큼 선정\n",
        "- log : 전체 피처 중 log2(전체 피처 개수) 만큼 선정\n",
        "\n",
        "**max_depth**\n",
        "- 트리의 최대 깊이\n",
        "- default = None\n",
        "→ 완벽하게 클래스 값이 결정될 때 까지 분할\n",
        "또는 데이터 개수가 min_samples_split보다 작아질 때까지 분할\n",
        "- 깊이가 깊어지면 과적합될 수 있으므로 적절히 제어 필요\n",
        "\n",
        "**max_leaf_nodes**\n",
        "- 리프노드의 최대 개수"
      ],
      "metadata": {
        "id": "YAzklJFGhVZP"
      }
    },
    {
      "cell_type": "markdown",
      "source": [
        "## 함수 생성"
      ],
      "metadata": {
        "id": "Buh4ZJQSiptH"
      }
    },
    {
      "cell_type": "code",
      "source": [
        "def rf_bo(max_depth, n_estimators):\n",
        "  rf_params = {\n",
        "              'max_depth' : int(round(max_depth)),\n",
        "               'n_estimators' : int(round(n_estimators)),      \n",
        "              }\n",
        "  rf = RandomForestClassifier(**rf_params)\n",
        "\n",
        "  x_train, x_valid, y_train, y_valid = train_test_split(x,y,test_size = 0.2, )\n",
        "\n",
        "  rf.fit(x_train,y_train)\n",
        "  score = accuracy_score(y_valid, rf.predict(x_valid))\n",
        "  return score"
      ],
      "metadata": {
        "id": "1kn64m2Vg-72"
      },
      "execution_count": 12,
      "outputs": []
    },
    {
      "cell_type": "code",
      "source": [
        "BO_rf = BayesianOptimization(f = rf_bo, pbounds = rf_parameter_bounds,random_state = 1004)"
      ],
      "metadata": {
        "id": "MKcF81YLhCId"
      },
      "execution_count": 9,
      "outputs": []
    },
    {
      "cell_type": "code",
      "source": [
        "BO_rf.maximize(init_points = 5, n_iter = 5)"
      ],
      "metadata": {
        "colab": {
          "base_uri": "https://localhost:8080/"
        },
        "id": "H1Z-vdrpg-98",
        "outputId": "de970c0a-dc88-44cd-a449-6ebb2ff866d5"
      },
      "execution_count": 13,
      "outputs": [
        {
          "output_type": "stream",
          "name": "stdout",
          "text": [
            "|   iter    |  target   | max_depth | n_esti... |\n",
            "-------------------------------------------------\n",
            "| \u001b[0m 1       \u001b[0m | \u001b[0m 0.4564  \u001b[0m | \u001b[0m 1.351   \u001b[0m | \u001b[0m 88.52   \u001b[0m |\n",
            "| \u001b[95m 2       \u001b[0m | \u001b[95m 0.5736  \u001b[0m | \u001b[95m 7.719   \u001b[0m | \u001b[95m 89.11   \u001b[0m |\n",
            "| \u001b[0m 3       \u001b[0m | \u001b[0m 0.5636  \u001b[0m | \u001b[0m 6.04    \u001b[0m | \u001b[0m 26.44   \u001b[0m |\n",
            "| \u001b[0m 4       \u001b[0m | \u001b[0m 0.5409  \u001b[0m | \u001b[0m 3.085   \u001b[0m | \u001b[0m 39.38   \u001b[0m |\n",
            "| \u001b[95m 5       \u001b[0m | \u001b[95m 0.58    \u001b[0m | \u001b[95m 6.54    \u001b[0m | \u001b[95m 68.57   \u001b[0m |\n",
            "| \u001b[0m 6       \u001b[0m | \u001b[0m 0.5436  \u001b[0m | \u001b[0m 3.077   \u001b[0m | \u001b[0m 91.86   \u001b[0m |\n",
            "| \u001b[0m 7       \u001b[0m | \u001b[0m 0.52    \u001b[0m | \u001b[0m 1.684   \u001b[0m | \u001b[0m 77.75   \u001b[0m |\n",
            "| \u001b[0m 8       \u001b[0m | \u001b[0m 0.5227  \u001b[0m | \u001b[0m 3.093   \u001b[0m | \u001b[0m 39.37   \u001b[0m |\n",
            "| \u001b[0m 9       \u001b[0m | \u001b[0m 0.5355  \u001b[0m | \u001b[0m 3.07    \u001b[0m | \u001b[0m 88.64   \u001b[0m |\n",
            "| \u001b[95m 10      \u001b[0m | \u001b[95m 0.5927  \u001b[0m | \u001b[95m 7.735   \u001b[0m | \u001b[95m 89.06   \u001b[0m |\n",
            "=================================================\n"
          ]
        }
      ]
    },
    {
      "cell_type": "code",
      "source": [
        "max_params = BO_rf.max['params']\n",
        "\n",
        "max_params['max_depth'] = int(max_params['max_depth'])\n",
        "max_params['n_estimators'] = int(max_params['n_estimators'])\n",
        "print(max_params)"
      ],
      "metadata": {
        "colab": {
          "base_uri": "https://localhost:8080/"
        },
        "id": "galG3XB1g_AB",
        "outputId": "e5d43e90-4ced-49b2-e7e0-550fab28eb92"
      },
      "execution_count": 14,
      "outputs": [
        {
          "output_type": "stream",
          "name": "stdout",
          "text": [
            "{'max_depth': 7, 'n_estimators': 89}\n"
          ]
        }
      ]
    }
  ]
}
