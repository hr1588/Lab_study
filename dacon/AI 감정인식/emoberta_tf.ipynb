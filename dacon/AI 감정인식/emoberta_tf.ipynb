{
  "nbformat": 4,
  "nbformat_minor": 0,
  "metadata": {
    "colab": {
      "provenance": [],
      "collapsed_sections": [
        "acy3QB-087GI"
      ]
    },
    "kernelspec": {
      "name": "python3",
      "display_name": "Python 3"
    },
    "language_info": {
      "name": "python"
    },
    "accelerator": "GPU",
    "gpuClass": "standard"
  },
  "cells": [
    {
      "cell_type": "code",
      "source": [
        "!pip install git+https://github.com/huggingface/transformers -q"
      ],
      "metadata": {
        "colab": {
          "base_uri": "https://localhost:8080/"
        },
        "id": "Wx3mxKwg00et",
        "outputId": "70507f0f-4015-4373-e40a-39bea9bc70f7"
      },
      "execution_count": 23,
      "outputs": [
        {
          "output_type": "stream",
          "name": "stdout",
          "text": [
            "  Installing build dependencies ... \u001b[?25l\u001b[?25hdone\n",
            "  Getting requirements to build wheel ... \u001b[?25l\u001b[?25hdone\n",
            "    Preparing wheel metadata ... \u001b[?25l\u001b[?25hdone\n",
            "  Building wheel for transformers (PEP 517) ... \u001b[?25l\u001b[?25hdone\n"
          ]
        }
      ]
    },
    {
      "cell_type": "code",
      "source": [
        "%cd drive/MyDrive/data"
      ],
      "metadata": {
        "colab": {
          "base_uri": "https://localhost:8080/"
        },
        "id": "PI2COFi8zpj0",
        "outputId": "0b3f41b7-4384-4fb2-a2e4-70f56ab24fbf"
      },
      "execution_count": 1,
      "outputs": [
        {
          "output_type": "stream",
          "name": "stdout",
          "text": [
            "/content/drive/MyDrive/data\n"
          ]
        }
      ]
    },
    {
      "cell_type": "code",
      "execution_count": 2,
      "metadata": {
        "colab": {
          "base_uri": "https://localhost:8080/",
          "height": 206
        },
        "id": "oZpCBjFQzaV0",
        "outputId": "b56fda6b-9f0d-42e3-eb9e-9ec2f9534f5f"
      },
      "outputs": [
        {
          "output_type": "execute_result",
          "data": {
            "text/plain": [
              "           ID                                          Utterance  \\\n",
              "0  TRAIN_0000  also I was the point person on my company’s tr...   \n",
              "1  TRAIN_0001                   You must’ve had your hands full.   \n",
              "2  TRAIN_0002                            That I did. That I did.   \n",
              "3  TRAIN_0003      So let’s talk a little bit about your duties.   \n",
              "4  TRAIN_0004                             My duties?  All right.   \n",
              "\n",
              "           Speaker  Dialogue_ID    Target  \n",
              "0         Chandler            0   neutral  \n",
              "1  The Interviewer            0   neutral  \n",
              "2         Chandler            0   neutral  \n",
              "3  The Interviewer            0   neutral  \n",
              "4         Chandler            0  surprise  "
            ],
            "text/html": [
              "\n",
              "  <div id=\"df-83636b83-457a-450a-ac36-7abc3dce043e\">\n",
              "    <div class=\"colab-df-container\">\n",
              "      <div>\n",
              "<style scoped>\n",
              "    .dataframe tbody tr th:only-of-type {\n",
              "        vertical-align: middle;\n",
              "    }\n",
              "\n",
              "    .dataframe tbody tr th {\n",
              "        vertical-align: top;\n",
              "    }\n",
              "\n",
              "    .dataframe thead th {\n",
              "        text-align: right;\n",
              "    }\n",
              "</style>\n",
              "<table border=\"1\" class=\"dataframe\">\n",
              "  <thead>\n",
              "    <tr style=\"text-align: right;\">\n",
              "      <th></th>\n",
              "      <th>ID</th>\n",
              "      <th>Utterance</th>\n",
              "      <th>Speaker</th>\n",
              "      <th>Dialogue_ID</th>\n",
              "      <th>Target</th>\n",
              "    </tr>\n",
              "  </thead>\n",
              "  <tbody>\n",
              "    <tr>\n",
              "      <th>0</th>\n",
              "      <td>TRAIN_0000</td>\n",
              "      <td>also I was the point person on my company’s tr...</td>\n",
              "      <td>Chandler</td>\n",
              "      <td>0</td>\n",
              "      <td>neutral</td>\n",
              "    </tr>\n",
              "    <tr>\n",
              "      <th>1</th>\n",
              "      <td>TRAIN_0001</td>\n",
              "      <td>You must’ve had your hands full.</td>\n",
              "      <td>The Interviewer</td>\n",
              "      <td>0</td>\n",
              "      <td>neutral</td>\n",
              "    </tr>\n",
              "    <tr>\n",
              "      <th>2</th>\n",
              "      <td>TRAIN_0002</td>\n",
              "      <td>That I did. That I did.</td>\n",
              "      <td>Chandler</td>\n",
              "      <td>0</td>\n",
              "      <td>neutral</td>\n",
              "    </tr>\n",
              "    <tr>\n",
              "      <th>3</th>\n",
              "      <td>TRAIN_0003</td>\n",
              "      <td>So let’s talk a little bit about your duties.</td>\n",
              "      <td>The Interviewer</td>\n",
              "      <td>0</td>\n",
              "      <td>neutral</td>\n",
              "    </tr>\n",
              "    <tr>\n",
              "      <th>4</th>\n",
              "      <td>TRAIN_0004</td>\n",
              "      <td>My duties?  All right.</td>\n",
              "      <td>Chandler</td>\n",
              "      <td>0</td>\n",
              "      <td>surprise</td>\n",
              "    </tr>\n",
              "  </tbody>\n",
              "</table>\n",
              "</div>\n",
              "      <button class=\"colab-df-convert\" onclick=\"convertToInteractive('df-83636b83-457a-450a-ac36-7abc3dce043e')\"\n",
              "              title=\"Convert this dataframe to an interactive table.\"\n",
              "              style=\"display:none;\">\n",
              "        \n",
              "  <svg xmlns=\"http://www.w3.org/2000/svg\" height=\"24px\"viewBox=\"0 0 24 24\"\n",
              "       width=\"24px\">\n",
              "    <path d=\"M0 0h24v24H0V0z\" fill=\"none\"/>\n",
              "    <path d=\"M18.56 5.44l.94 2.06.94-2.06 2.06-.94-2.06-.94-.94-2.06-.94 2.06-2.06.94zm-11 1L8.5 8.5l.94-2.06 2.06-.94-2.06-.94L8.5 2.5l-.94 2.06-2.06.94zm10 10l.94 2.06.94-2.06 2.06-.94-2.06-.94-.94-2.06-.94 2.06-2.06.94z\"/><path d=\"M17.41 7.96l-1.37-1.37c-.4-.4-.92-.59-1.43-.59-.52 0-1.04.2-1.43.59L10.3 9.45l-7.72 7.72c-.78.78-.78 2.05 0 2.83L4 21.41c.39.39.9.59 1.41.59.51 0 1.02-.2 1.41-.59l7.78-7.78 2.81-2.81c.8-.78.8-2.07 0-2.86zM5.41 20L4 18.59l7.72-7.72 1.47 1.35L5.41 20z\"/>\n",
              "  </svg>\n",
              "      </button>\n",
              "      \n",
              "  <style>\n",
              "    .colab-df-container {\n",
              "      display:flex;\n",
              "      flex-wrap:wrap;\n",
              "      gap: 12px;\n",
              "    }\n",
              "\n",
              "    .colab-df-convert {\n",
              "      background-color: #E8F0FE;\n",
              "      border: none;\n",
              "      border-radius: 50%;\n",
              "      cursor: pointer;\n",
              "      display: none;\n",
              "      fill: #1967D2;\n",
              "      height: 32px;\n",
              "      padding: 0 0 0 0;\n",
              "      width: 32px;\n",
              "    }\n",
              "\n",
              "    .colab-df-convert:hover {\n",
              "      background-color: #E2EBFA;\n",
              "      box-shadow: 0px 1px 2px rgba(60, 64, 67, 0.3), 0px 1px 3px 1px rgba(60, 64, 67, 0.15);\n",
              "      fill: #174EA6;\n",
              "    }\n",
              "\n",
              "    [theme=dark] .colab-df-convert {\n",
              "      background-color: #3B4455;\n",
              "      fill: #D2E3FC;\n",
              "    }\n",
              "\n",
              "    [theme=dark] .colab-df-convert:hover {\n",
              "      background-color: #434B5C;\n",
              "      box-shadow: 0px 1px 3px 1px rgba(0, 0, 0, 0.15);\n",
              "      filter: drop-shadow(0px 1px 2px rgba(0, 0, 0, 0.3));\n",
              "      fill: #FFFFFF;\n",
              "    }\n",
              "  </style>\n",
              "\n",
              "      <script>\n",
              "        const buttonEl =\n",
              "          document.querySelector('#df-83636b83-457a-450a-ac36-7abc3dce043e button.colab-df-convert');\n",
              "        buttonEl.style.display =\n",
              "          google.colab.kernel.accessAllowed ? 'block' : 'none';\n",
              "\n",
              "        async function convertToInteractive(key) {\n",
              "          const element = document.querySelector('#df-83636b83-457a-450a-ac36-7abc3dce043e');\n",
              "          const dataTable =\n",
              "            await google.colab.kernel.invokeFunction('convertToInteractive',\n",
              "                                                     [key], {});\n",
              "          if (!dataTable) return;\n",
              "\n",
              "          const docLinkHtml = 'Like what you see? Visit the ' +\n",
              "            '<a target=\"_blank\" href=https://colab.research.google.com/notebooks/data_table.ipynb>data table notebook</a>'\n",
              "            + ' to learn more about interactive tables.';\n",
              "          element.innerHTML = '';\n",
              "          dataTable['output_type'] = 'display_data';\n",
              "          await google.colab.output.renderOutput(dataTable, element);\n",
              "          const docLink = document.createElement('div');\n",
              "          docLink.innerHTML = docLinkHtml;\n",
              "          element.appendChild(docLink);\n",
              "        }\n",
              "      </script>\n",
              "    </div>\n",
              "  </div>\n",
              "  "
            ]
          },
          "metadata": {},
          "execution_count": 2
        }
      ],
      "source": [
        "import pandas as pd\n",
        "\n",
        "train_df = pd.read_csv(\"train.csv\")\n",
        "train_df.head()"
      ]
    },
    {
      "cell_type": "code",
      "source": [
        "train_df.groupby(by=['Target']).count()"
      ],
      "metadata": {
        "colab": {
          "base_uri": "https://localhost:8080/",
          "height": 300
        },
        "id": "0_cgQZQkz23R",
        "outputId": "ea591796-eebf-4152-d285-dd6c348e9efb"
      },
      "execution_count": 3,
      "outputs": [
        {
          "output_type": "execute_result",
          "data": {
            "text/plain": [
              "            ID  Utterance  Speaker  Dialogue_ID\n",
              "Target                                         \n",
              "anger     1109       1109     1109         1109\n",
              "disgust    271        271      271          271\n",
              "fear       268        268      268          268\n",
              "joy       1743       1743     1743         1743\n",
              "neutral   4710       4710     4710         4710\n",
              "sadness    683        683      683          683\n",
              "surprise  1205       1205     1205         1205"
            ],
            "text/html": [
              "\n",
              "  <div id=\"df-e5dcc26b-c28f-4426-88a3-4959949e09e2\">\n",
              "    <div class=\"colab-df-container\">\n",
              "      <div>\n",
              "<style scoped>\n",
              "    .dataframe tbody tr th:only-of-type {\n",
              "        vertical-align: middle;\n",
              "    }\n",
              "\n",
              "    .dataframe tbody tr th {\n",
              "        vertical-align: top;\n",
              "    }\n",
              "\n",
              "    .dataframe thead th {\n",
              "        text-align: right;\n",
              "    }\n",
              "</style>\n",
              "<table border=\"1\" class=\"dataframe\">\n",
              "  <thead>\n",
              "    <tr style=\"text-align: right;\">\n",
              "      <th></th>\n",
              "      <th>ID</th>\n",
              "      <th>Utterance</th>\n",
              "      <th>Speaker</th>\n",
              "      <th>Dialogue_ID</th>\n",
              "    </tr>\n",
              "    <tr>\n",
              "      <th>Target</th>\n",
              "      <th></th>\n",
              "      <th></th>\n",
              "      <th></th>\n",
              "      <th></th>\n",
              "    </tr>\n",
              "  </thead>\n",
              "  <tbody>\n",
              "    <tr>\n",
              "      <th>anger</th>\n",
              "      <td>1109</td>\n",
              "      <td>1109</td>\n",
              "      <td>1109</td>\n",
              "      <td>1109</td>\n",
              "    </tr>\n",
              "    <tr>\n",
              "      <th>disgust</th>\n",
              "      <td>271</td>\n",
              "      <td>271</td>\n",
              "      <td>271</td>\n",
              "      <td>271</td>\n",
              "    </tr>\n",
              "    <tr>\n",
              "      <th>fear</th>\n",
              "      <td>268</td>\n",
              "      <td>268</td>\n",
              "      <td>268</td>\n",
              "      <td>268</td>\n",
              "    </tr>\n",
              "    <tr>\n",
              "      <th>joy</th>\n",
              "      <td>1743</td>\n",
              "      <td>1743</td>\n",
              "      <td>1743</td>\n",
              "      <td>1743</td>\n",
              "    </tr>\n",
              "    <tr>\n",
              "      <th>neutral</th>\n",
              "      <td>4710</td>\n",
              "      <td>4710</td>\n",
              "      <td>4710</td>\n",
              "      <td>4710</td>\n",
              "    </tr>\n",
              "    <tr>\n",
              "      <th>sadness</th>\n",
              "      <td>683</td>\n",
              "      <td>683</td>\n",
              "      <td>683</td>\n",
              "      <td>683</td>\n",
              "    </tr>\n",
              "    <tr>\n",
              "      <th>surprise</th>\n",
              "      <td>1205</td>\n",
              "      <td>1205</td>\n",
              "      <td>1205</td>\n",
              "      <td>1205</td>\n",
              "    </tr>\n",
              "  </tbody>\n",
              "</table>\n",
              "</div>\n",
              "      <button class=\"colab-df-convert\" onclick=\"convertToInteractive('df-e5dcc26b-c28f-4426-88a3-4959949e09e2')\"\n",
              "              title=\"Convert this dataframe to an interactive table.\"\n",
              "              style=\"display:none;\">\n",
              "        \n",
              "  <svg xmlns=\"http://www.w3.org/2000/svg\" height=\"24px\"viewBox=\"0 0 24 24\"\n",
              "       width=\"24px\">\n",
              "    <path d=\"M0 0h24v24H0V0z\" fill=\"none\"/>\n",
              "    <path d=\"M18.56 5.44l.94 2.06.94-2.06 2.06-.94-2.06-.94-.94-2.06-.94 2.06-2.06.94zm-11 1L8.5 8.5l.94-2.06 2.06-.94-2.06-.94L8.5 2.5l-.94 2.06-2.06.94zm10 10l.94 2.06.94-2.06 2.06-.94-2.06-.94-.94-2.06-.94 2.06-2.06.94z\"/><path d=\"M17.41 7.96l-1.37-1.37c-.4-.4-.92-.59-1.43-.59-.52 0-1.04.2-1.43.59L10.3 9.45l-7.72 7.72c-.78.78-.78 2.05 0 2.83L4 21.41c.39.39.9.59 1.41.59.51 0 1.02-.2 1.41-.59l7.78-7.78 2.81-2.81c.8-.78.8-2.07 0-2.86zM5.41 20L4 18.59l7.72-7.72 1.47 1.35L5.41 20z\"/>\n",
              "  </svg>\n",
              "      </button>\n",
              "      \n",
              "  <style>\n",
              "    .colab-df-container {\n",
              "      display:flex;\n",
              "      flex-wrap:wrap;\n",
              "      gap: 12px;\n",
              "    }\n",
              "\n",
              "    .colab-df-convert {\n",
              "      background-color: #E8F0FE;\n",
              "      border: none;\n",
              "      border-radius: 50%;\n",
              "      cursor: pointer;\n",
              "      display: none;\n",
              "      fill: #1967D2;\n",
              "      height: 32px;\n",
              "      padding: 0 0 0 0;\n",
              "      width: 32px;\n",
              "    }\n",
              "\n",
              "    .colab-df-convert:hover {\n",
              "      background-color: #E2EBFA;\n",
              "      box-shadow: 0px 1px 2px rgba(60, 64, 67, 0.3), 0px 1px 3px 1px rgba(60, 64, 67, 0.15);\n",
              "      fill: #174EA6;\n",
              "    }\n",
              "\n",
              "    [theme=dark] .colab-df-convert {\n",
              "      background-color: #3B4455;\n",
              "      fill: #D2E3FC;\n",
              "    }\n",
              "\n",
              "    [theme=dark] .colab-df-convert:hover {\n",
              "      background-color: #434B5C;\n",
              "      box-shadow: 0px 1px 3px 1px rgba(0, 0, 0, 0.15);\n",
              "      filter: drop-shadow(0px 1px 2px rgba(0, 0, 0, 0.3));\n",
              "      fill: #FFFFFF;\n",
              "    }\n",
              "  </style>\n",
              "\n",
              "      <script>\n",
              "        const buttonEl =\n",
              "          document.querySelector('#df-e5dcc26b-c28f-4426-88a3-4959949e09e2 button.colab-df-convert');\n",
              "        buttonEl.style.display =\n",
              "          google.colab.kernel.accessAllowed ? 'block' : 'none';\n",
              "\n",
              "        async function convertToInteractive(key) {\n",
              "          const element = document.querySelector('#df-e5dcc26b-c28f-4426-88a3-4959949e09e2');\n",
              "          const dataTable =\n",
              "            await google.colab.kernel.invokeFunction('convertToInteractive',\n",
              "                                                     [key], {});\n",
              "          if (!dataTable) return;\n",
              "\n",
              "          const docLinkHtml = 'Like what you see? Visit the ' +\n",
              "            '<a target=\"_blank\" href=https://colab.research.google.com/notebooks/data_table.ipynb>data table notebook</a>'\n",
              "            + ' to learn more about interactive tables.';\n",
              "          element.innerHTML = '';\n",
              "          dataTable['output_type'] = 'display_data';\n",
              "          await google.colab.output.renderOutput(dataTable, element);\n",
              "          const docLink = document.createElement('div');\n",
              "          docLink.innerHTML = docLinkHtml;\n",
              "          element.appendChild(docLink);\n",
              "        }\n",
              "      </script>\n",
              "    </div>\n",
              "  </div>\n",
              "  "
            ]
          },
          "metadata": {},
          "execution_count": 3
        }
      ]
    },
    {
      "cell_type": "code",
      "source": [
        "from sklearn.preprocessing import LabelEncoder\n",
        "import numpy as np\n",
        "\n",
        "label_encoder = LabelEncoder()\n",
        "label_encoder.fit(train_df['Target'])\n",
        "num_labels = len(label_encoder.classes_)\n",
        "\n",
        "train_df['encoded_target'] = np.asarray(label_encoder.transform(train_df['Target']), dtype=np.int32)"
      ],
      "metadata": {
        "id": "1fK6pY5mz8OE"
      },
      "execution_count": 4,
      "outputs": []
    },
    {
      "cell_type": "code",
      "source": [
        "train_df.head()"
      ],
      "metadata": {
        "colab": {
          "base_uri": "https://localhost:8080/",
          "height": 302
        },
        "id": "TGd_qQVT0XG7",
        "outputId": "54b4423d-31da-41e0-b486-3aa4ba58c352"
      },
      "execution_count": 5,
      "outputs": [
        {
          "output_type": "execute_result",
          "data": {
            "text/plain": [
              "           ID                                          Utterance  \\\n",
              "0  TRAIN_0000  also I was the point person on my company’s tr...   \n",
              "1  TRAIN_0001                   You must’ve had your hands full.   \n",
              "2  TRAIN_0002                            That I did. That I did.   \n",
              "3  TRAIN_0003      So let’s talk a little bit about your duties.   \n",
              "4  TRAIN_0004                             My duties?  All right.   \n",
              "\n",
              "           Speaker  Dialogue_ID    Target  encoded_target  \n",
              "0         Chandler            0   neutral               4  \n",
              "1  The Interviewer            0   neutral               4  \n",
              "2         Chandler            0   neutral               4  \n",
              "3  The Interviewer            0   neutral               4  \n",
              "4         Chandler            0  surprise               6  "
            ],
            "text/html": [
              "\n",
              "  <div id=\"df-739438fa-adc1-4134-93bf-e1d043039608\">\n",
              "    <div class=\"colab-df-container\">\n",
              "      <div>\n",
              "<style scoped>\n",
              "    .dataframe tbody tr th:only-of-type {\n",
              "        vertical-align: middle;\n",
              "    }\n",
              "\n",
              "    .dataframe tbody tr th {\n",
              "        vertical-align: top;\n",
              "    }\n",
              "\n",
              "    .dataframe thead th {\n",
              "        text-align: right;\n",
              "    }\n",
              "</style>\n",
              "<table border=\"1\" class=\"dataframe\">\n",
              "  <thead>\n",
              "    <tr style=\"text-align: right;\">\n",
              "      <th></th>\n",
              "      <th>ID</th>\n",
              "      <th>Utterance</th>\n",
              "      <th>Speaker</th>\n",
              "      <th>Dialogue_ID</th>\n",
              "      <th>Target</th>\n",
              "      <th>encoded_target</th>\n",
              "    </tr>\n",
              "  </thead>\n",
              "  <tbody>\n",
              "    <tr>\n",
              "      <th>0</th>\n",
              "      <td>TRAIN_0000</td>\n",
              "      <td>also I was the point person on my company’s tr...</td>\n",
              "      <td>Chandler</td>\n",
              "      <td>0</td>\n",
              "      <td>neutral</td>\n",
              "      <td>4</td>\n",
              "    </tr>\n",
              "    <tr>\n",
              "      <th>1</th>\n",
              "      <td>TRAIN_0001</td>\n",
              "      <td>You must’ve had your hands full.</td>\n",
              "      <td>The Interviewer</td>\n",
              "      <td>0</td>\n",
              "      <td>neutral</td>\n",
              "      <td>4</td>\n",
              "    </tr>\n",
              "    <tr>\n",
              "      <th>2</th>\n",
              "      <td>TRAIN_0002</td>\n",
              "      <td>That I did. That I did.</td>\n",
              "      <td>Chandler</td>\n",
              "      <td>0</td>\n",
              "      <td>neutral</td>\n",
              "      <td>4</td>\n",
              "    </tr>\n",
              "    <tr>\n",
              "      <th>3</th>\n",
              "      <td>TRAIN_0003</td>\n",
              "      <td>So let’s talk a little bit about your duties.</td>\n",
              "      <td>The Interviewer</td>\n",
              "      <td>0</td>\n",
              "      <td>neutral</td>\n",
              "      <td>4</td>\n",
              "    </tr>\n",
              "    <tr>\n",
              "      <th>4</th>\n",
              "      <td>TRAIN_0004</td>\n",
              "      <td>My duties?  All right.</td>\n",
              "      <td>Chandler</td>\n",
              "      <td>0</td>\n",
              "      <td>surprise</td>\n",
              "      <td>6</td>\n",
              "    </tr>\n",
              "  </tbody>\n",
              "</table>\n",
              "</div>\n",
              "      <button class=\"colab-df-convert\" onclick=\"convertToInteractive('df-739438fa-adc1-4134-93bf-e1d043039608')\"\n",
              "              title=\"Convert this dataframe to an interactive table.\"\n",
              "              style=\"display:none;\">\n",
              "        \n",
              "  <svg xmlns=\"http://www.w3.org/2000/svg\" height=\"24px\"viewBox=\"0 0 24 24\"\n",
              "       width=\"24px\">\n",
              "    <path d=\"M0 0h24v24H0V0z\" fill=\"none\"/>\n",
              "    <path d=\"M18.56 5.44l.94 2.06.94-2.06 2.06-.94-2.06-.94-.94-2.06-.94 2.06-2.06.94zm-11 1L8.5 8.5l.94-2.06 2.06-.94-2.06-.94L8.5 2.5l-.94 2.06-2.06.94zm10 10l.94 2.06.94-2.06 2.06-.94-2.06-.94-.94-2.06-.94 2.06-2.06.94z\"/><path d=\"M17.41 7.96l-1.37-1.37c-.4-.4-.92-.59-1.43-.59-.52 0-1.04.2-1.43.59L10.3 9.45l-7.72 7.72c-.78.78-.78 2.05 0 2.83L4 21.41c.39.39.9.59 1.41.59.51 0 1.02-.2 1.41-.59l7.78-7.78 2.81-2.81c.8-.78.8-2.07 0-2.86zM5.41 20L4 18.59l7.72-7.72 1.47 1.35L5.41 20z\"/>\n",
              "  </svg>\n",
              "      </button>\n",
              "      \n",
              "  <style>\n",
              "    .colab-df-container {\n",
              "      display:flex;\n",
              "      flex-wrap:wrap;\n",
              "      gap: 12px;\n",
              "    }\n",
              "\n",
              "    .colab-df-convert {\n",
              "      background-color: #E8F0FE;\n",
              "      border: none;\n",
              "      border-radius: 50%;\n",
              "      cursor: pointer;\n",
              "      display: none;\n",
              "      fill: #1967D2;\n",
              "      height: 32px;\n",
              "      padding: 0 0 0 0;\n",
              "      width: 32px;\n",
              "    }\n",
              "\n",
              "    .colab-df-convert:hover {\n",
              "      background-color: #E2EBFA;\n",
              "      box-shadow: 0px 1px 2px rgba(60, 64, 67, 0.3), 0px 1px 3px 1px rgba(60, 64, 67, 0.15);\n",
              "      fill: #174EA6;\n",
              "    }\n",
              "\n",
              "    [theme=dark] .colab-df-convert {\n",
              "      background-color: #3B4455;\n",
              "      fill: #D2E3FC;\n",
              "    }\n",
              "\n",
              "    [theme=dark] .colab-df-convert:hover {\n",
              "      background-color: #434B5C;\n",
              "      box-shadow: 0px 1px 3px 1px rgba(0, 0, 0, 0.15);\n",
              "      filter: drop-shadow(0px 1px 2px rgba(0, 0, 0, 0.3));\n",
              "      fill: #FFFFFF;\n",
              "    }\n",
              "  </style>\n",
              "\n",
              "      <script>\n",
              "        const buttonEl =\n",
              "          document.querySelector('#df-739438fa-adc1-4134-93bf-e1d043039608 button.colab-df-convert');\n",
              "        buttonEl.style.display =\n",
              "          google.colab.kernel.accessAllowed ? 'block' : 'none';\n",
              "\n",
              "        async function convertToInteractive(key) {\n",
              "          const element = document.querySelector('#df-739438fa-adc1-4134-93bf-e1d043039608');\n",
              "          const dataTable =\n",
              "            await google.colab.kernel.invokeFunction('convertToInteractive',\n",
              "                                                     [key], {});\n",
              "          if (!dataTable) return;\n",
              "\n",
              "          const docLinkHtml = 'Like what you see? Visit the ' +\n",
              "            '<a target=\"_blank\" href=https://colab.research.google.com/notebooks/data_table.ipynb>data table notebook</a>'\n",
              "            + ' to learn more about interactive tables.';\n",
              "          element.innerHTML = '';\n",
              "          dataTable['output_type'] = 'display_data';\n",
              "          await google.colab.output.renderOutput(dataTable, element);\n",
              "          const docLink = document.createElement('div');\n",
              "          docLink.innerHTML = docLinkHtml;\n",
              "          element.appendChild(docLink);\n",
              "        }\n",
              "      </script>\n",
              "    </div>\n",
              "  </div>\n",
              "  "
            ]
          },
          "metadata": {},
          "execution_count": 5
        }
      ]
    },
    {
      "cell_type": "code",
      "source": [
        "train_texts = train_df['Utterance'].to_list()\n",
        "train_labels = train_df['encoded_target'].to_list()"
      ],
      "metadata": {
        "id": "GUwJOYch0Znk"
      },
      "execution_count": 6,
      "outputs": []
    },
    {
      "cell_type": "code",
      "source": [
        "from sklearn.model_selection import train_test_split\n",
        "\n",
        "train_texts, val_texts, train_labels, val_labels = train_test_split(train_texts, train_labels, \n",
        "                                                                    test_size=0.2, random_state=42)"
      ],
      "metadata": {
        "id": "Iow4-DGV0kPA"
      },
      "execution_count": 7,
      "outputs": []
    },
    {
      "cell_type": "code",
      "source": [
        "from transformers import AutoTokenizer\n",
        "\n",
        "model_name = \"tae898/emoberta-large\"\n",
        "tokenizer = AutoTokenizer.from_pretrained(model_name, do_lower_case = True)"
      ],
      "metadata": {
        "id": "9v-CNW3J0rpT"
      },
      "execution_count": 24,
      "outputs": []
    },
    {
      "cell_type": "code",
      "source": [
        "train_tokenizer = tokenizer(train_texts, truncation = True, padding = True, \n",
        "                            max_length = 128, return_tensors = \"pt\")\n",
        "val_tokenizer = tokenizer(val_texts, truncation = True, padding = True,\n",
        "                          max_length = 128, return_tensors = \"pt\")"
      ],
      "metadata": {
        "id": "lrcAEB381HpB"
      },
      "execution_count": 33,
      "outputs": []
    },
    {
      "cell_type": "markdown",
      "source": [
        "### tf"
      ],
      "metadata": {
        "id": "acy3QB-087GI"
      }
    },
    {
      "cell_type": "code",
      "source": [
        "import tensorflow as tf\n",
        "\n",
        "train_dataset = tf.data.Dataset.from_tensor_slices((dict(train_tokenizer), train_labels))\n",
        "val_dataset = tf.data.Dataset.from_tensor_slices((dict(val_tokenizer), val_labels))"
      ],
      "metadata": {
        "id": "4vM3GV7P1YW9"
      },
      "execution_count": 29,
      "outputs": []
    },
    {
      "cell_type": "code",
      "source": [
        "!pip install tensorflow-addons -q"
      ],
      "metadata": {
        "colab": {
          "base_uri": "https://localhost:8080/"
        },
        "id": "hBVllN_P3ODB",
        "outputId": "6f1a5aee-d042-4cda-a988-183d8eda2830"
      },
      "execution_count": 14,
      "outputs": [
        {
          "output_type": "stream",
          "name": "stdout",
          "text": [
            "\u001b[?25l\r\u001b[K     |▎                               | 10 kB 23.3 MB/s eta 0:00:01\r\u001b[K     |▋                               | 20 kB 5.0 MB/s eta 0:00:01\r\u001b[K     |█                               | 30 kB 7.1 MB/s eta 0:00:01\r\u001b[K     |█▏                              | 40 kB 6.0 MB/s eta 0:00:01\r\u001b[K     |█▌                              | 51 kB 6.6 MB/s eta 0:00:01\r\u001b[K     |█▉                              | 61 kB 7.8 MB/s eta 0:00:01\r\u001b[K     |██                              | 71 kB 7.4 MB/s eta 0:00:01\r\u001b[K     |██▍                             | 81 kB 7.6 MB/s eta 0:00:01\r\u001b[K     |██▊                             | 92 kB 8.4 MB/s eta 0:00:01\r\u001b[K     |███                             | 102 kB 8.1 MB/s eta 0:00:01\r\u001b[K     |███▎                            | 112 kB 8.1 MB/s eta 0:00:01\r\u001b[K     |███▋                            | 122 kB 8.1 MB/s eta 0:00:01\r\u001b[K     |███▉                            | 133 kB 8.1 MB/s eta 0:00:01\r\u001b[K     |████▏                           | 143 kB 8.1 MB/s eta 0:00:01\r\u001b[K     |████▌                           | 153 kB 8.1 MB/s eta 0:00:01\r\u001b[K     |████▊                           | 163 kB 8.1 MB/s eta 0:00:01\r\u001b[K     |█████                           | 174 kB 8.1 MB/s eta 0:00:01\r\u001b[K     |█████▍                          | 184 kB 8.1 MB/s eta 0:00:01\r\u001b[K     |█████▋                          | 194 kB 8.1 MB/s eta 0:00:01\r\u001b[K     |██████                          | 204 kB 8.1 MB/s eta 0:00:01\r\u001b[K     |██████▎                         | 215 kB 8.1 MB/s eta 0:00:01\r\u001b[K     |██████▌                         | 225 kB 8.1 MB/s eta 0:00:01\r\u001b[K     |██████▉                         | 235 kB 8.1 MB/s eta 0:00:01\r\u001b[K     |███████▏                        | 245 kB 8.1 MB/s eta 0:00:01\r\u001b[K     |███████▍                        | 256 kB 8.1 MB/s eta 0:00:01\r\u001b[K     |███████▊                        | 266 kB 8.1 MB/s eta 0:00:01\r\u001b[K     |████████                        | 276 kB 8.1 MB/s eta 0:00:01\r\u001b[K     |████████▎                       | 286 kB 8.1 MB/s eta 0:00:01\r\u001b[K     |████████▋                       | 296 kB 8.1 MB/s eta 0:00:01\r\u001b[K     |█████████                       | 307 kB 8.1 MB/s eta 0:00:01\r\u001b[K     |█████████▏                      | 317 kB 8.1 MB/s eta 0:00:01\r\u001b[K     |█████████▌                      | 327 kB 8.1 MB/s eta 0:00:01\r\u001b[K     |█████████▉                      | 337 kB 8.1 MB/s eta 0:00:01\r\u001b[K     |██████████                      | 348 kB 8.1 MB/s eta 0:00:01\r\u001b[K     |██████████▍                     | 358 kB 8.1 MB/s eta 0:00:01\r\u001b[K     |██████████▊                     | 368 kB 8.1 MB/s eta 0:00:01\r\u001b[K     |███████████                     | 378 kB 8.1 MB/s eta 0:00:01\r\u001b[K     |███████████▎                    | 389 kB 8.1 MB/s eta 0:00:01\r\u001b[K     |███████████▋                    | 399 kB 8.1 MB/s eta 0:00:01\r\u001b[K     |███████████▉                    | 409 kB 8.1 MB/s eta 0:00:01\r\u001b[K     |████████████▏                   | 419 kB 8.1 MB/s eta 0:00:01\r\u001b[K     |████████████▌                   | 430 kB 8.1 MB/s eta 0:00:01\r\u001b[K     |████████████▊                   | 440 kB 8.1 MB/s eta 0:00:01\r\u001b[K     |█████████████                   | 450 kB 8.1 MB/s eta 0:00:01\r\u001b[K     |█████████████▍                  | 460 kB 8.1 MB/s eta 0:00:01\r\u001b[K     |█████████████▋                  | 471 kB 8.1 MB/s eta 0:00:01\r\u001b[K     |██████████████                  | 481 kB 8.1 MB/s eta 0:00:01\r\u001b[K     |██████████████▎                 | 491 kB 8.1 MB/s eta 0:00:01\r\u001b[K     |██████████████▌                 | 501 kB 8.1 MB/s eta 0:00:01\r\u001b[K     |██████████████▉                 | 512 kB 8.1 MB/s eta 0:00:01\r\u001b[K     |███████████████▏                | 522 kB 8.1 MB/s eta 0:00:01\r\u001b[K     |███████████████▍                | 532 kB 8.1 MB/s eta 0:00:01\r\u001b[K     |███████████████▊                | 542 kB 8.1 MB/s eta 0:00:01\r\u001b[K     |████████████████                | 552 kB 8.1 MB/s eta 0:00:01\r\u001b[K     |████████████████▎               | 563 kB 8.1 MB/s eta 0:00:01\r\u001b[K     |████████████████▋               | 573 kB 8.1 MB/s eta 0:00:01\r\u001b[K     |█████████████████               | 583 kB 8.1 MB/s eta 0:00:01\r\u001b[K     |█████████████████▏              | 593 kB 8.1 MB/s eta 0:00:01\r\u001b[K     |█████████████████▌              | 604 kB 8.1 MB/s eta 0:00:01\r\u001b[K     |█████████████████▉              | 614 kB 8.1 MB/s eta 0:00:01\r\u001b[K     |██████████████████              | 624 kB 8.1 MB/s eta 0:00:01\r\u001b[K     |██████████████████▍             | 634 kB 8.1 MB/s eta 0:00:01\r\u001b[K     |██████████████████▊             | 645 kB 8.1 MB/s eta 0:00:01\r\u001b[K     |███████████████████             | 655 kB 8.1 MB/s eta 0:00:01\r\u001b[K     |███████████████████▎            | 665 kB 8.1 MB/s eta 0:00:01\r\u001b[K     |███████████████████▋            | 675 kB 8.1 MB/s eta 0:00:01\r\u001b[K     |███████████████████▉            | 686 kB 8.1 MB/s eta 0:00:01\r\u001b[K     |████████████████████▏           | 696 kB 8.1 MB/s eta 0:00:01\r\u001b[K     |████████████████████▌           | 706 kB 8.1 MB/s eta 0:00:01\r\u001b[K     |████████████████████▊           | 716 kB 8.1 MB/s eta 0:00:01\r\u001b[K     |█████████████████████           | 727 kB 8.1 MB/s eta 0:00:01\r\u001b[K     |█████████████████████▍          | 737 kB 8.1 MB/s eta 0:00:01\r\u001b[K     |█████████████████████▋          | 747 kB 8.1 MB/s eta 0:00:01\r\u001b[K     |██████████████████████          | 757 kB 8.1 MB/s eta 0:00:01\r\u001b[K     |██████████████████████▎         | 768 kB 8.1 MB/s eta 0:00:01\r\u001b[K     |██████████████████████▌         | 778 kB 8.1 MB/s eta 0:00:01\r\u001b[K     |██████████████████████▉         | 788 kB 8.1 MB/s eta 0:00:01\r\u001b[K     |███████████████████████▏        | 798 kB 8.1 MB/s eta 0:00:01\r\u001b[K     |███████████████████████▍        | 808 kB 8.1 MB/s eta 0:00:01\r\u001b[K     |███████████████████████▊        | 819 kB 8.1 MB/s eta 0:00:01\r\u001b[K     |████████████████████████        | 829 kB 8.1 MB/s eta 0:00:01\r\u001b[K     |████████████████████████▎       | 839 kB 8.1 MB/s eta 0:00:01\r\u001b[K     |████████████████████████▋       | 849 kB 8.1 MB/s eta 0:00:01\r\u001b[K     |█████████████████████████       | 860 kB 8.1 MB/s eta 0:00:01\r\u001b[K     |█████████████████████████▎      | 870 kB 8.1 MB/s eta 0:00:01\r\u001b[K     |█████████████████████████▌      | 880 kB 8.1 MB/s eta 0:00:01\r\u001b[K     |█████████████████████████▉      | 890 kB 8.1 MB/s eta 0:00:01\r\u001b[K     |██████████████████████████▏     | 901 kB 8.1 MB/s eta 0:00:01\r\u001b[K     |██████████████████████████▍     | 911 kB 8.1 MB/s eta 0:00:01\r\u001b[K     |██████████████████████████▊     | 921 kB 8.1 MB/s eta 0:00:01\r\u001b[K     |███████████████████████████     | 931 kB 8.1 MB/s eta 0:00:01\r\u001b[K     |███████████████████████████▎    | 942 kB 8.1 MB/s eta 0:00:01\r\u001b[K     |███████████████████████████▋    | 952 kB 8.1 MB/s eta 0:00:01\r\u001b[K     |████████████████████████████    | 962 kB 8.1 MB/s eta 0:00:01\r\u001b[K     |████████████████████████████▏   | 972 kB 8.1 MB/s eta 0:00:01\r\u001b[K     |████████████████████████████▌   | 983 kB 8.1 MB/s eta 0:00:01\r\u001b[K     |████████████████████████████▉   | 993 kB 8.1 MB/s eta 0:00:01\r\u001b[K     |█████████████████████████████   | 1.0 MB 8.1 MB/s eta 0:00:01\r\u001b[K     |█████████████████████████████▍  | 1.0 MB 8.1 MB/s eta 0:00:01\r\u001b[K     |█████████████████████████████▊  | 1.0 MB 8.1 MB/s eta 0:00:01\r\u001b[K     |██████████████████████████████  | 1.0 MB 8.1 MB/s eta 0:00:01\r\u001b[K     |██████████████████████████████▎ | 1.0 MB 8.1 MB/s eta 0:00:01\r\u001b[K     |██████████████████████████████▋ | 1.1 MB 8.1 MB/s eta 0:00:01\r\u001b[K     |██████████████████████████████▉ | 1.1 MB 8.1 MB/s eta 0:00:01\r\u001b[K     |███████████████████████████████▏| 1.1 MB 8.1 MB/s eta 0:00:01\r\u001b[K     |███████████████████████████████▌| 1.1 MB 8.1 MB/s eta 0:00:01\r\u001b[K     |███████████████████████████████▊| 1.1 MB 8.1 MB/s eta 0:00:01\r\u001b[K     |████████████████████████████████| 1.1 MB 8.1 MB/s \n",
            "\u001b[?25h"
          ]
        }
      ]
    },
    {
      "cell_type": "code",
      "source": [
        "from transformers import AutoModelForSequenceClassification\n",
        "import tensorflow_addons.metrics\n",
        "\n",
        "model = AutoModelForSequenceClassification.from_pretrained(\n",
        "    model_name, num_labels = num_labels)"
      ],
      "metadata": {
        "id": "_SC0qX8w2D5H"
      },
      "execution_count": 30,
      "outputs": []
    },
    {
      "cell_type": "code",
      "source": [
        "optimizer = tf.keras.optimizers.Adam(learning_rate=5e-5)\n",
        "model.compile(optimizer=optimizer, loss=model.compute_loss, \n",
        "              metrics=['accuracy',tensorflow_addons.metrics.F1Score(num_classes=num_labels, average = 'macro')])"
      ],
      "metadata": {
        "colab": {
          "base_uri": "https://localhost:8080/",
          "height": 0
        },
        "id": "iXN0IWqj3iRG",
        "outputId": "c63b64c1-f978-4f95-c8d7-44f41740305c"
      },
      "execution_count": 31,
      "outputs": [
        {
          "output_type": "error",
          "ename": "AttributeError",
          "evalue": "ignored",
          "traceback": [
            "\u001b[0;31m---------------------------------------------------------------------------\u001b[0m",
            "\u001b[0;31mAttributeError\u001b[0m                            Traceback (most recent call last)",
            "\u001b[0;32m<ipython-input-31-54d3de675910>\u001b[0m in \u001b[0;36m<module>\u001b[0;34m\u001b[0m\n\u001b[1;32m      1\u001b[0m \u001b[0moptimizer\u001b[0m \u001b[0;34m=\u001b[0m \u001b[0mtf\u001b[0m\u001b[0;34m.\u001b[0m\u001b[0mkeras\u001b[0m\u001b[0;34m.\u001b[0m\u001b[0moptimizers\u001b[0m\u001b[0;34m.\u001b[0m\u001b[0mAdam\u001b[0m\u001b[0;34m(\u001b[0m\u001b[0mlearning_rate\u001b[0m\u001b[0;34m=\u001b[0m\u001b[0;36m5e-5\u001b[0m\u001b[0;34m)\u001b[0m\u001b[0;34m\u001b[0m\u001b[0;34m\u001b[0m\u001b[0m\n\u001b[0;32m----> 2\u001b[0;31m model.compile(optimizer=optimizer, loss=model.compute_loss, \n\u001b[0m\u001b[1;32m      3\u001b[0m               metrics=['accuracy',tensorflow_addons.metrics.F1Score(num_classes=num_labels, average = 'macro')])\n",
            "\u001b[0;32m/usr/local/lib/python3.7/dist-packages/torch/nn/modules/module.py\u001b[0m in \u001b[0;36m__getattr__\u001b[0;34m(self, name)\u001b[0m\n\u001b[1;32m   1206\u001b[0m                 \u001b[0;32mreturn\u001b[0m \u001b[0mmodules\u001b[0m\u001b[0;34m[\u001b[0m\u001b[0mname\u001b[0m\u001b[0;34m]\u001b[0m\u001b[0;34m\u001b[0m\u001b[0;34m\u001b[0m\u001b[0m\n\u001b[1;32m   1207\u001b[0m         raise AttributeError(\"'{}' object has no attribute '{}'\".format(\n\u001b[0;32m-> 1208\u001b[0;31m             type(self).__name__, name))\n\u001b[0m\u001b[1;32m   1209\u001b[0m \u001b[0;34m\u001b[0m\u001b[0m\n\u001b[1;32m   1210\u001b[0m     \u001b[0;32mdef\u001b[0m \u001b[0m__setattr__\u001b[0m\u001b[0;34m(\u001b[0m\u001b[0mself\u001b[0m\u001b[0;34m,\u001b[0m \u001b[0mname\u001b[0m\u001b[0;34m:\u001b[0m \u001b[0mstr\u001b[0m\u001b[0;34m,\u001b[0m \u001b[0mvalue\u001b[0m\u001b[0;34m:\u001b[0m \u001b[0mUnion\u001b[0m\u001b[0;34m[\u001b[0m\u001b[0mTensor\u001b[0m\u001b[0;34m,\u001b[0m \u001b[0;34m'Module'\u001b[0m\u001b[0;34m]\u001b[0m\u001b[0;34m)\u001b[0m \u001b[0;34m->\u001b[0m \u001b[0;32mNone\u001b[0m\u001b[0;34m:\u001b[0m\u001b[0;34m\u001b[0m\u001b[0;34m\u001b[0m\u001b[0m\n",
            "\u001b[0;31mAttributeError\u001b[0m: 'RobertaForSequenceClassification' object has no attribute 'compile'"
          ]
        }
      ]
    },
    {
      "cell_type": "code",
      "source": [],
      "metadata": {
        "id": "OPbd9Ykt8sTe"
      },
      "execution_count": null,
      "outputs": []
    },
    {
      "cell_type": "markdown",
      "source": [],
      "metadata": {
        "id": "jx93O_Go9B2W"
      }
    },
    {
      "cell_type": "markdown",
      "source": [
        "### pt"
      ],
      "metadata": {
        "id": "oAgO_wmo89M2"
      }
    },
    {
      "cell_type": "code",
      "source": [
        "from transformers import AutoModelForSequenceClassification\n",
        "\n",
        "model = AutoModelForSequenceClassification.from_pretrained(model_name, num_labels = num_labels)"
      ],
      "metadata": {
        "id": "Hu3ewP9g8-oX"
      },
      "execution_count": 34,
      "outputs": []
    },
    {
      "cell_type": "code",
      "source": [
        "outputs = model(**train_tokenizer)"
      ],
      "metadata": {
        "id": "9_pOMC5r9FKd"
      },
      "execution_count": null,
      "outputs": []
    },
    {
      "cell_type": "code",
      "source": [
        "import "
      ],
      "metadata": {
        "id": "n0giM9KM9PG9"
      },
      "execution_count": null,
      "outputs": []
    }
  ]
}