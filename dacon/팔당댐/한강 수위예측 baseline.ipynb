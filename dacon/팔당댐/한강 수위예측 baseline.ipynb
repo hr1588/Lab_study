{
 "cells": [
  {
   "cell_type": "markdown",
   "metadata": {},
   "source": [
    "# 팔당댐 수위 예측 baseline"
   ]
  },
  {
   "cell_type": "markdown",
   "metadata": {},
   "source": [
    "### 필요한 라이브러리 불러오기"
   ]
  },
  {
   "cell_type": "code",
   "execution_count": null,
   "metadata": {},
   "outputs": [],
   "source": [
    "import pandas as pd\n",
    "import numpy as np\n",
    "\n",
    "from glob import glob\n",
    "from tqdm import tqdm\n",
    "from scipy import interpolate\n",
    "\n",
    "import tensorflow as tf\n",
    "from keras.models import Sequential\n",
    "from keras.layers import Dense, LSTM, GRU, AveragePooling1D, GlobalAveragePooling1D\n",
    "\n",
    "import warnings; warnings.filterwarnings(action='ignore') # 경고 메시지 무시\n",
    "\n",
    "'''#GPU 자원이 부족한 경우 아래 코드를 이용\n",
    "from tensorflow.compat.v1 import ConfigProto\n",
    "from tensorflow.compat.v1 import InteractiveSession\n",
    "\n",
    "config = ConfigProto()\n",
    "config.gpu_options.allow_growth = True\n",
    "session = InteractiveSession(config=config)'''"
   ]
  },
  {
   "cell_type": "markdown",
   "metadata": {},
   "source": [
    "### 데이터 전처리"
   ]
  },
  {
   "cell_type": "code",
   "execution_count": 7,
   "metadata": {},
   "outputs": [
    {
     "data": {
      "text/plain": [
       "['C:/Users/liked/OneDrive/바탕 화면/데이콘/팔당댐/water_data\\\\data_2012.csv',\n",
       " 'C:/Users/liked/OneDrive/바탕 화면/데이콘/팔당댐/water_data\\\\data_2013.csv',\n",
       " 'C:/Users/liked/OneDrive/바탕 화면/데이콘/팔당댐/water_data\\\\data_2014.csv',\n",
       " 'C:/Users/liked/OneDrive/바탕 화면/데이콘/팔당댐/water_data\\\\data_2015.csv',\n",
       " 'C:/Users/liked/OneDrive/바탕 화면/데이콘/팔당댐/water_data\\\\data_2016.csv',\n",
       " 'C:/Users/liked/OneDrive/바탕 화면/데이콘/팔당댐/water_data\\\\data_2017.csv',\n",
       " 'C:/Users/liked/OneDrive/바탕 화면/데이콘/팔당댐/water_data\\\\data_2018.csv',\n",
       " 'C:/Users/liked/OneDrive/바탕 화면/데이콘/팔당댐/water_data\\\\data_2019.csv',\n",
       " 'C:/Users/liked/OneDrive/바탕 화면/데이콘/팔당댐/water_data\\\\data_2020.csv',\n",
       " 'C:/Users/liked/OneDrive/바탕 화면/데이콘/팔당댐/water_data\\\\data_2021.csv',\n",
       " 'C:/Users/liked/OneDrive/바탕 화면/데이콘/팔당댐/water_data\\\\data_2022.csv']"
      ]
     },
     "execution_count": 7,
     "metadata": {},
     "output_type": "execute_result"
    }
   ],
   "source": [
    "w_list = sorted(glob(\"C:/Users/liked/OneDrive/바탕 화면/데이콘/팔당댐/water_data/*.csv\"))\n",
    "w_list"
   ]
  },
  {
   "cell_type": "code",
   "execution_count": 8,
   "metadata": {},
   "outputs": [
    {
     "data": {
      "text/plain": [
       "(26496, 15)"
      ]
     },
     "execution_count": 8,
     "metadata": {},
     "output_type": "execute_result"
    }
   ],
   "source": [
    "pd.read_csv(w_list[0]).shape"
   ]
  },
  {
   "cell_type": "code",
   "execution_count": 9,
   "metadata": {},
   "outputs": [
    {
     "data": {
      "text/html": [
       "<div>\n",
       "<style scoped>\n",
       "    .dataframe tbody tr th:only-of-type {\n",
       "        vertical-align: middle;\n",
       "    }\n",
       "\n",
       "    .dataframe tbody tr th {\n",
       "        vertical-align: top;\n",
       "    }\n",
       "\n",
       "    .dataframe thead th {\n",
       "        text-align: right;\n",
       "    }\n",
       "</style>\n",
       "<table border=\"1\" class=\"dataframe\">\n",
       "  <thead>\n",
       "    <tr style=\"text-align: right;\">\n",
       "      <th></th>\n",
       "      <th>ymdhm</th>\n",
       "      <th>swl</th>\n",
       "      <th>inf</th>\n",
       "      <th>sfw</th>\n",
       "      <th>ecpc</th>\n",
       "      <th>tototf</th>\n",
       "      <th>tide_level</th>\n",
       "      <th>wl_1018662</th>\n",
       "      <th>fw_1018662</th>\n",
       "      <th>wl_1018680</th>\n",
       "      <th>fw_1018680</th>\n",
       "      <th>wl_1018683</th>\n",
       "      <th>fw_1018683</th>\n",
       "      <th>wl_1019630</th>\n",
       "      <th>fw_1019630</th>\n",
       "    </tr>\n",
       "  </thead>\n",
       "  <tbody>\n",
       "    <tr>\n",
       "      <th>0</th>\n",
       "      <td>2012-05-01 00:00</td>\n",
       "      <td>24.800</td>\n",
       "      <td>555.0</td>\n",
       "      <td>219.07</td>\n",
       "      <td>24.93</td>\n",
       "      <td>555.0</td>\n",
       "      <td>445.0</td>\n",
       "      <td>310.7</td>\n",
       "      <td>469.05</td>\n",
       "      <td>300.2</td>\n",
       "      <td>0.0</td>\n",
       "      <td>290.0</td>\n",
       "      <td>729.80</td>\n",
       "      <td>275.3</td>\n",
       "      <td>540.18</td>\n",
       "    </tr>\n",
       "    <tr>\n",
       "      <th>1</th>\n",
       "      <td>2012-05-01 00:10</td>\n",
       "      <td>24.794</td>\n",
       "      <td>464.6</td>\n",
       "      <td>218.86</td>\n",
       "      <td>25.15</td>\n",
       "      <td>562.9</td>\n",
       "      <td>449.0</td>\n",
       "      <td>314.7</td>\n",
       "      <td>498.00</td>\n",
       "      <td>300.2</td>\n",
       "      <td>0.0</td>\n",
       "      <td>290.0</td>\n",
       "      <td>731.48</td>\n",
       "      <td>275.3</td>\n",
       "      <td>540.18</td>\n",
       "    </tr>\n",
       "    <tr>\n",
       "      <th>2</th>\n",
       "      <td>2012-05-01 00:20</td>\n",
       "      <td>24.789</td>\n",
       "      <td>478.1</td>\n",
       "      <td>218.69</td>\n",
       "      <td>25.31</td>\n",
       "      <td>576.4</td>\n",
       "      <td>451.0</td>\n",
       "      <td>313.7</td>\n",
       "      <td>490.68</td>\n",
       "      <td>301.2</td>\n",
       "      <td>0.0</td>\n",
       "      <td>290.0</td>\n",
       "      <td>726.42</td>\n",
       "      <td>275.3</td>\n",
       "      <td>540.18</td>\n",
       "    </tr>\n",
       "    <tr>\n",
       "      <th>3</th>\n",
       "      <td>2012-05-01 00:30</td>\n",
       "      <td>24.789</td>\n",
       "      <td>464.8</td>\n",
       "      <td>218.69</td>\n",
       "      <td>25.31</td>\n",
       "      <td>563.1</td>\n",
       "      <td>452.0</td>\n",
       "      <td>311.7</td>\n",
       "      <td>476.21</td>\n",
       "      <td>301.2</td>\n",
       "      <td>0.0</td>\n",
       "      <td>290.0</td>\n",
       "      <td>726.42</td>\n",
       "      <td>276.3</td>\n",
       "      <td>552.17</td>\n",
       "    </tr>\n",
       "  </tbody>\n",
       "</table>\n",
       "</div>"
      ],
      "text/plain": [
       "              ymdhm     swl    inf     sfw   ecpc  tototf  tide_level  \\\n",
       "0  2012-05-01 00:00  24.800  555.0  219.07  24.93   555.0       445.0   \n",
       "1  2012-05-01 00:10  24.794  464.6  218.86  25.15   562.9       449.0   \n",
       "2  2012-05-01 00:20  24.789  478.1  218.69  25.31   576.4       451.0   \n",
       "3  2012-05-01 00:30  24.789  464.8  218.69  25.31   563.1       452.0   \n",
       "\n",
       "   wl_1018662  fw_1018662  wl_1018680  fw_1018680  wl_1018683  fw_1018683  \\\n",
       "0       310.7      469.05       300.2         0.0       290.0      729.80   \n",
       "1       314.7      498.00       300.2         0.0       290.0      731.48   \n",
       "2       313.7      490.68       301.2         0.0       290.0      726.42   \n",
       "3       311.7      476.21       301.2         0.0       290.0      726.42   \n",
       "\n",
       "   wl_1019630  fw_1019630  \n",
       "0       275.3      540.18  \n",
       "1       275.3      540.18  \n",
       "2       275.3      540.18  \n",
       "3       276.3      552.17  "
      ]
     },
     "execution_count": 9,
     "metadata": {},
     "output_type": "execute_result"
    }
   ],
   "source": [
    "pd.read_csv(w_list[0]).head(4)"
   ]
  },
  {
   "cell_type": "code",
   "execution_count": 13,
   "metadata": {},
   "outputs": [
    {
     "name": "stderr",
     "output_type": "stream",
     "text": [
      "100%|██████████| 26064/26064 [00:37<00:00, 694.30it/s]\n",
      "100%|██████████| 26064/26064 [00:30<00:00, 850.60it/s]\n",
      "100%|██████████| 26064/26064 [00:33<00:00, 773.12it/s]\n",
      "100%|██████████| 26064/26064 [00:35<00:00, 740.40it/s]\n",
      "100%|██████████| 26064/26064 [00:35<00:00, 738.61it/s]\n",
      "100%|██████████| 26064/26064 [00:36<00:00, 716.20it/s]\n",
      "100%|██████████| 26064/26064 [00:37<00:00, 699.57it/s]\n",
      "100%|██████████| 26064/26064 [00:36<00:00, 709.21it/s]\n",
      "100%|██████████| 26064/26064 [00:37<00:00, 695.37it/s]\n",
      "100%|██████████| 26064/26064 [00:38<00:00, 677.93it/s]\n"
     ]
    }
   ],
   "source": [
    "train_data = []\n",
    "train_label = []\n",
    "num = 0\n",
    "\n",
    "for i in w_list[:-1]:\n",
    "    \n",
    "    tmp = pd.read_csv(i)\n",
    "    tmp = tmp.replace(\" \", np.nan)\n",
    "    tmp = tmp.interpolate(method = 'values')\n",
    "    tmp = tmp.fillna(0)\n",
    "    \n",
    "    # 431은 3일 간격을 의미하며, 432는 예측하고자 하는 시간을 의미\n",
    "    \n",
    "    for j in tqdm(range(len(tmp)-432)):\n",
    "        train_data.append(np.array(tmp.loc[j:j + 431, [\"swl\", \"inf\", \"sfw\", \"ecpc\",\n",
    "                                                       \"tototf\", \"tide_level\",\n",
    "                                                       \"fw_1018662\", \"fw_1018680\",\n",
    "                                                       \"fw_1018683\", \"fw_1019630\"]]).astype(float))\n",
    "        \n",
    "        train_label.append(np.array(tmp.loc[j + 432, [\"wl_1018662\", \"wl_1018680\",\n",
    "                                                      \"wl_1018683\", \"wl_1019630\"]]).astype(float))"
   ]
  },
  {
   "cell_type": "code",
   "execution_count": 14,
   "metadata": {},
   "outputs": [
    {
     "name": "stdout",
     "output_type": "stream",
     "text": [
      "(260640, 432, 10)\n",
      "(260640, 4)\n"
     ]
    }
   ],
   "source": [
    "train_data = np.array(train_data)\n",
    "train_label = np.array(train_label)\n",
    "\n",
    "print(train_data.shape)\n",
    "print(train_label.shape)"
   ]
  },
  {
   "cell_type": "markdown",
   "metadata": {},
   "source": [
    "### 모델링 및 모델 학습"
   ]
  },
  {
   "cell_type": "code",
   "execution_count": 21,
   "metadata": {},
   "outputs": [],
   "source": [
    "input_shape = (train_data[0].shape[0], train_data[0].shape[1])\n",
    "\n",
    "model = Sequential()\n",
    "model.add(GRU(256, input_shape=input_shape))\n",
    "model.add(Dense(4, activation = 'relu'))\n",
    "\n",
    "optimizer = tf.optimizers.RMSprop(0.001)\n",
    "\n",
    "model.compile(optimizer=optimizer,loss='mse', metrics=['mae'])"
   ]
  },
  {
   "cell_type": "code",
   "execution_count": 22,
   "metadata": {},
   "outputs": [
    {
     "name": "stdout",
     "output_type": "stream",
     "text": [
      "Epoch 1/10\n",
      "2037/2037 [==============================] - 4508s 2s/step - loss: 23242.5645 - mae: 104.6861\n",
      "Epoch 2/10\n",
      "2037/2037 [==============================] - 4370s 2s/step - loss: 772.0200 - mae: 10.0065\n",
      "Epoch 3/10\n",
      "2037/2037 [==============================] - 4278s 2s/step - loss: 436.4344 - mae: 8.1622\n",
      "Epoch 4/10\n",
      "2037/2037 [==============================] - 4197s 2s/step - loss: 365.2337 - mae: 7.8262\n",
      "Epoch 5/10\n",
      "2037/2037 [==============================] - 4211s 2s/step - loss: 304.0364 - mae: 7.5309\n",
      "Epoch 6/10\n",
      "2037/2037 [==============================] - 4161s 2s/step - loss: 278.2153 - mae: 7.6156\n",
      "Epoch 7/10\n",
      "2037/2037 [==============================] - 4146s 2s/step - loss: 252.8148 - mae: 7.4774\n",
      "Epoch 8/10\n",
      "2037/2037 [==============================] - 4158s 2s/step - loss: 279.0431 - mae: 7.9246\n",
      "Epoch 9/10\n",
      "2037/2037 [==============================] - 4171s 2s/step - loss: 274.0914 - mae: 8.0982\n",
      "Epoch 10/10\n",
      "2037/2037 [==============================] - 4200s 2s/step - loss: 275.6667 - mae: 8.2007\n"
     ]
    },
    {
     "data": {
      "text/plain": [
       "<keras.callbacks.History at 0x113021f7c70>"
      ]
     },
     "execution_count": 22,
     "metadata": {},
     "output_type": "execute_result"
    }
   ],
   "source": [
    "model.fit(train_data, train_label, epochs=10, batch_size=128)"
   ]
  },
  {
   "cell_type": "markdown",
   "metadata": {},
   "source": [
    "### 추론 데이터셋 만들기"
   ]
  },
  {
   "cell_type": "code",
   "execution_count": 23,
   "metadata": {},
   "outputs": [
    {
     "name": "stderr",
     "output_type": "stream",
     "text": [
      "100%|██████████| 6912/6912 [00:08<00:00, 789.75it/s]\n"
     ]
    }
   ],
   "source": [
    "test_data = []\n",
    "test_label = []\n",
    "\n",
    "tmp = pd.read_csv(w_list[-1])\n",
    "tmp = tmp.replace(\" \", np.nan)\n",
    "# 이전값을 사용\n",
    "tmp = tmp.fillna(method = 'pad')\n",
    "tmp = tmp.fillna(0)\n",
    "    \n",
    "#tmp.loc[:, [\"wl_1018662\", \"wl_1018680\", \"wl_1018683\", \"wl_1019630\"]] = tmp.loc[:, [\"wl_1018662\", \"wl_1018680\", \"wl_1018683\", \"wl_1019630\"]]*100\n",
    "\n",
    "# 431은 3일 간격을 의미하며, 432는 예측하고자 하는 시간을 의미\n",
    "    \n",
    "for j in tqdm(range(4032, len(tmp)-432)):\n",
    "    test_data.append(np.array(tmp.loc[j:j + 431, [\"swl\", \"inf\", \"sfw\", \"ecpc\",\n",
    "                                                    \"tototf\", \"tide_level\",\n",
    "                                                    \"fw_1018662\", \"fw_1018680\",\n",
    "                                                    \"fw_1018683\", \"fw_1019630\"]]).astype(float))\n",
    "        \n",
    "    test_label.append(np.array(tmp.loc[j + 432, [\"wl_1018662\", \"wl_1018680\",\n",
    "                                                    \"wl_1018683\", \"wl_1019630\"]]).astype(float))"
   ]
  },
  {
   "cell_type": "code",
   "execution_count": 24,
   "metadata": {},
   "outputs": [
    {
     "name": "stdout",
     "output_type": "stream",
     "text": [
      "(6912, 432, 10)\n",
      "(6912, 4)\n"
     ]
    }
   ],
   "source": [
    "test_data = np.array(test_data)\n",
    "test_label = np.array(test_label)\n",
    "\n",
    "print(test_data.shape)\n",
    "print(test_label.shape)"
   ]
  },
  {
   "cell_type": "markdown",
   "metadata": {},
   "source": [
    "### 제출 파일 만들기"
   ]
  },
  {
   "cell_type": "code",
   "execution_count": 26,
   "metadata": {},
   "outputs": [
    {
     "name": "stdout",
     "output_type": "stream",
     "text": [
      "216/216 [==============================] - 32s 150ms/step\n"
     ]
    }
   ],
   "source": [
    "pred = model.predict(test_data)\n",
    "\n",
    "pred = pd.DataFrame(pred)\n",
    "\n",
    "sample_submission = pd.read_csv(\"C:/Users/liked/OneDrive/바탕 화면/데이콘/팔당댐/sample_submission.csv\")\n",
    "\n",
    "sample_submission[\"wl_1018662\"] = pred[0]\n",
    "sample_submission[\"wl_1018680\"] = pred[1]\n",
    "sample_submission[\"wl_1018683\"] = pred[2]\n",
    "sample_submission[\"wl_1019630\"] = pred[3]"
   ]
  },
  {
   "cell_type": "code",
   "execution_count": 29,
   "metadata": {},
   "outputs": [
    {
     "data": {
      "text/html": [
       "<div>\n",
       "<style scoped>\n",
       "    .dataframe tbody tr th:only-of-type {\n",
       "        vertical-align: middle;\n",
       "    }\n",
       "\n",
       "    .dataframe tbody tr th {\n",
       "        vertical-align: top;\n",
       "    }\n",
       "\n",
       "    .dataframe thead th {\n",
       "        text-align: right;\n",
       "    }\n",
       "</style>\n",
       "<table border=\"1\" class=\"dataframe\">\n",
       "  <thead>\n",
       "    <tr style=\"text-align: right;\">\n",
       "      <th></th>\n",
       "      <th>ymdhm</th>\n",
       "      <th>wl_1018662</th>\n",
       "      <th>wl_1018680</th>\n",
       "      <th>wl_1018683</th>\n",
       "      <th>wl_1019630</th>\n",
       "    </tr>\n",
       "  </thead>\n",
       "  <tbody>\n",
       "    <tr>\n",
       "      <th>0</th>\n",
       "      <td>2022-06-01 00:00</td>\n",
       "      <td>288.294586</td>\n",
       "      <td>279.388550</td>\n",
       "      <td>277.245331</td>\n",
       "      <td>274.106812</td>\n",
       "    </tr>\n",
       "    <tr>\n",
       "      <th>1</th>\n",
       "      <td>2022-06-01 00:10</td>\n",
       "      <td>280.480438</td>\n",
       "      <td>270.659668</td>\n",
       "      <td>267.147064</td>\n",
       "      <td>260.063507</td>\n",
       "    </tr>\n",
       "    <tr>\n",
       "      <th>2</th>\n",
       "      <td>2022-06-01 00:20</td>\n",
       "      <td>284.233276</td>\n",
       "      <td>273.763519</td>\n",
       "      <td>270.000305</td>\n",
       "      <td>261.181610</td>\n",
       "    </tr>\n",
       "    <tr>\n",
       "      <th>3</th>\n",
       "      <td>2022-06-01 00:30</td>\n",
       "      <td>292.709930</td>\n",
       "      <td>281.110992</td>\n",
       "      <td>277.062744</td>\n",
       "      <td>265.448303</td>\n",
       "    </tr>\n",
       "    <tr>\n",
       "      <th>4</th>\n",
       "      <td>2022-06-01 00:40</td>\n",
       "      <td>283.942047</td>\n",
       "      <td>273.510498</td>\n",
       "      <td>269.756592</td>\n",
       "      <td>261.032043</td>\n",
       "    </tr>\n",
       "    <tr>\n",
       "      <th>...</th>\n",
       "      <td>...</td>\n",
       "      <td>...</td>\n",
       "      <td>...</td>\n",
       "      <td>...</td>\n",
       "      <td>...</td>\n",
       "    </tr>\n",
       "    <tr>\n",
       "      <th>6907</th>\n",
       "      <td>2022-07-18 23:10</td>\n",
       "      <td>304.334290</td>\n",
       "      <td>298.403717</td>\n",
       "      <td>299.291382</td>\n",
       "      <td>306.808441</td>\n",
       "    </tr>\n",
       "    <tr>\n",
       "      <th>6908</th>\n",
       "      <td>2022-07-18 23:20</td>\n",
       "      <td>302.822571</td>\n",
       "      <td>297.095612</td>\n",
       "      <td>298.035553</td>\n",
       "      <td>306.057983</td>\n",
       "    </tr>\n",
       "    <tr>\n",
       "      <th>6909</th>\n",
       "      <td>2022-07-18 23:30</td>\n",
       "      <td>306.740906</td>\n",
       "      <td>300.492249</td>\n",
       "      <td>301.300659</td>\n",
       "      <td>308.031586</td>\n",
       "    </tr>\n",
       "    <tr>\n",
       "      <th>6910</th>\n",
       "      <td>2022-07-18 23:40</td>\n",
       "      <td>326.638214</td>\n",
       "      <td>317.740356</td>\n",
       "      <td>317.880829</td>\n",
       "      <td>318.053589</td>\n",
       "    </tr>\n",
       "    <tr>\n",
       "      <th>6911</th>\n",
       "      <td>2022-07-18 23:50</td>\n",
       "      <td>326.739197</td>\n",
       "      <td>317.827881</td>\n",
       "      <td>317.964996</td>\n",
       "      <td>318.104462</td>\n",
       "    </tr>\n",
       "  </tbody>\n",
       "</table>\n",
       "<p>6912 rows × 5 columns</p>\n",
       "</div>"
      ],
      "text/plain": [
       "                 ymdhm  wl_1018662  wl_1018680  wl_1018683  wl_1019630\n",
       "0     2022-06-01 00:00  288.294586  279.388550  277.245331  274.106812\n",
       "1     2022-06-01 00:10  280.480438  270.659668  267.147064  260.063507\n",
       "2     2022-06-01 00:20  284.233276  273.763519  270.000305  261.181610\n",
       "3     2022-06-01 00:30  292.709930  281.110992  277.062744  265.448303\n",
       "4     2022-06-01 00:40  283.942047  273.510498  269.756592  261.032043\n",
       "...                ...         ...         ...         ...         ...\n",
       "6907  2022-07-18 23:10  304.334290  298.403717  299.291382  306.808441\n",
       "6908  2022-07-18 23:20  302.822571  297.095612  298.035553  306.057983\n",
       "6909  2022-07-18 23:30  306.740906  300.492249  301.300659  308.031586\n",
       "6910  2022-07-18 23:40  326.638214  317.740356  317.880829  318.053589\n",
       "6911  2022-07-18 23:50  326.739197  317.827881  317.964996  318.104462\n",
       "\n",
       "[6912 rows x 5 columns]"
      ]
     },
     "execution_count": 29,
     "metadata": {},
     "output_type": "execute_result"
    }
   ],
   "source": [
    "sample_submission"
   ]
  },
  {
   "cell_type": "code",
   "execution_count": 62,
   "metadata": {},
   "outputs": [],
   "source": [
    "sample_submission.to_csv(\"baseline.csv\", index = False)"
   ]
  }
 ],
 "metadata": {
  "kernelspec": {
   "display_name": "Python 3.9.12 ('base')",
   "language": "python",
   "name": "python3"
  },
  "language_info": {
   "codemirror_mode": {
    "name": "ipython",
    "version": 3
   },
   "file_extension": ".py",
   "mimetype": "text/x-python",
   "name": "python",
   "nbconvert_exporter": "python",
   "pygments_lexer": "ipython3",
   "version": "3.9.12"
  },
  "orig_nbformat": 4,
  "vscode": {
   "interpreter": {
    "hash": "43af7393c8e3bb0730eb35f197fc5ab4355397fc73467075a0f020e747dbc619"
   }
  }
 },
 "nbformat": 4,
 "nbformat_minor": 2
}
