{
 "cells": [
  {
   "cell_type": "code",
   "execution_count": 1,
   "metadata": {},
   "outputs": [],
   "source": [
    "import pandas as pd\n",
    "import numpy as np\n",
    "\n",
    "from glob import glob\n",
    "from tqdm import tqdm\n",
    "from scipy import interpolate\n",
    "\n",
    "import warnings; warnings.filterwarnings(action='ignore') # 경고 메시지 무시\n",
    "import matplotlib.pyplot as plt # 데이터 시각화 라이브러리\n",
    "import pickle # 객체 입출력을 위한 라이브러리\n",
    "from sklearn.model_selection import train_test_split # 훈련 데이터, 테스트 데이터 분리\n",
    "from sklearn.preprocessing import StandardScaler # 정규화\n",
    "from sklearn.ensemble import RandomForestClassifier as RFC # 랜덤포레스트 분류 알고리즘\n",
    "from sklearn.tree import DecisionTreeClassifier as DTC # 의사결정나무 분류 알고리즘\n",
    "from sklearn.ensemble import GradientBoostingClassifier as GBC # 그래디언트 부스팅 분류 알고리즘"
   ]
  },
  {
   "cell_type": "code",
   "execution_count": 2,
   "metadata": {},
   "outputs": [
    {
     "data": {
      "text/plain": [
       "['C:/Users/liked/OneDrive/바탕 화면/데이콘/팔당댐/water_data\\\\data_2012.csv',\n",
       " 'C:/Users/liked/OneDrive/바탕 화면/데이콘/팔당댐/water_data\\\\data_2013.csv',\n",
       " 'C:/Users/liked/OneDrive/바탕 화면/데이콘/팔당댐/water_data\\\\data_2014.csv',\n",
       " 'C:/Users/liked/OneDrive/바탕 화면/데이콘/팔당댐/water_data\\\\data_2015.csv',\n",
       " 'C:/Users/liked/OneDrive/바탕 화면/데이콘/팔당댐/water_data\\\\data_2016.csv',\n",
       " 'C:/Users/liked/OneDrive/바탕 화면/데이콘/팔당댐/water_data\\\\data_2017.csv',\n",
       " 'C:/Users/liked/OneDrive/바탕 화면/데이콘/팔당댐/water_data\\\\data_2018.csv',\n",
       " 'C:/Users/liked/OneDrive/바탕 화면/데이콘/팔당댐/water_data\\\\data_2019.csv',\n",
       " 'C:/Users/liked/OneDrive/바탕 화면/데이콘/팔당댐/water_data\\\\data_2020.csv',\n",
       " 'C:/Users/liked/OneDrive/바탕 화면/데이콘/팔당댐/water_data\\\\data_2021.csv',\n",
       " 'C:/Users/liked/OneDrive/바탕 화면/데이콘/팔당댐/water_data\\\\data_2022.csv']"
      ]
     },
     "execution_count": 2,
     "metadata": {},
     "output_type": "execute_result"
    }
   ],
   "source": [
    "w_list = sorted(glob(\"C:/Users/liked/OneDrive/바탕 화면/데이콘/팔당댐/water_data/*.csv\"))\n",
    "w_list"
   ]
  },
  {
   "cell_type": "code",
   "execution_count": 4,
   "metadata": {},
   "outputs": [
    {
     "name": "stderr",
     "output_type": "stream",
     "text": [
      "100%|██████████| 26064/26064 [00:28<00:00, 910.92it/s] \n",
      "100%|██████████| 26064/26064 [00:28<00:00, 928.41it/s] \n",
      "100%|██████████| 26064/26064 [00:33<00:00, 773.86it/s]\n",
      "100%|██████████| 26064/26064 [00:31<00:00, 826.17it/s]\n",
      "100%|██████████| 26064/26064 [00:30<00:00, 868.31it/s]\n",
      "100%|██████████| 26064/26064 [00:30<00:00, 856.70it/s]\n",
      "100%|██████████| 26064/26064 [00:30<00:00, 844.89it/s]\n",
      "100%|██████████| 26064/26064 [00:36<00:00, 711.24it/s]\n",
      "100%|██████████| 26064/26064 [00:33<00:00, 767.56it/s]\n",
      "100%|██████████| 26064/26064 [00:37<00:00, 703.41it/s]\n"
     ]
    }
   ],
   "source": [
    "train_data = []\n",
    "train_label = []\n",
    "num = 0\n",
    "\n",
    "for i in w_list[:-1]:\n",
    "    \n",
    "    tmp = pd.read_csv(i)\n",
    "    tmp = tmp.replace(\" \", np.nan)\n",
    "    tmp = tmp.interpolate(method = 'values')\n",
    "    tmp = tmp.fillna(0)\n",
    "    \n",
    "    # 431은 3일 간격을 의미하며, 432는 예측하고자 하는 시간을 의미\n",
    "    \n",
    "    for j in tqdm(range(len(tmp)-432)):\n",
    "        train_data.append(np.array(tmp.loc[j:j + 431, [\"swl\", \"inf\", \"sfw\", \"ecpc\",\n",
    "                                                       \"tototf\", \"tide_level\",\n",
    "                                                       \"fw_1018662\", \"fw_1018680\",\n",
    "                                                       \"fw_1018683\", \"fw_1019630\"]]).astype(float))\n",
    "        \n",
    "        train_label.append(np.array(tmp.loc[j + 432, [\"wl_1018662\", \"wl_1018680\",\n",
    "                                                      \"wl_1018683\", \"wl_1019630\"]]).astype(float))"
   ]
  },
  {
   "cell_type": "code",
   "execution_count": 5,
   "metadata": {},
   "outputs": [
    {
     "data": {
      "text/plain": [
       "array([[[ 24.8  , 555.   , 219.07 , ...,   0.   , 729.8  , 540.18 ],\n",
       "        [ 24.794, 464.6  , 218.86 , ...,   0.   , 731.48 , 540.18 ],\n",
       "        [ 24.789, 478.1  , 218.69 , ...,   0.   , 726.42 , 540.18 ],\n",
       "        ...,\n",
       "        [ 25.039, 345.6  , 227.41 , ...,   0.   , 305.44 , 528.33 ],\n",
       "        [ 25.039, 351.9  , 227.41 , ...,   0.   , 313.83 , 516.61 ],\n",
       "        [ 25.039, 339.1  , 227.41 , ...,   0.   , 335.19 , 505.03 ]],\n",
       "\n",
       "       [[ 24.794, 464.6  , 218.86 , ...,   0.   , 731.48 , 540.18 ],\n",
       "        [ 24.789, 478.1  , 218.69 , ...,   0.   , 726.42 , 540.18 ],\n",
       "        [ 24.789, 464.8  , 218.69 , ...,   0.   , 726.42 , 552.17 ],\n",
       "        ...,\n",
       "        [ 25.039, 351.9  , 227.41 , ...,   0.   , 313.83 , 516.61 ],\n",
       "        [ 25.039, 339.1  , 227.41 , ...,   0.   , 335.19 , 505.03 ],\n",
       "        [ 25.04 , 640.   , 227.44 , ...,   0.   , 343.1  , 505.03 ]],\n",
       "\n",
       "       [[ 24.789, 478.1  , 218.69 , ...,   0.   , 726.42 , 540.18 ],\n",
       "        [ 24.789, 464.8  , 218.69 , ...,   0.   , 726.42 , 552.17 ],\n",
       "        [ 24.789, 478.1  , 218.69 , ...,   0.   , 707.17 , 564.29 ],\n",
       "        ...,\n",
       "        [ 25.039, 339.1  , 227.41 , ...,   0.   , 335.19 , 505.03 ],\n",
       "        [ 25.04 , 640.   , 227.44 , ...,   0.   , 343.1  , 505.03 ],\n",
       "        [ 25.039, 251.7  , 227.41 , ...,   0.   , 381.6  , 505.03 ]],\n",
       "\n",
       "       ...,\n",
       "\n",
       "       [[ 25.03 , 151.   , 212.5  , ...,   0.   , 231.65 , 328.54 ],\n",
       "        [ 25.02 ,  50.   , 212.14 , ...,   0.   , 231.65 , 328.54 ],\n",
       "        [ 25.02 ,  50.   , 212.14 , ...,   0.   , 260.1  , 328.54 ],\n",
       "        ...,\n",
       "        [ 25.05 , 157.   , 213.23 , ...,   0.   , 215.4  , 319.36 ],\n",
       "        [ 25.04 ,  56.   , 212.86 , ...,   0.   , 207.27 , 310.31 ],\n",
       "        [ 25.04 ,  56.   , 212.86 , ...,   0.   , 211.33 , 319.36 ]],\n",
       "\n",
       "       [[ 25.02 ,  50.   , 212.14 , ...,   0.   , 231.65 , 328.54 ],\n",
       "        [ 25.02 ,  50.   , 212.14 , ...,   0.   , 260.1  , 328.54 ],\n",
       "        [ 25.02 ,  50.   , 212.14 , ...,   0.   , 231.65 , 328.54 ],\n",
       "        ...,\n",
       "        [ 25.04 ,  56.   , 212.86 , ...,   0.   , 207.27 , 310.31 ],\n",
       "        [ 25.04 ,  56.   , 212.86 , ...,   0.   , 211.33 , 319.36 ],\n",
       "        [ 25.04 ,  56.   , 212.86 , ...,   0.   , 219.46 , 319.36 ]],\n",
       "\n",
       "       [[ 25.02 ,  50.   , 212.14 , ...,   0.   , 260.1  , 328.54 ],\n",
       "        [ 25.02 ,  50.   , 212.14 , ...,   0.   , 231.65 , 328.54 ],\n",
       "        [ 25.02 ,  50.   , 212.14 , ...,   0.   , 235.72 , 328.54 ],\n",
       "        ...,\n",
       "        [ 25.04 ,  56.   , 212.86 , ...,   0.   , 211.33 , 319.36 ],\n",
       "        [ 25.04 ,  56.   , 212.86 , ...,   0.   , 219.46 , 319.36 ],\n",
       "        [ 25.04 ,  56.   , 212.86 , ...,   0.   , 227.59 , 319.36 ]]])"
      ]
     },
     "execution_count": 5,
     "metadata": {},
     "output_type": "execute_result"
    }
   ],
   "source": [
    "train_data = np.array(train_data)\n",
    "train_label = np.array(train_label)\n",
    "train_data"
   ]
  },
  {
   "cell_type": "code",
   "execution_count": 3,
   "metadata": {},
   "outputs": [],
   "source": []
  },
  {
   "cell_type": "code",
   "execution_count": null,
   "metadata": {},
   "outputs": [],
   "source": []
  },
  {
   "cell_type": "code",
   "execution_count": null,
   "metadata": {},
   "outputs": [],
   "source": []
  }
 ],
 "metadata": {
  "kernelspec": {
   "display_name": "Python 3.9.12 ('base')",
   "language": "python",
   "name": "python3"
  },
  "language_info": {
   "codemirror_mode": {
    "name": "ipython",
    "version": 3
   },
   "file_extension": ".py",
   "mimetype": "text/x-python",
   "name": "python",
   "nbconvert_exporter": "python",
   "pygments_lexer": "ipython3",
   "version": "3.9.12"
  },
  "orig_nbformat": 4,
  "vscode": {
   "interpreter": {
    "hash": "43af7393c8e3bb0730eb35f197fc5ab4355397fc73467075a0f020e747dbc619"
   }
  }
 },
 "nbformat": 4,
 "nbformat_minor": 2
}
