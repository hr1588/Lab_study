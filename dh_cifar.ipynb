{
  "cells": [
    {
      "cell_type": "code",
      "execution_count": 6,
      "metadata": {
        "id": "7Sd2hmWiTPdb"
      },
      "outputs": [],
      "source": [
        "import numpy as np\n",
        "import matplotlib.pyplot as plt\n",
        "import tensorflow as tf\n",
        "from tensorflow import keras\n",
        "from tensorflow.keras import datasets, layers, models, Input\n",
        "from keras.models import Model\n",
        "from keras.models  import Sequential\n",
        "from keras.layers import Dense, Dropout, Activation, Flatten\n",
        "from keras.layers import Conv2D, MaxPooling2D\n",
        "from keras import optimizers, initializers, regularizers, metrics, callbacks\n",
        "from keras.callbacks import ModelCheckpoint\n",
        "from sklearn.model_selection import train_test_split\n",
        "from keras.utils import np_utils"
      ]
    },
    {
      "cell_type": "code",
      "execution_count": 7,
      "metadata": {
        "id": "aHbCb5zVTV5a"
      },
      "outputs": [],
      "source": [
        "cifar10 = datasets.cifar10"
      ]
    },
    {
      "cell_type": "code",
      "execution_count": 8,
      "metadata": {
        "colab": {
          "base_uri": "https://localhost:8080/"
        },
        "id": "CCvpP_5UTeJs",
        "outputId": "d027c129-3bdf-4d8b-9dfc-06e02171d3ee"
      },
      "outputs": [
        {
          "output_type": "stream",
          "name": "stdout",
          "text": [
            "Downloading data from https://www.cs.toronto.edu/~kriz/cifar-10-python.tar.gz\n",
            "170498071/170498071 [==============================] - 3s 0us/step\n"
          ]
        }
      ],
      "source": [
        "(train_images, train_labels), (test_images, test_labels) = cifar10.load_data()"
      ]
    },
    {
      "cell_type": "code",
      "execution_count": 9,
      "metadata": {
        "colab": {
          "base_uri": "https://localhost:8080/"
        },
        "id": "raVUJuU-Tr61",
        "outputId": "f61293bb-2aac-41ff-b7e7-f2d8b14154d8"
      },
      "outputs": [
        {
          "output_type": "stream",
          "name": "stdout",
          "text": [
            "(50000, 32, 32, 3) (50000, 1) (10000, 32, 32, 3) (10000, 1)\n"
          ]
        }
      ],
      "source": [
        "print(train_images.shape, train_labels.shape, test_images.shape, test_labels.shape)"
      ]
    },
    {
      "cell_type": "code",
      "execution_count": 10,
      "metadata": {
        "id": "nzClAiD6UKmj"
      },
      "outputs": [],
      "source": [
        "train_images = train_images/255.0\n",
        "test_images = test_images/255.0"
      ]
    },
    {
      "cell_type": "code",
      "execution_count": 11,
      "metadata": {
        "id": "BxPPt2RMVNge"
      },
      "outputs": [],
      "source": [
        "x = np.concatenate((train_images, test_images))\n",
        "y = np.concatenate((train_labels, test_labels))\n",
        "\n",
        "x_train, x_test, y_train, y_test = train_test_split(x,y, test_size = 0.1, random_state = 42) # train / test 분할"
      ]
    },
    {
      "cell_type": "code",
      "execution_count": 12,
      "metadata": {
        "id": "2NYjMLN1Uxn6"
      },
      "outputs": [],
      "source": [
        "train_input, val_input, train_target, val_target = train_test_split(x_train, y_train, test_size = 0.1,\n",
        "                                                                    random_state = 42) # train / val 분할"
      ]
    },
    {
      "cell_type": "code",
      "execution_count": 13,
      "metadata": {
        "colab": {
          "base_uri": "https://localhost:8080/"
        },
        "id": "17WMmks8V6d-",
        "outputId": "f2334a5f-bcc4-43eb-d375-143071fef280"
      },
      "outputs": [
        {
          "output_type": "stream",
          "name": "stdout",
          "text": [
            "(48600, 32, 32, 3) (48600, 1) (5400, 32, 32, 3) (5400, 1)\n"
          ]
        }
      ],
      "source": [
        "print(train_input.shape, train_target.shape, val_input.shape, val_target.shape)"
      ]
    },
    {
      "cell_type": "code",
      "execution_count": 14,
      "metadata": {
        "colab": {
          "base_uri": "https://localhost:8080/",
          "height": 266
        },
        "id": "gbRqr8iUTxPv",
        "outputId": "b4b9dbc8-764a-446e-8fdf-22989b519877"
      },
      "outputs": [
        {
          "output_type": "display_data",
          "data": {
            "text/plain": [
              "<Figure size 432x288 with 2 Axes>"
            ],
            "image/png": "[encoded data removed]"
          },
          "metadata": {
            "needs_background": "light"
          }
        }
      ],
      "source": [
        "plt.figure()\n",
        "plt.imshow(train_input[0])\n",
        "plt.colorbar()\n",
        "plt.grid(True)\n",
        "plt.show()"
      ]
    },
    {
      "cell_type": "code",
      "source": [
        "batch_size = 512\n",
        "num_classes = len(np.unique(train_target))\n",
        "epochs = 50\n",
        "lr = 1e-4\n",
        "lr_weight_decay = 0.95\n",
        "\n",
        "train_target = np_utils.to_categorical(train_target, num_classes) # one-hot vector로 변환\n",
        "val_target = np_utils.to_categorical(val_target, num_classes)"
      ],
      "metadata": {
        "id": "_e6gwczMDIN4"
      },
      "execution_count": 15,
      "outputs": []
    },
    {
      "cell_type": "code",
      "execution_count": 17,
      "metadata": {
        "colab": {
          "base_uri": "https://localhost:8080/"
        },
        "id": "_oLzQRfnUC-P",
        "outputId": "f4ec9e9c-0215-49fe-8fa8-a471260b5e0f"
      },
      "outputs": [
        {
          "output_type": "stream",
          "name": "stdout",
          "text": [
            "Dropout :  0.0\n",
            "Epoch 1/50\n",
            "95/95 [==============================] - 3s 21ms/step - loss: 1.6950 - accuracy: 0.3766 - val_loss: 1.3242 - val_accuracy: 0.5302\n",
            "Epoch 2/50\n",
            "95/95 [==============================] - 2s 17ms/step - loss: 1.1985 - accuracy: 0.5678 - val_loss: 1.0667 - val_accuracy: 0.6198\n",
            "Epoch 3/50\n",
            "95/95 [==============================] - 2s 17ms/step - loss: 0.9594 - accuracy: 0.6622 - val_loss: 0.8906 - val_accuracy: 0.6852\n",
            "Epoch 4/50\n",
            "95/95 [==============================] - 2s 17ms/step - loss: 0.7971 - accuracy: 0.7214 - val_loss: 0.7963 - val_accuracy: 0.7215\n",
            "Epoch 5/50\n",
            "95/95 [==============================] - 2s 17ms/step - loss: 0.6734 - accuracy: 0.7653 - val_loss: 0.7825 - val_accuracy: 0.7313\n",
            "Epoch 6/50\n",
            "95/95 [==============================] - 2s 20ms/step - loss: 0.5629 - accuracy: 0.8052 - val_loss: 0.7269 - val_accuracy: 0.7496\n",
            "Epoch 7/50\n",
            "95/95 [==============================] - 2s 17ms/step - loss: 0.4776 - accuracy: 0.8360 - val_loss: 0.7199 - val_accuracy: 0.7578\n",
            "Epoch 8/50\n",
            "95/95 [==============================] - 2s 17ms/step - loss: 0.3889 - accuracy: 0.8636 - val_loss: 0.7022 - val_accuracy: 0.7776\n",
            "Epoch 9/50\n",
            "95/95 [==============================] - 2s 16ms/step - loss: 0.2983 - accuracy: 0.8961 - val_loss: 0.7279 - val_accuracy: 0.7693\n",
            "Epoch 10/50\n",
            "95/95 [==============================] - 2s 16ms/step - loss: 0.2406 - accuracy: 0.9173 - val_loss: 0.8367 - val_accuracy: 0.7635\n",
            "169/169 [==============================] - 0s 2ms/step\n",
            "Test score: 0.7022513151168823\n",
            "Test accuracy: 0.7775925993919373\n",
            "Dropout :  0.1\n",
            "Epoch 1/50\n",
            "95/95 [==============================] - 3s 25ms/step - loss: 1.7549 - accuracy: 0.3562 - val_loss: 1.5052 - val_accuracy: 0.4650\n",
            "Epoch 2/50\n",
            "95/95 [==============================] - 2s 22ms/step - loss: 1.2947 - accuracy: 0.5317 - val_loss: 1.1991 - val_accuracy: 0.5781\n",
            "Epoch 3/50\n",
            "95/95 [==============================] - 2s 22ms/step - loss: 1.0302 - accuracy: 0.6303 - val_loss: 0.9910 - val_accuracy: 0.6567\n",
            "Epoch 4/50\n",
            "95/95 [==============================] - 2s 22ms/step - loss: 0.8508 - accuracy: 0.6998 - val_loss: 0.8398 - val_accuracy: 0.7170\n",
            "Epoch 5/50\n",
            "95/95 [==============================] - 2s 22ms/step - loss: 0.7200 - accuracy: 0.7474 - val_loss: 0.7438 - val_accuracy: 0.7448\n",
            "Epoch 6/50\n",
            "95/95 [==============================] - 2s 22ms/step - loss: 0.6149 - accuracy: 0.7840 - val_loss: 0.7034 - val_accuracy: 0.7609\n",
            "Epoch 7/50\n",
            "95/95 [==============================] - 2s 22ms/step - loss: 0.5154 - accuracy: 0.8186 - val_loss: 0.6917 - val_accuracy: 0.7628\n",
            "Epoch 8/50\n",
            "95/95 [==============================] - 2s 22ms/step - loss: 0.4433 - accuracy: 0.8443 - val_loss: 0.6693 - val_accuracy: 0.7680\n",
            "Epoch 9/50\n",
            "95/95 [==============================] - 2s 21ms/step - loss: 0.3724 - accuracy: 0.8697 - val_loss: 0.6708 - val_accuracy: 0.7709\n",
            "Epoch 10/50\n",
            "95/95 [==============================] - 2s 21ms/step - loss: 0.2963 - accuracy: 0.8946 - val_loss: 0.6840 - val_accuracy: 0.7770\n",
            "169/169 [==============================] - 0s 2ms/step\n",
            "Test score: 0.669278621673584\n",
            "Test accuracy: 0.7679629921913147\n",
            "Dropout :  0.2\n",
            "Epoch 1/50\n",
            "95/95 [==============================] - 3s 25ms/step - loss: 1.7520 - accuracy: 0.3555 - val_loss: 1.6281 - val_accuracy: 0.4633\n",
            "Epoch 2/50\n",
            "95/95 [==============================] - 2s 22ms/step - loss: 1.2604 - accuracy: 0.5478 - val_loss: 1.2587 - val_accuracy: 0.5952\n",
            "Epoch 3/50\n",
            "95/95 [==============================] - 2s 22ms/step - loss: 1.0127 - accuracy: 0.6403 - val_loss: 1.0293 - val_accuracy: 0.6663\n",
            "Epoch 4/50\n",
            "95/95 [==============================] - 2s 22ms/step - loss: 0.8444 - accuracy: 0.7017 - val_loss: 0.9017 - val_accuracy: 0.6950\n",
            "Epoch 5/50\n",
            "95/95 [==============================] - 2s 22ms/step - loss: 0.7306 - accuracy: 0.7439 - val_loss: 0.8259 - val_accuracy: 0.7202\n",
            "Epoch 6/50\n",
            "95/95 [==============================] - 2s 22ms/step - loss: 0.6380 - accuracy: 0.7760 - val_loss: 0.7803 - val_accuracy: 0.7331\n",
            "Epoch 7/50\n",
            "95/95 [==============================] - 2s 22ms/step - loss: 0.5627 - accuracy: 0.8022 - val_loss: 0.7221 - val_accuracy: 0.7693\n",
            "Epoch 8/50\n",
            "95/95 [==============================] - 2s 22ms/step - loss: 0.4755 - accuracy: 0.8309 - val_loss: 0.6644 - val_accuracy: 0.7759\n",
            "Epoch 9/50\n",
            "95/95 [==============================] - 2s 22ms/step - loss: 0.4172 - accuracy: 0.8541 - val_loss: 0.6303 - val_accuracy: 0.7894\n",
            "Epoch 10/50\n",
            "95/95 [==============================] - 2s 21ms/step - loss: 0.3715 - accuracy: 0.8694 - val_loss: 0.6452 - val_accuracy: 0.7835\n",
            "Epoch 11/50\n",
            "95/95 [==============================] - 2s 21ms/step - loss: 0.2990 - accuracy: 0.8933 - val_loss: 0.6451 - val_accuracy: 0.7870\n",
            "169/169 [==============================] - 0s 2ms/step\n",
            "Test score: 0.6302826404571533\n",
            "Test accuracy: 0.7894444465637207\n",
            "Dropout :  0.3\n",
            "Epoch 1/50\n",
            "95/95 [==============================] - 3s 25ms/step - loss: 1.8162 - accuracy: 0.3380 - val_loss: 1.7813 - val_accuracy: 0.4287\n",
            "Epoch 2/50\n",
            "95/95 [==============================] - 2s 22ms/step - loss: 1.3441 - accuracy: 0.5113 - val_loss: 1.4396 - val_accuracy: 0.5791\n",
            "Epoch 3/50\n",
            "95/95 [==============================] - 2s 22ms/step - loss: 1.0779 - accuracy: 0.6153 - val_loss: 1.2231 - val_accuracy: 0.6509\n",
            "Epoch 4/50\n",
            "95/95 [==============================] - 2s 22ms/step - loss: 0.9218 - accuracy: 0.6741 - val_loss: 1.1096 - val_accuracy: 0.6861\n",
            "Epoch 5/50\n",
            "95/95 [==============================] - 2s 22ms/step - loss: 0.8019 - accuracy: 0.7193 - val_loss: 1.0055 - val_accuracy: 0.6919\n",
            "Epoch 6/50\n",
            "95/95 [==============================] - 2s 22ms/step - loss: 0.7108 - accuracy: 0.7519 - val_loss: 0.8689 - val_accuracy: 0.7393\n",
            "Epoch 7/50\n",
            "95/95 [==============================] - 2s 22ms/step - loss: 0.6248 - accuracy: 0.7793 - val_loss: 0.8314 - val_accuracy: 0.7450\n",
            "Epoch 8/50\n",
            "95/95 [==============================] - 2s 22ms/step - loss: 0.5569 - accuracy: 0.8029 - val_loss: 0.8091 - val_accuracy: 0.7469\n",
            "Epoch 9/50\n",
            "95/95 [==============================] - 2s 22ms/step - loss: 0.5070 - accuracy: 0.8202 - val_loss: 0.7588 - val_accuracy: 0.7559\n",
            "Epoch 10/50\n",
            "95/95 [==============================] - 2s 22ms/step - loss: 0.4408 - accuracy: 0.8441 - val_loss: 0.7102 - val_accuracy: 0.7720\n",
            "Epoch 11/50\n",
            "95/95 [==============================] - 2s 22ms/step - loss: 0.3947 - accuracy: 0.8589 - val_loss: 0.6830 - val_accuracy: 0.7663\n",
            "Epoch 12/50\n",
            "95/95 [==============================] - 2s 22ms/step - loss: 0.3480 - accuracy: 0.8771 - val_loss: 0.6669 - val_accuracy: 0.7691\n",
            "Epoch 13/50\n",
            "95/95 [==============================] - 2s 22ms/step - loss: 0.3019 - accuracy: 0.8923 - val_loss: 0.6569 - val_accuracy: 0.7759\n",
            "Epoch 14/50\n",
            "95/95 [==============================] - 2s 21ms/step - loss: 0.2746 - accuracy: 0.9021 - val_loss: 0.6888 - val_accuracy: 0.7709\n",
            "Epoch 15/50\n",
            "95/95 [==============================] - 2s 22ms/step - loss: 0.2423 - accuracy: 0.9121 - val_loss: 0.6366 - val_accuracy: 0.7819\n",
            "Epoch 16/50\n",
            "95/95 [==============================] - 2s 22ms/step - loss: 0.2188 - accuracy: 0.9208 - val_loss: 0.6266 - val_accuracy: 0.7819\n",
            "Epoch 17/50\n",
            "95/95 [==============================] - 2s 21ms/step - loss: 0.2011 - accuracy: 0.9285 - val_loss: 0.6357 - val_accuracy: 0.7856\n",
            "Epoch 18/50\n",
            "95/95 [==============================] - 2s 21ms/step - loss: 0.1760 - accuracy: 0.9376 - val_loss: 0.6381 - val_accuracy: 0.7874\n",
            "169/169 [==============================] - 0s 2ms/step\n",
            "Test score: 0.6266113519668579\n",
            "Test accuracy: 0.7818518280982971\n",
            "Dropout :  0.4\n",
            "Epoch 1/50\n",
            "95/95 [==============================] - 3s 25ms/step - loss: 1.9161 - accuracy: 0.2950 - val_loss: 1.9511 - val_accuracy: 0.3672\n",
            "Epoch 2/50\n",
            "95/95 [==============================] - 2s 22ms/step - loss: 1.4608 - accuracy: 0.4681 - val_loss: 1.8048 - val_accuracy: 0.4165\n",
            "Epoch 3/50\n",
            "95/95 [==============================] - 2s 22ms/step - loss: 1.2648 - accuracy: 0.5440 - val_loss: 1.5641 - val_accuracy: 0.5565\n",
            "Epoch 4/50\n",
            "95/95 [==============================] - 2s 22ms/step - loss: 1.0957 - accuracy: 0.6106 - val_loss: 1.4382 - val_accuracy: 0.6026\n",
            "Epoch 5/50\n",
            "95/95 [==============================] - 2s 22ms/step - loss: 0.9575 - accuracy: 0.6591 - val_loss: 1.3193 - val_accuracy: 0.6261\n",
            "Epoch 6/50\n",
            "95/95 [==============================] - 2s 22ms/step - loss: 0.8481 - accuracy: 0.6994 - val_loss: 1.1651 - val_accuracy: 0.7026\n",
            "Epoch 7/50\n",
            "95/95 [==============================] - 2s 22ms/step - loss: 0.7697 - accuracy: 0.7306 - val_loss: 1.0863 - val_accuracy: 0.7085\n",
            "Epoch 8/50\n",
            "95/95 [==============================] - 2s 22ms/step - loss: 0.6877 - accuracy: 0.7593 - val_loss: 1.0029 - val_accuracy: 0.7104\n",
            "Epoch 9/50\n",
            "95/95 [==============================] - 2s 22ms/step - loss: 0.6380 - accuracy: 0.7755 - val_loss: 0.9417 - val_accuracy: 0.7304\n",
            "Epoch 10/50\n",
            "95/95 [==============================] - 2s 23ms/step - loss: 0.5626 - accuracy: 0.8019 - val_loss: 0.9249 - val_accuracy: 0.7431\n",
            "Epoch 11/50\n",
            "95/95 [==============================] - 2s 22ms/step - loss: 0.5205 - accuracy: 0.8154 - val_loss: 0.8334 - val_accuracy: 0.7506\n",
            "Epoch 12/50\n",
            "95/95 [==============================] - 2s 22ms/step - loss: 0.4705 - accuracy: 0.8328 - val_loss: 0.8268 - val_accuracy: 0.7733\n",
            "Epoch 13/50\n",
            "95/95 [==============================] - 2s 22ms/step - loss: 0.4323 - accuracy: 0.8452 - val_loss: 0.7812 - val_accuracy: 0.7680\n",
            "Epoch 14/50\n",
            "95/95 [==============================] - 2s 22ms/step - loss: 0.3960 - accuracy: 0.8600 - val_loss: 0.7791 - val_accuracy: 0.7685\n",
            "Epoch 15/50\n",
            "95/95 [==============================] - 2s 22ms/step - loss: 0.3686 - accuracy: 0.8686 - val_loss: 0.7284 - val_accuracy: 0.7846\n",
            "Epoch 16/50\n",
            "95/95 [==============================] - 2s 21ms/step - loss: 0.3386 - accuracy: 0.8781 - val_loss: 0.7498 - val_accuracy: 0.7639\n",
            "Epoch 17/50\n",
            "95/95 [==============================] - 2s 22ms/step - loss: 0.3054 - accuracy: 0.8891 - val_loss: 0.7069 - val_accuracy: 0.7804\n",
            "Epoch 18/50\n",
            "95/95 [==============================] - 2s 21ms/step - loss: 0.2833 - accuracy: 0.8986 - val_loss: 0.7221 - val_accuracy: 0.7713\n",
            "Epoch 19/50\n",
            "95/95 [==============================] - 2s 22ms/step - loss: 0.2608 - accuracy: 0.9062 - val_loss: 0.6894 - val_accuracy: 0.7815\n",
            "Epoch 20/50\n",
            "95/95 [==============================] - 2s 22ms/step - loss: 0.2392 - accuracy: 0.9144 - val_loss: 0.6862 - val_accuracy: 0.7852\n",
            "Epoch 21/50\n",
            "95/95 [==============================] - 2s 21ms/step - loss: 0.2242 - accuracy: 0.9200 - val_loss: 0.6901 - val_accuracy: 0.7746\n",
            "Epoch 22/50\n",
            "95/95 [==============================] - 2s 22ms/step - loss: 0.2059 - accuracy: 0.9268 - val_loss: 0.6638 - val_accuracy: 0.7806\n",
            "Epoch 23/50\n",
            "95/95 [==============================] - 2s 22ms/step - loss: 0.1811 - accuracy: 0.9343 - val_loss: 0.6574 - val_accuracy: 0.7774\n",
            "Epoch 24/50\n",
            "95/95 [==============================] - 2s 22ms/step - loss: 0.1769 - accuracy: 0.9356 - val_loss: 0.6508 - val_accuracy: 0.7869\n",
            "Epoch 25/50\n",
            "95/95 [==============================] - 2s 21ms/step - loss: 0.1668 - accuracy: 0.9404 - val_loss: 0.6771 - val_accuracy: 0.7783\n",
            "Epoch 26/50\n",
            "95/95 [==============================] - 2s 21ms/step - loss: 0.1566 - accuracy: 0.9451 - val_loss: 0.6747 - val_accuracy: 0.7774\n",
            "169/169 [==============================] - 0s 2ms/step\n",
            "Test score: 0.6507938504219055\n",
            "Test accuracy: 0.7868518233299255\n",
            "Dropout :  0.5\n",
            "Epoch 1/50\n",
            "95/95 [==============================] - 3s 25ms/step - loss: 1.9170 - accuracy: 0.2995 - val_loss: 2.0852 - val_accuracy: 0.2819\n",
            "Epoch 2/50\n",
            "95/95 [==============================] - 2s 22ms/step - loss: 1.4434 - accuracy: 0.4751 - val_loss: 1.8402 - val_accuracy: 0.4796\n",
            "Epoch 3/50\n",
            "95/95 [==============================] - 2s 22ms/step - loss: 1.2426 - accuracy: 0.5536 - val_loss: 1.7096 - val_accuracy: 0.4800\n",
            "Epoch 4/50\n",
            "95/95 [==============================] - 2s 22ms/step - loss: 1.0886 - accuracy: 0.6106 - val_loss: 1.5243 - val_accuracy: 0.5693\n",
            "Epoch 5/50\n",
            "95/95 [==============================] - 2s 22ms/step - loss: 0.9675 - accuracy: 0.6580 - val_loss: 1.4605 - val_accuracy: 0.6041\n",
            "Epoch 6/50\n",
            "95/95 [==============================] - 2s 22ms/step - loss: 0.8793 - accuracy: 0.6879 - val_loss: 1.3133 - val_accuracy: 0.6689\n",
            "Epoch 7/50\n",
            "95/95 [==============================] - 2s 22ms/step - loss: 0.8047 - accuracy: 0.7176 - val_loss: 1.2117 - val_accuracy: 0.7028\n",
            "Epoch 8/50\n",
            "95/95 [==============================] - 2s 22ms/step - loss: 0.7435 - accuracy: 0.7378 - val_loss: 1.1492 - val_accuracy: 0.7044\n",
            "Epoch 9/50\n",
            "95/95 [==============================] - 2s 22ms/step - loss: 0.6767 - accuracy: 0.7609 - val_loss: 1.1189 - val_accuracy: 0.7180\n",
            "Epoch 10/50\n",
            "95/95 [==============================] - 2s 22ms/step - loss: 0.6283 - accuracy: 0.7793 - val_loss: 1.0932 - val_accuracy: 0.7344\n",
            "Epoch 11/50\n",
            "95/95 [==============================] - 2s 22ms/step - loss: 0.5840 - accuracy: 0.7932 - val_loss: 1.0518 - val_accuracy: 0.7331\n",
            "Epoch 12/50\n",
            "95/95 [==============================] - 2s 22ms/step - loss: 0.5452 - accuracy: 0.8062 - val_loss: 1.0434 - val_accuracy: 0.7404\n",
            "Epoch 13/50\n",
            "95/95 [==============================] - 2s 22ms/step - loss: 0.5135 - accuracy: 0.8182 - val_loss: 0.9903 - val_accuracy: 0.7504\n",
            "Epoch 14/50\n",
            "95/95 [==============================] - 2s 22ms/step - loss: 0.4754 - accuracy: 0.8283 - val_loss: 0.9843 - val_accuracy: 0.7504\n",
            "Epoch 15/50\n",
            "95/95 [==============================] - 2s 22ms/step - loss: 0.4484 - accuracy: 0.8395 - val_loss: 0.9237 - val_accuracy: 0.7587\n",
            "Epoch 16/50\n",
            "95/95 [==============================] - 2s 22ms/step - loss: 0.4161 - accuracy: 0.8517 - val_loss: 0.8748 - val_accuracy: 0.7711\n",
            "Epoch 17/50\n",
            "95/95 [==============================] - 2s 22ms/step - loss: 0.3858 - accuracy: 0.8625 - val_loss: 0.8696 - val_accuracy: 0.7583\n",
            "Epoch 18/50\n",
            "95/95 [==============================] - 2s 22ms/step - loss: 0.3620 - accuracy: 0.8710 - val_loss: 0.8046 - val_accuracy: 0.7839\n",
            "Epoch 19/50\n",
            "95/95 [==============================] - 2s 21ms/step - loss: 0.3337 - accuracy: 0.8800 - val_loss: 0.8181 - val_accuracy: 0.7837\n",
            "Epoch 20/50\n",
            "95/95 [==============================] - 2s 22ms/step - loss: 0.3219 - accuracy: 0.8843 - val_loss: 0.8000 - val_accuracy: 0.7696\n",
            "Epoch 21/50\n",
            "95/95 [==============================] - 2s 22ms/step - loss: 0.3012 - accuracy: 0.8928 - val_loss: 0.7866 - val_accuracy: 0.7856\n",
            "Epoch 22/50\n",
            "95/95 [==============================] - 2s 21ms/step - loss: 0.2777 - accuracy: 0.8994 - val_loss: 0.7891 - val_accuracy: 0.7785\n",
            "Epoch 23/50\n",
            "95/95 [==============================] - 2s 22ms/step - loss: 0.2613 - accuracy: 0.9063 - val_loss: 0.7495 - val_accuracy: 0.7730\n",
            "Epoch 24/50\n",
            "95/95 [==============================] - 2s 22ms/step - loss: 0.2486 - accuracy: 0.9107 - val_loss: 0.7370 - val_accuracy: 0.7839\n",
            "Epoch 25/50\n",
            "95/95 [==============================] - 2s 21ms/step - loss: 0.2395 - accuracy: 0.9141 - val_loss: 0.7725 - val_accuracy: 0.7685\n",
            "Epoch 26/50\n",
            "95/95 [==============================] - 2s 22ms/step - loss: 0.2318 - accuracy: 0.9164 - val_loss: 0.7154 - val_accuracy: 0.7880\n",
            "Epoch 27/50\n",
            "95/95 [==============================] - 2s 21ms/step - loss: 0.2139 - accuracy: 0.9247 - val_loss: 0.7333 - val_accuracy: 0.7739\n",
            "Epoch 28/50\n",
            "95/95 [==============================] - 2s 21ms/step - loss: 0.2069 - accuracy: 0.9247 - val_loss: 0.7347 - val_accuracy: 0.7794\n",
            "169/169 [==============================] - 0s 2ms/step\n",
            "Test score: 0.7153695821762085\n",
            "Test accuracy: 0.7879629731178284\n",
            "Dropout :  0.6\n",
            "Epoch 1/50\n",
            "95/95 [==============================] - 3s 25ms/step - loss: 2.0540 - accuracy: 0.2472 - val_loss: 2.1810 - val_accuracy: 0.2420\n",
            "Epoch 2/50\n",
            "95/95 [==============================] - 2s 22ms/step - loss: 1.5871 - accuracy: 0.4179 - val_loss: 2.0296 - val_accuracy: 0.3537\n",
            "Epoch 3/50\n",
            "95/95 [==============================] - 2s 22ms/step - loss: 1.3843 - accuracy: 0.4954 - val_loss: 1.9266 - val_accuracy: 0.4094\n",
            "Epoch 4/50\n",
            "95/95 [==============================] - 2s 22ms/step - loss: 1.2300 - accuracy: 0.5572 - val_loss: 1.8318 - val_accuracy: 0.4369\n",
            "Epoch 5/50\n",
            "95/95 [==============================] - 2s 22ms/step - loss: 1.1172 - accuracy: 0.5994 - val_loss: 1.7356 - val_accuracy: 0.4543\n",
            "Epoch 6/50\n",
            "95/95 [==============================] - 2s 22ms/step - loss: 1.0357 - accuracy: 0.6309 - val_loss: 1.6066 - val_accuracy: 0.5535\n",
            "Epoch 7/50\n",
            "95/95 [==============================] - 2s 22ms/step - loss: 0.9499 - accuracy: 0.6635 - val_loss: 1.5860 - val_accuracy: 0.5348\n",
            "Epoch 8/50\n",
            "95/95 [==============================] - 2s 22ms/step - loss: 0.8972 - accuracy: 0.6803 - val_loss: 1.5656 - val_accuracy: 0.5507\n",
            "Epoch 9/50\n",
            "95/95 [==============================] - 2s 22ms/step - loss: 0.8460 - accuracy: 0.6998 - val_loss: 1.4700 - val_accuracy: 0.6163\n",
            "Epoch 10/50\n",
            "95/95 [==============================] - 2s 21ms/step - loss: 0.7941 - accuracy: 0.7192 - val_loss: 1.4729 - val_accuracy: 0.5983\n",
            "Epoch 11/50\n",
            "95/95 [==============================] - 2s 22ms/step - loss: 0.7496 - accuracy: 0.7336 - val_loss: 1.3875 - val_accuracy: 0.6080\n",
            "Epoch 12/50\n",
            "95/95 [==============================] - 2s 22ms/step - loss: 0.7107 - accuracy: 0.7469 - val_loss: 1.3671 - val_accuracy: 0.6335\n",
            "Epoch 13/50\n",
            "95/95 [==============================] - 2s 22ms/step - loss: 0.6672 - accuracy: 0.7625 - val_loss: 1.2988 - val_accuracy: 0.6619\n",
            "Epoch 14/50\n",
            "95/95 [==============================] - 2s 22ms/step - loss: 0.6450 - accuracy: 0.7693 - val_loss: 1.2575 - val_accuracy: 0.6917\n",
            "Epoch 15/50\n",
            "95/95 [==============================] - 2s 22ms/step - loss: 0.6081 - accuracy: 0.7829 - val_loss: 1.2344 - val_accuracy: 0.7026\n",
            "Epoch 16/50\n",
            "95/95 [==============================] - 2s 22ms/step - loss: 0.5850 - accuracy: 0.7906 - val_loss: 1.1560 - val_accuracy: 0.7204\n",
            "Epoch 17/50\n",
            "95/95 [==============================] - 2s 21ms/step - loss: 0.5567 - accuracy: 0.8016 - val_loss: 1.2175 - val_accuracy: 0.6891\n",
            "Epoch 18/50\n",
            "95/95 [==============================] - 2s 21ms/step - loss: 0.5263 - accuracy: 0.8123 - val_loss: 1.1735 - val_accuracy: 0.7191\n",
            "169/169 [==============================] - 0s 2ms/step\n",
            "Test score: 1.1560090780258179\n",
            "Test accuracy: 0.720370352268219\n",
            "Dropout :  0.7\n",
            "Epoch 1/50\n",
            "95/95 [==============================] - 3s 25ms/step - loss: 2.2384 - accuracy: 0.1828 - val_loss: 2.2840 - val_accuracy: 0.1270\n",
            "Epoch 2/50\n",
            "95/95 [==============================] - 2s 22ms/step - loss: 1.7944 - accuracy: 0.3460 - val_loss: 2.1918 - val_accuracy: 0.2050\n",
            "Epoch 3/50\n",
            "95/95 [==============================] - 2s 22ms/step - loss: 1.5533 - accuracy: 0.4334 - val_loss: 2.0962 - val_accuracy: 0.2404\n",
            "Epoch 4/50\n",
            "95/95 [==============================] - 2s 22ms/step - loss: 1.4067 - accuracy: 0.4890 - val_loss: 1.9979 - val_accuracy: 0.2998\n",
            "Epoch 5/50\n",
            "95/95 [==============================] - 2s 22ms/step - loss: 1.3075 - accuracy: 0.5272 - val_loss: 1.9757 - val_accuracy: 0.3026\n",
            "Epoch 6/50\n",
            "95/95 [==============================] - 2s 22ms/step - loss: 1.2208 - accuracy: 0.5598 - val_loss: 1.9520 - val_accuracy: 0.2924\n",
            "Epoch 7/50\n",
            "95/95 [==============================] - 2s 22ms/step - loss: 1.1479 - accuracy: 0.5862 - val_loss: 1.9048 - val_accuracy: 0.2978\n",
            "Epoch 8/50\n",
            "95/95 [==============================] - 2s 22ms/step - loss: 1.0832 - accuracy: 0.6130 - val_loss: 1.8239 - val_accuracy: 0.3811\n",
            "Epoch 9/50\n",
            "95/95 [==============================] - 2s 22ms/step - loss: 1.0356 - accuracy: 0.6297 - val_loss: 1.8144 - val_accuracy: 0.3511\n",
            "Epoch 10/50\n",
            "95/95 [==============================] - 2s 22ms/step - loss: 0.9827 - accuracy: 0.6465 - val_loss: 1.7775 - val_accuracy: 0.3748\n",
            "Epoch 11/50\n",
            "95/95 [==============================] - 2s 22ms/step - loss: 0.9447 - accuracy: 0.6635 - val_loss: 1.6993 - val_accuracy: 0.4459\n",
            "Epoch 12/50\n",
            "95/95 [==============================] - 2s 21ms/step - loss: 0.8970 - accuracy: 0.6819 - val_loss: 1.6746 - val_accuracy: 0.4507\n",
            "Epoch 13/50\n",
            "95/95 [==============================] - 2s 21ms/step - loss: 0.8619 - accuracy: 0.6926 - val_loss: 1.6667 - val_accuracy: 0.4324\n",
            "Epoch 14/50\n",
            "95/95 [==============================] - 2s 21ms/step - loss: 0.8150 - accuracy: 0.7088 - val_loss: 1.6222 - val_accuracy: 0.4578\n",
            "Epoch 15/50\n",
            "95/95 [==============================] - 2s 20ms/step - loss: 0.7885 - accuracy: 0.7203 - val_loss: 1.7124 - val_accuracy: 0.3761\n",
            "Epoch 16/50\n",
            "95/95 [==============================] - 2s 21ms/step - loss: 0.7481 - accuracy: 0.7322 - val_loss: 1.5848 - val_accuracy: 0.4883\n",
            "Epoch 17/50\n",
            "95/95 [==============================] - 2s 20ms/step - loss: 0.7245 - accuracy: 0.7414 - val_loss: 1.6397 - val_accuracy: 0.4248\n",
            "Epoch 18/50\n",
            "95/95 [==============================] - 2s 21ms/step - loss: 0.6915 - accuracy: 0.7535 - val_loss: 1.5227 - val_accuracy: 0.5154\n",
            "Epoch 19/50\n",
            "95/95 [==============================] - 2s 22ms/step - loss: 0.6720 - accuracy: 0.7618 - val_loss: 1.4851 - val_accuracy: 0.5283\n",
            "Epoch 20/50\n",
            "95/95 [==============================] - 2s 22ms/step - loss: 0.6436 - accuracy: 0.7695 - val_loss: 1.3872 - val_accuracy: 0.5876\n",
            "Epoch 21/50\n",
            "95/95 [==============================] - 2s 21ms/step - loss: 0.6232 - accuracy: 0.7759 - val_loss: 1.4878 - val_accuracy: 0.5261\n",
            "Epoch 22/50\n",
            "95/95 [==============================] - 2s 21ms/step - loss: 0.5955 - accuracy: 0.7865 - val_loss: 1.5303 - val_accuracy: 0.5074\n",
            "169/169 [==============================] - 0s 2ms/step\n",
            "Test score: 1.3872499465942383\n",
            "Test accuracy: 0.587592601776123\n",
            "Dropout :  0.8\n",
            "Epoch 1/50\n",
            "95/95 [==============================] - 3s 25ms/step - loss: 2.6146 - accuracy: 0.1194 - val_loss: 2.3031 - val_accuracy: 0.1031\n",
            "Epoch 2/50\n",
            "95/95 [==============================] - 2s 21ms/step - loss: 2.0856 - accuracy: 0.2301 - val_loss: 2.7026 - val_accuracy: 0.1031\n",
            "Epoch 3/50\n",
            "95/95 [==============================] - 2s 21ms/step - loss: 1.9241 - accuracy: 0.2860 - val_loss: 3.3514 - val_accuracy: 0.1031\n",
            "169/169 [==============================] - 0s 2ms/step\n",
            "Test score: 2.3031139373779297\n",
            "Test accuracy: 0.10314814746379852\n",
            "Dropout :  0.9\n",
            "Epoch 1/50\n",
            "95/95 [==============================] - 3s 25ms/step - loss: 3.1419 - accuracy: 0.1034 - val_loss: 2.3023 - val_accuracy: 0.1020\n",
            "Epoch 2/50\n",
            "95/95 [==============================] - 2s 21ms/step - loss: 2.2945 - accuracy: 0.1072 - val_loss: 2.3041 - val_accuracy: 0.1022\n",
            "Epoch 3/50\n",
            "95/95 [==============================] - 2s 21ms/step - loss: 2.1639 - accuracy: 0.1886 - val_loss: 2.4613 - val_accuracy: 0.1031\n",
            "169/169 [==============================] - 0s 2ms/step\n",
            "Test score: 2.3022892475128174\n",
            "Test accuracy: 0.10203703492879868\n"
          ]
        }
      ],
      "source": [
        "from keras import initializers\n",
        "import copy\n",
        "\n",
        "result = {}\n",
        "y = {}\n",
        "loss = []\n",
        "accuracy = []\n",
        "\n",
        "dropouts = [num/10 for num in range(10)]\n",
        "\n",
        "for dropout in dropouts:\n",
        "    print(\"Dropout : \", (dropout))\n",
        "    model = Sequential()\n",
        "\n",
        "    # layer 1\n",
        "    model.add(Conv2D(64, 3, padding='same', activation='relu',input_shape=(train_input.shape[1:])))\n",
        "    model.add(Dropout(dropout))  \n",
        "    model.add(Conv2D(64, 3, activation='relu',padding='same'))\n",
        "    model.add(Dropout(dropout))\n",
        "    model.add(MaxPooling2D(pool_size=(2, 2)))\n",
        "\n",
        "    # layer 2\n",
        "    model.add(Conv2D(128, 3, activation='relu',padding='same'))\n",
        "    model.add(Dropout(dropout))                                        \n",
        "    model.add(MaxPooling2D(pool_size=(2, 2)))\n",
        "\n",
        "    # layer 3                         \n",
        "    model.add(Conv2D(256, 3, activation='relu',padding='same'))\n",
        "    model.add(Dropout(dropout)) \n",
        "    model.add(MaxPooling2D(pool_size=(2, 2)))\n",
        "\n",
        "    # layer 4\n",
        "    model.add(Flatten())\n",
        "    model.add(Dense(512, activation='relu'))\n",
        "\n",
        "    # layer 5\n",
        "    model.add(Dense(512, activation='relu'))\n",
        "\n",
        "    # layer 6\n",
        "    model.add(Dense(num_classes, activation='softmax'))\n",
        "    \n",
        "    model.compile(loss='categorical_crossentropy',\n",
        "                  optimizer='adam',\n",
        "                  metrics=['accuracy'])\n",
        "    checkpoint_cb = keras.callbacks.ModelCheckpoint('best-cnn-model.h5',\n",
        "                                                save_best_only = True)\n",
        "\n",
        "    early_stopping_cb = keras.callbacks.EarlyStopping(patience=2,restore_best_weights = True)\n",
        "\n",
        "    history = model.fit(train_input, train_target, batch_size=batch_size, epochs =epochs, verbose=1, \n",
        "                        shuffle=True, validation_data=(val_input, val_target),\n",
        "                        callbacks = [checkpoint_cb, early_stopping_cb])\n",
        "    \n",
        "    score = model.evaluate(val_input, val_target, verbose=0)\n",
        "    y[dropout] = model.predict(val_input)\n",
        "    print('Test score:', score[0])\n",
        "    print('Test accuracy:', score[1])\n",
        "    result[dropout] = copy.deepcopy(history.history)   \n",
        "    loss.append(score[0])\n",
        "    accuracy.append(score[1])"
      ]
    },
    {
      "cell_type": "code",
      "source": [
        "import numpy as np                                                               \n",
        "import matplotlib.pyplot as plt\n",
        "\n",
        "# plt.figure(figsize = (13,10))\n",
        "width = 0.1\n",
        "\n",
        "plt.bar(dropouts, accuracy, width, align='center')\n",
        "\n",
        "plt.tick_params(axis='both', which='major', labelsize=35)\n",
        "plt.tick_params(axis='both', which='minor', labelsize=35)\n",
        "\n",
        "plt.ylabel('Accuracy',size = 30)\n",
        "plt.xlabel('Dropout', size = 30)\n",
        "plt.show()"
      ],
      "metadata": {
        "colab": {
          "base_uri": "https://localhost:8080/",
          "height": 322
        },
        "id": "7xTsACooJlJc",
        "outputId": "3455be6f-054d-4e68-c629-630b6ac87ccd"
      },
      "execution_count": 25,
      "outputs": [
        {
          "output_type": "display_data",
          "data": {
            "text/plain": [
              "<Figure size 432x288 with 1 Axes>"
            ],
            "image/png": "[encoded data removed]"
          },
          "metadata": {
            "needs_background": "light"
          }
        }
      ]
    },
    {
      "cell_type": "code",
      "source": [
        "width = 0.1\n",
        "\n",
        "plt.bar(dropouts, loss, width, align='center',color = 'green')\n",
        "\n",
        "plt.tick_params(axis='both', which='major', labelsize=35)\n",
        "plt.tick_params(axis='both', which='minor', labelsize=35)\n",
        "\n",
        "plt.ylabel('Loss',size = 30)\n",
        "plt.xlabel('Dropout', size = 30)\n",
        "plt.show()"
      ],
      "metadata": {
        "colab": {
          "base_uri": "https://localhost:8080/",
          "height": 322
        },
        "id": "gzyYfDpKJ4w0",
        "outputId": "ce0b8511-eda7-497a-c1e2-4d20ef4f0f06"
      },
      "execution_count": 24,
      "outputs": [
        {
          "output_type": "display_data",
          "data": {
            "text/plain": [
              "<Figure size 432x288 with 1 Axes>"
            ],
            "image/png": "[encoded data removed]"
          },
          "metadata": {
            "needs_background": "light"
          }
        }
      ]
    }
  ],
  "metadata": {
    "accelerator": "GPU",
    "colab": {
      "machine_shape": "hm",
      "provenance": []
    },
    "gpuClass": "premium",
    "kernelspec": {
      "display_name": "Python 3.9.13 ('base')",
      "language": "python",
      "name": "python3"
    },
    "language_info": {
      "name": "python",
      "version": "3.9.13"
    },
    "vscode": {
      "interpreter": {
        "hash": "43af7393c8e3bb0730eb35f197fc5ab4355397fc73467075a0f020e747dbc619"
      }
    }
  },
  "nbformat": 4,
  "nbformat_minor": 0
}