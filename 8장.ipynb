{
 "cells": [
  {
   "cell_type": "markdown",
   "metadata": {},
   "source": [
    "### CNN(합성곱 신경망)\n",
    "\n",
    "- 합성곱 : 마치 입력 데이터에 마법의 도장을 찍어서 유용한 특성을 드러나게 하는 것\n",
    "\n",
    "- 합성곱의 동작 원리 : 밀집층에는 뉴런마다 입력 개수 만큼의 가중치가 있다. 모든 입력에 가중치를 곱한다.\n",
    "\n",
    "- 합성곱 신경망에서는 완전 연결 신경망과 달리 뉴런을 필터 혹은 커널\n",
    "\n",
    "- 커널은 입력에 곱하는 가중치이고, 필터는 뉴런 개수를 표현할 때 사용 / 필터 = 하이퍼 파라미터\n",
    "\n",
    "- 합성곱은 2차원 배열에서도 허용된다. 단, 입력이 2차원 배열이면 필터도 2차원이어야 함.\n",
    "\n",
    "- 밀집층에서 여러 개의 뉴런을 사용하듯이 합성곱에서도 여러 개의 필터를 사용함.\n",
    "\n",
    "- 이 때 합성곱 계산을 통해 얻은 출력을 특성맵(feature map)\n",
    "\n",
    "### 패딩\n",
    " \n",
    "- 패딩 : 입력 배열의 주위를 가상의 원소로 채우는 것, 패딩은 0으로 채움, 실제 역할은 순전히 커널이 도장을 찍을 횟수를 늘려주는 것 밖에는 없음\n",
    "\n",
    "- 실제 값은 0으로 채워져 있기 때문에 계산에 영향을 미치지는 않음\n",
    "\n",
    "- 세임 패딩(same padding) : 입력과 특성 매의 크기를 동일하게 만들기 위해 입력 주위에 0으로 패딩하는 것 -> 입력과 특성 맵의 크기를 동일\n",
    "\n",
    "- 밸리드 패딩(valid padding) : 패딩 없이 순수한 입력 배열에서만 합성곱을 하여 특성 맵을 만드는 경우, 특성 맵의 크기가 줄어들 수 밖에 없음\n",
    "\n",
    "- 케라스 Conv2D 클래스에서는 padding 매개변수로 패딩을 지정할 수 있음. 기본값은 valid로 밸리드 패딩, same은 세임 패딩\n"
   ]
  },
  {
   "cell_type": "code",
   "execution_count": 4,
   "metadata": {},
   "outputs": [
    {
     "data": {
      "text/plain": [
       "<keras.layers.convolutional.conv2d.Conv2D at 0x288a920cd90>"
      ]
     },
     "execution_count": 4,
     "metadata": {},
     "output_type": "execute_result"
    }
   ],
   "source": [
    "from tensorflow import keras\n",
    "\n",
    "keras.layers.Conv2D(10, kernel_size = (3,3), activation = 'relu')\n",
    "\n",
    "# 특별히 입력 위를 이동하는 합성곱은 Conv2D로 제공\n",
    "# Conv2D의 첫 번째 매개변수는 필터의 개수(도장의 개수)\n",
    "# kernel_size = 필터에 사용할 커널의 크기 지정(도장의 크기), 하이퍼 파라미터, 커널은 실제 이미지 크기를 넘길 수 없고, 크기가 동일해도 의미가 없음\n",
    "# 밀집층에서처럼 활성화 함수 지정 - 여기서는 relu 함수\n",
    "# 필터의 개수와 커널의 크기는 반드시 지정해야 하는 매개변수"
   ]
  },
  {
   "cell_type": "code",
   "execution_count": null,
   "metadata": {},
   "outputs": [],
   "source": []
  },
  {
   "cell_type": "code",
   "execution_count": null,
   "metadata": {},
   "outputs": [],
   "source": []
  }
 ],
 "metadata": {
  "kernelspec": {
   "display_name": "Python 3.9.13 ('base')",
   "language": "python",
   "name": "python3"
  },
  "language_info": {
   "codemirror_mode": {
    "name": "ipython",
    "version": 3
   },
   "file_extension": ".py",
   "mimetype": "text/x-python",
   "name": "python",
   "nbconvert_exporter": "python",
   "pygments_lexer": "ipython3",
   "version": "3.9.13"
  },
  "orig_nbformat": 4,
  "vscode": {
   "interpreter": {
    "hash": "43af7393c8e3bb0730eb35f197fc5ab4355397fc73467075a0f020e747dbc619"
   }
  }
 },
 "nbformat": 4,
 "nbformat_minor": 2
}
