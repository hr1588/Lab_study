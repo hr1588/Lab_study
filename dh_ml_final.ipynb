{
  "cells": [
    {
      "cell_type": "markdown",
      "metadata": {
        "id": "Pg7IBCG_C1u0"
      },
      "source": [
        "# 감정 인식 데이터"
      ]
    },
    {
      "cell_type": "markdown",
      "metadata": {
        "id": "Pju7aTohjd-y"
      },
      "source": [
        "## 패키지 로드 및 디렉토리 설정"
      ]
    },
    {
      "cell_type": "code",
      "execution_count": null,
      "metadata": {
        "id": "mvaewlEBnDqK"
      },
      "outputs": [],
      "source": [
        "from google.colab import drive\n",
        "drive.mount('/content/drive', force_remount=True)\n",
        "%cd drive/MyDrive/data/dataset"
      ]
    },
    {
      "cell_type": "code",
      "execution_count": null,
      "metadata": {
        "id": "xwH0-p4ZqDrL"
      },
      "outputs": [],
      "source": [
        "!sudo apt-get install -y fonts-nanum\n",
        "!sudo fc-cache -fv\n",
        "!rm ~/.cache/matplotlib -rf"
      ]
    },
    {
      "cell_type": "code",
      "execution_count": null,
      "metadata": {
        "id": "ZRHvVERzmjxI"
      },
      "outputs": [],
      "source": [
        "from keras import layers, models\n",
        "from keras.preprocessing.image import ImageDataGenerator\n",
        "from keras import optimizers, initializers, regularizers, metrics, callbacks\n",
        "from keras.callbacks import ModelCheckpoint\n",
        "import os\n",
        "from glob import glob\n",
        "from PIL import Image\n",
        "import matplotlib.pyplot as plt\n",
        "import numpy as np\n",
        "import pathlib\n",
        "import os\n",
        "import cv2\n",
        "from sklearn.model_selection import train_test_split\n",
        "import seaborn as sns\n",
        "import matplotlib.pyplot as plt\n",
        "from tensorflow import keras\n",
        "import pandas as pd"
      ]
    },
    {
      "cell_type": "code",
      "execution_count": null,
      "metadata": {
        "id": "OzobdKN-rETV"
      },
      "outputs": [],
      "source": [
        "import matplotlib.font_manager as fm\n",
        "plt.rc('font', family='NanumGothic')\n",
        "\n",
        "for fontInfo in fm.fontManager.ttflist:\n",
        "    if 'Nanum' in fontInfo.name:\n",
        "        print(fontInfo.name+\" = \"+fontInfo.fname)"
      ]
    },
    {
      "cell_type": "markdown",
      "metadata": {
        "id": "Bi2I_kKqjktU"
      },
      "source": [
        "## 데이터 로드 및 분할"
      ]
    },
    {
      "cell_type": "code",
      "execution_count": null,
      "metadata": {
        "id": "TkLLbBfbmq0h"
      },
      "outputs": [],
      "source": [
        "categories = os.listdir()[:-5]\n",
        "num_labels = len(categories)\n",
        "categories"
      ]
    },
    {
      "cell_type": "code",
      "execution_count": null,
      "metadata": {
        "id": "n-kwb-nKnBpT"
      },
      "outputs": [],
      "source": [
        "image_w = 100\n",
        "image_h = 100\n",
        "  \n",
        "X = []\n",
        "Y = []\n",
        "  \n",
        "for idex, categorie in enumerate(categories):\n",
        "    label = idex\n",
        "    image_dir = categorie + '/'\n",
        "  \n",
        "    for top, dir, f in os.walk(image_dir):\n",
        "        for filename in f:\n",
        "            img = cv2.imread(image_dir+filename) # cv2.IMREAD_GRAYSCALE : 흑백 처리\n",
        "            img = cv2.cvtColor(img, cv2.COLOR_BGR2RGB, dst = img) # RGB 변환\n",
        "            img = cv2.resize(img, None, fx=image_w/img.shape[1], fy=image_h/img.shape[0])\n",
        "            X.append(img/255)\n",
        "            Y.append(label)\n",
        " \n",
        "X = np.array(X)\n",
        "Y = np.array(Y)\n",
        " \n",
        "X_train, X_test, Y_train, Y_test = train_test_split(X,Y, test_size = 0.1, random_state = 42)"
      ]
    },
    {
      "cell_type": "code",
      "execution_count": null,
      "metadata": {
        "id": "_DVjp7TknT-8"
      },
      "outputs": [],
      "source": [
        "print(X_train.shape, X_test.shape, Y_train.shape, Y_test.shape)"
      ]
    },
    {
      "cell_type": "code",
      "execution_count": null,
      "metadata": {
        "id": "m2XxskQmoCNF"
      },
      "outputs": [],
      "source": [
        "train_input, val_input, train_target, val_target = train_test_split(X_train, Y_train, \n",
        "                                                                      test_size=0.1, random_state=42)"
      ]
    },
    {
      "cell_type": "markdown",
      "metadata": {
        "id": "rwMqyqxnpBeX"
      },
      "source": [
        "## CNN 모델 사용"
      ]
    },
    {
      "cell_type": "code",
      "execution_count": null,
      "metadata": {
        "id": "I7oWYOjqqHB8"
      },
      "outputs": [],
      "source": [
        "model = keras.Sequential() # 순서대로 구조 정의\n",
        "model.add(keras.layers.Conv2D(32, kernel_size = 3, activation = 'relu', \n",
        "                              padding = 'same', input_shape = train_input.shape[1:]))\n",
        "model.add(keras.layers.MaxPooling2D(2))\n",
        "model.add(keras.layers.Conv2D(64, kernel_size = 3, activation = 'relu', padding = 'same'))\n",
        "model.add(keras.layers.MaxPooling2D(2))\n",
        "model.add(keras.layers.Flatten())\n",
        "model.add(keras.layers.Dense(100, activation = 'relu'))\n",
        "model.add(keras.layers.Dropout(0.3))\n",
        "model.add(keras.layers.Dense(len(categories), activation = 'softmax'))\n",
        "\n",
        "model.summary()"
      ]
    },
    {
      "cell_type": "code",
      "execution_count": null,
      "metadata": {
        "id": "S-HFypE0lfln"
      },
      "outputs": [],
      "source": [
        "batch_size = 32\n",
        "epochs = 50\n",
        "\n",
        "data_generator = ImageDataGenerator(width_shift_range=0.1, height_shift_range=0.1, horizontal_flip=True)\n",
        "train_generator = data_generator.flow(train_input, train_target, batch_size)\n",
        "steps_per_epoch = X_train.shape[0] // batch_size"
      ]
    },
    {
      "cell_type": "code",
      "execution_count": null,
      "metadata": {
        "id": "BLb-xeycqTYU"
      },
      "outputs": [],
      "source": [
        "model.compile(optimizer = 'adam', loss='sparse_categorical_crossentropy', metrics=['accuracy'])\n",
        "\n",
        "checkpoint_cb=callbacks.ModelCheckpoint('best-model.h5', save_best_only=True)\n",
        "early_stopping_cb=callbacks.EarlyStopping(patience=2,restore_best_weights=True)\n",
        "\n",
        "history = model.fit(train_input, train_target, batch_size=batch_size, epochs = epochs,\n",
        "                        shuffle=True, validation_data=(val_input, val_target),\n",
        "                        steps_per_epoch = steps_per_epoch,\n",
        "                        callbacks = [checkpoint_cb, early_stopping_cb])"
      ]
    },
    {
      "cell_type": "code",
      "execution_count": null,
      "metadata": {
        "id": "kuZaSKydqosG"
      },
      "outputs": [],
      "source": [
        "plt.plot(history.history['loss'])\n",
        "plt.plot(history.history['val_loss'])\n",
        "plt.xlabel('epoch')\n",
        "plt.ylabel('loss')\n",
        "plt.legend(['train','val'])\n",
        "plt.show()"
      ]
    },
    {
      "cell_type": "code",
      "execution_count": null,
      "metadata": {
        "id": "ZvhlEu3bqXLZ"
      },
      "outputs": [],
      "source": [
        "model.evaluate(val_input,val_target)"
      ]
    },
    {
      "cell_type": "markdown",
      "metadata": {
        "id": "0o5HbsN0o8t4"
      },
      "source": [
        "## 테스트 데이터 사용 및 결과 확인"
      ]
    },
    {
      "cell_type": "code",
      "execution_count": null,
      "metadata": {
        "id": "daso60szo4My"
      },
      "outputs": [],
      "source": [
        "X_test.shape, Y_test.shape"
      ]
    },
    {
      "cell_type": "code",
      "execution_count": null,
      "metadata": {
        "id": "gyEEHQgMpPbZ"
      },
      "outputs": [],
      "source": [
        "y_pred = model.predict(X_test)"
      ]
    },
    {
      "cell_type": "code",
      "execution_count": null,
      "metadata": {
        "id": "_rzsT0iYpYFB"
      },
      "outputs": [],
      "source": [
        "y_pred = np.argmax(y_pred, 1)"
      ]
    },
    {
      "cell_type": "code",
      "execution_count": null,
      "metadata": {
        "id": "IqpXJMWkpNO4"
      },
      "outputs": [],
      "source": [
        "from sklearn.metrics import ConfusionMatrixDisplay\n",
        "from sklearn.metrics import classification_report, confusion_matrix\n",
        "\n",
        "cm = confusion_matrix(Y_test, y_pred)"
      ]
    },
    {
      "cell_type": "code",
      "execution_count": null,
      "metadata": {
        "id": "Ob-_jq7OpWsd"
      },
      "outputs": [],
      "source": [
        "disp = ConfusionMatrixDisplay(confusion_matrix=cm, display_labels=categories)\n",
        "\n",
        "fig, ax = plt.subplots(figsize=(10, 10))\n",
        "disp = disp.plot(xticks_rotation='vertical', ax=ax,cmap='summer')\n",
        "\n",
        "plt.show()"
      ]
    },
    {
      "cell_type": "code",
      "execution_count": null,
      "metadata": {
        "id": "FciyHdG_ubfc"
      },
      "outputs": [],
      "source": [
        "from sklearn.metrics import classification_report\n",
        "\n",
        "report = classification_report(Y_test, y_pred, target_names = categories, output_dict = True)\n",
        "df_report = pd.DataFrame(report).transpose()"
      ]
    },
    {
      "cell_type": "code",
      "execution_count": null,
      "metadata": {
        "id": "BtUBEAbqHDM4"
      },
      "outputs": [],
      "source": [
        "df_report"
      ]
    },
    {
      "cell_type": "markdown",
      "metadata": {
        "id": "XbKDIkLNLni2"
      },
      "source": [
        "- 데이터의 수가 부족해서 다소 부정확한 결과 도출"
      ]
    },
    {
      "cell_type": "markdown",
      "metadata": {
        "id": "Kx177xzWDVIt"
      },
      "source": [
        "# Cifar10 데이터"
      ]
    },
    {
      "cell_type": "markdown",
      "metadata": {
        "id": "Nhx427v5YSNw"
      },
      "source": [
        "## 패키지 로드 및 전처리"
      ]
    },
    {
      "cell_type": "code",
      "execution_count": 14,
      "metadata": {
        "id": "7Sd2hmWiTPdb"
      },
      "outputs": [],
      "source": [
        "import numpy as np\n",
        "import matplotlib.pyplot as plt\n",
        "import tensorflow as tf\n",
        "from tensorflow import keras\n",
        "from tensorflow.keras import datasets, layers, models, Input\n",
        "from keras.models import Model\n",
        "from keras.models  import Sequential\n",
        "from keras.layers import Dense, Dropout, Activation, Flatten, BatchNormalization\n",
        "from keras.layers import Conv2D, MaxPooling2D\n",
        "from keras import optimizers, initializers, regularizers, metrics, callbacks\n",
        "from keras.callbacks import ModelCheckpoint\n",
        "from sklearn.model_selection import train_test_split\n",
        "from keras.utils import np_utils\n",
        "from tensorflow.keras.preprocessing.image import ImageDataGenerator\n",
        "import pandas as pd"
      ]
    },
    {
      "cell_type": "code",
      "execution_count": 2,
      "metadata": {
        "id": "aHbCb5zVTV5a"
      },
      "outputs": [],
      "source": [
        "cifar10 = datasets.cifar10"
      ]
    },
    {
      "cell_type": "code",
      "execution_count": 3,
      "metadata": {
        "colab": {
          "base_uri": "https://localhost:8080/"
        },
        "id": "CCvpP_5UTeJs",
        "outputId": "1462e7b7-01d6-4f02-cfc1-cc7b3516a76f"
      },
      "outputs": [
        {
          "name": "stdout",
          "output_type": "stream",
          "text": [
            "Downloading data from https://www.cs.toronto.edu/~kriz/cifar-10-python.tar.gz\n",
            "170498071/170498071 [==============================] - 2s 0us/step\n"
          ]
        }
      ],
      "source": [
        "(train_images, train_labels), (test_images, test_labels) = cifar10.load_data()"
      ]
    },
    {
      "cell_type": "code",
      "execution_count": 4,
      "metadata": {
        "colab": {
          "base_uri": "https://localhost:8080/"
        },
        "id": "raVUJuU-Tr61",
        "outputId": "76d9c043-a887-4571-dda1-2331d0d4a020"
      },
      "outputs": [
        {
          "name": "stdout",
          "output_type": "stream",
          "text": [
            "(50000, 32, 32, 3) (50000, 1) (10000, 32, 32, 3) (10000, 1)\n"
          ]
        }
      ],
      "source": [
        "print(train_images.shape, train_labels.shape, test_images.shape, test_labels.shape)"
      ]
    },
    {
      "cell_type": "code",
      "execution_count": 5,
      "metadata": {
        "id": "nzClAiD6UKmj"
      },
      "outputs": [],
      "source": [
        "train_images = train_images/255.0\n",
        "test_images = test_images/255.0"
      ]
    },
    {
      "cell_type": "code",
      "execution_count": 6,
      "metadata": {
        "id": "BxPPt2RMVNge"
      },
      "outputs": [],
      "source": [
        "x = np.concatenate((train_images, test_images))\n",
        "y = np.concatenate((train_labels, test_labels))\n",
        "\n",
        "x_train, x_test, y_train, y_test = train_test_split(x,y, test_size = 0.1, random_state = 42) # train / test 분할"
      ]
    },
    {
      "cell_type": "code",
      "execution_count": 7,
      "metadata": {
        "id": "2NYjMLN1Uxn6"
      },
      "outputs": [],
      "source": [
        "train_input, val_input, train_target, val_target = train_test_split(x_train, y_train, test_size = 0.1,\n",
        "                                                                    random_state = 42) # train / val 분할"
      ]
    },
    {
      "cell_type": "code",
      "execution_count": 8,
      "metadata": {
        "colab": {
          "base_uri": "https://localhost:8080/"
        },
        "id": "17WMmks8V6d-",
        "outputId": "aa18f39b-451a-4338-89e9-13ec46f1aa2c"
      },
      "outputs": [
        {
          "name": "stdout",
          "output_type": "stream",
          "text": [
            "(48600, 32, 32, 3) (48600, 1) (5400, 32, 32, 3) (5400, 1)\n"
          ]
        }
      ],
      "source": [
        "print(train_input.shape, train_target.shape, val_input.shape, val_target.shape)"
      ]
    },
    {
      "cell_type": "code",
      "execution_count": 9,
      "metadata": {
        "colab": {
          "base_uri": "https://localhost:8080/",
          "height": 266
        },
        "id": "gbRqr8iUTxPv",
        "outputId": "bb419eb5-e009-4f32-c810-d3e5e7dca714"
      },
      "outputs": [
        {
          "data": {
            "image/png": "[encoded data removed]",
            "text/plain": [
              "<Figure size 432x288 with 2 Axes>"
            ]
          },
          "metadata": {
            "needs_background": "light"
          },
          "output_type": "display_data"
        }
      ],
      "source": [
        "plt.figure()\n",
        "plt.imshow(train_input[0])\n",
        "plt.colorbar()\n",
        "plt.grid(True)\n",
        "plt.show()"
      ]
    },
    {
      "cell_type": "markdown",
      "metadata": {
        "id": "7n3izitcYVLP"
      },
      "source": [
        "## 최적의 dropout 탐색 및 모델 실행"
      ]
    },
    {
      "cell_type": "code",
      "execution_count": 10,
      "metadata": {
        "id": "_e6gwczMDIN4"
      },
      "outputs": [],
      "source": [
        "batch_size = 32\n",
        "num_classes = len(np.unique(train_target))\n",
        "epochs = 50\n",
        "lr = 1e-5\n",
        "lr_weight_decay = 0.95\n",
        "\n",
        "train_target = np_utils.to_categorical(train_target, num_classes) # one-hot vector로 변환\n",
        "val_target = np_utils.to_categorical(val_target, num_classes)"
      ]
    },
    {
      "cell_type": "code",
      "execution_count": 12,
      "metadata": {
        "colab": {
          "base_uri": "https://localhost:8080/"
        },
        "id": "_oLzQRfnUC-P",
        "outputId": "844563d1-bd09-4e45-bb6b-47c0827971fe"
      },
      "outputs": [
        {
          "name": "stdout",
          "output_type": "stream",
          "text": [
            "Dropout :  0.0\n",
            "Epoch 1/50\n",
            "1519/1519 [==============================] - 17s 5ms/step - loss: 1.3694 - accuracy: 0.4975 - val_loss: 0.9586 - val_accuracy: 0.6554\n",
            "Epoch 2/50\n",
            "1519/1519 [==============================] - 7s 5ms/step - loss: 0.8536 - accuracy: 0.7015 - val_loss: 0.7971 - val_accuracy: 0.7180\n",
            "Epoch 3/50\n",
            "1519/1519 [==============================] - 7s 5ms/step - loss: 0.6504 - accuracy: 0.7726 - val_loss: 0.7317 - val_accuracy: 0.7511\n",
            "Epoch 4/50\n",
            "1519/1519 [==============================] - 7s 5ms/step - loss: 0.5148 - accuracy: 0.8199 - val_loss: 0.7727 - val_accuracy: 0.7480\n",
            "Epoch 5/50\n",
            "1519/1519 [==============================] - 7s 5ms/step - loss: 0.3953 - accuracy: 0.8596 - val_loss: 0.7879 - val_accuracy: 0.7637\n",
            "169/169 [==============================] - 0s 2ms/step\n",
            "Test score: 0.7316938638687134\n",
            "Test accuracy: 0.7511110901832581\n",
            "Dropout :  0.1\n",
            "Epoch 1/50\n",
            "1519/1519 [==============================] - 9s 5ms/step - loss: 1.4285 - accuracy: 0.4755 - val_loss: 1.0362 - val_accuracy: 0.6226\n",
            "Epoch 2/50\n",
            "1519/1519 [==============================] - 7s 5ms/step - loss: 0.9270 - accuracy: 0.6722 - val_loss: 1.0015 - val_accuracy: 0.6346\n",
            "Epoch 3/50\n",
            "1519/1519 [==============================] - 7s 5ms/step - loss: 0.7482 - accuracy: 0.7357 - val_loss: 0.7629 - val_accuracy: 0.7307\n",
            "Epoch 4/50\n",
            "1519/1519 [==============================] - 7s 5ms/step - loss: 0.6307 - accuracy: 0.7771 - val_loss: 0.7639 - val_accuracy: 0.7343\n",
            "Epoch 5/50\n",
            "1519/1519 [==============================] - 8s 5ms/step - loss: 0.5468 - accuracy: 0.8077 - val_loss: 0.6778 - val_accuracy: 0.7704\n",
            "Epoch 6/50\n",
            "1519/1519 [==============================] - 8s 5ms/step - loss: 0.4809 - accuracy: 0.8304 - val_loss: 0.7254 - val_accuracy: 0.7606\n",
            "Epoch 7/50\n",
            "1519/1519 [==============================] - 8s 5ms/step - loss: 0.4182 - accuracy: 0.8502 - val_loss: 0.7554 - val_accuracy: 0.7511\n",
            "169/169 [==============================] - 0s 2ms/step\n",
            "Test score: 0.677792489528656\n",
            "Test accuracy: 0.770370364189148\n",
            "Dropout :  0.2\n",
            "Epoch 1/50\n",
            "1519/1519 [==============================] - 8s 5ms/step - loss: 1.4435 - accuracy: 0.4720 - val_loss: 1.2222 - val_accuracy: 0.5907\n",
            "Epoch 2/50\n",
            "1519/1519 [==============================] - 7s 5ms/step - loss: 0.9658 - accuracy: 0.6600 - val_loss: 0.9242 - val_accuracy: 0.6857\n",
            "Epoch 3/50\n",
            "1519/1519 [==============================] - 7s 5ms/step - loss: 0.7924 - accuracy: 0.7217 - val_loss: 0.8132 - val_accuracy: 0.7206\n",
            "Epoch 4/50\n",
            "1519/1519 [==============================] - 8s 5ms/step - loss: 0.6835 - accuracy: 0.7595 - val_loss: 0.7322 - val_accuracy: 0.7528\n",
            "Epoch 5/50\n",
            "1519/1519 [==============================] - 7s 5ms/step - loss: 0.6038 - accuracy: 0.7877 - val_loss: 0.6937 - val_accuracy: 0.7683\n",
            "Epoch 6/50\n",
            "1519/1519 [==============================] - 8s 5ms/step - loss: 0.5398 - accuracy: 0.8092 - val_loss: 0.6891 - val_accuracy: 0.7672\n",
            "Epoch 7/50\n",
            "1519/1519 [==============================] - 7s 5ms/step - loss: 0.4865 - accuracy: 0.8283 - val_loss: 0.6909 - val_accuracy: 0.7670\n",
            "Epoch 8/50\n",
            "1519/1519 [==============================] - 7s 5ms/step - loss: 0.4456 - accuracy: 0.8424 - val_loss: 0.6701 - val_accuracy: 0.7719\n",
            "Epoch 9/50\n",
            "1519/1519 [==============================] - 7s 5ms/step - loss: 0.4065 - accuracy: 0.8542 - val_loss: 0.7491 - val_accuracy: 0.7531\n",
            "Epoch 10/50\n",
            "1519/1519 [==============================] - 7s 5ms/step - loss: 0.3825 - accuracy: 0.8633 - val_loss: 0.7071 - val_accuracy: 0.7687\n",
            "169/169 [==============================] - 0s 2ms/step\n",
            "Test score: 0.6700829863548279\n",
            "Test accuracy: 0.7718518376350403\n",
            "Dropout :  0.3\n",
            "Epoch 1/50\n",
            "1519/1519 [==============================] - 8s 5ms/step - loss: 1.4835 - accuracy: 0.4581 - val_loss: 1.2319 - val_accuracy: 0.5856\n",
            "Epoch 2/50\n",
            "1519/1519 [==============================] - 8s 5ms/step - loss: 1.0286 - accuracy: 0.6348 - val_loss: 1.0428 - val_accuracy: 0.6520\n",
            "Epoch 3/50\n",
            "1519/1519 [==============================] - 7s 5ms/step - loss: 0.8736 - accuracy: 0.6911 - val_loss: 0.9940 - val_accuracy: 0.6661\n",
            "Epoch 4/50\n",
            "1519/1519 [==============================] - 8s 5ms/step - loss: 0.7678 - accuracy: 0.7282 - val_loss: 0.9198 - val_accuracy: 0.6935\n",
            "Epoch 5/50\n",
            "1519/1519 [==============================] - 7s 5ms/step - loss: 0.6985 - accuracy: 0.7533 - val_loss: 0.7680 - val_accuracy: 0.7426\n",
            "Epoch 6/50\n",
            "1519/1519 [==============================] - 8s 5ms/step - loss: 0.6401 - accuracy: 0.7736 - val_loss: 0.7540 - val_accuracy: 0.7491\n",
            "Epoch 7/50\n",
            "1519/1519 [==============================] - 7s 5ms/step - loss: 0.5922 - accuracy: 0.7898 - val_loss: 0.8149 - val_accuracy: 0.7344\n",
            "Epoch 8/50\n",
            "1519/1519 [==============================] - 8s 5ms/step - loss: 0.5567 - accuracy: 0.8027 - val_loss: 0.7232 - val_accuracy: 0.7622\n",
            "Epoch 9/50\n",
            "1519/1519 [==============================] - 8s 5ms/step - loss: 0.5160 - accuracy: 0.8187 - val_loss: 0.6937 - val_accuracy: 0.7698\n",
            "Epoch 10/50\n",
            "1519/1519 [==============================] - 7s 5ms/step - loss: 0.4883 - accuracy: 0.8270 - val_loss: 0.6877 - val_accuracy: 0.7685\n",
            "Epoch 11/50\n",
            "1519/1519 [==============================] - 7s 5ms/step - loss: 0.4686 - accuracy: 0.8356 - val_loss: 0.7482 - val_accuracy: 0.7543\n",
            "Epoch 12/50\n",
            "1519/1519 [==============================] - 7s 5ms/step - loss: 0.4464 - accuracy: 0.8427 - val_loss: 0.7258 - val_accuracy: 0.7628\n",
            "169/169 [==============================] - 0s 2ms/step\n",
            "Test score: 0.6876879930496216\n",
            "Test accuracy: 0.7685185074806213\n",
            "Dropout :  0.4\n",
            "Epoch 1/50\n",
            "1519/1519 [==============================] - 8s 5ms/step - loss: 1.5140 - accuracy: 0.4504 - val_loss: 1.5289 - val_accuracy: 0.4883\n",
            "Epoch 2/50\n",
            "1519/1519 [==============================] - 8s 5ms/step - loss: 1.0821 - accuracy: 0.6165 - val_loss: 1.0644 - val_accuracy: 0.6631\n",
            "Epoch 3/50\n",
            "1519/1519 [==============================] - 7s 5ms/step - loss: 0.9209 - accuracy: 0.6737 - val_loss: 1.1038 - val_accuracy: 0.6406\n",
            "Epoch 4/50\n",
            "1519/1519 [==============================] - 8s 5ms/step - loss: 0.8304 - accuracy: 0.7077 - val_loss: 0.9957 - val_accuracy: 0.6919\n",
            "Epoch 5/50\n",
            "1519/1519 [==============================] - 8s 5ms/step - loss: 0.7635 - accuracy: 0.7294 - val_loss: 0.9121 - val_accuracy: 0.6983\n",
            "Epoch 6/50\n",
            "1519/1519 [==============================] - 7s 5ms/step - loss: 0.7119 - accuracy: 0.7507 - val_loss: 0.8338 - val_accuracy: 0.7196\n",
            "Epoch 7/50\n",
            "1519/1519 [==============================] - 7s 5ms/step - loss: 0.6723 - accuracy: 0.7650 - val_loss: 0.8230 - val_accuracy: 0.7322\n",
            "Epoch 8/50\n",
            "1519/1519 [==============================] - 7s 5ms/step - loss: 0.6294 - accuracy: 0.7803 - val_loss: 0.8864 - val_accuracy: 0.7189\n",
            "Epoch 9/50\n",
            "1519/1519 [==============================] - 8s 5ms/step - loss: 0.6052 - accuracy: 0.7879 - val_loss: 0.7638 - val_accuracy: 0.7509\n",
            "Epoch 10/50\n",
            "1519/1519 [==============================] - 8s 5ms/step - loss: 0.5762 - accuracy: 0.7970 - val_loss: 0.7794 - val_accuracy: 0.7402\n",
            "Epoch 11/50\n",
            "1519/1519 [==============================] - 7s 5ms/step - loss: 0.5535 - accuracy: 0.8026 - val_loss: 0.7800 - val_accuracy: 0.7433\n",
            "169/169 [==============================] - 0s 2ms/step\n",
            "Test score: 0.7637659311294556\n",
            "Test accuracy: 0.7509258985519409\n",
            "Dropout :  0.5\n",
            "Epoch 1/50\n",
            "1519/1519 [==============================] - 8s 5ms/step - loss: 1.5748 - accuracy: 0.4209 - val_loss: 1.7063 - val_accuracy: 0.4011\n",
            "Epoch 2/50\n",
            "1519/1519 [==============================] - 8s 5ms/step - loss: 1.1976 - accuracy: 0.5717 - val_loss: 1.4611 - val_accuracy: 0.5430\n",
            "Epoch 3/50\n",
            "1519/1519 [==============================] - 8s 5ms/step - loss: 1.0322 - accuracy: 0.6324 - val_loss: 1.1913 - val_accuracy: 0.6330\n",
            "Epoch 4/50\n",
            "1519/1519 [==============================] - 8s 5ms/step - loss: 0.9456 - accuracy: 0.6658 - val_loss: 1.0997 - val_accuracy: 0.6422\n",
            "Epoch 5/50\n",
            "1519/1519 [==============================] - 7s 5ms/step - loss: 0.8832 - accuracy: 0.6910 - val_loss: 1.1635 - val_accuracy: 0.6219\n",
            "Epoch 6/50\n",
            "1519/1519 [==============================] - 8s 5ms/step - loss: 0.8343 - accuracy: 0.7079 - val_loss: 1.0227 - val_accuracy: 0.6952\n",
            "Epoch 7/50\n",
            "1519/1519 [==============================] - 8s 5ms/step - loss: 0.7954 - accuracy: 0.7177 - val_loss: 1.0248 - val_accuracy: 0.6893\n",
            "Epoch 8/50\n",
            "1519/1519 [==============================] - 8s 5ms/step - loss: 0.7681 - accuracy: 0.7302 - val_loss: 1.0119 - val_accuracy: 0.6965\n",
            "Epoch 9/50\n",
            "1519/1519 [==============================] - 8s 5ms/step - loss: 0.7501 - accuracy: 0.7377 - val_loss: 1.0061 - val_accuracy: 0.6928\n",
            "Epoch 10/50\n",
            "1519/1519 [==============================] - 8s 5ms/step - loss: 0.7224 - accuracy: 0.7469 - val_loss: 0.9602 - val_accuracy: 0.7107\n",
            "Epoch 11/50\n",
            "1519/1519 [==============================] - 8s 5ms/step - loss: 0.7073 - accuracy: 0.7495 - val_loss: 0.9207 - val_accuracy: 0.7217\n",
            "Epoch 12/50\n",
            "1519/1519 [==============================] - 8s 5ms/step - loss: 0.6919 - accuracy: 0.7591 - val_loss: 0.8884 - val_accuracy: 0.7328\n",
            "Epoch 13/50\n",
            "1519/1519 [==============================] - 8s 5ms/step - loss: 0.6695 - accuracy: 0.7638 - val_loss: 0.8704 - val_accuracy: 0.7409\n",
            "Epoch 14/50\n",
            "1519/1519 [==============================] - 8s 5ms/step - loss: 0.6600 - accuracy: 0.7671 - val_loss: 0.8546 - val_accuracy: 0.7441\n",
            "Epoch 15/50\n",
            "1519/1519 [==============================] - 7s 5ms/step - loss: 0.6524 - accuracy: 0.7714 - val_loss: 0.8969 - val_accuracy: 0.7169\n",
            "Epoch 16/50\n",
            "1519/1519 [==============================] - 7s 5ms/step - loss: 0.6338 - accuracy: 0.7783 - val_loss: 0.8967 - val_accuracy: 0.7213\n",
            "169/169 [==============================] - 1s 2ms/step\n",
            "Test score: 0.854638934135437\n",
            "Test accuracy: 0.7440740466117859\n",
            "Dropout :  0.6\n",
            "Epoch 1/50\n",
            "1519/1519 [==============================] - 8s 5ms/step - loss: 1.6421 - accuracy: 0.3943 - val_loss: 1.8796 - val_accuracy: 0.3394\n",
            "Epoch 2/50\n",
            "1519/1519 [==============================] - 8s 5ms/step - loss: 1.3240 - accuracy: 0.5207 - val_loss: 1.7204 - val_accuracy: 0.4283\n",
            "Epoch 3/50\n",
            "1519/1519 [==============================] - 8s 5ms/step - loss: 1.2024 - accuracy: 0.5673 - val_loss: 1.5885 - val_accuracy: 0.4909\n",
            "Epoch 4/50\n",
            "1519/1519 [==============================] - 7s 5ms/step - loss: 1.1272 - accuracy: 0.5994 - val_loss: 1.6399 - val_accuracy: 0.4650\n",
            "Epoch 5/50\n",
            "1519/1519 [==============================] - 8s 5ms/step - loss: 1.0616 - accuracy: 0.6233 - val_loss: 1.5756 - val_accuracy: 0.4887\n",
            "Epoch 6/50\n",
            "1519/1519 [==============================] - 8s 5ms/step - loss: 1.0214 - accuracy: 0.6348 - val_loss: 1.5565 - val_accuracy: 0.4820\n",
            "Epoch 7/50\n",
            "1519/1519 [==============================] - 8s 5ms/step - loss: 0.9735 - accuracy: 0.6552 - val_loss: 1.5431 - val_accuracy: 0.5035\n",
            "Epoch 8/50\n",
            "1519/1519 [==============================] - 8s 5ms/step - loss: 0.9518 - accuracy: 0.6635 - val_loss: 1.3672 - val_accuracy: 0.5794\n",
            "Epoch 9/50\n",
            "1519/1519 [==============================] - 7s 5ms/step - loss: 0.9177 - accuracy: 0.6754 - val_loss: 1.4645 - val_accuracy: 0.5298\n",
            "Epoch 10/50\n",
            "1519/1519 [==============================] - 8s 5ms/step - loss: 0.9049 - accuracy: 0.6794 - val_loss: 1.3175 - val_accuracy: 0.5941\n",
            "Epoch 11/50\n",
            "1519/1519 [==============================] - 7s 5ms/step - loss: 0.8803 - accuracy: 0.6908 - val_loss: 1.3775 - val_accuracy: 0.5739\n",
            "Epoch 12/50\n",
            "1519/1519 [==============================] - 7s 5ms/step - loss: 0.8610 - accuracy: 0.6948 - val_loss: 1.3639 - val_accuracy: 0.5652\n",
            "169/169 [==============================] - 0s 2ms/step\n",
            "Test score: 1.3174937963485718\n",
            "Test accuracy: 0.5940740704536438\n",
            "Dropout :  0.7\n",
            "Epoch 1/50\n",
            "1519/1519 [==============================] - 8s 5ms/step - loss: 1.7876 - accuracy: 0.3438 - val_loss: 2.1728 - val_accuracy: 0.1915\n",
            "Epoch 2/50\n",
            "1519/1519 [==============================] - 8s 5ms/step - loss: 1.5088 - accuracy: 0.4482 - val_loss: 2.1052 - val_accuracy: 0.2272\n",
            "Epoch 3/50\n",
            "1519/1519 [==============================] - 8s 5ms/step - loss: 1.4099 - accuracy: 0.4890 - val_loss: 1.9889 - val_accuracy: 0.2446\n",
            "Epoch 4/50\n",
            "1519/1519 [==============================] - 8s 5ms/step - loss: 1.3524 - accuracy: 0.5114 - val_loss: 1.9954 - val_accuracy: 0.2641\n",
            "Epoch 5/50\n",
            "1519/1519 [==============================] - 8s 5ms/step - loss: 1.3121 - accuracy: 0.5243 - val_loss: 1.9508 - val_accuracy: 0.2985\n",
            "Epoch 6/50\n",
            "1519/1519 [==============================] - 8s 5ms/step - loss: 1.2736 - accuracy: 0.5431 - val_loss: 1.9070 - val_accuracy: 0.3167\n",
            "Epoch 7/50\n",
            "1519/1519 [==============================] - 8s 5ms/step - loss: 1.2436 - accuracy: 0.5558 - val_loss: 1.8220 - val_accuracy: 0.3483\n",
            "Epoch 8/50\n",
            "1519/1519 [==============================] - 8s 5ms/step - loss: 1.2131 - accuracy: 0.5654 - val_loss: 1.9265 - val_accuracy: 0.3159\n",
            "Epoch 9/50\n",
            "1519/1519 [==============================] - 8s 5ms/step - loss: 1.1845 - accuracy: 0.5788 - val_loss: 1.7383 - val_accuracy: 0.3961\n",
            "Epoch 10/50\n",
            "1519/1519 [==============================] - 7s 5ms/step - loss: 1.1678 - accuracy: 0.5863 - val_loss: 1.7577 - val_accuracy: 0.4020\n",
            "Epoch 11/50\n",
            "1519/1519 [==============================] - 7s 5ms/step - loss: 1.1465 - accuracy: 0.5925 - val_loss: 1.8669 - val_accuracy: 0.3283\n",
            "169/169 [==============================] - 0s 2ms/step\n",
            "Test score: 1.738290786743164\n",
            "Test accuracy: 0.3961111009120941\n"
          ]
        }
      ],
      "source": [
        "from keras import initializers\n",
        "import copy\n",
        "\n",
        "result = {}\n",
        "y = {}\n",
        "loss = []\n",
        "accuracy = []\n",
        "\n",
        "dropouts = [num/10 for num in range(8)]\n",
        "\n",
        "for dropout in dropouts:\n",
        "    print(\"Dropout : \", (dropout))\n",
        "    model = Sequential()\n",
        "\n",
        "    # layer 1\n",
        "    model.add(Conv2D(64, 3, padding='same', activation='relu',input_shape=(train_input.shape[1:])))\n",
        "    model.add(Dropout(dropout))  \n",
        "    model.add(Conv2D(64, 3, activation='relu',padding='same'))\n",
        "    model.add(Dropout(dropout))\n",
        "    model.add(MaxPooling2D(pool_size=(2, 2)))\n",
        "\n",
        "    # layer 2\n",
        "    model.add(Conv2D(128, 3, activation='relu',padding='same'))\n",
        "    model.add(Dropout(dropout))                                        \n",
        "    model.add(MaxPooling2D(pool_size=(2, 2)))\n",
        "\n",
        "    # layer 3                         \n",
        "    model.add(Conv2D(256, 3, activation='relu',padding='same'))\n",
        "    model.add(Dropout(dropout)) \n",
        "    model.add(MaxPooling2D(pool_size=(2, 2)))\n",
        "\n",
        "    # layer 4\n",
        "    model.add(Flatten())\n",
        "    model.add(Dense(512, activation='relu'))\n",
        "\n",
        "    # layer 5\n",
        "    model.add(Dense(512, activation='relu'))\n",
        "\n",
        "    # layer 6\n",
        "    model.add(Dense(num_classes, activation='softmax'))\n",
        "    \n",
        "    model.compile(loss='categorical_crossentropy',\n",
        "                  optimizer='adam',\n",
        "                  metrics=['accuracy'])\n",
        "    \n",
        "    checkpoint_cb = keras.callbacks.ModelCheckpoint('best-cnn-model.h5',\n",
        "                                                save_best_only = True)\n",
        "\n",
        "    early_stopping_cb = keras.callbacks.EarlyStopping(patience=2,restore_best_weights = True)\n",
        "\n",
        "    history = model.fit(train_input, train_target, batch_size=batch_size, epochs =epochs, verbose=1, \n",
        "                        shuffle=True, validation_data=(val_input, val_target),\n",
        "                        callbacks = [checkpoint_cb, early_stopping_cb])\n",
        "    \n",
        "    score = model.evaluate(val_input, val_target, verbose=0)\n",
        "    y[dropout] = model.predict(val_input)\n",
        "    print('Test score:', score[0])\n",
        "    print('Test accuracy:', score[1])\n",
        "    result[dropout] = copy.deepcopy(history.history)   \n",
        "    loss.append(score[0])\n",
        "    accuracy.append(score[1])"
      ]
    },
    {
      "cell_type": "code",
      "execution_count": 15,
      "metadata": {
        "colab": {
          "base_uri": "https://localhost:8080/",
          "height": 457
        },
        "id": "A5pIqbKQPXR4",
        "outputId": "55cfcb9d-1c0a-4937-8c5f-c1332add3614"
      },
      "outputs": [
        {
          "data": {
            "image/png": "[encoded data removed]",
            "text/plain": [
              "<Figure size 1152x576 with 2 Axes>"
            ]
          },
          "metadata": {
            "needs_background": "light"
          },
          "output_type": "display_data"
        }
      ],
      "source": [
        "x = dropouts\n",
        "x = list(map(str, x))\n",
        "y = accuracy\n",
        "z = loss\n",
        "\n",
        "df = pd.DataFrame(\n",
        "    dict(\n",
        "        Dropouts = x,\n",
        "        accuracy = y,\n",
        "        loss = z\n",
        "    )\n",
        ")\n",
        "\n",
        "acc_sorted = df.sort_values('accuracy')\n",
        "loss_sorted = df.sort_values('loss')\n",
        "\n",
        "plt.figure(figsize = (16,8))\n",
        "\n",
        "plt.subplot(1,2,1)\n",
        "plt.bar('Dropouts','accuracy', data = acc_sorted, width = 0.7)\n",
        "plt.xlabel('Dropouts')\n",
        "plt.ylabel('Accuracy')\n",
        "plt.title('Dropouts and Acc')\n",
        "\n",
        "plt.subplot(1,2,2)\n",
        "plt.bar('Dropouts', 'loss', data = loss_sorted, width = 0.7)\n",
        "plt.xlabel('Dropouts')\n",
        "plt.ylabel('Loss')\n",
        "plt.title('Dropouts and Loss')\n",
        "\n",
        "plt.show()"
      ]
    },
    {
      "cell_type": "markdown",
      "metadata": {
        "id": "PJBoeO3FYmBO"
      },
      "source": [
        "- accuracy와 loss를 모두 고려했을 때 dropout 0.2으로 모델 제작"
      ]
    },
    {
      "cell_type": "markdown",
      "metadata": {
        "id": "1tG9sl8IYskg"
      },
      "source": [
        "## 평가 지표 향상을 위한 모델 변형"
      ]
    },
    {
      "cell_type": "code",
      "execution_count": 17,
      "metadata": {
        "colab": {
          "base_uri": "https://localhost:8080/"
        },
        "id": "vIZ3AcaxYvmn",
        "outputId": "0ead6df2-64e6-4a29-8485-cdf835210932"
      },
      "outputs": [
        {
          "name": "stdout",
          "output_type": "stream",
          "text": [
            "Model: \"sequential_9\"\n",
            "_________________________________________________________________\n",
            " Layer (type)                Output Shape              Param #   \n",
            "=================================================================\n",
            " conv2d_38 (Conv2D)          (None, 32, 32, 32)        896       \n",
            "                                                                 \n",
            " batch_normalization_6 (Batc  (None, 32, 32, 32)       128       \n",
            " hNormalization)                                                 \n",
            "                                                                 \n",
            " conv2d_39 (Conv2D)          (None, 32, 32, 32)        9248      \n",
            "                                                                 \n",
            " batch_normalization_7 (Batc  (None, 32, 32, 32)       128       \n",
            " hNormalization)                                                 \n",
            "                                                                 \n",
            " max_pooling2d_27 (MaxPoolin  (None, 16, 16, 32)       0         \n",
            " g2D)                                                            \n",
            "                                                                 \n",
            " dropout_36 (Dropout)        (None, 16, 16, 32)        0         \n",
            "                                                                 \n",
            " conv2d_40 (Conv2D)          (None, 16, 16, 64)        18496     \n",
            "                                                                 \n",
            " batch_normalization_8 (Batc  (None, 16, 16, 64)       256       \n",
            " hNormalization)                                                 \n",
            "                                                                 \n",
            " conv2d_41 (Conv2D)          (None, 16, 16, 64)        36928     \n",
            "                                                                 \n",
            " batch_normalization_9 (Batc  (None, 16, 16, 64)       256       \n",
            " hNormalization)                                                 \n",
            "                                                                 \n",
            " max_pooling2d_28 (MaxPoolin  (None, 8, 8, 64)         0         \n",
            " g2D)                                                            \n",
            "                                                                 \n",
            " dropout_37 (Dropout)        (None, 8, 8, 64)          0         \n",
            "                                                                 \n",
            " conv2d_42 (Conv2D)          (None, 8, 8, 128)         73856     \n",
            "                                                                 \n",
            " batch_normalization_10 (Bat  (None, 8, 8, 128)        512       \n",
            " chNormalization)                                                \n",
            "                                                                 \n",
            " conv2d_43 (Conv2D)          (None, 8, 8, 128)         147584    \n",
            "                                                                 \n",
            " batch_normalization_11 (Bat  (None, 8, 8, 128)        512       \n",
            " chNormalization)                                                \n",
            "                                                                 \n",
            " max_pooling2d_29 (MaxPoolin  (None, 4, 4, 128)        0         \n",
            " g2D)                                                            \n",
            "                                                                 \n",
            " dropout_38 (Dropout)        (None, 4, 4, 128)         0         \n",
            "                                                                 \n",
            " flatten_9 (Flatten)         (None, 2048)              0         \n",
            "                                                                 \n",
            " dense_26 (Dense)            (None, 128)               262272    \n",
            "                                                                 \n",
            " dropout_39 (Dropout)        (None, 128)               0         \n",
            "                                                                 \n",
            " dense_27 (Dense)            (None, 10)                1290      \n",
            "                                                                 \n",
            "=================================================================\n",
            "Total params: 552,362\n",
            "Trainable params: 551,466\n",
            "Non-trainable params: 896\n",
            "_________________________________________________________________\n"
          ]
        }
      ],
      "source": [
        "model = Sequential()\n",
        "\n",
        "model.add(Conv2D(filters=32, kernel_size=(3, 3), input_shape=(32, 32, 3), activation='relu', padding='same'))\n",
        "model.add(BatchNormalization())\n",
        "model.add(Conv2D(filters=32, kernel_size=(3, 3), input_shape=(32, 32, 3), activation='relu', padding='same'))\n",
        "model.add(BatchNormalization())\n",
        "\n",
        "model.add(MaxPooling2D(pool_size=(2, 2)))\n",
        "\n",
        "model.add(Dropout(0.2))\n",
        "\n",
        "model.add(Conv2D(filters=64, kernel_size=(3, 3), input_shape=(32, 32, 3), activation='relu', padding='same'))\n",
        "model.add(BatchNormalization())\n",
        "model.add(Conv2D(filters=64, kernel_size=(3, 3), input_shape=(32, 32, 3), activation='relu', padding='same'))\n",
        "model.add(BatchNormalization())\n",
        "model.add(MaxPooling2D(pool_size=(2, 2)))\n",
        "model.add(Dropout(0.2))\n",
        "\n",
        "model.add(Conv2D(filters=128, kernel_size=(3, 3), input_shape=(32, 32, 3), activation='relu', padding='same'))\n",
        "model.add(BatchNormalization())\n",
        "model.add(Conv2D(filters=128, kernel_size=(3, 3), input_shape=(32, 32, 3), activation='relu', padding='same'))\n",
        "model.add(BatchNormalization())\n",
        "model.add(MaxPooling2D(pool_size=(2, 2)))\n",
        "model.add(Dropout(0.2))\n",
        "\n",
        "model.add(Flatten())\n",
        "\n",
        "model.add(Dense(128, activation='relu'))\n",
        "model.add(Dropout(0.2))\n",
        "model.add(Dense(num_classes, activation='softmax'))\n",
        "\n",
        "model.summary()"
      ]
    },
    {
      "cell_type": "code",
      "execution_count": 18,
      "metadata": {
        "id": "7EWXhD6-cjfZ"
      },
      "outputs": [],
      "source": [
        "batch_size = 32\n",
        "data_generator = ImageDataGenerator(width_shift_range = 0.1, height_shift_range = 0.1,\n",
        "                                    horizontal_flip = True)\n",
        "\n",
        "train_generator = data_generator.flow(train_input, train_target, batch_size)\n",
        "steps_per_epoch = train_input.shape[0] // batch_size"
      ]
    },
    {
      "cell_type": "code",
      "execution_count": 19,
      "metadata": {
        "colab": {
          "base_uri": "https://localhost:8080/"
        },
        "id": "Ui93X_oObFgB",
        "outputId": "a4536dd2-5765-403d-fe5a-41239da4f980"
      },
      "outputs": [
        {
          "name": "stdout",
          "output_type": "stream",
          "text": [
            "Epoch 1/50\n",
            "1518/1518 [==============================] - 11s 6ms/step - loss: 1.4589 - accuracy: 0.4779 - val_loss: 1.1022 - val_accuracy: 0.6002\n",
            "Epoch 2/50\n",
            "1518/1518 [==============================] - 9s 6ms/step - loss: 1.0212 - accuracy: 0.6419 - val_loss: 0.8888 - val_accuracy: 0.6854\n",
            "Epoch 3/50\n",
            "1518/1518 [==============================] - 9s 6ms/step - loss: 0.8535 - accuracy: 0.7049 - val_loss: 0.8056 - val_accuracy: 0.7293\n",
            "Epoch 4/50\n",
            "1518/1518 [==============================] - 9s 6ms/step - loss: 0.7511 - accuracy: 0.7412 - val_loss: 0.8390 - val_accuracy: 0.7287\n",
            "Epoch 5/50\n",
            "1518/1518 [==============================] - 9s 6ms/step - loss: 0.6696 - accuracy: 0.7713 - val_loss: 0.7063 - val_accuracy: 0.7693\n",
            "Epoch 6/50\n",
            "1518/1518 [==============================] - 9s 6ms/step - loss: 0.6048 - accuracy: 0.7943 - val_loss: 0.6030 - val_accuracy: 0.7967\n",
            "Epoch 7/50\n",
            "1518/1518 [==============================] - 9s 6ms/step - loss: 0.5546 - accuracy: 0.8102 - val_loss: 0.8108 - val_accuracy: 0.7511\n",
            "Epoch 8/50\n",
            "1518/1518 [==============================] - 9s 6ms/step - loss: 0.5067 - accuracy: 0.8282 - val_loss: 0.7452 - val_accuracy: 0.7643\n"
          ]
        }
      ],
      "source": [
        "model.compile(loss='categorical_crossentropy', optimizer='adam', metrics = ['accuracy'])\n",
        "\n",
        "checkpoint_cb = keras.callbacks.ModelCheckpoint('best-cnn-model.h5',\n",
        "                                                save_best_only = True)\n",
        "\n",
        "early_stopping_cb = keras.callbacks.EarlyStopping(patience=2,restore_best_weights = True)\n",
        "\n",
        "history = model.fit(train_input, train_target, batch_size=batch_size, epochs = epochs,\n",
        "                        shuffle=True, validation_data=(val_input, val_target),\n",
        "                        steps_per_epoch = steps_per_epoch,\n",
        "                        callbacks = [checkpoint_cb, early_stopping_cb])"
      ]
    },
    {
      "cell_type": "markdown",
      "metadata": {
        "id": "K_wnb93sekN4"
      },
      "source": [
        "## 결과 확인"
      ]
    },
    {
      "cell_type": "code",
      "execution_count": 20,
      "metadata": {
        "colab": {
          "base_uri": "https://localhost:8080/",
          "height": 281
        },
        "id": "UiSm3TZ9dofr",
        "outputId": "d8dce73f-482c-4414-8655-d6b60ae5c55b"
      },
      "outputs": [
        {
          "data": {
            "image/png": "[encoded data removed]",
            "text/plain": [
              "<Figure size 432x288 with 1 Axes>"
            ]
          },
          "metadata": {
            "needs_background": "light"
          },
          "output_type": "display_data"
        }
      ],
      "source": [
        "plt.plot(history.history['loss'], label='Loss')\n",
        "plt.plot(history.history['val_loss'], label='val_Loss')\n",
        "plt.title('Loss Function Evolution')\n",
        "plt.legend()\n",
        "plt.show()"
      ]
    },
    {
      "cell_type": "code",
      "execution_count": 21,
      "metadata": {
        "colab": {
          "base_uri": "https://localhost:8080/"
        },
        "id": "tCMdgRn2bofK",
        "outputId": "dd8af786-1f31-423c-b7b2-4c1eb244766d"
      },
      "outputs": [
        {
          "name": "stdout",
          "output_type": "stream",
          "text": [
            "169/169 [==============================] - 1s 3ms/step - loss: 0.6030 - accuracy: 0.7967\n"
          ]
        },
        {
          "data": {
            "text/plain": [
              "[0.6030204892158508, 0.79666668176651]"
            ]
          },
          "execution_count": 21,
          "metadata": {},
          "output_type": "execute_result"
        }
      ],
      "source": [
        "model.evaluate(val_input, val_target)"
      ]
    },
    {
      "cell_type": "markdown",
      "metadata": {
        "id": "siHZaXfWel5E"
      },
      "source": [
        "## 테스트 데이터 사용"
      ]
    },
    {
      "cell_type": "code",
      "execution_count": 22,
      "metadata": {
        "colab": {
          "base_uri": "https://localhost:8080/"
        },
        "id": "doCTl6aNeXyv",
        "outputId": "e47015dc-a184-40d3-f42f-06195f2fffcd"
      },
      "outputs": [
        {
          "data": {
            "text/plain": [
              "((6000, 32, 32, 3), (6000, 1))"
            ]
          },
          "execution_count": 22,
          "metadata": {},
          "output_type": "execute_result"
        }
      ],
      "source": [
        "x_test.shape, y_test.shape"
      ]
    },
    {
      "cell_type": "code",
      "execution_count": 23,
      "metadata": {
        "colab": {
          "base_uri": "https://localhost:8080/"
        },
        "id": "tuLBzvnHeqKm",
        "outputId": "084e3e55-553f-421e-f83e-05b03a260dc3"
      },
      "outputs": [
        {
          "name": "stdout",
          "output_type": "stream",
          "text": [
            "188/188 [==============================] - 1s 3ms/step\n"
          ]
        }
      ],
      "source": [
        "y_pred = model.predict(x_test)"
      ]
    },
    {
      "cell_type": "code",
      "execution_count": 26,
      "metadata": {
        "id": "yRv_ytSpYFfJ"
      },
      "outputs": [],
      "source": [
        "y_pred = np.argmax(y_pred,1)"
      ]
    },
    {
      "cell_type": "code",
      "execution_count": 27,
      "metadata": {
        "id": "xaAkIDSmfBVU"
      },
      "outputs": [],
      "source": [
        "from sklearn.metrics import ConfusionMatrixDisplay\n",
        "from sklearn.metrics import classification_report, confusion_matrix\n",
        "\n",
        "cm = confusion_matrix(y_test, y_pred)"
      ]
    },
    {
      "cell_type": "code",
      "execution_count": 28,
      "metadata": {
        "colab": {
          "base_uri": "https://localhost:8080/",
          "height": 603
        },
        "id": "q1e-OENkfEEs",
        "outputId": "f6beef22-1c80-498d-ce39-bfbe8936a36e"
      },
      "outputs": [
        {
          "data": {
            "image/png": "[encoded data removed]",
            "text/plain": [
              "<Figure size 720x720 with 2 Axes>"
            ]
          },
          "metadata": {
            "needs_background": "light"
          },
          "output_type": "display_data"
        }
      ],
      "source": [
        "labels = ['airplane', 'automobile', 'bird', 'cat', 'deer', 'dog', 'frog', 'horse', 'ship', 'truck']\n",
        "\n",
        "disp = ConfusionMatrixDisplay(confusion_matrix=cm, display_labels=labels)\n",
        "\n",
        "fig, ax = plt.subplots(figsize=(10, 10))\n",
        "disp = disp.plot(xticks_rotation='vertical', ax=ax,cmap='summer')\n",
        "\n",
        "plt.show()"
      ]
    },
    {
      "cell_type": "code",
      "execution_count": 30,
      "metadata": {
        "colab": {
          "base_uri": "https://localhost:8080/",
          "height": 457
        },
        "id": "Z8-hxMGKTxBn",
        "outputId": "0317766c-ff5b-4db2-8dcd-4e1ba0d61c33"
      },
      "outputs": [
        {
          "data": {
            "text/html": [
              "\n",
              "  <div id=\"df-74fe2006-bc7b-4801-86fb-a0d870addb3d\">\n",
              "    <div class=\"colab-df-container\">\n",
              "      <div>\n",
              "<style scoped>\n",
              "    .dataframe tbody tr th:only-of-type {\n",
              "        vertical-align: middle;\n",
              "    }\n",
              "\n",
              "    .dataframe tbody tr th {\n",
              "        vertical-align: top;\n",
              "    }\n",
              "\n",
              "    .dataframe thead th {\n",
              "        text-align: right;\n",
              "    }\n",
              "</style>\n",
              "<table border=\"1\" class=\"dataframe\">\n",
              "  <thead>\n",
              "    <tr style=\"text-align: right;\">\n",
              "      <th></th>\n",
              "      <th>precision</th>\n",
              "      <th>recall</th>\n",
              "      <th>f1-score</th>\n",
              "      <th>support</th>\n",
              "    </tr>\n",
              "  </thead>\n",
              "  <tbody>\n",
              "    <tr>\n",
              "      <th>airplane</th>\n",
              "      <td>0.867041</td>\n",
              "      <td>0.761513</td>\n",
              "      <td>0.810858</td>\n",
              "      <td>608.000000</td>\n",
              "    </tr>\n",
              "    <tr>\n",
              "      <th>automobile</th>\n",
              "      <td>0.866044</td>\n",
              "      <td>0.936027</td>\n",
              "      <td>0.899676</td>\n",
              "      <td>594.000000</td>\n",
              "    </tr>\n",
              "    <tr>\n",
              "      <th>bird</th>\n",
              "      <td>0.789116</td>\n",
              "      <td>0.592845</td>\n",
              "      <td>0.677043</td>\n",
              "      <td>587.000000</td>\n",
              "    </tr>\n",
              "    <tr>\n",
              "      <th>cat</th>\n",
              "      <td>0.640364</td>\n",
              "      <td>0.669841</td>\n",
              "      <td>0.654771</td>\n",
              "      <td>630.000000</td>\n",
              "    </tr>\n",
              "    <tr>\n",
              "      <th>deer</th>\n",
              "      <td>0.686610</td>\n",
              "      <td>0.835355</td>\n",
              "      <td>0.753714</td>\n",
              "      <td>577.000000</td>\n",
              "    </tr>\n",
              "    <tr>\n",
              "      <th>dog</th>\n",
              "      <td>0.694444</td>\n",
              "      <td>0.713087</td>\n",
              "      <td>0.703642</td>\n",
              "      <td>596.000000</td>\n",
              "    </tr>\n",
              "    <tr>\n",
              "      <th>frog</th>\n",
              "      <td>0.887833</td>\n",
              "      <td>0.839928</td>\n",
              "      <td>0.863216</td>\n",
              "      <td>556.000000</td>\n",
              "    </tr>\n",
              "    <tr>\n",
              "      <th>horse</th>\n",
              "      <td>0.806034</td>\n",
              "      <td>0.868421</td>\n",
              "      <td>0.836066</td>\n",
              "      <td>646.000000</td>\n",
              "    </tr>\n",
              "    <tr>\n",
              "      <th>ship</th>\n",
              "      <td>0.856260</td>\n",
              "      <td>0.918740</td>\n",
              "      <td>0.886400</td>\n",
              "      <td>603.000000</td>\n",
              "    </tr>\n",
              "    <tr>\n",
              "      <th>truck</th>\n",
              "      <td>0.913124</td>\n",
              "      <td>0.819237</td>\n",
              "      <td>0.863636</td>\n",
              "      <td>603.000000</td>\n",
              "    </tr>\n",
              "    <tr>\n",
              "      <th>accuracy</th>\n",
              "      <td>0.795333</td>\n",
              "      <td>0.795333</td>\n",
              "      <td>0.795333</td>\n",
              "      <td>0.795333</td>\n",
              "    </tr>\n",
              "    <tr>\n",
              "      <th>macro avg</th>\n",
              "      <td>0.800687</td>\n",
              "      <td>0.795499</td>\n",
              "      <td>0.794902</td>\n",
              "      <td>6000.000000</td>\n",
              "    </tr>\n",
              "    <tr>\n",
              "      <th>weighted avg</th>\n",
              "      <td>0.799928</td>\n",
              "      <td>0.795333</td>\n",
              "      <td>0.794487</td>\n",
              "      <td>6000.000000</td>\n",
              "    </tr>\n",
              "  </tbody>\n",
              "</table>\n",
              "</div>\n",
              "      <button class=\"colab-df-convert\" onclick=\"convertToInteractive('df-74fe2006-bc7b-4801-86fb-a0d870addb3d')\"\n",
              "              title=\"Convert this dataframe to an interactive table.\"\n",
              "              style=\"display:none;\">\n",
              "        \n",
              "  <svg xmlns=\"http://www.w3.org/2000/svg\" height=\"24px\"viewBox=\"0 0 24 24\"\n",
              "       width=\"24px\">\n",
              "    <path d=\"M0 0h24v24H0V0z\" fill=\"none\"/>\n",
              "    <path d=\"M18.56 5.44l.94 2.06.94-2.06 2.06-.94-2.06-.94-.94-2.06-.94 2.06-2.06.94zm-11 1L8.5 8.5l.94-2.06 2.06-.94-2.06-.94L8.5 2.5l-.94 2.06-2.06.94zm10 10l.94 2.06.94-2.06 2.06-.94-2.06-.94-.94-2.06-.94 2.06-2.06.94z\"/><path d=\"M17.41 7.96l-1.37-1.37c-.4-.4-.92-.59-1.43-.59-.52 0-1.04.2-1.43.59L10.3 9.45l-7.72 7.72c-.78.78-.78 2.05 0 2.83L4 21.41c.39.39.9.59 1.41.59.51 0 1.02-.2 1.41-.59l7.78-7.78 2.81-2.81c.8-.78.8-2.07 0-2.86zM5.41 20L4 18.59l7.72-7.72 1.47 1.35L5.41 20z\"/>\n",
              "  </svg>\n",
              "      </button>\n",
              "      \n",
              "  <style>\n",
              "    .colab-df-container {\n",
              "      display:flex;\n",
              "      flex-wrap:wrap;\n",
              "      gap: 12px;\n",
              "    }\n",
              "\n",
              "    .colab-df-convert {\n",
              "      background-color: #E8F0FE;\n",
              "      border: none;\n",
              "      border-radius: 50%;\n",
              "      cursor: pointer;\n",
              "      display: none;\n",
              "      fill: #1967D2;\n",
              "      height: 32px;\n",
              "      padding: 0 0 0 0;\n",
              "      width: 32px;\n",
              "    }\n",
              "\n",
              "    .colab-df-convert:hover {\n",
              "      background-color: #E2EBFA;\n",
              "      box-shadow: 0px 1px 2px rgba(60, 64, 67, 0.3), 0px 1px 3px 1px rgba(60, 64, 67, 0.15);\n",
              "      fill: #174EA6;\n",
              "    }\n",
              "\n",
              "    [theme=dark] .colab-df-convert {\n",
              "      background-color: #3B4455;\n",
              "      fill: #D2E3FC;\n",
              "    }\n",
              "\n",
              "    [theme=dark] .colab-df-convert:hover {\n",
              "      background-color: #434B5C;\n",
              "      box-shadow: 0px 1px 3px 1px rgba(0, 0, 0, 0.15);\n",
              "      filter: drop-shadow(0px 1px 2px rgba(0, 0, 0, 0.3));\n",
              "      fill: #FFFFFF;\n",
              "    }\n",
              "  </style>\n",
              "\n",
              "      <script>\n",
              "        const buttonEl =\n",
              "          document.querySelector('#df-74fe2006-bc7b-4801-86fb-a0d870addb3d button.colab-df-convert');\n",
              "        buttonEl.style.display =\n",
              "          google.colab.kernel.accessAllowed ? 'block' : 'none';\n",
              "\n",
              "        async function convertToInteractive(key) {\n",
              "          const element = document.querySelector('#df-74fe2006-bc7b-4801-86fb-a0d870addb3d');\n",
              "          const dataTable =\n",
              "            await google.colab.kernel.invokeFunction('convertToInteractive',\n",
              "                                                     [key], {});\n",
              "          if (!dataTable) return;\n",
              "\n",
              "          const docLinkHtml = 'Like what you see? Visit the ' +\n",
              "            '<a target=\"_blank\" href=https://colab.research.google.com/notebooks/data_table.ipynb>data table notebook</a>'\n",
              "            + ' to learn more about interactive tables.';\n",
              "          element.innerHTML = '';\n",
              "          dataTable['output_type'] = 'display_data';\n",
              "          await google.colab.output.renderOutput(dataTable, element);\n",
              "          const docLink = document.createElement('div');\n",
              "          docLink.innerHTML = docLinkHtml;\n",
              "          element.appendChild(docLink);\n",
              "        }\n",
              "      </script>\n",
              "    </div>\n",
              "  </div>\n",
              "  "
            ],
            "text/plain": [
              "              precision    recall  f1-score      support\n",
              "airplane       0.867041  0.761513  0.810858   608.000000\n",
              "automobile     0.866044  0.936027  0.899676   594.000000\n",
              "bird           0.789116  0.592845  0.677043   587.000000\n",
              "cat            0.640364  0.669841  0.654771   630.000000\n",
              "deer           0.686610  0.835355  0.753714   577.000000\n",
              "dog            0.694444  0.713087  0.703642   596.000000\n",
              "frog           0.887833  0.839928  0.863216   556.000000\n",
              "horse          0.806034  0.868421  0.836066   646.000000\n",
              "ship           0.856260  0.918740  0.886400   603.000000\n",
              "truck          0.913124  0.819237  0.863636   603.000000\n",
              "accuracy       0.795333  0.795333  0.795333     0.795333\n",
              "macro avg      0.800687  0.795499  0.794902  6000.000000\n",
              "weighted avg   0.799928  0.795333  0.794487  6000.000000"
            ]
          },
          "execution_count": 30,
          "metadata": {},
          "output_type": "execute_result"
        }
      ],
      "source": [
        "from sklearn.metrics import classification_report\n",
        "\n",
        "report = classification_report(y_test, y_pred, target_names = labels, output_dict = True)\n",
        "df_report = pd.DataFrame(report).transpose()\n",
        "df_report"
      ]
    },
    {
      "cell_type": "markdown",
      "metadata": {
        "id": "HTQ6z8p4gG0m"
      },
      "source": [
        "## DenseNet model 사용"
      ]
    },
    {
      "cell_type": "code",
      "execution_count": null,
      "metadata": {
        "colab": {
          "base_uri": "https://localhost:8080/"
        },
        "id": "4wvs4hf1fypR",
        "outputId": "3b5e9039-6d87-45a3-c125-589eb4f26ddd"
      },
      "outputs": [
        {
          "name": "stdout",
          "output_type": "stream",
          "text": [
            "Downloading data from https://storage.googleapis.com/tensorflow/keras-applications/densenet/densenet121_weights_tf_dim_ordering_tf_kernels_notop.h5\n",
            "29084464/29084464 [==============================] - 2s 0us/step\n",
            "Model: \"sequential_2\"\n",
            "_________________________________________________________________\n",
            " Layer (type)                Output Shape              Param #   \n",
            "=================================================================\n",
            " densenet121 (Functional)    (None, 1024)              7037504   \n",
            "                                                                 \n",
            " dense_4 (Dense)             (None, 10)                10250     \n",
            "                                                                 \n",
            "=================================================================\n",
            "Total params: 7,047,754\n",
            "Trainable params: 6,964,106\n",
            "Non-trainable params: 83,648\n",
            "_________________________________________________________________\n"
          ]
        }
      ],
      "source": [
        "from keras.applications.densenet import DenseNet121\n",
        "\n",
        "model = Sequential()\n",
        "base_model = DenseNet121(input_shape=(32, 32, 3), include_top=False, weights='imagenet', pooling='avg')\n",
        "model.add(base_model)\n",
        "model.add(Dense(num_classes, activation='softmax'))\n",
        "model.summary()"
      ]
    },
    {
      "cell_type": "code",
      "execution_count": null,
      "metadata": {
        "colab": {
          "base_uri": "https://localhost:8080/"
        },
        "id": "xzGhhQ9jgZJ0",
        "outputId": "55b603fa-0af8-4387-d221-c01dddb49b56"
      },
      "outputs": [
        {
          "name": "stdout",
          "output_type": "stream",
          "text": [
            "Epoch 1/50\n",
            "1518/1518 [==============================] - 102s 59ms/step - loss: 1.2569 - accuracy: 0.5833 - val_loss: 2.6046 - val_accuracy: 0.5111\n",
            "Epoch 2/50\n",
            "1518/1518 [==============================] - 84s 54ms/step - loss: 0.9517 - accuracy: 0.6804 - val_loss: 1.1669 - val_accuracy: 0.6248\n",
            "Epoch 3/50\n",
            "1518/1518 [==============================] - 82s 54ms/step - loss: 0.8526 - accuracy: 0.7165 - val_loss: 0.8355 - val_accuracy: 0.7139\n",
            "Epoch 4/50\n",
            "1518/1518 [==============================] - 88s 58ms/step - loss: 1.3395 - accuracy: 0.5515 - val_loss: 1.7756 - val_accuracy: 0.5335\n",
            "Epoch 5/50\n",
            "1518/1518 [==============================] - 84s 55ms/step - loss: 1.1403 - accuracy: 0.6079 - val_loss: 20.8080 - val_accuracy: 0.3385\n"
          ]
        }
      ],
      "source": [
        "model.compile(loss='categorical_crossentropy', optimizer='adam', metrics=['accuracy'])\n",
        "\n",
        "checkpoint_cb = keras.callbacks.ModelCheckpoint('best-cnn-model.h5',\n",
        "                                                save_best_only = True)\n",
        "\n",
        "early_stopping_cb = keras.callbacks.EarlyStopping(patience=2,restore_best_weights = True)\n",
        "\n",
        "history = model.fit(train_input, train_target, batch_size=batch_size, epochs = epochs,\n",
        "                        shuffle=True, validation_data=(val_input, val_target),\n",
        "                        steps_per_epoch = steps_per_epoch,\n",
        "                        callbacks = [checkpoint_cb, early_stopping_cb])"
      ]
    },
    {
      "cell_type": "markdown",
      "metadata": {
        "id": "pTEH6tRaiZkk"
      },
      "source": [
        "- DenseNet 모델을 사용해봤으나, 성능이 좋지 않음. 모델에 대한 이해도가 부족해서 그런거 같다.\n",
        "\n",
        "- https://deep-learning-study.tistory.com/528"
      ]
    }
  ],
  "metadata": {
    "accelerator": "GPU",
    "colab": {
      "collapsed_sections": [
        "Pg7IBCG_C1u0"
      ],
      "machine_shape": "hm",
      "provenance": []
    },
    "gpuClass": "premium",
    "kernelspec": {
      "display_name": "Python 3",
      "name": "python3"
    },
    "language_info": {
      "name": "python"
    },
    "vscode": {
      "interpreter": {
        "hash": "43af7393c8e3bb0730eb35f197fc5ab4355397fc73467075a0f020e747dbc619"
      }
    }
  },
  "nbformat": 4,
  "nbformat_minor": 0
}
