{
 "cells": [
  {
   "cell_type": "markdown",
   "metadata": {
    "id": "Pju7aTohjd-y"
   },
   "source": [
    "# 패키지 로드 및 디렉토리 설정"
   ]
  },
  {
   "cell_type": "code",
   "execution_count": 1,
   "metadata": {
    "executionInfo": {
     "elapsed": 300,
     "status": "ok",
     "timestamp": 1670166800775,
     "user": {
      "displayName": "이동현",
      "userId": "10818226634236936559"
     },
     "user_tz": -540
    },
    "id": "pGVUkeJysWDJ"
   },
   "outputs": [],
   "source": [
    "from google.colab import auth\n",
    "auth.authenticate_user()"
   ]
  },
  {
   "cell_type": "code",
   "execution_count": 2,
   "metadata": {
    "colab": {
     "base_uri": "https://localhost:8080/"
    },
    "executionInfo": {
     "elapsed": 6206,
     "status": "ok",
     "timestamp": 1670166808976,
     "user": {
      "displayName": "이동현",
      "userId": "10818226634236936559"
     },
     "user_tz": -540
    },
    "id": "mvaewlEBnDqK",
    "outputId": "44d2f5ff-71e2-478e-d37b-a27d691d8b29"
   },
   "outputs": [
    {
     "name": "stdout",
     "output_type": "stream",
     "text": [
      "Mounted at /content/drive\n",
      "/content/drive/MyDrive/data/dataset\n"
     ]
    }
   ],
   "source": [
    "from google.colab import drive\n",
    "drive.mount('/content/drive', force_remount=True)\n",
    "%cd drive/MyDrive/data/dataset"
   ]
  },
  {
   "cell_type": "code",
   "execution_count": 26,
   "metadata": {
    "colab": {
     "base_uri": "https://localhost:8080/"
    },
    "executionInfo": {
     "elapsed": 4633,
     "status": "ok",
     "timestamp": 1670166739330,
     "user": {
      "displayName": "이동현",
      "userId": "10818226634236936559"
     },
     "user_tz": -540
    },
    "id": "xwH0-p4ZqDrL",
    "outputId": "91981413-1d23-4022-e1e3-cb466b198446"
   },
   "outputs": [
    {
     "name": "stdout",
     "output_type": "stream",
     "text": [
      "Reading package lists... Done\n",
      "Building dependency tree       \n",
      "Reading state information... Done\n",
      "fonts-nanum is already the newest version (20170925-1).\n",
      "The following package was automatically installed and is no longer required:\n",
      "  libnvidia-common-460\n",
      "Use 'sudo apt autoremove' to remove it.\n",
      "0 upgraded, 0 newly installed, 0 to remove and 7 not upgraded.\n",
      "/usr/share/fonts: caching, new cache contents: 0 fonts, 1 dirs\n",
      "/usr/share/fonts/truetype: caching, new cache contents: 0 fonts, 3 dirs\n",
      "/usr/share/fonts/truetype/humor-sans: caching, new cache contents: 1 fonts, 0 dirs\n",
      "/usr/share/fonts/truetype/liberation: caching, new cache contents: 16 fonts, 0 dirs\n",
      "/usr/share/fonts/truetype/nanum: caching, new cache contents: 10 fonts, 0 dirs\n",
      "/usr/local/share/fonts: caching, new cache contents: 0 fonts, 0 dirs\n",
      "/root/.local/share/fonts: skipping, no such directory\n",
      "/root/.fonts: skipping, no such directory\n",
      "/var/cache/fontconfig: cleaning cache directory\n",
      "/root/.cache/fontconfig: not cleaning non-existent cache directory\n",
      "/root/.fontconfig: not cleaning non-existent cache directory\n",
      "fc-cache: succeeded\n"
     ]
    }
   ],
   "source": [
    "!sudo apt-get install -y fonts-nanum\n",
    "!sudo fc-cache -fv\n",
    "!rm ~/.cache/matplotlib -rf"
   ]
  },
  {
   "cell_type": "code",
   "execution_count": 3,
   "metadata": {
    "executionInfo": {
     "elapsed": 6540,
     "status": "ok",
     "timestamp": 1670166820740,
     "user": {
      "displayName": "이동현",
      "userId": "10818226634236936559"
     },
     "user_tz": -540
    },
    "id": "ZRHvVERzmjxI"
   },
   "outputs": [],
   "source": [
    "from keras import layers, models\n",
    "from keras import Input\n",
    "from keras.preprocessing.image import ImageDataGenerator\n",
    "from keras import optimizers, initializers, regularizers, metrics, callbacks\n",
    "from keras.callbacks import ModelCheckpoint\n",
    "import os\n",
    "from glob import glob\n",
    "from PIL import Image\n",
    "import matplotlib.pyplot as plt\n",
    "import numpy as np\n",
    "import pathlib\n",
    "import os\n",
    "import cv2\n",
    "from sklearn.model_selection import train_test_split\n",
    "import seaborn as sns\n",
    "import matplotlib.pyplot as plt\n",
    "from tensorflow import keras"
   ]
  },
  {
   "cell_type": "code",
   "execution_count": 4,
   "metadata": {
    "executionInfo": {
     "elapsed": 8,
     "status": "ok",
     "timestamp": 1670166835542,
     "user": {
      "displayName": "이동현",
      "userId": "10818226634236936559"
     },
     "user_tz": -540
    },
    "id": "OzobdKN-rETV"
   },
   "outputs": [],
   "source": [
    "plt.rc('font', family='NanumBarunGothic')"
   ]
  },
  {
   "cell_type": "markdown",
   "metadata": {
    "id": "Bi2I_kKqjktU"
   },
   "source": [
    "# 데이터 로드 및 분할"
   ]
  },
  {
   "cell_type": "code",
   "execution_count": 6,
   "metadata": {
    "colab": {
     "base_uri": "https://localhost:8080/"
    },
    "executionInfo": {
     "elapsed": 844,
     "status": "ok",
     "timestamp": 1670166844960,
     "user": {
      "displayName": "이동현",
      "userId": "10818226634236936559"
     },
     "user_tz": -540
    },
    "id": "TkLLbBfbmq0h",
    "outputId": "d20a98ed-8819-4922-e8a4-8ce330ea6670"
   },
   "outputs": [
    {
     "data": {
      "text/plain": [
       "['슬픔', '중립', '기쁨', '당황', '분노', '불안', '상처']"
      ]
     },
     "execution_count": 6,
     "metadata": {},
     "output_type": "execute_result"
    }
   ],
   "source": [
    "categories = os.listdir()[:-4]\n",
    "num_labels = len(categories)\n",
    "categories"
   ]
  },
  {
   "cell_type": "code",
   "execution_count": 7,
   "metadata": {
    "executionInfo": {
     "elapsed": 30423,
     "status": "ok",
     "timestamp": 1670166875381,
     "user": {
      "displayName": "이동현",
      "userId": "10818226634236936559"
     },
     "user_tz": -540
    },
    "id": "n-kwb-nKnBpT"
   },
   "outputs": [],
   "source": [
    "image_w = 100\n",
    "image_h = 100\n",
    "  \n",
    "X = []\n",
    "Y = []\n",
    "  \n",
    "for idex, categorie in enumerate(categories):\n",
    "    label = idex\n",
    "    image_dir = categorie + '/'\n",
    "  \n",
    "    for top, dir, f in os.walk(image_dir):\n",
    "        for filename in f:\n",
    "            img = cv2.imread(image_dir+filename) # cv2.IMREAD_GRAYSCALE : 흑백 처리\n",
    "            img = cv2.cvtColor(img, cv2.COLOR_BGR2RGB, dst = img) # RGB 변환\n",
    "            img = cv2.resize(img, None, fx=image_w/img.shape[1], fy=image_h/img.shape[0])\n",
    "            X.append(img/255)\n",
    "            Y.append(label)\n",
    " \n",
    "X = np.array(X)\n",
    "Y = np.array(Y)\n",
    " \n",
    "X_train, X_test, Y_train, Y_test = train_test_split(X,Y, test_size = 0.1, random_state = 42)"
   ]
  },
  {
   "cell_type": "code",
   "execution_count": 8,
   "metadata": {
    "colab": {
     "base_uri": "https://localhost:8080/"
    },
    "executionInfo": {
     "elapsed": 4,
     "status": "ok",
     "timestamp": 1670166877345,
     "user": {
      "displayName": "이동현",
      "userId": "10818226634236936559"
     },
     "user_tz": -540
    },
    "id": "_DVjp7TknT-8",
    "outputId": "8eb34a14-8417-46dc-eee3-95b4b60270db"
   },
   "outputs": [
    {
     "name": "stdout",
     "output_type": "stream",
     "text": [
      "(1890, 100, 100, 3) (210, 100, 100, 3) (1890,) (210,)\n"
     ]
    }
   ],
   "source": [
    "print(X_train.shape, X_test.shape, Y_train.shape, Y_test.shape)"
   ]
  },
  {
   "cell_type": "code",
   "execution_count": 17,
   "metadata": {
    "executionInfo": {
     "elapsed": 2,
     "status": "ok",
     "timestamp": 1670166957166,
     "user": {
      "displayName": "이동현",
      "userId": "10818226634236936559"
     },
     "user_tz": -540
    },
    "id": "m2XxskQmoCNF"
   },
   "outputs": [],
   "source": [
    "train_input, val_input, train_target, val_target = train_test_split(X_train, Y_train, \n",
    "                                                                      test_size=0.1, random_state=41)"
   ]
  },
  {
   "cell_type": "markdown",
   "metadata": {
    "id": "rwMqyqxnpBeX"
   },
   "source": [
    "# 모델 사용"
   ]
  },
  {
   "cell_type": "code",
   "execution_count": 18,
   "metadata": {
    "colab": {
     "base_uri": "https://localhost:8080/"
    },
    "executionInfo": {
     "elapsed": 13,
     "status": "ok",
     "timestamp": 1670166958747,
     "user": {
      "displayName": "이동현",
      "userId": "10818226634236936559"
     },
     "user_tz": -540
    },
    "id": "I7oWYOjqqHB8",
    "outputId": "54a6d260-3836-471a-b007-eb060e32a301"
   },
   "outputs": [
    {
     "name": "stdout",
     "output_type": "stream",
     "text": [
      "Model: \"sequential_1\"\n",
      "_________________________________________________________________\n",
      " Layer (type)                Output Shape              Param #   \n",
      "=================================================================\n",
      " conv2d_2 (Conv2D)           (None, 100, 100, 32)      896       \n",
      "                                                                 \n",
      " max_pooling2d_2 (MaxPooling  (None, 50, 50, 32)       0         \n",
      " 2D)                                                             \n",
      "                                                                 \n",
      " conv2d_3 (Conv2D)           (None, 50, 50, 64)        18496     \n",
      "                                                                 \n",
      " max_pooling2d_3 (MaxPooling  (None, 25, 25, 64)       0         \n",
      " 2D)                                                             \n",
      "                                                                 \n",
      " flatten_1 (Flatten)         (None, 40000)             0         \n",
      "                                                                 \n",
      " dense_2 (Dense)             (None, 100)               4000100   \n",
      "                                                                 \n",
      " dropout_1 (Dropout)         (None, 100)               0         \n",
      "                                                                 \n",
      " dense_3 (Dense)             (None, 7)                 707       \n",
      "                                                                 \n",
      "=================================================================\n",
      "Total params: 4,020,199\n",
      "Trainable params: 4,020,199\n",
      "Non-trainable params: 0\n",
      "_________________________________________________________________\n"
     ]
    }
   ],
   "source": [
    "model = keras.Sequential() # 순서대로 구조 정의\n",
    "model.add(keras.layers.Conv2D(32, kernel_size = 3, activation = 'relu', \n",
    "                              padding = 'same', input_shape = train_input.shape[1:]))\n",
    "model.add(keras.layers.MaxPooling2D(2))\n",
    "model.add(keras.layers.Conv2D(64, kernel_size = 3, activation = 'relu', padding = 'same'))\n",
    "model.add(keras.layers.MaxPooling2D(2))\n",
    "model.add(keras.layers.Flatten())\n",
    "model.add(keras.layers.Dense(100, activation = 'relu'))\n",
    "model.add(keras.layers.Dropout(0.3))\n",
    "model.add(keras.layers.Dense(len(categories), activation = 'softmax'))\n",
    "\n",
    "model.summary()"
   ]
  },
  {
   "cell_type": "code",
   "execution_count": 19,
   "metadata": {
    "executionInfo": {
     "elapsed": 400,
     "status": "ok",
     "timestamp": 1670166960912,
     "user": {
      "displayName": "이동현",
      "userId": "10818226634236936559"
     },
     "user_tz": -540
    },
    "id": "S-HFypE0lfln"
   },
   "outputs": [],
   "source": [
    "batch_size = 32\n",
    "epochs = 50\n",
    "\n",
    "data_generator = ImageDataGenerator(width_shift_range=0.1, height_shift_range=0.1, horizontal_flip=True)\n",
    "train_generator = data_generator.flow(train_input, train_target, batch_size)\n",
    "steps_per_epoch = X_train.shape[0] // batch_size"
   ]
  },
  {
   "cell_type": "code",
   "execution_count": 20,
   "metadata": {
    "colab": {
     "base_uri": "https://localhost:8080/"
    },
    "executionInfo": {
     "elapsed": 8474,
     "status": "ok",
     "timestamp": 1670166970942,
     "user": {
      "displayName": "이동현",
      "userId": "10818226634236936559"
     },
     "user_tz": -540
    },
    "id": "BLb-xeycqTYU",
    "outputId": "ff2b29d5-f8d6-44a6-c403-0d7ab6b8b2ce"
   },
   "outputs": [
    {
     "name": "stdout",
     "output_type": "stream",
     "text": [
      "Epoch 1/50\n",
      "59/59 [==============================] - 2s 31ms/step - loss: 2.0504 - accuracy: 0.1424 - val_loss: 1.9474 - val_accuracy: 0.1005\n",
      "Epoch 2/50\n",
      "59/59 [==============================] - 1s 14ms/step - loss: 1.9295 - accuracy: 0.1929 - val_loss: 1.9537 - val_accuracy: 0.1693\n",
      "Epoch 3/50\n",
      "59/59 [==============================] - 1s 16ms/step - loss: 1.8310 - accuracy: 0.2654 - val_loss: 1.8325 - val_accuracy: 0.2751\n",
      "Epoch 4/50\n",
      "59/59 [==============================] - 1s 17ms/step - loss: 1.6093 - accuracy: 0.3869 - val_loss: 1.7013 - val_accuracy: 0.3386\n",
      "Epoch 5/50\n",
      "59/59 [==============================] - 1s 13ms/step - loss: 1.4086 - accuracy: 0.4632 - val_loss: 1.7023 - val_accuracy: 0.3492\n",
      "Epoch 6/50\n",
      "59/59 [==============================] - 1s 16ms/step - loss: 1.2211 - accuracy: 0.5454 - val_loss: 1.6115 - val_accuracy: 0.3280\n",
      "Epoch 7/50\n",
      "59/59 [==============================] - 1s 14ms/step - loss: 1.0200 - accuracy: 0.6298 - val_loss: 1.6885 - val_accuracy: 0.3862\n",
      "Epoch 8/50\n",
      "59/59 [==============================] - 1s 14ms/step - loss: 0.8177 - accuracy: 0.7114 - val_loss: 1.9415 - val_accuracy: 0.3333\n"
     ]
    }
   ],
   "source": [
    "model.compile(loss='sparse_categorical_crossentropy', optimizer='adam', metrics=['accuracy'])\n",
    "\n",
    "checkpoint_cb=callbacks.ModelCheckpoint('best-model.h5', save_best_only=True)\n",
    "early_stopping_cb=callbacks.EarlyStopping(patience=2,restore_best_weights=True)\n",
    "\n",
    "history = model.fit(train_input, train_target, batch_size=batch_size, epochs = epochs,\n",
    "                        shuffle=True, validation_data=(val_input, val_target),\n",
    "                        steps_per_epoch = steps_per_epoch,\n",
    "                        callbacks = [checkpoint_cb, early_stopping_cb])"
   ]
  },
  {
   "cell_type": "code",
   "execution_count": 21,
   "metadata": {
    "colab": {
     "base_uri": "https://localhost:8080/",
     "height": 279
    },
    "executionInfo": {
     "elapsed": 337,
     "status": "ok",
     "timestamp": 1670166975786,
     "user": {
      "displayName": "이동현",
      "userId": "10818226634236936559"
     },
     "user_tz": -540
    },
    "id": "kuZaSKydqosG",
    "outputId": "c098a07b-2526-4d31-e4a0-f7a1f15b4c3c"
   },
   "outputs": [
    {
     "data": {
      "image/png": "[encoded data removed]",
      "text/plain": [
       "<Figure size 432x288 with 1 Axes>"
      ]
     },
     "metadata": {
      "needs_background": "light"
     },
     "output_type": "display_data"
    }
   ],
   "source": [
    "plt.plot(history.history['loss'])\n",
    "plt.plot(history.history['val_loss'])\n",
    "plt.xlabel('epoch')\n",
    "plt.ylabel('loss')\n",
    "plt.legend(['train','val'])\n",
    "plt.show()"
   ]
  },
  {
   "cell_type": "code",
   "execution_count": 22,
   "metadata": {
    "colab": {
     "base_uri": "https://localhost:8080/"
    },
    "executionInfo": {
     "elapsed": 4,
     "status": "ok",
     "timestamp": 1670166980358,
     "user": {
      "displayName": "이동현",
      "userId": "10818226634236936559"
     },
     "user_tz": -540
    },
    "id": "ZvhlEu3bqXLZ",
    "outputId": "d1b25662-ee7b-4784-aaca-01fb94dd7438"
   },
   "outputs": [
    {
     "name": "stdout",
     "output_type": "stream",
     "text": [
      "6/6 [==============================] - 0s 7ms/step - loss: 1.6115 - accuracy: 0.3280\n"
     ]
    },
    {
     "data": {
      "text/plain": [
       "[1.6115031242370605, 0.32804232835769653]"
      ]
     },
     "execution_count": 22,
     "metadata": {},
     "output_type": "execute_result"
    }
   ],
   "source": [
    "model.evaluate(val_input,val_target)"
   ]
  },
  {
   "cell_type": "markdown",
   "metadata": {
    "id": "0o5HbsN0o8t4"
   },
   "source": [
    "# 테스트 데이터 사용"
   ]
  },
  {
   "cell_type": "code",
   "execution_count": 23,
   "metadata": {
    "colab": {
     "base_uri": "https://localhost:8080/"
    },
    "executionInfo": {
     "elapsed": 290,
     "status": "ok",
     "timestamp": 1670166982705,
     "user": {
      "displayName": "이동현",
      "userId": "10818226634236936559"
     },
     "user_tz": -540
    },
    "id": "daso60szo4My",
    "outputId": "2c3d8400-8f71-4882-d970-a4638ace67b4"
   },
   "outputs": [
    {
     "data": {
      "text/plain": [
       "((210, 100, 100, 3), (210,))"
      ]
     },
     "execution_count": 23,
     "metadata": {},
     "output_type": "execute_result"
    }
   ],
   "source": [
    "X_test.shape, Y_test.shape"
   ]
  },
  {
   "cell_type": "code",
   "execution_count": 24,
   "metadata": {
    "colab": {
     "base_uri": "https://localhost:8080/"
    },
    "executionInfo": {
     "elapsed": 302,
     "status": "ok",
     "timestamp": 1670166984809,
     "user": {
      "displayName": "이동현",
      "userId": "10818226634236936559"
     },
     "user_tz": -540
    },
    "id": "gyEEHQgMpPbZ",
    "outputId": "2b58838d-0512-497d-e51b-1635d3b70cbc"
   },
   "outputs": [
    {
     "name": "stdout",
     "output_type": "stream",
     "text": [
      "7/7 [==============================] - 0s 16ms/step\n"
     ]
    }
   ],
   "source": [
    "y_pred = model.predict(X_test)"
   ]
  },
  {
   "cell_type": "code",
   "execution_count": 25,
   "metadata": {
    "executionInfo": {
     "elapsed": 2,
     "status": "ok",
     "timestamp": 1670166986116,
     "user": {
      "displayName": "이동현",
      "userId": "10818226634236936559"
     },
     "user_tz": -540
    },
    "id": "_rzsT0iYpYFB"
   },
   "outputs": [],
   "source": [
    "y_pred = np.argmax(y_pred, 1)"
   ]
  },
  {
   "cell_type": "code",
   "execution_count": 26,
   "metadata": {
    "executionInfo": {
     "elapsed": 2,
     "status": "ok",
     "timestamp": 1670166987722,
     "user": {
      "displayName": "이동현",
      "userId": "10818226634236936559"
     },
     "user_tz": -540
    },
    "id": "IqpXJMWkpNO4"
   },
   "outputs": [],
   "source": [
    "from sklearn.metrics import ConfusionMatrixDisplay\n",
    "from sklearn.metrics import classification_report, confusion_matrix\n",
    "\n",
    "cm = confusion_matrix(Y_test, y_pred)"
   ]
  },
  {
   "cell_type": "code",
   "execution_count": 29,
   "metadata": {
    "colab": {
     "base_uri": "https://localhost:8080/",
     "height": 584
    },
    "executionInfo": {
     "elapsed": 835,
     "status": "ok",
     "timestamp": 1670167105681,
     "user": {
      "displayName": "이동현",
      "userId": "10818226634236936559"
     },
     "user_tz": -540
    },
    "id": "Ob-_jq7OpWsd",
    "outputId": "ed077dc3-fbb9-465f-8241-fa5f2789263c"
   },
   "outputs": [
    {
     "data": {
      "image/png": "[encoded data removed]",
      "text/plain": [
       "<Figure size 720x720 with 2 Axes>"
      ]
     },
     "metadata": {
      "needs_background": "light"
     },
     "output_type": "display_data"
    }
   ],
   "source": [
    "disp = ConfusionMatrixDisplay(confusion_matrix=cm, display_labels=categories)\n",
    "\n",
    "plt.rc('font', family='NanumBarunGothic')\n",
    "fig, ax = plt.subplots(figsize=(10, 10))\n",
    "disp = disp.plot(xticks_rotation='vertical', ax=ax,cmap='summer')\n",
    "\n",
    "plt.show()"
   ]
  },
  {
   "cell_type": "code",
   "execution_count": null,
   "metadata": {
    "id": "FciyHdG_ubfc"
   },
   "outputs": [],
   "source": []
  },
  {
   "cell_type": "markdown",
   "metadata": {
    "id": "Nhx427v5YSNw"
   },
   "source": [
    "# 패키지 로드 및 전처리"
   ]
  },
  {
   "cell_type": "code",
   "execution_count": 17,
   "metadata": {
    "id": "7Sd2hmWiTPdb"
   },
   "outputs": [],
   "source": [
    "import numpy as np\n",
    "import matplotlib.pyplot as plt\n",
    "import tensorflow as tf\n",
    "from tensorflow import keras\n",
    "from tensorflow.keras import datasets, layers, models, Input\n",
    "from keras.models import Model\n",
    "from keras.models  import Sequential\n",
    "from keras.layers import Dense, Dropout, Activation, Flatten, BatchNormalization\n",
    "from keras.layers import Conv2D, MaxPooling2D\n",
    "from keras import optimizers, initializers, regularizers, metrics, callbacks\n",
    "from keras.callbacks import ModelCheckpoint\n",
    "from sklearn.model_selection import train_test_split\n",
    "from keras.utils import np_utils\n",
    "from tensorflow.keras.preprocessing.image import ImageDataGenerator"
   ]
  },
  {
   "cell_type": "code",
   "execution_count": 2,
   "metadata": {
    "id": "aHbCb5zVTV5a"
   },
   "outputs": [],
   "source": [
    "cifar10 = datasets.cifar10"
   ]
  },
  {
   "cell_type": "code",
   "execution_count": 3,
   "metadata": {
    "colab": {
     "base_uri": "https://localhost:8080/"
    },
    "id": "CCvpP_5UTeJs",
    "outputId": "d25b0c18-8b2b-4e37-dff6-68a5c5f8fdc7"
   },
   "outputs": [
    {
     "name": "stdout",
     "output_type": "stream",
     "text": [
      "Downloading data from https://www.cs.toronto.edu/~kriz/cifar-10-python.tar.gz\n",
      "170498071/170498071 [==============================] - 6s 0us/step\n"
     ]
    }
   ],
   "source": [
    "(train_images, train_labels), (test_images, test_labels) = cifar10.load_data()"
   ]
  },
  {
   "cell_type": "code",
   "execution_count": 4,
   "metadata": {
    "colab": {
     "base_uri": "https://localhost:8080/"
    },
    "id": "raVUJuU-Tr61",
    "outputId": "9b66e886-318c-41ae-d861-f27ae8102f1a"
   },
   "outputs": [
    {
     "name": "stdout",
     "output_type": "stream",
     "text": [
      "(50000, 32, 32, 3) (50000, 1) (10000, 32, 32, 3) (10000, 1)\n"
     ]
    }
   ],
   "source": [
    "print(train_images.shape, train_labels.shape, test_images.shape, test_labels.shape)"
   ]
  },
  {
   "cell_type": "code",
   "execution_count": 5,
   "metadata": {
    "id": "nzClAiD6UKmj"
   },
   "outputs": [],
   "source": [
    "train_images = train_images/255.0\n",
    "test_images = test_images/255.0"
   ]
  },
  {
   "cell_type": "code",
   "execution_count": 6,
   "metadata": {
    "id": "BxPPt2RMVNge"
   },
   "outputs": [],
   "source": [
    "x = np.concatenate((train_images, test_images))\n",
    "y = np.concatenate((train_labels, test_labels))\n",
    "\n",
    "x_train, x_test, y_train, y_test = train_test_split(x,y, test_size = 0.1, random_state = 42) # train / test 분할"
   ]
  },
  {
   "cell_type": "code",
   "execution_count": 7,
   "metadata": {
    "id": "2NYjMLN1Uxn6"
   },
   "outputs": [],
   "source": [
    "train_input, val_input, train_target, val_target = train_test_split(x_train, y_train, test_size = 0.1,\n",
    "                                                                    random_state = 42) # train / val 분할"
   ]
  },
  {
   "cell_type": "code",
   "execution_count": 8,
   "metadata": {
    "colab": {
     "base_uri": "https://localhost:8080/"
    },
    "id": "17WMmks8V6d-",
    "outputId": "f95b5683-1a85-47e6-b2ce-64ee3279b55d"
   },
   "outputs": [
    {
     "name": "stdout",
     "output_type": "stream",
     "text": [
      "(48600, 32, 32, 3) (48600, 1) (5400, 32, 32, 3) (5400, 1)\n"
     ]
    }
   ],
   "source": [
    "print(train_input.shape, train_target.shape, val_input.shape, val_target.shape)"
   ]
  },
  {
   "cell_type": "code",
   "execution_count": 9,
   "metadata": {
    "colab": {
     "base_uri": "https://localhost:8080/",
     "height": 266
    },
    "id": "gbRqr8iUTxPv",
    "outputId": "76e78ab7-32c3-439d-e0f5-62db39bc744d"
   },
   "outputs": [
    {
     "data": {
      "image/png": "[encoded data removed]",
      "text/plain": [
       "<Figure size 432x288 with 2 Axes>"
      ]
     },
     "metadata": {
      "needs_background": "light"
     },
     "output_type": "display_data"
    }
   ],
   "source": [
    "plt.figure()\n",
    "plt.imshow(train_input[0])\n",
    "plt.colorbar()\n",
    "plt.grid(True)\n",
    "plt.show()"
   ]
  },
  {
   "cell_type": "markdown",
   "metadata": {
    "id": "7n3izitcYVLP"
   },
   "source": [
    "# 최적의 dropout 탐색 및 모델 실행"
   ]
  },
  {
   "cell_type": "code",
   "execution_count": 10,
   "metadata": {
    "id": "_e6gwczMDIN4"
   },
   "outputs": [],
   "source": [
    "batch_size = 512\n",
    "num_classes = len(np.unique(train_target))\n",
    "epochs = 50\n",
    "lr = 1e-4\n",
    "lr_weight_decay = 0.95\n",
    "\n",
    "train_target = np_utils.to_categorical(train_target, num_classes) # one-hot vector로 변환\n",
    "val_target = np_utils.to_categorical(val_target, num_classes)"
   ]
  },
  {
   "cell_type": "code",
   "execution_count": null,
   "metadata": {
    "colab": {
     "base_uri": "https://localhost:8080/"
    },
    "id": "_oLzQRfnUC-P",
    "outputId": "f4ec9e9c-0215-49fe-8fa8-a471260b5e0f"
   },
   "outputs": [
    {
     "name": "stdout",
     "output_type": "stream",
     "text": [
      "Dropout :  0.0\n",
      "Epoch 1/50\n",
      "95/95 [==============================] - 3s 21ms/step - loss: 1.6950 - accuracy: 0.3766 - val_loss: 1.3242 - val_accuracy: 0.5302\n",
      "Epoch 2/50\n",
      "95/95 [==============================] - 2s 17ms/step - loss: 1.1985 - accuracy: 0.5678 - val_loss: 1.0667 - val_accuracy: 0.6198\n",
      "Epoch 3/50\n",
      "95/95 [==============================] - 2s 17ms/step - loss: 0.9594 - accuracy: 0.6622 - val_loss: 0.8906 - val_accuracy: 0.6852\n",
      "Epoch 4/50\n",
      "95/95 [==============================] - 2s 17ms/step - loss: 0.7971 - accuracy: 0.7214 - val_loss: 0.7963 - val_accuracy: 0.7215\n",
      "Epoch 5/50\n",
      "95/95 [==============================] - 2s 17ms/step - loss: 0.6734 - accuracy: 0.7653 - val_loss: 0.7825 - val_accuracy: 0.7313\n",
      "Epoch 6/50\n",
      "95/95 [==============================] - 2s 20ms/step - loss: 0.5629 - accuracy: 0.8052 - val_loss: 0.7269 - val_accuracy: 0.7496\n",
      "Epoch 7/50\n",
      "95/95 [==============================] - 2s 17ms/step - loss: 0.4776 - accuracy: 0.8360 - val_loss: 0.7199 - val_accuracy: 0.7578\n",
      "Epoch 8/50\n",
      "95/95 [==============================] - 2s 17ms/step - loss: 0.3889 - accuracy: 0.8636 - val_loss: 0.7022 - val_accuracy: 0.7776\n",
      "Epoch 9/50\n",
      "95/95 [==============================] - 2s 16ms/step - loss: 0.2983 - accuracy: 0.8961 - val_loss: 0.7279 - val_accuracy: 0.7693\n",
      "Epoch 10/50\n",
      "95/95 [==============================] - 2s 16ms/step - loss: 0.2406 - accuracy: 0.9173 - val_loss: 0.8367 - val_accuracy: 0.7635\n",
      "169/169 [==============================] - 0s 2ms/step\n",
      "Test score: 0.7022513151168823\n",
      "Test accuracy: 0.7775925993919373\n",
      "Dropout :  0.1\n",
      "Epoch 1/50\n",
      "95/95 [==============================] - 3s 25ms/step - loss: 1.7549 - accuracy: 0.3562 - val_loss: 1.5052 - val_accuracy: 0.4650\n",
      "Epoch 2/50\n",
      "95/95 [==============================] - 2s 22ms/step - loss: 1.2947 - accuracy: 0.5317 - val_loss: 1.1991 - val_accuracy: 0.5781\n",
      "Epoch 3/50\n",
      "95/95 [==============================] - 2s 22ms/step - loss: 1.0302 - accuracy: 0.6303 - val_loss: 0.9910 - val_accuracy: 0.6567\n",
      "Epoch 4/50\n",
      "95/95 [==============================] - 2s 22ms/step - loss: 0.8508 - accuracy: 0.6998 - val_loss: 0.8398 - val_accuracy: 0.7170\n",
      "Epoch 5/50\n",
      "95/95 [==============================] - 2s 22ms/step - loss: 0.7200 - accuracy: 0.7474 - val_loss: 0.7438 - val_accuracy: 0.7448\n",
      "Epoch 6/50\n",
      "95/95 [==============================] - 2s 22ms/step - loss: 0.6149 - accuracy: 0.7840 - val_loss: 0.7034 - val_accuracy: 0.7609\n",
      "Epoch 7/50\n",
      "95/95 [==============================] - 2s 22ms/step - loss: 0.5154 - accuracy: 0.8186 - val_loss: 0.6917 - val_accuracy: 0.7628\n",
      "Epoch 8/50\n",
      "95/95 [==============================] - 2s 22ms/step - loss: 0.4433 - accuracy: 0.8443 - val_loss: 0.6693 - val_accuracy: 0.7680\n",
      "Epoch 9/50\n",
      "95/95 [==============================] - 2s 21ms/step - loss: 0.3724 - accuracy: 0.8697 - val_loss: 0.6708 - val_accuracy: 0.7709\n",
      "Epoch 10/50\n",
      "95/95 [==============================] - 2s 21ms/step - loss: 0.2963 - accuracy: 0.8946 - val_loss: 0.6840 - val_accuracy: 0.7770\n",
      "169/169 [==============================] - 0s 2ms/step\n",
      "Test score: 0.669278621673584\n",
      "Test accuracy: 0.7679629921913147\n",
      "Dropout :  0.2\n",
      "Epoch 1/50\n",
      "95/95 [==============================] - 3s 25ms/step - loss: 1.7520 - accuracy: 0.3555 - val_loss: 1.6281 - val_accuracy: 0.4633\n",
      "Epoch 2/50\n",
      "95/95 [==============================] - 2s 22ms/step - loss: 1.2604 - accuracy: 0.5478 - val_loss: 1.2587 - val_accuracy: 0.5952\n",
      "Epoch 3/50\n",
      "95/95 [==============================] - 2s 22ms/step - loss: 1.0127 - accuracy: 0.6403 - val_loss: 1.0293 - val_accuracy: 0.6663\n",
      "Epoch 4/50\n",
      "95/95 [==============================] - 2s 22ms/step - loss: 0.8444 - accuracy: 0.7017 - val_loss: 0.9017 - val_accuracy: 0.6950\n",
      "Epoch 5/50\n",
      "95/95 [==============================] - 2s 22ms/step - loss: 0.7306 - accuracy: 0.7439 - val_loss: 0.8259 - val_accuracy: 0.7202\n",
      "Epoch 6/50\n",
      "95/95 [==============================] - 2s 22ms/step - loss: 0.6380 - accuracy: 0.7760 - val_loss: 0.7803 - val_accuracy: 0.7331\n",
      "Epoch 7/50\n",
      "95/95 [==============================] - 2s 22ms/step - loss: 0.5627 - accuracy: 0.8022 - val_loss: 0.7221 - val_accuracy: 0.7693\n",
      "Epoch 8/50\n",
      "95/95 [==============================] - 2s 22ms/step - loss: 0.4755 - accuracy: 0.8309 - val_loss: 0.6644 - val_accuracy: 0.7759\n",
      "Epoch 9/50\n",
      "95/95 [==============================] - 2s 22ms/step - loss: 0.4172 - accuracy: 0.8541 - val_loss: 0.6303 - val_accuracy: 0.7894\n",
      "Epoch 10/50\n",
      "95/95 [==============================] - 2s 21ms/step - loss: 0.3715 - accuracy: 0.8694 - val_loss: 0.6452 - val_accuracy: 0.7835\n",
      "Epoch 11/50\n",
      "95/95 [==============================] - 2s 21ms/step - loss: 0.2990 - accuracy: 0.8933 - val_loss: 0.6451 - val_accuracy: 0.7870\n",
      "169/169 [==============================] - 0s 2ms/step\n",
      "Test score: 0.6302826404571533\n",
      "Test accuracy: 0.7894444465637207\n",
      "Dropout :  0.3\n",
      "Epoch 1/50\n",
      "95/95 [==============================] - 3s 25ms/step - loss: 1.8162 - accuracy: 0.3380 - val_loss: 1.7813 - val_accuracy: 0.4287\n",
      "Epoch 2/50\n",
      "95/95 [==============================] - 2s 22ms/step - loss: 1.3441 - accuracy: 0.5113 - val_loss: 1.4396 - val_accuracy: 0.5791\n",
      "Epoch 3/50\n",
      "95/95 [==============================] - 2s 22ms/step - loss: 1.0779 - accuracy: 0.6153 - val_loss: 1.2231 - val_accuracy: 0.6509\n",
      "Epoch 4/50\n",
      "95/95 [==============================] - 2s 22ms/step - loss: 0.9218 - accuracy: 0.6741 - val_loss: 1.1096 - val_accuracy: 0.6861\n",
      "Epoch 5/50\n",
      "95/95 [==============================] - 2s 22ms/step - loss: 0.8019 - accuracy: 0.7193 - val_loss: 1.0055 - val_accuracy: 0.6919\n",
      "Epoch 6/50\n",
      "95/95 [==============================] - 2s 22ms/step - loss: 0.7108 - accuracy: 0.7519 - val_loss: 0.8689 - val_accuracy: 0.7393\n",
      "Epoch 7/50\n",
      "95/95 [==============================] - 2s 22ms/step - loss: 0.6248 - accuracy: 0.7793 - val_loss: 0.8314 - val_accuracy: 0.7450\n",
      "Epoch 8/50\n",
      "95/95 [==============================] - 2s 22ms/step - loss: 0.5569 - accuracy: 0.8029 - val_loss: 0.8091 - val_accuracy: 0.7469\n",
      "Epoch 9/50\n",
      "95/95 [==============================] - 2s 22ms/step - loss: 0.5070 - accuracy: 0.8202 - val_loss: 0.7588 - val_accuracy: 0.7559\n",
      "Epoch 10/50\n",
      "95/95 [==============================] - 2s 22ms/step - loss: 0.4408 - accuracy: 0.8441 - val_loss: 0.7102 - val_accuracy: 0.7720\n",
      "Epoch 11/50\n",
      "95/95 [==============================] - 2s 22ms/step - loss: 0.3947 - accuracy: 0.8589 - val_loss: 0.6830 - val_accuracy: 0.7663\n",
      "Epoch 12/50\n",
      "95/95 [==============================] - 2s 22ms/step - loss: 0.3480 - accuracy: 0.8771 - val_loss: 0.6669 - val_accuracy: 0.7691\n",
      "Epoch 13/50\n",
      "95/95 [==============================] - 2s 22ms/step - loss: 0.3019 - accuracy: 0.8923 - val_loss: 0.6569 - val_accuracy: 0.7759\n",
      "Epoch 14/50\n",
      "95/95 [==============================] - 2s 21ms/step - loss: 0.2746 - accuracy: 0.9021 - val_loss: 0.6888 - val_accuracy: 0.7709\n",
      "Epoch 15/50\n",
      "95/95 [==============================] - 2s 22ms/step - loss: 0.2423 - accuracy: 0.9121 - val_loss: 0.6366 - val_accuracy: 0.7819\n",
      "Epoch 16/50\n",
      "95/95 [==============================] - 2s 22ms/step - loss: 0.2188 - accuracy: 0.9208 - val_loss: 0.6266 - val_accuracy: 0.7819\n",
      "Epoch 17/50\n",
      "95/95 [==============================] - 2s 21ms/step - loss: 0.2011 - accuracy: 0.9285 - val_loss: 0.6357 - val_accuracy: 0.7856\n",
      "Epoch 18/50\n",
      "95/95 [==============================] - 2s 21ms/step - loss: 0.1760 - accuracy: 0.9376 - val_loss: 0.6381 - val_accuracy: 0.7874\n",
      "169/169 [==============================] - 0s 2ms/step\n",
      "Test score: 0.6266113519668579\n",
      "Test accuracy: 0.7818518280982971\n",
      "Dropout :  0.4\n",
      "Epoch 1/50\n",
      "95/95 [==============================] - 3s 25ms/step - loss: 1.9161 - accuracy: 0.2950 - val_loss: 1.9511 - val_accuracy: 0.3672\n",
      "Epoch 2/50\n",
      "95/95 [==============================] - 2s 22ms/step - loss: 1.4608 - accuracy: 0.4681 - val_loss: 1.8048 - val_accuracy: 0.4165\n",
      "Epoch 3/50\n",
      "95/95 [==============================] - 2s 22ms/step - loss: 1.2648 - accuracy: 0.5440 - val_loss: 1.5641 - val_accuracy: 0.5565\n",
      "Epoch 4/50\n",
      "95/95 [==============================] - 2s 22ms/step - loss: 1.0957 - accuracy: 0.6106 - val_loss: 1.4382 - val_accuracy: 0.6026\n",
      "Epoch 5/50\n",
      "95/95 [==============================] - 2s 22ms/step - loss: 0.9575 - accuracy: 0.6591 - val_loss: 1.3193 - val_accuracy: 0.6261\n",
      "Epoch 6/50\n",
      "95/95 [==============================] - 2s 22ms/step - loss: 0.8481 - accuracy: 0.6994 - val_loss: 1.1651 - val_accuracy: 0.7026\n",
      "Epoch 7/50\n",
      "95/95 [==============================] - 2s 22ms/step - loss: 0.7697 - accuracy: 0.7306 - val_loss: 1.0863 - val_accuracy: 0.7085\n",
      "Epoch 8/50\n",
      "95/95 [==============================] - 2s 22ms/step - loss: 0.6877 - accuracy: 0.7593 - val_loss: 1.0029 - val_accuracy: 0.7104\n",
      "Epoch 9/50\n",
      "95/95 [==============================] - 2s 22ms/step - loss: 0.6380 - accuracy: 0.7755 - val_loss: 0.9417 - val_accuracy: 0.7304\n",
      "Epoch 10/50\n",
      "95/95 [==============================] - 2s 23ms/step - loss: 0.5626 - accuracy: 0.8019 - val_loss: 0.9249 - val_accuracy: 0.7431\n",
      "Epoch 11/50\n",
      "95/95 [==============================] - 2s 22ms/step - loss: 0.5205 - accuracy: 0.8154 - val_loss: 0.8334 - val_accuracy: 0.7506\n",
      "Epoch 12/50\n",
      "95/95 [==============================] - 2s 22ms/step - loss: 0.4705 - accuracy: 0.8328 - val_loss: 0.8268 - val_accuracy: 0.7733\n",
      "Epoch 13/50\n",
      "95/95 [==============================] - 2s 22ms/step - loss: 0.4323 - accuracy: 0.8452 - val_loss: 0.7812 - val_accuracy: 0.7680\n",
      "Epoch 14/50\n",
      "95/95 [==============================] - 2s 22ms/step - loss: 0.3960 - accuracy: 0.8600 - val_loss: 0.7791 - val_accuracy: 0.7685\n",
      "Epoch 15/50\n",
      "95/95 [==============================] - 2s 22ms/step - loss: 0.3686 - accuracy: 0.8686 - val_loss: 0.7284 - val_accuracy: 0.7846\n",
      "Epoch 16/50\n",
      "95/95 [==============================] - 2s 21ms/step - loss: 0.3386 - accuracy: 0.8781 - val_loss: 0.7498 - val_accuracy: 0.7639\n",
      "Epoch 17/50\n",
      "95/95 [==============================] - 2s 22ms/step - loss: 0.3054 - accuracy: 0.8891 - val_loss: 0.7069 - val_accuracy: 0.7804\n",
      "Epoch 18/50\n",
      "95/95 [==============================] - 2s 21ms/step - loss: 0.2833 - accuracy: 0.8986 - val_loss: 0.7221 - val_accuracy: 0.7713\n",
      "Epoch 19/50\n",
      "95/95 [==============================] - 2s 22ms/step - loss: 0.2608 - accuracy: 0.9062 - val_loss: 0.6894 - val_accuracy: 0.7815\n",
      "Epoch 20/50\n",
      "95/95 [==============================] - 2s 22ms/step - loss: 0.2392 - accuracy: 0.9144 - val_loss: 0.6862 - val_accuracy: 0.7852\n",
      "Epoch 21/50\n",
      "95/95 [==============================] - 2s 21ms/step - loss: 0.2242 - accuracy: 0.9200 - val_loss: 0.6901 - val_accuracy: 0.7746\n",
      "Epoch 22/50\n",
      "95/95 [==============================] - 2s 22ms/step - loss: 0.2059 - accuracy: 0.9268 - val_loss: 0.6638 - val_accuracy: 0.7806\n",
      "Epoch 23/50\n",
      "95/95 [==============================] - 2s 22ms/step - loss: 0.1811 - accuracy: 0.9343 - val_loss: 0.6574 - val_accuracy: 0.7774\n",
      "Epoch 24/50\n",
      "95/95 [==============================] - 2s 22ms/step - loss: 0.1769 - accuracy: 0.9356 - val_loss: 0.6508 - val_accuracy: 0.7869\n",
      "Epoch 25/50\n",
      "95/95 [==============================] - 2s 21ms/step - loss: 0.1668 - accuracy: 0.9404 - val_loss: 0.6771 - val_accuracy: 0.7783\n",
      "Epoch 26/50\n",
      "95/95 [==============================] - 2s 21ms/step - loss: 0.1566 - accuracy: 0.9451 - val_loss: 0.6747 - val_accuracy: 0.7774\n",
      "169/169 [==============================] - 0s 2ms/step\n",
      "Test score: 0.6507938504219055\n",
      "Test accuracy: 0.7868518233299255\n",
      "Dropout :  0.5\n",
      "Epoch 1/50\n",
      "95/95 [==============================] - 3s 25ms/step - loss: 1.9170 - accuracy: 0.2995 - val_loss: 2.0852 - val_accuracy: 0.2819\n",
      "Epoch 2/50\n",
      "95/95 [==============================] - 2s 22ms/step - loss: 1.4434 - accuracy: 0.4751 - val_loss: 1.8402 - val_accuracy: 0.4796\n",
      "Epoch 3/50\n",
      "95/95 [==============================] - 2s 22ms/step - loss: 1.2426 - accuracy: 0.5536 - val_loss: 1.7096 - val_accuracy: 0.4800\n",
      "Epoch 4/50\n",
      "95/95 [==============================] - 2s 22ms/step - loss: 1.0886 - accuracy: 0.6106 - val_loss: 1.5243 - val_accuracy: 0.5693\n",
      "Epoch 5/50\n",
      "95/95 [==============================] - 2s 22ms/step - loss: 0.9675 - accuracy: 0.6580 - val_loss: 1.4605 - val_accuracy: 0.6041\n",
      "Epoch 6/50\n",
      "95/95 [==============================] - 2s 22ms/step - loss: 0.8793 - accuracy: 0.6879 - val_loss: 1.3133 - val_accuracy: 0.6689\n",
      "Epoch 7/50\n",
      "95/95 [==============================] - 2s 22ms/step - loss: 0.8047 - accuracy: 0.7176 - val_loss: 1.2117 - val_accuracy: 0.7028\n",
      "Epoch 8/50\n",
      "95/95 [==============================] - 2s 22ms/step - loss: 0.7435 - accuracy: 0.7378 - val_loss: 1.1492 - val_accuracy: 0.7044\n",
      "Epoch 9/50\n",
      "95/95 [==============================] - 2s 22ms/step - loss: 0.6767 - accuracy: 0.7609 - val_loss: 1.1189 - val_accuracy: 0.7180\n",
      "Epoch 10/50\n",
      "95/95 [==============================] - 2s 22ms/step - loss: 0.6283 - accuracy: 0.7793 - val_loss: 1.0932 - val_accuracy: 0.7344\n",
      "Epoch 11/50\n",
      "95/95 [==============================] - 2s 22ms/step - loss: 0.5840 - accuracy: 0.7932 - val_loss: 1.0518 - val_accuracy: 0.7331\n",
      "Epoch 12/50\n",
      "95/95 [==============================] - 2s 22ms/step - loss: 0.5452 - accuracy: 0.8062 - val_loss: 1.0434 - val_accuracy: 0.7404\n",
      "Epoch 13/50\n",
      "95/95 [==============================] - 2s 22ms/step - loss: 0.5135 - accuracy: 0.8182 - val_loss: 0.9903 - val_accuracy: 0.7504\n",
      "Epoch 14/50\n",
      "95/95 [==============================] - 2s 22ms/step - loss: 0.4754 - accuracy: 0.8283 - val_loss: 0.9843 - val_accuracy: 0.7504\n",
      "Epoch 15/50\n",
      "95/95 [==============================] - 2s 22ms/step - loss: 0.4484 - accuracy: 0.8395 - val_loss: 0.9237 - val_accuracy: 0.7587\n",
      "Epoch 16/50\n",
      "95/95 [==============================] - 2s 22ms/step - loss: 0.4161 - accuracy: 0.8517 - val_loss: 0.8748 - val_accuracy: 0.7711\n",
      "Epoch 17/50\n",
      "95/95 [==============================] - 2s 22ms/step - loss: 0.3858 - accuracy: 0.8625 - val_loss: 0.8696 - val_accuracy: 0.7583\n",
      "Epoch 18/50\n",
      "95/95 [==============================] - 2s 22ms/step - loss: 0.3620 - accuracy: 0.8710 - val_loss: 0.8046 - val_accuracy: 0.7839\n",
      "Epoch 19/50\n",
      "95/95 [==============================] - 2s 21ms/step - loss: 0.3337 - accuracy: 0.8800 - val_loss: 0.8181 - val_accuracy: 0.7837\n",
      "Epoch 20/50\n",
      "95/95 [==============================] - 2s 22ms/step - loss: 0.3219 - accuracy: 0.8843 - val_loss: 0.8000 - val_accuracy: 0.7696\n",
      "Epoch 21/50\n",
      "95/95 [==============================] - 2s 22ms/step - loss: 0.3012 - accuracy: 0.8928 - val_loss: 0.7866 - val_accuracy: 0.7856\n",
      "Epoch 22/50\n",
      "95/95 [==============================] - 2s 21ms/step - loss: 0.2777 - accuracy: 0.8994 - val_loss: 0.7891 - val_accuracy: 0.7785\n",
      "Epoch 23/50\n",
      "95/95 [==============================] - 2s 22ms/step - loss: 0.2613 - accuracy: 0.9063 - val_loss: 0.7495 - val_accuracy: 0.7730\n",
      "Epoch 24/50\n",
      "95/95 [==============================] - 2s 22ms/step - loss: 0.2486 - accuracy: 0.9107 - val_loss: 0.7370 - val_accuracy: 0.7839\n",
      "Epoch 25/50\n",
      "95/95 [==============================] - 2s 21ms/step - loss: 0.2395 - accuracy: 0.9141 - val_loss: 0.7725 - val_accuracy: 0.7685\n",
      "Epoch 26/50\n",
      "95/95 [==============================] - 2s 22ms/step - loss: 0.2318 - accuracy: 0.9164 - val_loss: 0.7154 - val_accuracy: 0.7880\n",
      "Epoch 27/50\n",
      "95/95 [==============================] - 2s 21ms/step - loss: 0.2139 - accuracy: 0.9247 - val_loss: 0.7333 - val_accuracy: 0.7739\n",
      "Epoch 28/50\n",
      "95/95 [==============================] - 2s 21ms/step - loss: 0.2069 - accuracy: 0.9247 - val_loss: 0.7347 - val_accuracy: 0.7794\n",
      "169/169 [==============================] - 0s 2ms/step\n",
      "Test score: 0.7153695821762085\n",
      "Test accuracy: 0.7879629731178284\n",
      "Dropout :  0.6\n",
      "Epoch 1/50\n",
      "95/95 [==============================] - 3s 25ms/step - loss: 2.0540 - accuracy: 0.2472 - val_loss: 2.1810 - val_accuracy: 0.2420\n",
      "Epoch 2/50\n",
      "95/95 [==============================] - 2s 22ms/step - loss: 1.5871 - accuracy: 0.4179 - val_loss: 2.0296 - val_accuracy: 0.3537\n",
      "Epoch 3/50\n",
      "95/95 [==============================] - 2s 22ms/step - loss: 1.3843 - accuracy: 0.4954 - val_loss: 1.9266 - val_accuracy: 0.4094\n",
      "Epoch 4/50\n",
      "95/95 [==============================] - 2s 22ms/step - loss: 1.2300 - accuracy: 0.5572 - val_loss: 1.8318 - val_accuracy: 0.4369\n",
      "Epoch 5/50\n",
      "95/95 [==============================] - 2s 22ms/step - loss: 1.1172 - accuracy: 0.5994 - val_loss: 1.7356 - val_accuracy: 0.4543\n",
      "Epoch 6/50\n",
      "95/95 [==============================] - 2s 22ms/step - loss: 1.0357 - accuracy: 0.6309 - val_loss: 1.6066 - val_accuracy: 0.5535\n",
      "Epoch 7/50\n",
      "95/95 [==============================] - 2s 22ms/step - loss: 0.9499 - accuracy: 0.6635 - val_loss: 1.5860 - val_accuracy: 0.5348\n",
      "Epoch 8/50\n",
      "95/95 [==============================] - 2s 22ms/step - loss: 0.8972 - accuracy: 0.6803 - val_loss: 1.5656 - val_accuracy: 0.5507\n",
      "Epoch 9/50\n",
      "95/95 [==============================] - 2s 22ms/step - loss: 0.8460 - accuracy: 0.6998 - val_loss: 1.4700 - val_accuracy: 0.6163\n",
      "Epoch 10/50\n",
      "95/95 [==============================] - 2s 21ms/step - loss: 0.7941 - accuracy: 0.7192 - val_loss: 1.4729 - val_accuracy: 0.5983\n",
      "Epoch 11/50\n",
      "95/95 [==============================] - 2s 22ms/step - loss: 0.7496 - accuracy: 0.7336 - val_loss: 1.3875 - val_accuracy: 0.6080\n",
      "Epoch 12/50\n",
      "95/95 [==============================] - 2s 22ms/step - loss: 0.7107 - accuracy: 0.7469 - val_loss: 1.3671 - val_accuracy: 0.6335\n",
      "Epoch 13/50\n",
      "95/95 [==============================] - 2s 22ms/step - loss: 0.6672 - accuracy: 0.7625 - val_loss: 1.2988 - val_accuracy: 0.6619\n",
      "Epoch 14/50\n",
      "95/95 [==============================] - 2s 22ms/step - loss: 0.6450 - accuracy: 0.7693 - val_loss: 1.2575 - val_accuracy: 0.6917\n",
      "Epoch 15/50\n",
      "95/95 [==============================] - 2s 22ms/step - loss: 0.6081 - accuracy: 0.7829 - val_loss: 1.2344 - val_accuracy: 0.7026\n",
      "Epoch 16/50\n",
      "95/95 [==============================] - 2s 22ms/step - loss: 0.5850 - accuracy: 0.7906 - val_loss: 1.1560 - val_accuracy: 0.7204\n",
      "Epoch 17/50\n",
      "95/95 [==============================] - 2s 21ms/step - loss: 0.5567 - accuracy: 0.8016 - val_loss: 1.2175 - val_accuracy: 0.6891\n",
      "Epoch 18/50\n",
      "95/95 [==============================] - 2s 21ms/step - loss: 0.5263 - accuracy: 0.8123 - val_loss: 1.1735 - val_accuracy: 0.7191\n",
      "169/169 [==============================] - 0s 2ms/step\n",
      "Test score: 1.1560090780258179\n",
      "Test accuracy: 0.720370352268219\n",
      "Dropout :  0.7\n",
      "Epoch 1/50\n",
      "95/95 [==============================] - 3s 25ms/step - loss: 2.2384 - accuracy: 0.1828 - val_loss: 2.2840 - val_accuracy: 0.1270\n",
      "Epoch 2/50\n",
      "95/95 [==============================] - 2s 22ms/step - loss: 1.7944 - accuracy: 0.3460 - val_loss: 2.1918 - val_accuracy: 0.2050\n",
      "Epoch 3/50\n",
      "95/95 [==============================] - 2s 22ms/step - loss: 1.5533 - accuracy: 0.4334 - val_loss: 2.0962 - val_accuracy: 0.2404\n",
      "Epoch 4/50\n",
      "95/95 [==============================] - 2s 22ms/step - loss: 1.4067 - accuracy: 0.4890 - val_loss: 1.9979 - val_accuracy: 0.2998\n",
      "Epoch 5/50\n",
      "95/95 [==============================] - 2s 22ms/step - loss: 1.3075 - accuracy: 0.5272 - val_loss: 1.9757 - val_accuracy: 0.3026\n",
      "Epoch 6/50\n",
      "95/95 [==============================] - 2s 22ms/step - loss: 1.2208 - accuracy: 0.5598 - val_loss: 1.9520 - val_accuracy: 0.2924\n",
      "Epoch 7/50\n",
      "95/95 [==============================] - 2s 22ms/step - loss: 1.1479 - accuracy: 0.5862 - val_loss: 1.9048 - val_accuracy: 0.2978\n",
      "Epoch 8/50\n",
      "95/95 [==============================] - 2s 22ms/step - loss: 1.0832 - accuracy: 0.6130 - val_loss: 1.8239 - val_accuracy: 0.3811\n",
      "Epoch 9/50\n",
      "95/95 [==============================] - 2s 22ms/step - loss: 1.0356 - accuracy: 0.6297 - val_loss: 1.8144 - val_accuracy: 0.3511\n",
      "Epoch 10/50\n",
      "95/95 [==============================] - 2s 22ms/step - loss: 0.9827 - accuracy: 0.6465 - val_loss: 1.7775 - val_accuracy: 0.3748\n",
      "Epoch 11/50\n",
      "95/95 [==============================] - 2s 22ms/step - loss: 0.9447 - accuracy: 0.6635 - val_loss: 1.6993 - val_accuracy: 0.4459\n",
      "Epoch 12/50\n",
      "95/95 [==============================] - 2s 21ms/step - loss: 0.8970 - accuracy: 0.6819 - val_loss: 1.6746 - val_accuracy: 0.4507\n",
      "Epoch 13/50\n",
      "95/95 [==============================] - 2s 21ms/step - loss: 0.8619 - accuracy: 0.6926 - val_loss: 1.6667 - val_accuracy: 0.4324\n",
      "Epoch 14/50\n",
      "95/95 [==============================] - 2s 21ms/step - loss: 0.8150 - accuracy: 0.7088 - val_loss: 1.6222 - val_accuracy: 0.4578\n",
      "Epoch 15/50\n",
      "95/95 [==============================] - 2s 20ms/step - loss: 0.7885 - accuracy: 0.7203 - val_loss: 1.7124 - val_accuracy: 0.3761\n",
      "Epoch 16/50\n",
      "95/95 [==============================] - 2s 21ms/step - loss: 0.7481 - accuracy: 0.7322 - val_loss: 1.5848 - val_accuracy: 0.4883\n",
      "Epoch 17/50\n",
      "95/95 [==============================] - 2s 20ms/step - loss: 0.7245 - accuracy: 0.7414 - val_loss: 1.6397 - val_accuracy: 0.4248\n",
      "Epoch 18/50\n",
      "95/95 [==============================] - 2s 21ms/step - loss: 0.6915 - accuracy: 0.7535 - val_loss: 1.5227 - val_accuracy: 0.5154\n",
      "Epoch 19/50\n",
      "95/95 [==============================] - 2s 22ms/step - loss: 0.6720 - accuracy: 0.7618 - val_loss: 1.4851 - val_accuracy: 0.5283\n",
      "Epoch 20/50\n",
      "95/95 [==============================] - 2s 22ms/step - loss: 0.6436 - accuracy: 0.7695 - val_loss: 1.3872 - val_accuracy: 0.5876\n",
      "Epoch 21/50\n",
      "95/95 [==============================] - 2s 21ms/step - loss: 0.6232 - accuracy: 0.7759 - val_loss: 1.4878 - val_accuracy: 0.5261\n",
      "Epoch 22/50\n",
      "95/95 [==============================] - 2s 21ms/step - loss: 0.5955 - accuracy: 0.7865 - val_loss: 1.5303 - val_accuracy: 0.5074\n",
      "169/169 [==============================] - 0s 2ms/step\n",
      "Test score: 1.3872499465942383\n",
      "Test accuracy: 0.587592601776123\n",
      "Dropout :  0.8\n",
      "Epoch 1/50\n",
      "95/95 [==============================] - 3s 25ms/step - loss: 2.6146 - accuracy: 0.1194 - val_loss: 2.3031 - val_accuracy: 0.1031\n",
      "Epoch 2/50\n",
      "95/95 [==============================] - 2s 21ms/step - loss: 2.0856 - accuracy: 0.2301 - val_loss: 2.7026 - val_accuracy: 0.1031\n",
      "Epoch 3/50\n",
      "95/95 [==============================] - 2s 21ms/step - loss: 1.9241 - accuracy: 0.2860 - val_loss: 3.3514 - val_accuracy: 0.1031\n",
      "169/169 [==============================] - 0s 2ms/step\n",
      "Test score: 2.3031139373779297\n",
      "Test accuracy: 0.10314814746379852\n",
      "Dropout :  0.9\n",
      "Epoch 1/50\n",
      "95/95 [==============================] - 3s 25ms/step - loss: 3.1419 - accuracy: 0.1034 - val_loss: 2.3023 - val_accuracy: 0.1020\n",
      "Epoch 2/50\n",
      "95/95 [==============================] - 2s 21ms/step - loss: 2.2945 - accuracy: 0.1072 - val_loss: 2.3041 - val_accuracy: 0.1022\n",
      "Epoch 3/50\n",
      "95/95 [==============================] - 2s 21ms/step - loss: 2.1639 - accuracy: 0.1886 - val_loss: 2.4613 - val_accuracy: 0.1031\n",
      "169/169 [==============================] - 0s 2ms/step\n",
      "Test score: 2.3022892475128174\n",
      "Test accuracy: 0.10203703492879868\n"
     ]
    }
   ],
   "source": [
    "from keras import initializers\n",
    "import copy\n",
    "\n",
    "result = {}\n",
    "y = {}\n",
    "loss = []\n",
    "accuracy = []\n",
    "\n",
    "dropouts = [num/10 for num in range(10)]\n",
    "\n",
    "for dropout in dropouts:\n",
    "    print(\"Dropout : \", (dropout))\n",
    "    model = Sequential()\n",
    "\n",
    "    # layer 1\n",
    "    model.add(Conv2D(64, 3, padding='same', activation='relu',input_shape=(train_input.shape[1:])))\n",
    "    model.add(Dropout(dropout))  \n",
    "    model.add(Conv2D(64, 3, activation='relu',padding='same'))\n",
    "    model.add(Dropout(dropout))\n",
    "    model.add(MaxPooling2D(pool_size=(2, 2)))\n",
    "\n",
    "    # layer 2\n",
    "    model.add(Conv2D(128, 3, activation='relu',padding='same'))\n",
    "    model.add(Dropout(dropout))                                        \n",
    "    model.add(MaxPooling2D(pool_size=(2, 2)))\n",
    "\n",
    "    # layer 3                         \n",
    "    model.add(Conv2D(256, 3, activation='relu',padding='same'))\n",
    "    model.add(Dropout(dropout)) \n",
    "    model.add(MaxPooling2D(pool_size=(2, 2)))\n",
    "\n",
    "    # layer 4\n",
    "    model.add(Flatten())\n",
    "    model.add(Dense(512, activation='relu'))\n",
    "\n",
    "    # layer 5\n",
    "    model.add(Dense(512, activation='relu'))\n",
    "\n",
    "    # layer 6\n",
    "    model.add(Dense(num_classes, activation='softmax'))\n",
    "    \n",
    "    model.compile(loss='categorical_crossentropy',\n",
    "                  optimizer='adam',\n",
    "                  metrics=['accuracy'])\n",
    "    \n",
    "    checkpoint_cb = keras.callbacks.ModelCheckpoint('best-cnn-model.h5',\n",
    "                                                save_best_only = True)\n",
    "\n",
    "    early_stopping_cb = keras.callbacks.EarlyStopping(patience=2,restore_best_weights = True)\n",
    "\n",
    "    history = model.fit(train_input, train_target, batch_size=batch_size, epochs =epochs, verbose=1, \n",
    "                        shuffle=True, validation_data=(val_input, val_target),\n",
    "                        callbacks = [checkpoint_cb, early_stopping_cb])\n",
    "    \n",
    "    score = model.evaluate(val_input, val_target, verbose=0)\n",
    "    y[dropout] = model.predict(val_input)\n",
    "    print('Test score:', score[0])\n",
    "    print('Test accuracy:', score[1])\n",
    "    result[dropout] = copy.deepcopy(history.history)   \n",
    "    loss.append(score[0])\n",
    "    accuracy.append(score[1])"
   ]
  },
  {
   "cell_type": "code",
   "execution_count": null,
   "metadata": {
    "colab": {
     "base_uri": "https://localhost:8080/",
     "height": 322
    },
    "id": "7xTsACooJlJc",
    "outputId": "3455be6f-054d-4e68-c629-630b6ac87ccd"
   },
   "outputs": [
    {
     "data": {
      "image/png": "[encoded data removed]",
      "text/plain": [
       "<Figure size 432x288 with 1 Axes>"
      ]
     },
     "metadata": {
      "needs_background": "light"
     },
     "output_type": "display_data"
    }
   ],
   "source": [
    "import numpy as np                                                               \n",
    "import matplotlib.pyplot as plt\n",
    "\n",
    "# plt.figure(figsize = (13,10))\n",
    "width = 0.1\n",
    "\n",
    "plt.bar(dropouts, accuracy, width, align='center')\n",
    "\n",
    "plt.tick_params(axis='both', which='major', labelsize=35)\n",
    "plt.tick_params(axis='both', which='minor', labelsize=35)\n",
    "\n",
    "plt.ylabel('Accuracy',size = 30)\n",
    "plt.xlabel('Dropout', size = 30)\n",
    "plt.show()"
   ]
  },
  {
   "cell_type": "code",
   "execution_count": null,
   "metadata": {
    "colab": {
     "base_uri": "https://localhost:8080/",
     "height": 322
    },
    "id": "gzyYfDpKJ4w0",
    "outputId": "ce0b8511-eda7-497a-c1e2-4d20ef4f0f06"
   },
   "outputs": [
    {
     "data": {
      "image/png": "[encoded data removed]",
      "text/plain": [
       "<Figure size 432x288 with 1 Axes>"
      ]
     },
     "metadata": {
      "needs_background": "light"
     },
     "output_type": "display_data"
    }
   ],
   "source": [
    "width = 0.1\n",
    "\n",
    "plt.bar(dropouts, loss, width, align='center',color = 'green')\n",
    "\n",
    "plt.tick_params(axis='both', which='major', labelsize=35)\n",
    "plt.tick_params(axis='both', which='minor', labelsize=35)\n",
    "\n",
    "plt.ylabel('Loss',size = 30)\n",
    "plt.xlabel('Dropout', size = 30)\n",
    "plt.show()"
   ]
  },
  {
   "cell_type": "markdown",
   "metadata": {
    "id": "PJBoeO3FYmBO"
   },
   "source": [
    "- accuracy와 loss를 모두 고려했을 때 dropout 0.3으로 모델 제작"
   ]
  },
  {
   "cell_type": "markdown",
   "metadata": {
    "id": "1tG9sl8IYskg"
   },
   "source": [
    "# 평가 지표 향상을 위한 모델 변형"
   ]
  },
  {
   "cell_type": "code",
   "execution_count": 15,
   "metadata": {
    "colab": {
     "base_uri": "https://localhost:8080/"
    },
    "id": "vIZ3AcaxYvmn",
    "outputId": "20bca748-a8b6-4baf-d1db-5c3f981516d8"
   },
   "outputs": [
    {
     "name": "stdout",
     "output_type": "stream",
     "text": [
      "Model: \"sequential_1\"\n",
      "_________________________________________________________________\n",
      " Layer (type)                Output Shape              Param #   \n",
      "=================================================================\n",
      " conv2d_6 (Conv2D)           (None, 32, 32, 32)        896       \n",
      "                                                                 \n",
      " batch_normalization_6 (Batc  (None, 32, 32, 32)       128       \n",
      " hNormalization)                                                 \n",
      "                                                                 \n",
      " conv2d_7 (Conv2D)           (None, 32, 32, 32)        9248      \n",
      "                                                                 \n",
      " batch_normalization_7 (Batc  (None, 32, 32, 32)       128       \n",
      " hNormalization)                                                 \n",
      "                                                                 \n",
      " max_pooling2d_3 (MaxPooling  (None, 16, 16, 32)       0         \n",
      " 2D)                                                             \n",
      "                                                                 \n",
      " dropout_4 (Dropout)         (None, 16, 16, 32)        0         \n",
      "                                                                 \n",
      " conv2d_8 (Conv2D)           (None, 16, 16, 64)        18496     \n",
      "                                                                 \n",
      " batch_normalization_8 (Batc  (None, 16, 16, 64)       256       \n",
      " hNormalization)                                                 \n",
      "                                                                 \n",
      " conv2d_9 (Conv2D)           (None, 16, 16, 64)        36928     \n",
      "                                                                 \n",
      " batch_normalization_9 (Batc  (None, 16, 16, 64)       256       \n",
      " hNormalization)                                                 \n",
      "                                                                 \n",
      " max_pooling2d_4 (MaxPooling  (None, 8, 8, 64)         0         \n",
      " 2D)                                                             \n",
      "                                                                 \n",
      " dropout_5 (Dropout)         (None, 8, 8, 64)          0         \n",
      "                                                                 \n",
      " conv2d_10 (Conv2D)          (None, 8, 8, 128)         73856     \n",
      "                                                                 \n",
      " batch_normalization_10 (Bat  (None, 8, 8, 128)        512       \n",
      " chNormalization)                                                \n",
      "                                                                 \n",
      " conv2d_11 (Conv2D)          (None, 8, 8, 128)         147584    \n",
      "                                                                 \n",
      " batch_normalization_11 (Bat  (None, 8, 8, 128)        512       \n",
      " chNormalization)                                                \n",
      "                                                                 \n",
      " max_pooling2d_5 (MaxPooling  (None, 4, 4, 128)        0         \n",
      " 2D)                                                             \n",
      "                                                                 \n",
      " dropout_6 (Dropout)         (None, 4, 4, 128)         0         \n",
      "                                                                 \n",
      " flatten_1 (Flatten)         (None, 2048)              0         \n",
      "                                                                 \n",
      " dense_2 (Dense)             (None, 128)               262272    \n",
      "                                                                 \n",
      " dropout_7 (Dropout)         (None, 128)               0         \n",
      "                                                                 \n",
      " dense_3 (Dense)             (None, 10)                1290      \n",
      "                                                                 \n",
      "=================================================================\n",
      "Total params: 552,362\n",
      "Trainable params: 551,466\n",
      "Non-trainable params: 896\n",
      "_________________________________________________________________\n"
     ]
    }
   ],
   "source": [
    "model = Sequential()\n",
    "\n",
    "model.add(Conv2D(filters=32, kernel_size=(3, 3), input_shape=(32, 32, 3), activation='relu', padding='same'))\n",
    "model.add(BatchNormalization())\n",
    "model.add(Conv2D(filters=32, kernel_size=(3, 3), input_shape=(32, 32, 3), activation='relu', padding='same'))\n",
    "model.add(BatchNormalization())\n",
    "\n",
    "model.add(MaxPooling2D(pool_size=(2, 2)))\n",
    "\n",
    "model.add(Dropout(0.3))\n",
    "\n",
    "model.add(Conv2D(filters=64, kernel_size=(3, 3), input_shape=(32, 32, 3), activation='relu', padding='same'))\n",
    "model.add(BatchNormalization())\n",
    "model.add(Conv2D(filters=64, kernel_size=(3, 3), input_shape=(32, 32, 3), activation='relu', padding='same'))\n",
    "model.add(BatchNormalization())\n",
    "model.add(MaxPooling2D(pool_size=(2, 2)))\n",
    "model.add(Dropout(0.3))\n",
    "\n",
    "model.add(Conv2D(filters=128, kernel_size=(3, 3), input_shape=(32, 32, 3), activation='relu', padding='same'))\n",
    "model.add(BatchNormalization())\n",
    "model.add(Conv2D(filters=128, kernel_size=(3, 3), input_shape=(32, 32, 3), activation='relu', padding='same'))\n",
    "model.add(BatchNormalization())\n",
    "model.add(MaxPooling2D(pool_size=(2, 2)))\n",
    "model.add(Dropout(0.3))\n",
    "\n",
    "model.add(Flatten())\n",
    "\n",
    "model.add(Dense(128, activation='relu'))\n",
    "model.add(Dropout(0.3))\n",
    "model.add(Dense(num_classes, activation='softmax'))\n",
    "\n",
    "model.summary()"
   ]
  },
  {
   "cell_type": "code",
   "execution_count": 19,
   "metadata": {
    "id": "7EWXhD6-cjfZ"
   },
   "outputs": [],
   "source": [
    "batch_size = 32\n",
    "data_generator = ImageDataGenerator(width_shift_range = 0.1, height_shift_range = 0.1,\n",
    "                                    horizontal_flip = True)\n",
    "\n",
    "train_generator = data_generator.flow(train_input, train_target, batch_size)\n",
    "steps_per_epoch = train_input.shape[0] // batch_size"
   ]
  },
  {
   "cell_type": "code",
   "execution_count": 21,
   "metadata": {
    "colab": {
     "base_uri": "https://localhost:8080/"
    },
    "id": "Ui93X_oObFgB",
    "outputId": "b18a7fe2-49e3-444f-da29-0c86bfc8d941"
   },
   "outputs": [
    {
     "name": "stdout",
     "output_type": "stream",
     "text": [
      "Epoch 1/50\n",
      "1518/1518 [==============================] - 13s 7ms/step - loss: 1.4347 - accuracy: 0.4886 - val_loss: 1.0700 - val_accuracy: 0.6307\n",
      "Epoch 2/50\n",
      "1518/1518 [==============================] - 11s 7ms/step - loss: 1.0725 - accuracy: 0.6229 - val_loss: 0.8872 - val_accuracy: 0.6993\n",
      "Epoch 3/50\n",
      "1518/1518 [==============================] - 11s 7ms/step - loss: 0.9226 - accuracy: 0.6810 - val_loss: 0.7643 - val_accuracy: 0.7380\n",
      "Epoch 4/50\n",
      "1518/1518 [==============================] - 11s 7ms/step - loss: 0.8237 - accuracy: 0.7178 - val_loss: 0.7079 - val_accuracy: 0.7563\n",
      "Epoch 5/50\n",
      "1518/1518 [==============================] - 11s 7ms/step - loss: 0.7549 - accuracy: 0.7421 - val_loss: 0.6761 - val_accuracy: 0.7730\n",
      "Epoch 6/50\n",
      "1518/1518 [==============================] - 11s 7ms/step - loss: 0.6985 - accuracy: 0.7627 - val_loss: 0.6421 - val_accuracy: 0.7819\n",
      "Epoch 7/50\n",
      "1518/1518 [==============================] - 12s 8ms/step - loss: 0.6556 - accuracy: 0.7777 - val_loss: 0.5938 - val_accuracy: 0.7915\n",
      "Epoch 8/50\n",
      "1518/1518 [==============================] - 12s 8ms/step - loss: 0.6138 - accuracy: 0.7906 - val_loss: 0.6056 - val_accuracy: 0.7931\n",
      "Epoch 9/50\n",
      "1518/1518 [==============================] - 11s 7ms/step - loss: 0.5768 - accuracy: 0.8030 - val_loss: 0.5594 - val_accuracy: 0.8063\n",
      "Epoch 10/50\n",
      "1518/1518 [==============================] - 11s 7ms/step - loss: 0.5512 - accuracy: 0.8124 - val_loss: 0.5265 - val_accuracy: 0.8189\n",
      "Epoch 11/50\n",
      "1518/1518 [==============================] - 11s 7ms/step - loss: 0.5231 - accuracy: 0.8219 - val_loss: 0.5657 - val_accuracy: 0.8106\n",
      "Epoch 12/50\n",
      "1518/1518 [==============================] - 11s 7ms/step - loss: 0.4970 - accuracy: 0.8305 - val_loss: 0.5043 - val_accuracy: 0.8380\n",
      "Epoch 13/50\n",
      "1518/1518 [==============================] - 10s 7ms/step - loss: 0.4737 - accuracy: 0.8367 - val_loss: 0.5184 - val_accuracy: 0.8304\n",
      "Epoch 14/50\n",
      "1518/1518 [==============================] - 11s 7ms/step - loss: 0.4553 - accuracy: 0.8427 - val_loss: 0.5120 - val_accuracy: 0.8359\n"
     ]
    }
   ],
   "source": [
    "model.compile(loss='categorical_crossentropy', optimizer='adam', metrics = ['accuracy'])\n",
    "\n",
    "checkpoint_cb = keras.callbacks.ModelCheckpoint('best-cnn-model.h5',\n",
    "                                                save_best_only = True)\n",
    "\n",
    "early_stopping_cb = keras.callbacks.EarlyStopping(patience=2,restore_best_weights = True)\n",
    "\n",
    "history = model.fit(train_input, train_target, batch_size=batch_size, epochs = epochs,\n",
    "                        shuffle=True, validation_data=(val_input, val_target),\n",
    "                        steps_per_epoch = steps_per_epoch,\n",
    "                        callbacks = [checkpoint_cb, early_stopping_cb])"
   ]
  },
  {
   "cell_type": "markdown",
   "metadata": {
    "id": "K_wnb93sekN4"
   },
   "source": [
    "# 결과 확인"
   ]
  },
  {
   "cell_type": "code",
   "execution_count": 22,
   "metadata": {
    "colab": {
     "base_uri": "https://localhost:8080/",
     "height": 299
    },
    "id": "UiSm3TZ9dofr",
    "outputId": "94b52ec5-a356-4b2e-8529-07c8479932be"
   },
   "outputs": [
    {
     "data": {
      "text/plain": [
       "<matplotlib.legend.Legend at 0x7f0ece28dd00>"
      ]
     },
     "execution_count": 22,
     "metadata": {},
     "output_type": "execute_result"
    },
    {
     "data": {
      "image/png": "[encoded data removed]",
      "text/plain": [
       "<Figure size 432x288 with 1 Axes>"
      ]
     },
     "metadata": {
      "needs_background": "light"
     },
     "output_type": "display_data"
    }
   ],
   "source": [
    "plt.plot(history.history['loss'], label='Loss')\n",
    "plt.plot(history.history['val_loss'], label='val_Loss')\n",
    "plt.title('Loss Function Evolution')\n",
    "plt.legend()"
   ]
  },
  {
   "cell_type": "code",
   "execution_count": 23,
   "metadata": {
    "colab": {
     "base_uri": "https://localhost:8080/"
    },
    "id": "tCMdgRn2bofK",
    "outputId": "9f415010-eb45-45e5-89cd-c5a23b0c54e7"
   },
   "outputs": [
    {
     "name": "stdout",
     "output_type": "stream",
     "text": [
      "169/169 [==============================] - 1s 5ms/step - loss: 0.5043 - accuracy: 0.8380\n"
     ]
    },
    {
     "data": {
      "text/plain": [
       "[0.5043334364891052, 0.8379629850387573]"
      ]
     },
     "execution_count": 23,
     "metadata": {},
     "output_type": "execute_result"
    }
   ],
   "source": [
    "model.evaluate(val_input, val_target)"
   ]
  },
  {
   "cell_type": "markdown",
   "metadata": {
    "id": "siHZaXfWel5E"
   },
   "source": [
    "# 테스트 데이터 사용"
   ]
  },
  {
   "cell_type": "code",
   "execution_count": 25,
   "metadata": {
    "colab": {
     "base_uri": "https://localhost:8080/"
    },
    "id": "doCTl6aNeXyv",
    "outputId": "e91ce1bf-2930-4661-df46-658282b2fe9f"
   },
   "outputs": [
    {
     "data": {
      "text/plain": [
       "((6000, 32, 32, 3), (6000, 1))"
      ]
     },
     "execution_count": 25,
     "metadata": {},
     "output_type": "execute_result"
    }
   ],
   "source": [
    "x_test.shape, y_test.shape"
   ]
  },
  {
   "cell_type": "code",
   "execution_count": 28,
   "metadata": {
    "colab": {
     "base_uri": "https://localhost:8080/"
    },
    "id": "tuLBzvnHeqKm",
    "outputId": "f66d4961-5a3a-4236-8a35-f76e460de0e4"
   },
   "outputs": [
    {
     "name": "stdout",
     "output_type": "stream",
     "text": [
      "188/188 [==============================] - 1s 3ms/step\n"
     ]
    }
   ],
   "source": [
    "y_pred = model.predict(x_test)"
   ]
  },
  {
   "cell_type": "code",
   "execution_count": 34,
   "metadata": {
    "id": "xaAkIDSmfBVU"
   },
   "outputs": [],
   "source": [
    "from sklearn.metrics import ConfusionMatrixDisplay\n",
    "from sklearn.metrics import classification_report, confusion_matrix\n",
    "\n",
    "cm = confusion_matrix(y_test, y_pred)"
   ]
  },
  {
   "cell_type": "code",
   "execution_count": 37,
   "metadata": {
    "colab": {
     "base_uri": "https://localhost:8080/",
     "height": 603
    },
    "id": "q1e-OENkfEEs",
    "outputId": "c870282d-b3bc-4e6c-ae53-1fb6cadedc64"
   },
   "outputs": [
    {
     "data": {
      "image/png": "[encoded data removed]",
      "text/plain": [
       "<Figure size 720x720 with 2 Axes>"
      ]
     },
     "metadata": {
      "needs_background": "light"
     },
     "output_type": "display_data"
    }
   ],
   "source": [
    "labels = ['airplane', 'automobile', 'bird', 'cat', 'deer', 'dog', 'frog', 'horse', 'ship', 'truck']\n",
    "\n",
    "disp = ConfusionMatrixDisplay(confusion_matrix=cm, display_labels=labels)\n",
    "\n",
    "fig, ax = plt.subplots(figsize=(10, 10))\n",
    "disp = disp.plot(xticks_rotation='vertical', ax=ax,cmap='summer')\n",
    "\n",
    "plt.show()"
   ]
  },
  {
   "cell_type": "markdown",
   "metadata": {
    "id": "HTQ6z8p4gG0m"
   },
   "source": [
    "# DenseNet model 사용"
   ]
  },
  {
   "cell_type": "code",
   "execution_count": 38,
   "metadata": {
    "colab": {
     "base_uri": "https://localhost:8080/"
    },
    "id": "4wvs4hf1fypR",
    "outputId": "3b5e9039-6d87-45a3-c125-589eb4f26ddd"
   },
   "outputs": [
    {
     "name": "stdout",
     "output_type": "stream",
     "text": [
      "Downloading data from https://storage.googleapis.com/tensorflow/keras-applications/densenet/densenet121_weights_tf_dim_ordering_tf_kernels_notop.h5\n",
      "29084464/29084464 [==============================] - 2s 0us/step\n",
      "Model: \"sequential_2\"\n",
      "_________________________________________________________________\n",
      " Layer (type)                Output Shape              Param #   \n",
      "=================================================================\n",
      " densenet121 (Functional)    (None, 1024)              7037504   \n",
      "                                                                 \n",
      " dense_4 (Dense)             (None, 10)                10250     \n",
      "                                                                 \n",
      "=================================================================\n",
      "Total params: 7,047,754\n",
      "Trainable params: 6,964,106\n",
      "Non-trainable params: 83,648\n",
      "_________________________________________________________________\n"
     ]
    }
   ],
   "source": [
    "from keras.applications.densenet import DenseNet121\n",
    "\n",
    "model = Sequential()\n",
    "base_model = DenseNet121(input_shape=(32, 32, 3), include_top=False, weights='imagenet', pooling='avg')\n",
    "model.add(base_model)\n",
    "model.add(Dense(num_classes, activation='softmax'))\n",
    "model.summary()"
   ]
  },
  {
   "cell_type": "code",
   "execution_count": 39,
   "metadata": {
    "colab": {
     "base_uri": "https://localhost:8080/"
    },
    "id": "xzGhhQ9jgZJ0",
    "outputId": "55b603fa-0af8-4387-d221-c01dddb49b56"
   },
   "outputs": [
    {
     "name": "stdout",
     "output_type": "stream",
     "text": [
      "Epoch 1/50\n",
      "1518/1518 [==============================] - 102s 59ms/step - loss: 1.2569 - accuracy: 0.5833 - val_loss: 2.6046 - val_accuracy: 0.5111\n",
      "Epoch 2/50\n",
      "1518/1518 [==============================] - 84s 54ms/step - loss: 0.9517 - accuracy: 0.6804 - val_loss: 1.1669 - val_accuracy: 0.6248\n",
      "Epoch 3/50\n",
      "1518/1518 [==============================] - 82s 54ms/step - loss: 0.8526 - accuracy: 0.7165 - val_loss: 0.8355 - val_accuracy: 0.7139\n",
      "Epoch 4/50\n",
      "1518/1518 [==============================] - 88s 58ms/step - loss: 1.3395 - accuracy: 0.5515 - val_loss: 1.7756 - val_accuracy: 0.5335\n",
      "Epoch 5/50\n",
      "1518/1518 [==============================] - 84s 55ms/step - loss: 1.1403 - accuracy: 0.6079 - val_loss: 20.8080 - val_accuracy: 0.3385\n"
     ]
    }
   ],
   "source": [
    "model.compile(loss='categorical_crossentropy', optimizer='adam', metrics=['accuracy'])\n",
    "\n",
    "checkpoint_cb = keras.callbacks.ModelCheckpoint('best-cnn-model.h5',\n",
    "                                                save_best_only = True)\n",
    "\n",
    "early_stopping_cb = keras.callbacks.EarlyStopping(patience=2,restore_best_weights = True)\n",
    "\n",
    "history = model.fit(train_input, train_target, batch_size=batch_size, epochs = epochs,\n",
    "                        shuffle=True, validation_data=(val_input, val_target),\n",
    "                        steps_per_epoch = steps_per_epoch,\n",
    "                        callbacks = [checkpoint_cb, early_stopping_cb])"
   ]
  },
  {
   "cell_type": "markdown",
   "metadata": {
    "id": "pTEH6tRaiZkk"
   },
   "source": [
    "- DenseNet 모델을 사용해봤으나, 성능이 좋지 않음. 모델에 대한 이해도가 부족해서 그런거 같다.\n",
    "\n",
    "- https://deep-learning-study.tistory.com/528"
   ]
  }
 ],
 "metadata": {
  "accelerator": "GPU",
  "colab": {
   "authorship_tag": "ABX9TyMMbz6s7JX4QJx8qVPFEwmO",
   "provenance": []
  },
  "gpuClass": "standard",
  "kernelspec": {
   "display_name": "Python 3",
   "name": "python3"
  },
  "language_info": {
   "name": "python"
  },
  "vscode": {
   "interpreter": {
    "hash": "43af7393c8e3bb0730eb35f197fc5ab4355397fc73467075a0f020e747dbc619"
   }
  }
 },
 "nbformat": 4,
 "nbformat_minor": 0
}
