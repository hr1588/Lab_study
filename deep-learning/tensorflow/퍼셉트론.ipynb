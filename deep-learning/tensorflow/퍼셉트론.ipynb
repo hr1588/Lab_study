{
 "cells": [
  {
   "cell_type": "markdown",
   "metadata": {},
   "source": [
    "### 단층 퍼셉트론을 활용해 신작 드라마 수와 확보한 여가 시간에 따른 코딩 학습 여부 예측\n",
    "\n",
    "- w_0 : 학습에 대한 의지(Bias)\n",
    "- w_1 : 드라마 시청 욕구로 인한 영향(가중치)\n",
    "- w_2 : 여가 시간에 공부하고 싶은 정도(가중치)\n",
    "- x_1 : 오늘 나온 신작 드라마 수\n",
    "- x_2 : 확보한 여가 시간\n",
    "- y : 학습 여부(학습 : 1, 학습 X : 0)"
   ]
  },
  {
   "cell_type": "code",
   "execution_count": 1,
   "metadata": {},
   "outputs": [],
   "source": [
    "# 학습 여부를 예측하는 퍼셉트론 함수\n",
    "\n",
    "def perceptron(x_1,x_2):\n",
    "    \n",
    "    # 가중치 적용\n",
    "    w_0 = -5\n",
    "    w_1 = -1\n",
    "    w_2 = 5\n",
    "    \n",
    "    # 활성화 함수에 들어갈 값 계산\n",
    "    output = w_0 + w_1*x_1 + w_2*x_2\n",
    "    \n",
    "    # 활성화 함수 결과 계산\n",
    "    if output < 0 :\n",
    "        y = 0\n",
    "    else :\n",
    "        y = 1\n",
    "        \n",
    "    return y, output\n",
    "        "
   ]
  },
  {
   "cell_type": "code",
   "execution_count": 7,
   "metadata": {},
   "outputs": [
    {
     "name": "stdout",
     "output_type": "stream",
     "text": [
      "신호의 총합 : 1\n",
      "학습 여부 : 1\n",
      " ==> 학습한다!\n"
     ]
    }
   ],
   "source": [
    "x_1 = 4\n",
    "x_2 = 2\n",
    "\n",
    "result, go_out = perceptron(x_1,x_2)\n",
    "\n",
    "print(\"신호의 총합 : %d\" % go_out) # %d => 부호 있는 10진 정수 / \\n => 줄 바꿈\n",
    "\n",
    "if go_out > 0 :\n",
    "    print(\"학습 여부 : %d\\n ==> 학습한다!\" % result)\n",
    "else :\n",
    "    print(\"학습 여부 : %d\\n ==> 학습하지 않는다!\" % result)"
   ]
  },
  {
   "cell_type": "markdown",
   "metadata": {},
   "source": [
    "### DIY 퍼셉트론"
   ]
  },
  {
   "cell_type": "code",
   "execution_count": 17,
   "metadata": {},
   "outputs": [],
   "source": [
    "def DIYperceptron(w,x):\n",
    "    output = w[1] * x[0] + w[2] * x[1] + w[3] * x[2] + w[4] * x[3] + w[0]\n",
    "    \n",
    "    if output >=0 :\n",
    "        y = 1\n",
    "    else :\n",
    "        y = 0\n",
    "        \n",
    "    return y, output"
   ]
  },
  {
   "cell_type": "code",
   "execution_count": 18,
   "metadata": {},
   "outputs": [
    {
     "name": "stdout",
     "output_type": "stream",
     "text": [
      "output :  4\n",
      "y:  1\n"
     ]
    }
   ],
   "source": [
    "x = [1,2,3,4]\n",
    "w = [2,-1,1,3,-2]\n",
    "\n",
    "y, output = DIYperceptron(w,x)\n",
    "\n",
    "print('output : ', output)\n",
    "print('y: ', y)"
   ]
  },
  {
   "cell_type": "markdown",
   "metadata": {},
   "source": [
    "### 퍼셉트론의 알맞은 가중치 찾기"
   ]
  },
  {
   "cell_type": "code",
   "execution_count": 20,
   "metadata": {},
   "outputs": [],
   "source": [
    "def find(w,x):\n",
    "    output = w[1] * x[0] + w[2] * x[1] + w[0]\n",
    "\n",
    "    if output >= 0 :\n",
    "        y = 1\n",
    "    else :\n",
    "        y = 0\n",
    "        \n",
    "    return y\n"
   ]
  },
  {
   "cell_type": "code",
   "execution_count": 24,
   "metadata": {},
   "outputs": [],
   "source": [
    "X = [[0,0],[0,1],[1,0],[1,1]] # input data"
   ]
  },
  {
   "cell_type": "code",
   "execution_count": 41,
   "metadata": {},
   "outputs": [
    {
     "name": "stdout",
     "output_type": "stream",
     "text": [
      "Input :  0 0 , Output :  0\n",
      "Input :  0 1 , Output :  0\n",
      "Input :  1 0 , Output :  0\n",
      "Input :  1 1 , Output :  1\n"
     ]
    }
   ],
   "source": [
    "w = [-2,1,1]\n",
    "\n",
    "for x in X :\n",
    "    print('Input : ',x[0],x[1], ', Output : ',find(w,x))\n"
   ]
  },
  {
   "cell_type": "markdown",
   "metadata": {},
   "source": [
    "### 다층 퍼셉트론(MLP)\n",
    "\n",
    "- 단층 퍼셉트론은 입력층과 출력층만 존재, 선형적 분류는 가능하지만 비 선형적 문제 해결 불가\n",
    "- 히든층을 늘려서 분류할 수 있는 방법이 많아서 성능이 좋아질 수 있지만, 히든층이 늘어날수록 가중치가 많아짐"
   ]
  }
 ],
 "metadata": {
  "kernelspec": {
   "display_name": "Python 3.9.12 ('base')",
   "language": "python",
   "name": "python3"
  },
  "language_info": {
   "codemirror_mode": {
    "name": "ipython",
    "version": 3
   },
   "file_extension": ".py",
   "mimetype": "text/x-python",
   "name": "python",
   "nbconvert_exporter": "python",
   "pygments_lexer": "ipython3",
   "version": "3.9.12"
  },
  "orig_nbformat": 4,
  "vscode": {
   "interpreter": {
    "hash": "43af7393c8e3bb0730eb35f197fc5ab4355397fc73467075a0f020e747dbc619"
   }
  }
 },
 "nbformat": 4,
 "nbformat_minor": 2
}
