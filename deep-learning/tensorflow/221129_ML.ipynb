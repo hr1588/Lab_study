{
  "nbformat": 4,
  "nbformat_minor": 0,
  "metadata": {
    "colab": {
      "provenance": []
    },
    "kernelspec": {
      "name": "python3",
      "display_name": "Python 3"
    },
    "language_info": {
      "name": "python"
    },
    "accelerator": "GPU",
    "gpuClass": "standard"
  },
  "cells": [
    {
      "cell_type": "markdown",
      "source": [
        "### 손글씨 이미지 분류 - RNN"
      ],
      "metadata": {
        "id": "Sc2mC0yAuXEK"
      }
    },
    {
      "cell_type": "code",
      "execution_count": 1,
      "metadata": {
        "id": "8EqAAdwkta2R"
      },
      "outputs": [],
      "source": [
        "!pip install tensorflow -q"
      ]
    },
    {
      "cell_type": "code",
      "source": [
        "!pip install IPython -q"
      ],
      "metadata": {
        "id": "46RpN2z7u-Ub",
        "colab": {
          "base_uri": "https://localhost:8080/"
        },
        "outputId": "8b00df5f-c934-4f11-d879-c1c66cfd256e"
      },
      "execution_count": 2,
      "outputs": [
        {
          "output_type": "stream",
          "name": "stdout",
          "text": [
            "\u001b[?25l\r\u001b[K     |▏                               | 10 kB 23.0 MB/s eta 0:00:01\r\u001b[K     |▍                               | 20 kB 5.4 MB/s eta 0:00:01\r\u001b[K     |▋                               | 30 kB 7.7 MB/s eta 0:00:01\r\u001b[K     |▉                               | 40 kB 4.5 MB/s eta 0:00:01\r\u001b[K     |█                               | 51 kB 4.4 MB/s eta 0:00:01\r\u001b[K     |█▎                              | 61 kB 5.2 MB/s eta 0:00:01\r\u001b[K     |█▌                              | 71 kB 5.3 MB/s eta 0:00:01\r\u001b[K     |█▊                              | 81 kB 5.3 MB/s eta 0:00:01\r\u001b[K     |█▉                              | 92 kB 5.8 MB/s eta 0:00:01\r\u001b[K     |██                              | 102 kB 5.4 MB/s eta 0:00:01\r\u001b[K     |██▎                             | 112 kB 5.4 MB/s eta 0:00:01\r\u001b[K     |██▌                             | 122 kB 5.4 MB/s eta 0:00:01\r\u001b[K     |██▊                             | 133 kB 5.4 MB/s eta 0:00:01\r\u001b[K     |███                             | 143 kB 5.4 MB/s eta 0:00:01\r\u001b[K     |███▏                            | 153 kB 5.4 MB/s eta 0:00:01\r\u001b[K     |███▍                            | 163 kB 5.4 MB/s eta 0:00:01\r\u001b[K     |███▌                            | 174 kB 5.4 MB/s eta 0:00:01\r\u001b[K     |███▊                            | 184 kB 5.4 MB/s eta 0:00:01\r\u001b[K     |████                            | 194 kB 5.4 MB/s eta 0:00:01\r\u001b[K     |████▏                           | 204 kB 5.4 MB/s eta 0:00:01\r\u001b[K     |████▍                           | 215 kB 5.4 MB/s eta 0:00:01\r\u001b[K     |████▋                           | 225 kB 5.4 MB/s eta 0:00:01\r\u001b[K     |████▉                           | 235 kB 5.4 MB/s eta 0:00:01\r\u001b[K     |█████                           | 245 kB 5.4 MB/s eta 0:00:01\r\u001b[K     |█████▎                          | 256 kB 5.4 MB/s eta 0:00:01\r\u001b[K     |█████▍                          | 266 kB 5.4 MB/s eta 0:00:01\r\u001b[K     |█████▋                          | 276 kB 5.4 MB/s eta 0:00:01\r\u001b[K     |█████▉                          | 286 kB 5.4 MB/s eta 0:00:01\r\u001b[K     |██████                          | 296 kB 5.4 MB/s eta 0:00:01\r\u001b[K     |██████▎                         | 307 kB 5.4 MB/s eta 0:00:01\r\u001b[K     |██████▌                         | 317 kB 5.4 MB/s eta 0:00:01\r\u001b[K     |██████▊                         | 327 kB 5.4 MB/s eta 0:00:01\r\u001b[K     |███████                         | 337 kB 5.4 MB/s eta 0:00:01\r\u001b[K     |███████                         | 348 kB 5.4 MB/s eta 0:00:01\r\u001b[K     |███████▎                        | 358 kB 5.4 MB/s eta 0:00:01\r\u001b[K     |███████▌                        | 368 kB 5.4 MB/s eta 0:00:01\r\u001b[K     |███████▊                        | 378 kB 5.4 MB/s eta 0:00:01\r\u001b[K     |████████                        | 389 kB 5.4 MB/s eta 0:00:01\r\u001b[K     |████████▏                       | 399 kB 5.4 MB/s eta 0:00:01\r\u001b[K     |████████▍                       | 409 kB 5.4 MB/s eta 0:00:01\r\u001b[K     |████████▋                       | 419 kB 5.4 MB/s eta 0:00:01\r\u001b[K     |████████▊                       | 430 kB 5.4 MB/s eta 0:00:01\r\u001b[K     |█████████                       | 440 kB 5.4 MB/s eta 0:00:01\r\u001b[K     |█████████▏                      | 450 kB 5.4 MB/s eta 0:00:01\r\u001b[K     |█████████▍                      | 460 kB 5.4 MB/s eta 0:00:01\r\u001b[K     |█████████▋                      | 471 kB 5.4 MB/s eta 0:00:01\r\u001b[K     |█████████▉                      | 481 kB 5.4 MB/s eta 0:00:01\r\u001b[K     |██████████                      | 491 kB 5.4 MB/s eta 0:00:01\r\u001b[K     |██████████▎                     | 501 kB 5.4 MB/s eta 0:00:01\r\u001b[K     |██████████▌                     | 512 kB 5.4 MB/s eta 0:00:01\r\u001b[K     |██████████▋                     | 522 kB 5.4 MB/s eta 0:00:01\r\u001b[K     |██████████▉                     | 532 kB 5.4 MB/s eta 0:00:01\r\u001b[K     |███████████                     | 542 kB 5.4 MB/s eta 0:00:01\r\u001b[K     |███████████▎                    | 552 kB 5.4 MB/s eta 0:00:01\r\u001b[K     |███████████▌                    | 563 kB 5.4 MB/s eta 0:00:01\r\u001b[K     |███████████▊                    | 573 kB 5.4 MB/s eta 0:00:01\r\u001b[K     |████████████                    | 583 kB 5.4 MB/s eta 0:00:01\r\u001b[K     |████████████▏                   | 593 kB 5.4 MB/s eta 0:00:01\r\u001b[K     |████████████▎                   | 604 kB 5.4 MB/s eta 0:00:01\r\u001b[K     |████████████▌                   | 614 kB 5.4 MB/s eta 0:00:01\r\u001b[K     |████████████▊                   | 624 kB 5.4 MB/s eta 0:00:01\r\u001b[K     |█████████████                   | 634 kB 5.4 MB/s eta 0:00:01\r\u001b[K     |█████████████▏                  | 645 kB 5.4 MB/s eta 0:00:01\r\u001b[K     |█████████████▍                  | 655 kB 5.4 MB/s eta 0:00:01\r\u001b[K     |█████████████▋                  | 665 kB 5.4 MB/s eta 0:00:01\r\u001b[K     |█████████████▉                  | 675 kB 5.4 MB/s eta 0:00:01\r\u001b[K     |██████████████                  | 686 kB 5.4 MB/s eta 0:00:01\r\u001b[K     |██████████████▏                 | 696 kB 5.4 MB/s eta 0:00:01\r\u001b[K     |██████████████▍                 | 706 kB 5.4 MB/s eta 0:00:01\r\u001b[K     |██████████████▋                 | 716 kB 5.4 MB/s eta 0:00:01\r\u001b[K     |██████████████▉                 | 727 kB 5.4 MB/s eta 0:00:01\r\u001b[K     |███████████████                 | 737 kB 5.4 MB/s eta 0:00:01\r\u001b[K     |███████████████▎                | 747 kB 5.4 MB/s eta 0:00:01\r\u001b[K     |███████████████▌                | 757 kB 5.4 MB/s eta 0:00:01\r\u001b[K     |███████████████▊                | 768 kB 5.4 MB/s eta 0:00:01\r\u001b[K     |███████████████▉                | 778 kB 5.4 MB/s eta 0:00:01\r\u001b[K     |████████████████                | 788 kB 5.4 MB/s eta 0:00:01\r\u001b[K     |████████████████▎               | 798 kB 5.4 MB/s eta 0:00:01\r\u001b[K     |████████████████▌               | 808 kB 5.4 MB/s eta 0:00:01\r\u001b[K     |████████████████▊               | 819 kB 5.4 MB/s eta 0:00:01\r\u001b[K     |█████████████████               | 829 kB 5.4 MB/s eta 0:00:01\r\u001b[K     |█████████████████▏              | 839 kB 5.4 MB/s eta 0:00:01\r\u001b[K     |█████████████████▍              | 849 kB 5.4 MB/s eta 0:00:01\r\u001b[K     |█████████████████▌              | 860 kB 5.4 MB/s eta 0:00:01\r\u001b[K     |█████████████████▊              | 870 kB 5.4 MB/s eta 0:00:01\r\u001b[K     |██████████████████              | 880 kB 5.4 MB/s eta 0:00:01\r\u001b[K     |██████████████████▏             | 890 kB 5.4 MB/s eta 0:00:01\r\u001b[K     |██████████████████▍             | 901 kB 5.4 MB/s eta 0:00:01\r\u001b[K     |██████████████████▋             | 911 kB 5.4 MB/s eta 0:00:01\r\u001b[K     |██████████████████▉             | 921 kB 5.4 MB/s eta 0:00:01\r\u001b[K     |███████████████████             | 931 kB 5.4 MB/s eta 0:00:01\r\u001b[K     |███████████████████▎            | 942 kB 5.4 MB/s eta 0:00:01\r\u001b[K     |███████████████████▍            | 952 kB 5.4 MB/s eta 0:00:01\r\u001b[K     |███████████████████▋            | 962 kB 5.4 MB/s eta 0:00:01\r\u001b[K     |███████████████████▉            | 972 kB 5.4 MB/s eta 0:00:01\r\u001b[K     |████████████████████            | 983 kB 5.4 MB/s eta 0:00:01\r\u001b[K     |████████████████████▎           | 993 kB 5.4 MB/s eta 0:00:01\r\u001b[K     |████████████████████▌           | 1.0 MB 5.4 MB/s eta 0:00:01\r\u001b[K     |████████████████████▊           | 1.0 MB 5.4 MB/s eta 0:00:01\r\u001b[K     |█████████████████████           | 1.0 MB 5.4 MB/s eta 0:00:01\r\u001b[K     |█████████████████████           | 1.0 MB 5.4 MB/s eta 0:00:01\r\u001b[K     |█████████████████████▎          | 1.0 MB 5.4 MB/s eta 0:00:01\r\u001b[K     |█████████████████████▌          | 1.1 MB 5.4 MB/s eta 0:00:01\r\u001b[K     |█████████████████████▊          | 1.1 MB 5.4 MB/s eta 0:00:01\r\u001b[K     |██████████████████████          | 1.1 MB 5.4 MB/s eta 0:00:01\r\u001b[K     |██████████████████████▏         | 1.1 MB 5.4 MB/s eta 0:00:01\r\u001b[K     |██████████████████████▍         | 1.1 MB 5.4 MB/s eta 0:00:01\r\u001b[K     |██████████████████████▋         | 1.1 MB 5.4 MB/s eta 0:00:01\r\u001b[K     |██████████████████████▊         | 1.1 MB 5.4 MB/s eta 0:00:01\r\u001b[K     |███████████████████████         | 1.1 MB 5.4 MB/s eta 0:00:01\r\u001b[K     |███████████████████████▏        | 1.1 MB 5.4 MB/s eta 0:00:01\r\u001b[K     |███████████████████████▍        | 1.1 MB 5.4 MB/s eta 0:00:01\r\u001b[K     |███████████████████████▋        | 1.2 MB 5.4 MB/s eta 0:00:01\r\u001b[K     |███████████████████████▉        | 1.2 MB 5.4 MB/s eta 0:00:01\r\u001b[K     |████████████████████████        | 1.2 MB 5.4 MB/s eta 0:00:01\r\u001b[K     |████████████████████████▎       | 1.2 MB 5.4 MB/s eta 0:00:01\r\u001b[K     |████████████████████████▌       | 1.2 MB 5.4 MB/s eta 0:00:01\r\u001b[K     |████████████████████████▋       | 1.2 MB 5.4 MB/s eta 0:00:01\r\u001b[K     |████████████████████████▉       | 1.2 MB 5.4 MB/s eta 0:00:01\r\u001b[K     |█████████████████████████       | 1.2 MB 5.4 MB/s eta 0:00:01\r\u001b[K     |█████████████████████████▎      | 1.2 MB 5.4 MB/s eta 0:00:01\r\u001b[K     |█████████████████████████▌      | 1.2 MB 5.4 MB/s eta 0:00:01\r\u001b[K     |█████████████████████████▊      | 1.3 MB 5.4 MB/s eta 0:00:01\r\u001b[K     |██████████████████████████      | 1.3 MB 5.4 MB/s eta 0:00:01\r\u001b[K     |██████████████████████████▏     | 1.3 MB 5.4 MB/s eta 0:00:01\r\u001b[K     |██████████████████████████▎     | 1.3 MB 5.4 MB/s eta 0:00:01\r\u001b[K     |██████████████████████████▌     | 1.3 MB 5.4 MB/s eta 0:00:01\r\u001b[K     |██████████████████████████▊     | 1.3 MB 5.4 MB/s eta 0:00:01\r\u001b[K     |███████████████████████████     | 1.3 MB 5.4 MB/s eta 0:00:01\r\u001b[K     |███████████████████████████▏    | 1.3 MB 5.4 MB/s eta 0:00:01\r\u001b[K     |███████████████████████████▍    | 1.3 MB 5.4 MB/s eta 0:00:01\r\u001b[K     |███████████████████████████▋    | 1.4 MB 5.4 MB/s eta 0:00:01\r\u001b[K     |███████████████████████████▉    | 1.4 MB 5.4 MB/s eta 0:00:01\r\u001b[K     |████████████████████████████    | 1.4 MB 5.4 MB/s eta 0:00:01\r\u001b[K     |████████████████████████████▏   | 1.4 MB 5.4 MB/s eta 0:00:01\r\u001b[K     |████████████████████████████▍   | 1.4 MB 5.4 MB/s eta 0:00:01\r\u001b[K     |████████████████████████████▋   | 1.4 MB 5.4 MB/s eta 0:00:01\r\u001b[K     |████████████████████████████▉   | 1.4 MB 5.4 MB/s eta 0:00:01\r\u001b[K     |█████████████████████████████   | 1.4 MB 5.4 MB/s eta 0:00:01\r\u001b[K     |█████████████████████████████▎  | 1.4 MB 5.4 MB/s eta 0:00:01\r\u001b[K     |█████████████████████████████▌  | 1.4 MB 5.4 MB/s eta 0:00:01\r\u001b[K     |█████████████████████████████▊  | 1.5 MB 5.4 MB/s eta 0:00:01\r\u001b[K     |█████████████████████████████▉  | 1.5 MB 5.4 MB/s eta 0:00:01\r\u001b[K     |██████████████████████████████  | 1.5 MB 5.4 MB/s eta 0:00:01\r\u001b[K     |██████████████████████████████▎ | 1.5 MB 5.4 MB/s eta 0:00:01\r\u001b[K     |██████████████████████████████▌ | 1.5 MB 5.4 MB/s eta 0:00:01\r\u001b[K     |██████████████████████████████▊ | 1.5 MB 5.4 MB/s eta 0:00:01\r\u001b[K     |███████████████████████████████ | 1.5 MB 5.4 MB/s eta 0:00:01\r\u001b[K     |███████████████████████████████▏| 1.5 MB 5.4 MB/s eta 0:00:01\r\u001b[K     |███████████████████████████████▍| 1.5 MB 5.4 MB/s eta 0:00:01\r\u001b[K     |███████████████████████████████▌| 1.5 MB 5.4 MB/s eta 0:00:01\r\u001b[K     |███████████████████████████████▊| 1.6 MB 5.4 MB/s eta 0:00:01\r\u001b[K     |████████████████████████████████| 1.6 MB 5.4 MB/s eta 0:00:01\r\u001b[K     |████████████████████████████████| 1.6 MB 5.4 MB/s \n",
            "\u001b[?25h"
          ]
        }
      ]
    },
    {
      "cell_type": "code",
      "source": [
        "import tensorflow as tf\n",
        "from tensorflow import keras\n",
        "\n",
        "import pandas as pd\n",
        "import numpy as np\n",
        "import matplotlib.pyplot as plt\n",
        "import seaborn as sns\n",
        "import warnings\n",
        "warnings.filterwarnings('ignore')\n",
        "\n",
        "from IPython.display import Image\n",
        "%matplotlib inline\n",
        "\n",
        "SEED = 41"
      ],
      "metadata": {
        "id": "GXMVa5BwuFGy"
      },
      "execution_count": 3,
      "outputs": []
    },
    {
      "cell_type": "code",
      "source": [
        "mnist = keras.datasets.mnist\n",
        "((train_images, train_labels), (test_images, test_labels)) = mnist.load_data()"
      ],
      "metadata": {
        "id": "EILGbkixvOMa",
        "colab": {
          "base_uri": "https://localhost:8080/"
        },
        "outputId": "0b0f96bd-ffaf-497c-c160-45fc83b8ab42"
      },
      "execution_count": 4,
      "outputs": [
        {
          "output_type": "stream",
          "name": "stdout",
          "text": [
            "Downloading data from https://storage.googleapis.com/tensorflow/tf-keras-datasets/mnist.npz\n",
            "11490434/11490434 [==============================] - 0s 0us/step\n"
          ]
        }
      ]
    },
    {
      "cell_type": "code",
      "source": [
        "print(train_images.shape, train_labels.shape, test_images.shape, test_labels.shape)"
      ],
      "metadata": {
        "colab": {
          "base_uri": "https://localhost:8080/"
        },
        "id": "YRe5IRwmvaIg",
        "outputId": "10bba951-0bb9-4ea6-99a8-531048a0e85a"
      },
      "execution_count": 5,
      "outputs": [
        {
          "output_type": "stream",
          "name": "stdout",
          "text": [
            "(60000, 28, 28) (60000,) (10000, 28, 28) (10000,)\n"
          ]
        }
      ]
    },
    {
      "cell_type": "code",
      "source": [
        "print(f\"train_images:{train_images.shape}\")"
      ],
      "metadata": {
        "colab": {
          "base_uri": "https://localhost:8080/"
        },
        "id": "1kVQkgStyHbq",
        "outputId": "3e16883f-a6c2-4b7d-a68f-33105d836fb6"
      },
      "execution_count": 7,
      "outputs": [
        {
          "output_type": "stream",
          "name": "stdout",
          "text": [
            "train_images:(60000, 28, 28)\n"
          ]
        }
      ]
    },
    {
      "cell_type": "markdown",
      "source": [
        "### 28*28 이미지를 plt로 출력"
      ],
      "metadata": {
        "id": "ZCgwAAygyg9f"
      }
    },
    {
      "cell_type": "code",
      "source": [
        "plt.figure()\n",
        "plt.imshow(train_images[0])\n",
        "plt.colorbar()\n",
        "plt.grid(True)\n",
        "plt.show()"
      ],
      "metadata": {
        "colab": {
          "base_uri": "https://localhost:8080/",
          "height": 265
        },
        "id": "VzV6L87ZvkZU",
        "outputId": "8ce71446-19dd-4e82-888b-e8950a2a7037"
      },
      "execution_count": 11,
      "outputs": [
        {
          "output_type": "display_data",
          "data": {
            "text/plain": [
              "<Figure size 432x288 with 2 Axes>"
            ],
            "image/png": "[encoded data removed]"
          },
          "metadata": {
            "needs_background": "light"
          }
        }
      ]
    },
    {
      "cell_type": "markdown",
      "source": [
        "### train_images에서 0이 아닌 값 출력"
      ],
      "metadata": {
        "id": "oPcCvhEizw-H"
      }
    },
    {
      "cell_type": "code",
      "source": [
        "list(filter(lambda x:x != 0, train_images[0].reshape(-1)))[:10]"
      ],
      "metadata": {
        "id": "5t0eQDoFwG_3",
        "colab": {
          "base_uri": "https://localhost:8080/"
        },
        "outputId": "7d1a9c67-e0c6-4944-9005-782d52d0ec7f"
      },
      "execution_count": 12,
      "outputs": [
        {
          "output_type": "execute_result",
          "data": {
            "text/plain": [
              "[3, 18, 18, 18, 126, 136, 175, 26, 166, 255]"
            ]
          },
          "metadata": {},
          "execution_count": 12
        }
      ]
    },
    {
      "cell_type": "code",
      "source": [
        "print(train_images.dtype, train_labels.dtype)"
      ],
      "metadata": {
        "colab": {
          "base_uri": "https://localhost:8080/"
        },
        "id": "bCon0vCg0CXq",
        "outputId": "da124c91-4876-41c4-ef58-3b8500bdd04c"
      },
      "execution_count": 16,
      "outputs": [
        {
          "output_type": "stream",
          "name": "stdout",
          "text": [
            "uint8 uint8\n"
          ]
        }
      ]
    },
    {
      "cell_type": "markdown",
      "source": [
        "### train/test 이미지 데이터 범위"
      ],
      "metadata": {
        "id": "E9R1n5wx1Mng"
      }
    },
    {
      "cell_type": "code",
      "source": [
        "print(test_images.shape, test_images.shape)"
      ],
      "metadata": {
        "colab": {
          "base_uri": "https://localhost:8080/"
        },
        "id": "quWoHD2s0mET",
        "outputId": "017f4fd7-1e03-41ec-acc6-61cc946a00c7"
      },
      "execution_count": 17,
      "outputs": [
        {
          "output_type": "stream",
          "name": "stdout",
          "text": [
            "(10000, 28, 28) (10000, 28, 28)\n"
          ]
        }
      ]
    },
    {
      "cell_type": "code",
      "source": [
        "list(filter(lambda x:x != 0, test_images[0].reshape(-1)))[:10]"
      ],
      "metadata": {
        "colab": {
          "base_uri": "https://localhost:8080/"
        },
        "id": "0aA7b5Tm1S9c",
        "outputId": "a9331c50-d6fe-45de-b60b-f7bedca65861"
      },
      "execution_count": 18,
      "outputs": [
        {
          "output_type": "execute_result",
          "data": {
            "text/plain": [
              "[84, 185, 159, 151, 60, 36, 222, 254, 254, 254]"
            ]
          },
          "metadata": {},
          "execution_count": 18
        }
      ]
    },
    {
      "cell_type": "markdown",
      "source": [
        "### train/test 이미지 데이터 최소/최대값 출력"
      ],
      "metadata": {
        "id": "M_lRLExl1VoY"
      }
    },
    {
      "cell_type": "code",
      "source": [
        "print(max(train_images.reshape(-1)), min(train_images.reshape(-1)))"
      ],
      "metadata": {
        "colab": {
          "base_uri": "https://localhost:8080/"
        },
        "id": "6KDNhIhv1U49",
        "outputId": "a1963d05-f9e5-4665-df7c-6253e27feebb"
      },
      "execution_count": 19,
      "outputs": [
        {
          "output_type": "stream",
          "name": "stdout",
          "text": [
            "255 0\n"
          ]
        }
      ]
    },
    {
      "cell_type": "markdown",
      "source": [
        "### 정수형을 실수형으로 변환"
      ],
      "metadata": {
        "id": "ilVGzzYz1rgp"
      }
    },
    {
      "cell_type": "code",
      "source": [
        "train_images = train_images.astype(np.float64)\n",
        "test_images = test_images.astype(np.float64)"
      ],
      "metadata": {
        "id": "csDeUYIc1hY3"
      },
      "execution_count": 20,
      "outputs": []
    },
    {
      "cell_type": "code",
      "source": [
        "train_images = train_images/255\n",
        "test_images = test_images/255"
      ],
      "metadata": {
        "id": "aD4F2i9s18Hp"
      },
      "execution_count": 22,
      "outputs": []
    },
    {
      "cell_type": "code",
      "source": [
        "list(filter(lambda x:x != 0, train_images[0].reshape(-1)))[:10]"
      ],
      "metadata": {
        "colab": {
          "base_uri": "https://localhost:8080/"
        },
        "id": "kSlcxWyW3Oyu",
        "outputId": "6611992c-67c7-4bbb-f445-8b4bfb2d78f3"
      },
      "execution_count": 24,
      "outputs": [
        {
          "output_type": "execute_result",
          "data": {
            "text/plain": [
              "[0.011764705882352941,\n",
              " 0.07058823529411765,\n",
              " 0.07058823529411765,\n",
              " 0.07058823529411765,\n",
              " 0.49411764705882355,\n",
              " 0.5333333333333333,\n",
              " 0.6862745098039216,\n",
              " 0.10196078431372549,\n",
              " 0.6509803921568628,\n",
              " 1.0]"
            ]
          },
          "metadata": {},
          "execution_count": 24
        }
      ]
    },
    {
      "cell_type": "code",
      "source": [
        "print(max(train_images.reshape(-1)), min(train_images.reshape(-1)))"
      ],
      "metadata": {
        "colab": {
          "base_uri": "https://localhost:8080/"
        },
        "id": "V_d7dlqv3rqW",
        "outputId": "a2c31f0f-74eb-4631-bcf8-1412badcc248"
      },
      "execution_count": 25,
      "outputs": [
        {
          "output_type": "stream",
          "name": "stdout",
          "text": [
            "1.0 0.0\n"
          ]
        }
      ]
    },
    {
      "cell_type": "markdown",
      "source": [
        "### 시각화 방법"
      ],
      "metadata": {
        "id": "0qEFbjTs4ZvN"
      }
    },
    {
      "cell_type": "code",
      "source": [
        "train_images[0:5].shape"
      ],
      "metadata": {
        "colab": {
          "base_uri": "https://localhost:8080/"
        },
        "id": "VkP2J1583wcE",
        "outputId": "eced1be0-41a0-4910-afe8-b4bf80f1f8c2"
      },
      "execution_count": 26,
      "outputs": [
        {
          "output_type": "execute_result",
          "data": {
            "text/plain": [
              "(5, 28, 28)"
            ]
          },
          "metadata": {},
          "execution_count": 26
        }
      ]
    },
    {
      "cell_type": "code",
      "source": [
        "np.hstack(train_images[0:5]).shape \n",
        "# np.hstack은 height 바햐의 배열을 풀어서 width 방향으로 연결\n",
        "# (height, image_height, image_width)의 shape을 (image_weight, image_width*height) 으로 변환"
      ],
      "metadata": {
        "colab": {
          "base_uri": "https://localhost:8080/"
        },
        "id": "-ohJ55QS4Y8j",
        "outputId": "9bcd4c79-9340-492b-a448-1accfecb078b"
      },
      "execution_count": 28,
      "outputs": [
        {
          "output_type": "execute_result",
          "data": {
            "text/plain": [
              "(28, 140)"
            ]
          },
          "metadata": {},
          "execution_count": 28
        }
      ]
    },
    {
      "cell_type": "code",
      "source": [
        "tf.transpose(train_images[0:5]).shape"
      ],
      "metadata": {
        "colab": {
          "base_uri": "https://localhost:8080/"
        },
        "id": "Ge8BzRuu4eHt",
        "outputId": "2b533787-01f1-4517-ee2f-21076c13ede2"
      },
      "execution_count": 31,
      "outputs": [
        {
          "output_type": "execute_result",
          "data": {
            "text/plain": [
              "TensorShape([28, 28, 5])"
            ]
          },
          "metadata": {},
          "execution_count": 31
        }
      ]
    }
  ]
}