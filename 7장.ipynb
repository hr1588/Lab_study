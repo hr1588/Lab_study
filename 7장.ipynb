{
 "cells": [
  {
   "cell_type": "markdown",
   "metadata": {},
   "source": [
    "### 인공신경망(ANN)\n",
    "\n",
    "- 인공신경망 : 생물학적 뉴런에서 영감을 받아 만든 머신러닝 알고리즘, 신경망은 기존의 머신러닝 알고리즘으로 다루기 어려웠던 이미지, 음성, 텍스트 분야에서 뛰어난 성능을 발휘하면서 \n",
    "크게 주목을 받고 있으며 종종 딥러닝이라고 부름\n",
    "\n",
    "- 밀집층(dense layer, or 완전연결층(fully connected layer)) : 케라스의 레이어 안의 가장 기본이 되는 층으로 양쪽의 뉴런이 모두 연결되어 있음\n",
    "\n",
    "- 텐서플로 : 구글이 만든 딥러닝 라이브러리로 CPU와 GPU를 이용해 인공신경망 모델을 효율적으로 훈련하며 모델 구축과 서비스에 필요한 다양한 도구 제공, 텐서플로 2.0부터는 신경망 모델을 빠르게 구성할 수 있는 케라스를 핵심 api로 채택. 케라스를 사용하면 간단한 모델에서 아주 복잡한 모델까지 손쉽게 만들 수 있음\n",
    "\n",
    "- 원-핫 인코딩 : 타깃값을 해당 클래스만 1이고 나머지는 모두 0인 배열로 만드는 것, 다중 분류에서 크로스 엔트로피 손실 함수를 사용하려면 0,1,2와 같이 정수로 된 타깃값을 인코딩으로 변환\n",
    "\n",
    "- 절편 : 뉴런마다 더해짐\n",
    "\n",
    "- 활성화 함수 : 뉴런의 선형방정식 계산 결과에 적용되는 함수\n"
   ]
  },
  {
   "cell_type": "code",
   "execution_count": 1,
   "metadata": {},
   "outputs": [],
   "source": [
    "# 라이브러리 호출\n",
    "\n",
    "import numpy as np\n",
    "import matplotlib.pyplot as plt\n",
    "from tensorflow import keras\n",
    "from sklearn.model_selection import cross_validate\n",
    "from sklearn.model_selection import train_test_split\n",
    "from sklearn.linear_model import SGDClassifier"
   ]
  },
  {
   "cell_type": "code",
   "execution_count": 2,
   "metadata": {},
   "outputs": [],
   "source": [
    "(train_input, train_target), (test_input, test_target) = keras.datasets.fashion_mnist.load_data()"
   ]
  },
  {
   "cell_type": "code",
   "execution_count": 25,
   "metadata": {},
   "outputs": [
    {
     "name": "stdout",
     "output_type": "stream",
     "text": [
      "(60000, 28, 28) (48000,)\n",
      "(10000, 28, 28) (10000,)\n"
     ]
    }
   ],
   "source": [
    "# 훈련 데이터 shape\n",
    "print(train_input.shape, train_target.shape)\n",
    "# 테스트 데이터 shape\n",
    "print(test_input.shape, test_target.shape)"
   ]
  },
  {
   "cell_type": "code",
   "execution_count": 27,
   "metadata": {},
   "outputs": [],
   "source": [
    "train_scaled = train_input / 255.0 # 정규화\n",
    "train_scaled = train_scaled.reshape(-1,28*28) # 1차원 배열 변환 "
   ]
  },
  {
   "cell_type": "code",
   "execution_count": 28,
   "metadata": {},
   "outputs": [],
   "source": [
    "train_scaled, val_scaled, train_target, val_target = train_test_split(train_scaled, train_target, test_size = 0.2, random_state=42)"
   ]
  },
  {
   "cell_type": "code",
   "execution_count": 6,
   "metadata": {},
   "outputs": [
    {
     "name": "stdout",
     "output_type": "stream",
     "text": [
      "(48000, 784) (48000,)\n",
      "(12000, 784) (12000,)\n"
     ]
    }
   ],
   "source": [
    "print(train_scaled.shape, train_target.shape)\n",
    "print(val_scaled.shape, val_target.shape)"
   ]
  },
  {
   "cell_type": "markdown",
   "metadata": {},
   "source": [
    "### 밀집층(양쪽의 뉴런이 모두 연결하고 있기 때문에 완전연결층)"
   ]
  },
  {
   "cell_type": "code",
   "execution_count": 7,
   "metadata": {},
   "outputs": [],
   "source": [
    "dense = keras.layers.Dense(10, activation = 'softmax', input_shape = (784,)) # 밀집층 객체\n",
    "model = keras.Sequential(dense) # 신경망 모델 제작"
   ]
  },
  {
   "cell_type": "markdown",
   "metadata": {},
   "source": [
    "- 케라스의 Dense 클래스를 사용해 밀집층 마들기 - 필요한 매개변수는 뉴런 개수, 뉴런의 출력적용 함수, 입력크기\n",
    "- 뉴런 개수는 10개인 패션아이템을 분류하기 때문에 10개, 적용 함수는 softmax 적용(이진 분류는 sigmoid 적용), 784개의 픽셀값 받음\n",
    "- Sequential 클래스의 객체를 만들 때 앞에서 만든 밀집층의 객체 dense를 전달함, 여기서 만든 모델이 신경망 모델\n",
    "\n",
    "- 은닉층에 활성화함수를 적용하는 이유 : 은닉층이 활성화함수가 없이 x와 가중치의 곱으로만 표현되어 있다면 뒤의 출력층과 합쳐서 하나의 층으로 표현할 수 있을 것. 은닉층에 활성화 함수를 거쳐서 비선형 함수로 데이터를 변형해서 단순히 선형식이 합쳐지지 못하도록 해야한다."
   ]
  },
  {
   "cell_type": "code",
   "execution_count": 8,
   "metadata": {},
   "outputs": [],
   "source": [
    "model.compile(loss = 'sparse_categorical_crossentropy', metrics='accuracy') \n",
    "# one-hot encoding으로 sparse하게 표현\n",
    "# 모델 손실함수와 metrics 설정"
   ]
  },
  {
   "cell_type": "markdown",
   "metadata": {},
   "source": [
    "- 이진 분류 : binary_crossentropy\n",
    "- 다중 분류 : categorical_crossentropy\n",
    "- 로지스틱 손실 함수는 다중 분류를 위한 손실 함수인 크로스 엔트로피(cross entropy) 손실 함수를 이진 분류 버전으로 만든 것"
   ]
  },
  {
   "cell_type": "code",
   "execution_count": 29,
   "metadata": {},
   "outputs": [
    {
     "name": "stdout",
     "output_type": "stream",
     "text": [
      "Epoch 1/5\n",
      "1500/1500 [==============================] - 8s 5ms/step - loss: 0.5650 - accuracy: 0.8075\n",
      "Epoch 2/5\n",
      "1500/1500 [==============================] - 7s 5ms/step - loss: 0.4081 - accuracy: 0.8525\n",
      "Epoch 3/5\n",
      "1500/1500 [==============================] - 7s 5ms/step - loss: 0.3751 - accuracy: 0.8660\n",
      "Epoch 4/5\n",
      "1500/1500 [==============================] - 7s 5ms/step - loss: 0.3515 - accuracy: 0.8733\n",
      "Epoch 5/5\n",
      "1500/1500 [==============================] - 7s 5ms/step - loss: 0.3343 - accuracy: 0.8794\n"
     ]
    },
    {
     "data": {
      "text/plain": [
       "<keras.callbacks.History at 0x134007cd610>"
      ]
     },
     "execution_count": 29,
     "metadata": {},
     "output_type": "execute_result"
    }
   ],
   "source": [
    "model.fit(train_scaled, train_target, epochs=5)"
   ]
  },
  {
   "cell_type": "code",
   "execution_count": 30,
   "metadata": {},
   "outputs": [
    {
     "name": "stdout",
     "output_type": "stream",
     "text": [
      "375/375 [==============================] - 1s 3ms/step - loss: 0.3566 - accuracy: 0.8681\n"
     ]
    },
    {
     "data": {
      "text/plain": [
       "[0.3565978705883026, 0.8680833578109741]"
      ]
     },
     "execution_count": 30,
     "metadata": {},
     "output_type": "execute_result"
    }
   ],
   "source": [
    "model.evaluate(val_scaled, val_target)"
   ]
  },
  {
   "cell_type": "markdown",
   "metadata": {},
   "source": [
    "### 심층신경망(DNN)\n",
    "\n",
    "- 딥러닝 : 딥러닝은 인공신경망과 거의 동의어로 사용되는 경우가 많으며 혹은 심층 신경망을 딥러닝이라고 부름. 심층 신경망은 여러 개의 층을 가진 인공 신경망임\n",
    "\n",
    "- 심층 신경망 : 2개 이상의 층을 포함한 신경망으로 종종 다층 인공신경망, 심층 신경망, 딥러닝을 같은 의미로 사용\n",
    "\n",
    "- 렐로 함수(Relu Function) : 입력이 양수일 경우 마치 활성화 함수가 없는 것처럼 그냥 입력을 통과시키고 음수일 경우에는 0으로 만드는 함수"
   ]
  },
  {
   "cell_type": "code",
   "execution_count": 2,
   "metadata": {},
   "outputs": [],
   "source": [
    "from tensorflow import keras\n",
    "from sklearn.model_selection import train_test_split\n",
    "\n",
    "(train_input, train_target), (test_input, test_target) = keras.datasets.fashion_mnist.load_data()\n",
    "\n",
    "train_scaled = train_input / 255.0 # 픽셀 값 정규화\n",
    "train_scaled = train_scaled.reshape(-1,28*28) # 28*28 2차원 배열 784 크기의 1차원 배열로 변환\n",
    "\n",
    "train_scaled, val_scaled, train_target, val_target = train_test_split(train_scaled, train_target, test_size=0.2, random_state=42)\n",
    "# train을 train과 validation으로 나누기"
   ]
  },
  {
   "cell_type": "code",
   "execution_count": 3,
   "metadata": {},
   "outputs": [
    {
     "name": "stdout",
     "output_type": "stream",
     "text": [
      "Model: \"sequential\"\n",
      "_________________________________________________________________\n",
      " Layer (type)                Output Shape              Param #   \n",
      "=================================================================\n",
      " dense (Dense)               (None, 100)               78500     \n",
      "                                                                 \n",
      " dense_1 (Dense)             (None, 10)                1010      \n",
      "                                                                 \n",
      "=================================================================\n",
      "Total params: 79,510\n",
      "Trainable params: 79,510\n",
      "Non-trainable params: 0\n",
      "_________________________________________________________________\n"
     ]
    }
   ],
   "source": [
    "# 층을 생성하는 방법, 각 밀집층 객체를 만들고 keras.Sequential에 인자로 전달\n",
    "\n",
    "dense1 = keras.layers.Dense(100, activation = 'sigmoid', input_shape = (784,))\n",
    "dense2 = keras.layers.Dense(10, activation = 'softmax') # 다중 선형 회귀 사용\n",
    "\n",
    "model = keras.Sequential([dense1, dense2])\n",
    "\n",
    "model.summary()"
   ]
  },
  {
   "cell_type": "markdown",
   "metadata": {},
   "source": [
    "- dense1이 입력층과 은닉층을 연결하는 밀집층, dense2는 은닉층과 출력층을 연결하는 밀집층\n",
    "\n",
    "- dense1에 몇 개의 뉴런을 둬야할지에 대한 판단은 상당한 경험을 요하나, 출력층 뉴런보다는 많이 만들어야 함\n",
    "\n",
    "- output shape의 첫 번째 차원이 None인 이유 : 케라스는 미니 배치 경사 하강법을 사용해서 입력 데이터에 따라 크기가 달라진다.\n",
    "\n",
    "- params는 각 층의 모델 파라미터 개수 / 78,500 => 입력층 노드 784개, 은닉층 노드 100개의 곱에 절편 100개를 더한 값"
   ]
  },
  {
   "cell_type": "code",
   "execution_count": 11,
   "metadata": {},
   "outputs": [
    {
     "name": "stdout",
     "output_type": "stream",
     "text": [
      "Model: \"패션 MINST 모델\"\n",
      "_________________________________________________________________\n",
      " Layer (type)                Output Shape              Param #   \n",
      "=================================================================\n",
      " hidden (Dense)              (None, 100)               78500     \n",
      "                                                                 \n",
      " output (Dense)              (None, 10)                1010      \n",
      "                                                                 \n",
      "=================================================================\n",
      "Total params: 79,510\n",
      "Trainable params: 79,510\n",
      "Non-trainable params: 0\n",
      "_________________________________________________________________\n"
     ]
    }
   ],
   "source": [
    "# 다른 방법 1\n",
    "\n",
    "model = keras.Sequential([\n",
    "    keras.layers.Dense(100,\n",
    "                       activation = 'sigmoid',\n",
    "                       input_shape = (784,),\n",
    "                       name = 'hidden'),\n",
    "    keras.layers.Dense(10,\n",
    "                       activation = 'softmax',\n",
    "                       name = 'output')\n",
    "], name = '패션 MINST 모델')\n",
    "\n",
    "model.summary()"
   ]
  },
  {
   "cell_type": "code",
   "execution_count": 32,
   "metadata": {},
   "outputs": [
    {
     "name": "stdout",
     "output_type": "stream",
     "text": [
      "Model: \"sequential_5\"\n",
      "_________________________________________________________________\n",
      " Layer (type)                Output Shape              Param #   \n",
      "=================================================================\n",
      " hidden (Dense)              (None, 100)               78500     \n",
      "                                                                 \n",
      " output (Dense)              (None, 10)                1010      \n",
      "                                                                 \n",
      "=================================================================\n",
      "Total params: 79,510\n",
      "Trainable params: 79,510\n",
      "Non-trainable params: 0\n",
      "_________________________________________________________________\n"
     ]
    }
   ],
   "source": [
    "# 다른 방법 2, add를 사용해 층이 많을 때 편리함\n",
    "\n",
    "model = keras.Sequential()\n",
    "model.add(keras.layers.Dense(100,\n",
    "                             activation = 'sigmoid',\n",
    "                             input_shape = (784,),\n",
    "                             name = 'hidden'))\n",
    "model.add(keras.layers.Dense(10,\n",
    "                             activation = 'softmax',\n",
    "                             name = 'output'))\n",
    "\n",
    "model.summary()"
   ]
  },
  {
   "cell_type": "code",
   "execution_count": 33,
   "metadata": {},
   "outputs": [
    {
     "name": "stdout",
     "output_type": "stream",
     "text": [
      "Epoch 1/5\n",
      "1500/1500 [==============================] - 8s 5ms/step - loss: 0.5665 - accuracy: 0.8069\n",
      "Epoch 2/5\n",
      "1500/1500 [==============================] - 7s 5ms/step - loss: 0.4090 - accuracy: 0.8535\n",
      "Epoch 3/5\n",
      "1500/1500 [==============================] - 7s 5ms/step - loss: 0.3743 - accuracy: 0.8653\n",
      "Epoch 4/5\n",
      "1500/1500 [==============================] - 7s 5ms/step - loss: 0.3504 - accuracy: 0.8738\n",
      "Epoch 5/5\n",
      "1500/1500 [==============================] - 7s 4ms/step - loss: 0.3340 - accuracy: 0.8795\n"
     ]
    },
    {
     "data": {
      "text/plain": [
       "<keras.callbacks.History at 0x13409dc50d0>"
      ]
     },
     "execution_count": 33,
     "metadata": {},
     "output_type": "execute_result"
    }
   ],
   "source": [
    "model.compile(loss = 'sparse_categorical_crossentropy', metrics='accuracy')\n",
    "# binary_categorical_crossentropy : 이진 분류\n",
    "# sparse_categorical_crossentropy : 삼진 분류 이상\n",
    "\n",
    "model.fit(train_scaled, train_target, epochs=5)"
   ]
  },
  {
   "cell_type": "code",
   "execution_count": 34,
   "metadata": {},
   "outputs": [
    {
     "name": "stdout",
     "output_type": "stream",
     "text": [
      "375/375 [==============================] - 1s 3ms/step - loss: 0.3525 - accuracy: 0.8738\n"
     ]
    },
    {
     "data": {
      "text/plain": [
       "[0.3525139093399048, 0.8738333582878113]"
      ]
     },
     "execution_count": 34,
     "metadata": {},
     "output_type": "execute_result"
    }
   ],
   "source": [
    "model.evaluate(val_scaled, val_target)"
   ]
  },
  {
   "cell_type": "markdown",
   "metadata": {},
   "source": [
    "### 옵티마이저"
   ]
  },
  {
   "cell_type": "markdown",
   "metadata": {},
   "source": [
    "- flatten : 데이터를 1차원 배열로 바꿔주는 메서드, 입력차원을 일렬로 배치하는 역할만 함, 학습층이 아니고 모델 파라미터 개수도 0\n",
    "\n",
    "- sigmoid의 단점 : 양 끝으로 갈수록 그래프가 누워있어서 올바른 출력을 만드는데 신속하게 대응하지 못함, 특히 층이 길어질수록 학습을 더 어렵게 만듦."
   ]
  },
  {
   "cell_type": "code",
   "execution_count": 3,
   "metadata": {},
   "outputs": [
    {
     "name": "stdout",
     "output_type": "stream",
     "text": [
      "Model: \"sequential\"\n",
      "_________________________________________________________________\n",
      " Layer (type)                Output Shape              Param #   \n",
      "=================================================================\n",
      " flatten (Flatten)           (None, 784)               0         \n",
      "                                                                 \n",
      " dense (Dense)               (None, 100)               78500     \n",
      "                                                                 \n",
      " dense_1 (Dense)             (None, 10)                1010      \n",
      "                                                                 \n",
      "=================================================================\n",
      "Total params: 79,510\n",
      "Trainable params: 79,510\n",
      "Non-trainable params: 0\n",
      "_________________________________________________________________\n"
     ]
    }
   ],
   "source": [
    "model = keras.Sequential()\n",
    "model.add(keras.layers.Flatten(input_shape=(28,28)))\n",
    "model.add(keras.layers.Dense(100, activation = 'relu')) # sigmoid에서 relu로 변경\n",
    "model.add(keras.layers.Dense(10, activation = 'softmax'))\n",
    "\n",
    "model.summary()"
   ]
  },
  {
   "cell_type": "code",
   "execution_count": 6,
   "metadata": {},
   "outputs": [],
   "source": [
    "# 표준화 작업 및 데이터 분할\n",
    "\n",
    "(train_input, train_target), (test_input, test_target) = keras.datasets.fashion_mnist.load_data()\n",
    "\n",
    "train_scaled = train_input / 255.0\n",
    "train_scaled, val_scaled, train_target, val_target = train_test_split(train_scaled, train_target, test_size = 0.2, random_state=42)"
   ]
  },
  {
   "cell_type": "code",
   "execution_count": 7,
   "metadata": {},
   "outputs": [
    {
     "name": "stdout",
     "output_type": "stream",
     "text": [
      "Epoch 1/5\n",
      "1500/1500 [==============================] - 10s 6ms/step - loss: 0.5281 - accuracy: 0.8126\n",
      "Epoch 2/5\n",
      "1500/1500 [==============================] - 9s 6ms/step - loss: 0.3910 - accuracy: 0.8585\n",
      "Epoch 3/5\n",
      "1500/1500 [==============================] - 7s 5ms/step - loss: 0.3562 - accuracy: 0.8708\n",
      "Epoch 4/5\n",
      "1500/1500 [==============================] - 7s 5ms/step - loss: 0.3347 - accuracy: 0.8797\n",
      "Epoch 5/5\n",
      "1500/1500 [==============================] - 7s 5ms/step - loss: 0.3213 - accuracy: 0.8856\n",
      "375/375 [==============================] - 1s 2ms/step - loss: 0.3627 - accuracy: 0.8764\n"
     ]
    },
    {
     "data": {
      "text/plain": [
       "[0.36269161105155945, 0.8764166831970215]"
      ]
     },
     "execution_count": 7,
     "metadata": {},
     "output_type": "execute_result"
    }
   ],
   "source": [
    "model.compile(loss = 'sparse_categorical_crossentropy', metrics='accuracy')\n",
    "model.fit(train_scaled, train_target, epochs=5)\n",
    "model.evaluate(val_scaled, val_target)\n",
    "\n",
    "# 최초 ANN보다 정확도 향상 확인"
   ]
  },
  {
   "cell_type": "code",
   "execution_count": 38,
   "metadata": {},
   "outputs": [
    {
     "name": "stdout",
     "output_type": "stream",
     "text": [
      "Epoch 1/5\n",
      "1500/1500 [==============================] - 7s 5ms/step - loss: 0.5202 - accuracy: 0.8176\n",
      "Epoch 2/5\n",
      "1500/1500 [==============================] - 7s 5ms/step - loss: 0.3898 - accuracy: 0.8608\n",
      "Epoch 3/5\n",
      "1500/1500 [==============================] - 7s 5ms/step - loss: 0.3502 - accuracy: 0.8745\n",
      "Epoch 4/5\n",
      "1500/1500 [==============================] - 6s 4ms/step - loss: 0.3253 - accuracy: 0.8823\n",
      "Epoch 5/5\n",
      "1500/1500 [==============================] - 7s 4ms/step - loss: 0.3080 - accuracy: 0.8863\n"
     ]
    },
    {
     "data": {
      "text/plain": [
       "<keras.callbacks.History at 0x134040a2ee0>"
      ]
     },
     "execution_count": 38,
     "metadata": {},
     "output_type": "execute_result"
    }
   ],
   "source": [
    "# Adam : 옵티마이저의 일종, 모멘텀 최적화와 RMSprop의 장점을 접목\n",
    "\n",
    "model = keras.Sequential()\n",
    "model.add(keras.layers.Flatten(input_shape=(28,28)))\n",
    "model.add(keras.layers.Dense(100, activation = 'relu'))\n",
    "model.add(keras.layers.Dense(10, activation = 'softmax'))\n",
    "\n",
    "model.compile(optimizer='adam',\n",
    "              loss = 'sparse_categorical_crossentropy', \n",
    "              metrics='accuracy' )\n",
    "model.fit(train_scaled, train_target, epochs=5)"
   ]
  },
  {
   "cell_type": "code",
   "execution_count": 8,
   "metadata": {},
   "outputs": [
    {
     "name": "stdout",
     "output_type": "stream",
     "text": [
      "375/375 [==============================] - 1s 3ms/step - loss: 0.3627 - accuracy: 0.8764\n"
     ]
    },
    {
     "data": {
      "text/plain": [
       "[0.36269161105155945, 0.8764166831970215]"
      ]
     },
     "execution_count": 8,
     "metadata": {},
     "output_type": "execute_result"
    }
   ],
   "source": [
    "model.evaluate(val_scaled, val_target)\n",
    "\n",
    "# 최초 ANN보다 정확도 향상 확인 (0.868 -> 0.879)"
   ]
  },
  {
   "cell_type": "markdown",
   "metadata": {},
   "source": [
    "### 히스토리와 손실 곡선"
   ]
  },
  {
   "cell_type": "code",
   "execution_count": 4,
   "metadata": {},
   "outputs": [],
   "source": [
    "# 신경망 모델에 레이어를 추가하는 함수\n",
    "\n",
    "def model_fn(a_layer=None):\n",
    "    model = keras.Sequential()\n",
    "    model.add(keras.layers.Flatten(input_shape = (28,28)))\n",
    "    model.add(keras.layers.Dense(100, activation = 'relu'))\n",
    "    if a_layer:\n",
    "        model.add(a_layer)\n",
    "    model.add(keras.layers.Dense(10, activation = 'softmax'))\n",
    "    return model"
   ]
  },
  {
   "cell_type": "code",
   "execution_count": 12,
   "metadata": {},
   "outputs": [
    {
     "data": {
      "image/png": "[encoded data removed]",
      "text/plain": [
       "<Figure size 432x288 with 1 Axes>"
      ]
     },
     "metadata": {
      "needs_background": "light"
     },
     "output_type": "display_data"
    }
   ],
   "source": [
    "model = model_fn()\n",
    "model.compile(optimizer = 'adam',loss = 'sparse_categorical_crossentropy', metrics='accuracy')\n",
    "history = model.fit(train_scaled, train_target, epochs=5, verbose=0)\n",
    "\n",
    "# verbose = 0을 사용하면 훈련 과정 출력 X\n",
    "\n",
    "import matplotlib.pyplot as plt\n",
    "plt.plot(history.history['loss'])\n",
    "plt.xlabel('epoch')\n",
    "plt.ylabel('loss')\n",
    "plt.show()"
   ]
  },
  {
   "cell_type": "code",
   "execution_count": 13,
   "metadata": {},
   "outputs": [
    {
     "name": "stdout",
     "output_type": "stream",
     "text": [
      "dict_keys(['loss', 'accuracy'])\n"
     ]
    }
   ],
   "source": [
    "print(history.history.keys())"
   ]
  },
  {
   "cell_type": "code",
   "execution_count": 14,
   "metadata": {},
   "outputs": [
    {
     "data": {
      "image/png": "[encoded data removed]",
      "text/plain": [
       "<Figure size 432x288 with 1 Axes>"
      ]
     },
     "metadata": {
      "needs_background": "light"
     },
     "output_type": "display_data"
    }
   ],
   "source": [
    "plt.plot(history.history['accuracy'])\n",
    "plt.xlabel('epoch')\n",
    "plt.ylabel('accuracy')\n",
    "plt.show()"
   ]
  },
  {
   "cell_type": "code",
   "execution_count": 15,
   "metadata": {},
   "outputs": [
    {
     "data": {
      "image/png": "[encoded data removed]",
      "text/plain": [
       "<Figure size 432x288 with 1 Axes>"
      ]
     },
     "metadata": {
      "needs_background": "light"
     },
     "output_type": "display_data"
    }
   ],
   "source": [
    "# 에폭을 늘려서 손실 변화도 확인\n",
    "\n",
    "model = model_fn()\n",
    "model.compile(optimizer = 'adam',loss = 'sparse_categorical_crossentropy', metrics='accuracy')\n",
    "history = model.fit(train_scaled, train_target, epochs=20, verbose=0)\n",
    "\n",
    "import matplotlib.pyplot as plt\n",
    "plt.plot(history.history['loss'])\n",
    "plt.xlabel('epoch')\n",
    "plt.ylabel('loss')\n",
    "plt.show()\n",
    "\n",
    "# 손실이 감소함을 확인"
   ]
  },
  {
   "cell_type": "markdown",
   "metadata": {},
   "source": [
    "### 검증 손실"
   ]
  },
  {
   "cell_type": "code",
   "execution_count": 18,
   "metadata": {},
   "outputs": [
    {
     "name": "stdout",
     "output_type": "stream",
     "text": [
      "Epoch 1/20\n",
      "1500/1500 [==============================] - 10s 6ms/step - loss: 0.5302 - accuracy: 0.8116 - val_loss: 0.5604 - val_accuracy: 0.8061\n",
      "Epoch 2/20\n",
      "1500/1500 [==============================] - 9s 6ms/step - loss: 0.3935 - accuracy: 0.8590 - val_loss: 0.3977 - val_accuracy: 0.8611\n",
      "Epoch 3/20\n",
      "1500/1500 [==============================] - 8s 6ms/step - loss: 0.3544 - accuracy: 0.8724 - val_loss: 0.3950 - val_accuracy: 0.8635\n",
      "Epoch 4/20\n",
      "1500/1500 [==============================] - 8s 5ms/step - loss: 0.3339 - accuracy: 0.8803 - val_loss: 0.3581 - val_accuracy: 0.8756\n",
      "Epoch 5/20\n",
      "1500/1500 [==============================] - 8s 5ms/step - loss: 0.3191 - accuracy: 0.8859 - val_loss: 0.3544 - val_accuracy: 0.8786\n",
      "Epoch 6/20\n",
      "1500/1500 [==============================] - 8s 5ms/step - loss: 0.3099 - accuracy: 0.8905 - val_loss: 0.3831 - val_accuracy: 0.8764\n",
      "Epoch 7/20\n",
      "1500/1500 [==============================] - 8s 5ms/step - loss: 0.2999 - accuracy: 0.8944 - val_loss: 0.3756 - val_accuracy: 0.8760\n",
      "Epoch 8/20\n",
      "1500/1500 [==============================] - 9s 6ms/step - loss: 0.2929 - accuracy: 0.8961 - val_loss: 0.3715 - val_accuracy: 0.8826\n",
      "Epoch 9/20\n",
      "1500/1500 [==============================] - 7s 5ms/step - loss: 0.2839 - accuracy: 0.9006 - val_loss: 0.3869 - val_accuracy: 0.8784\n",
      "Epoch 10/20\n",
      "1500/1500 [==============================] - 7s 5ms/step - loss: 0.2787 - accuracy: 0.9021 - val_loss: 0.3859 - val_accuracy: 0.8788\n",
      "Epoch 11/20\n",
      "1500/1500 [==============================] - 8s 5ms/step - loss: 0.2710 - accuracy: 0.9057 - val_loss: 0.3903 - val_accuracy: 0.8767\n",
      "Epoch 12/20\n",
      "1500/1500 [==============================] - 7s 5ms/step - loss: 0.2665 - accuracy: 0.9075 - val_loss: 0.4045 - val_accuracy: 0.8806\n",
      "Epoch 13/20\n",
      "1500/1500 [==============================] - 8s 5ms/step - loss: 0.2597 - accuracy: 0.9086 - val_loss: 0.4032 - val_accuracy: 0.8823\n",
      "Epoch 14/20\n",
      "1500/1500 [==============================] - 9s 6ms/step - loss: 0.2545 - accuracy: 0.9122 - val_loss: 0.4192 - val_accuracy: 0.8751\n",
      "Epoch 15/20\n",
      "1500/1500 [==============================] - 9s 6ms/step - loss: 0.2512 - accuracy: 0.9135 - val_loss: 0.4272 - val_accuracy: 0.8804\n",
      "Epoch 16/20\n",
      "1500/1500 [==============================] - 9s 6ms/step - loss: 0.2492 - accuracy: 0.9146 - val_loss: 0.4380 - val_accuracy: 0.8793\n",
      "Epoch 17/20\n",
      "1500/1500 [==============================] - 9s 6ms/step - loss: 0.2433 - accuracy: 0.9181 - val_loss: 0.4248 - val_accuracy: 0.8803\n",
      "Epoch 18/20\n",
      "1500/1500 [==============================] - 9s 6ms/step - loss: 0.2388 - accuracy: 0.9187 - val_loss: 0.4540 - val_accuracy: 0.8832\n",
      "Epoch 19/20\n",
      "1500/1500 [==============================] - 8s 5ms/step - loss: 0.2373 - accuracy: 0.9206 - val_loss: 0.4584 - val_accuracy: 0.8831\n",
      "Epoch 20/20\n",
      "1500/1500 [==============================] - 9s 6ms/step - loss: 0.2316 - accuracy: 0.9228 - val_loss: 0.4842 - val_accuracy: 0.8813\n"
     ]
    }
   ],
   "source": [
    "model = model_fn()\n",
    "model.compile(loss = 'sparse_categorical_crossentropy', metrics='accuracy')\n",
    "history = model.fit(train_scaled, train_target, epochs=20, validation_data = (val_scaled, val_target))"
   ]
  },
  {
   "cell_type": "code",
   "execution_count": 19,
   "metadata": {},
   "outputs": [
    {
     "name": "stdout",
     "output_type": "stream",
     "text": [
      "dict_keys(['loss', 'accuracy', 'val_loss', 'val_accuracy'])\n"
     ]
    }
   ],
   "source": [
    "print(history.history.keys())"
   ]
  },
  {
   "cell_type": "code",
   "execution_count": 20,
   "metadata": {},
   "outputs": [
    {
     "data": {
      "image/png": "[encoded data removed]",
      "text/plain": [
       "<Figure size 432x288 with 1 Axes>"
      ]
     },
     "metadata": {
      "needs_background": "light"
     },
     "output_type": "display_data"
    }
   ],
   "source": [
    "# 훈련 데이터와 검증 데이터의 손실 곡선 확인\n",
    "\n",
    "plt.plot(history.history['loss'])\n",
    "plt.plot(history.history['val_loss'])\n",
    "plt.xlabel('epoch')\n",
    "plt.ylabel('loss')\n",
    "plt.legend(['train','val'])\n",
    "plt.show()"
   ]
  },
  {
   "cell_type": "markdown",
   "metadata": {},
   "source": [
    "- 다섯 번째 에폭 이후 과적합 발생"
   ]
  },
  {
   "cell_type": "code",
   "execution_count": 23,
   "metadata": {},
   "outputs": [
    {
     "data": {
      "image/png": "[encoded data removed]",
      "text/plain": [
       "<Figure size 432x288 with 1 Axes>"
      ]
     },
     "metadata": {
      "needs_background": "light"
     },
     "output_type": "display_data"
    }
   ],
   "source": [
    "# 옵티마이저 하이퍼 파라미터 조정으로 과대적합 완화\n",
    "\n",
    "model = model_fn()\n",
    "adam = keras.optimizers.Adam(learning_rate=0.001)\n",
    "\n",
    "model.compile(optimizer='adam', loss = 'sparse_categorical_crossentropy', metrics = 'accuracy')\n",
    "history = model.fit(train_scaled, train_target, epochs = 20, validation_data=(val_scaled, val_target), verbose = 0)\n",
    "\n",
    "plt.plot(history.history['loss'])\n",
    "plt.plot(history.history['val_loss'])\n",
    "plt.xlabel('epoch')\n",
    "plt.ylabel('loss')\n",
    "plt.legend(['train','val'])\n",
    "plt.show()\n"
   ]
  },
  {
   "cell_type": "markdown",
   "metadata": {},
   "source": [
    "- 이전과 비교해 과대적합 감소 확인\n",
    "- RMSprop은 많은 문제에서 잘 작동하지만, 다른 옵티마이저를 사용한다면 Adam이 좋은 선택\n",
    "- Adam은 적응적 학습률을 사용, 에폭이 진행되면서 학습률의 크기 조정 가능"
   ]
  },
  {
   "cell_type": "markdown",
   "metadata": {},
   "source": [
    "### 드롭아웃\n",
    "\n",
    "- 훈련 과정에서 층에 있는 일부 뉴런을 랜덤하게 꺼서(뉴런의 출력을 0으로 만들어) 과대적합 방지\n",
    "- 일부 뉴런이 랜덤하게 꺼지면 특정 뉴런에 과대하게 의존하는 것을 줄일 수 있고, 모든 입력에 주의를 기울어야 함"
   ]
  },
  {
   "cell_type": "code",
   "execution_count": 32,
   "metadata": {},
   "outputs": [
    {
     "name": "stdout",
     "output_type": "stream",
     "text": [
      "Model: \"sequential_16\"\n",
      "_________________________________________________________________\n",
      " Layer (type)                Output Shape              Param #   \n",
      "=================================================================\n",
      " flatten_15 (Flatten)        (None, 784)               0         \n",
      "                                                                 \n",
      " dense_32 (Dense)            (None, 100)               78500     \n",
      "                                                                 \n",
      " dropout_5 (Dropout)         (None, 100)               0         \n",
      "                                                                 \n",
      " dense_33 (Dense)            (None, 10)                1010      \n",
      "                                                                 \n",
      "=================================================================\n",
      "Total params: 79,510\n",
      "Trainable params: 79,510\n",
      "Non-trainable params: 0\n",
      "_________________________________________________________________\n"
     ]
    }
   ],
   "source": [
    "model = model_fn(keras.layers.Dropout(0.3))\n",
    "model.summary()"
   ]
  },
  {
   "cell_type": "code",
   "execution_count": 33,
   "metadata": {},
   "outputs": [
    {
     "data": {
      "image/png": "[encoded data removed]",
      "text/plain": [
       "<Figure size 432x288 with 1 Axes>"
      ]
     },
     "metadata": {
      "needs_background": "light"
     },
     "output_type": "display_data"
    }
   ],
   "source": [
    "model.compile(optimizer='adam', loss ='sparse_categorical_crossentropy', metrics='accuracy')\n",
    "history = model.fit(train_scaled, train_target, epochs=20, validation_data=(val_scaled,val_target), verbose = 0)\n",
    "plt.plot(history.history['loss'])\n",
    "plt.plot(history.history['val_loss'])\n",
    "plt.xlabel('epoch')\n",
    "plt.ylabel('loss')\n",
    "plt.legend(['train','val'])\n",
    "plt.show()"
   ]
  },
  {
   "cell_type": "markdown",
   "metadata": {},
   "source": [
    "- Dropout 적용 이전보다 과대적합 감소 확인"
   ]
  },
  {
   "cell_type": "markdown",
   "metadata": {},
   "source": [
    "### 모델 저장과 복원"
   ]
  },
  {
   "cell_type": "code",
   "execution_count": 35,
   "metadata": {},
   "outputs": [],
   "source": [
    "model.save_weights('model-weight.h5')\n",
    "model.save('model-whole.h5')"
   ]
  },
  {
   "cell_type": "code",
   "execution_count": 36,
   "metadata": {},
   "outputs": [],
   "source": [
    "model = model_fn(keras.layers.Dropout(0.3))\n",
    "model.load_weights('model-weight.h5')"
   ]
  },
  {
   "cell_type": "code",
   "execution_count": 37,
   "metadata": {},
   "outputs": [
    {
     "name": "stdout",
     "output_type": "stream",
     "text": [
      "375/375 [==============================] - 1s 3ms/step\n",
      "0.8853333333333333\n"
     ]
    }
   ],
   "source": [
    "import numpy as np\n",
    "\n",
    "val_labels = np.argmax(model.predict(val_scaled),axis = 1) \n",
    "# 모델 결과에서 가장 큰 값 선택, axis = 1은 배열의 마지막 차원을 따라 최댓값을 고름\n",
    "# 검증 세트는 2차원 배열이기 때문에 마지막 차원은 1이 됨.\n",
    "\n",
    "print(np.mean(val_labels == val_target))"
   ]
  },
  {
   "cell_type": "code",
   "execution_count": 38,
   "metadata": {},
   "outputs": [
    {
     "name": "stdout",
     "output_type": "stream",
     "text": [
      "375/375 [==============================] - 1s 3ms/step - loss: 0.3237 - accuracy: 0.8853\n"
     ]
    },
    {
     "data": {
      "text/plain": [
       "[0.3236721456050873, 0.8853333592414856]"
      ]
     },
     "execution_count": 38,
     "metadata": {},
     "output_type": "execute_result"
    }
   ],
   "source": [
    "model = keras.models.load_model('model-whole.h5')\n",
    "model.evaluate(val_scaled, val_target)"
   ]
  },
  {
   "cell_type": "markdown",
   "metadata": {},
   "source": [
    "### 9.28 수업"
   ]
  },
  {
   "cell_type": "code",
   "execution_count": 2,
   "metadata": {},
   "outputs": [],
   "source": [
    "from tensorflow import keras\n",
    "from sklearn.model_selection import train_test_split\n",
    "\n",
    "(train_input, train_target), (test_input, test_target) = keras.datasets.fashion_mnist.load_data()\n",
    "\n",
    "train_scaled = train_input / 255.0 # 픽셀 값 정규화\n",
    "train_scaled = train_scaled.reshape(-1,28*28) # 28*28 2차원 배열 784 크기의 1차원 배열로 변환\n",
    "\n",
    "train_scaled, val_scaled, train_target, val_target = train_test_split(train_scaled, train_target, test_size=0.2, random_state=42)\n",
    "# train을 train과 validation으로 나누기"
   ]
  },
  {
   "cell_type": "code",
   "execution_count": 6,
   "metadata": {},
   "outputs": [],
   "source": [
    "# 모델에 층을 추가하는 방법 1\n",
    "\n",
    "dense1 = keras.layers.Dense(100, activation = 'sigmoid', input_shape = (784,))\n",
    "# dense1은 은닉층으로, 100개의 뉴런을 가짐, 활성화 함수를 sigmoid로 지정, input 매개변수에서 입력 크기를 784로 지정\n",
    "# 은닉층의 뉴런 개수를 정하는데 특별한 기준은 없으나 몇 개의 뉴런을 둬야할지 결정하는 것은 경험이 필요, 단 은닉층의 뉴런 개수는 적어도 출력층의 뉴런보다 많아야 함"
   ]
  },
  {
   "cell_type": "code",
   "execution_count": 7,
   "metadata": {},
   "outputs": [],
   "source": [
    "dense2 = keras.layers.Dense(10, activation = 'softmax')\n",
    "# 출력층, 10개의 클래스를 분류하므로 10개의 뉴런을 두었고 활성화 함수는 softmax로 지정"
   ]
  },
  {
   "cell_type": "code",
   "execution_count": 8,
   "metadata": {},
   "outputs": [
    {
     "name": "stdout",
     "output_type": "stream",
     "text": [
      "Model: \"sequential_1\"\n",
      "_________________________________________________________________\n",
      " Layer (type)                Output Shape              Param #   \n",
      "=================================================================\n",
      " dense_3 (Dense)             (None, 100)               78500     \n",
      "                                                                 \n",
      " dense_4 (Dense)             (None, 10)                1010      \n",
      "                                                                 \n",
      "=================================================================\n",
      "Total params: 79,510\n",
      "Trainable params: 79,510\n",
      "Non-trainable params: 0\n",
      "_________________________________________________________________\n"
     ]
    }
   ],
   "source": [
    "model = keras.Sequential([dense1, dense2])\n",
    "model.summary()\n",
    "\n",
    "# 케라스 모델의 fit 메서드에 훈련 데이터를 주입하면 이 데이터를 잘게 나누어 여러번 걸쳐 경사 하강법 단계를 수행\n",
    "# 미니배치 경사 하강법으로, 기본 미니배치 크기는 32개"
   ]
  },
  {
   "cell_type": "code",
   "execution_count": 9,
   "metadata": {},
   "outputs": [
    {
     "name": "stdout",
     "output_type": "stream",
     "text": [
      "Model: \"MINST Model\"\n",
      "_________________________________________________________________\n",
      " Layer (type)                Output Shape              Param #   \n",
      "=================================================================\n",
      " hidden (Dense)              (None, 100)               78500     \n",
      "                                                                 \n",
      " output (Dense)              (None, 10)                1010      \n",
      "                                                                 \n",
      "=================================================================\n",
      "Total params: 79,510\n",
      "Trainable params: 79,510\n",
      "Non-trainable params: 0\n",
      "_________________________________________________________________\n"
     ]
    }
   ],
   "source": [
    "# 모델에 층을 추가하는 방법 2\n",
    "\n",
    "model2 = keras.Sequential(\n",
    "    [\n",
    "    keras.layers.Dense(100, activation = 'sigmoid', input_shape =(784,), name = 'hidden'),\n",
    "    keras.layers.Dense(10, activation = 'softmax', name = 'output')\n",
    "    ],\n",
    "    name = 'MINST Model'\n",
    ")\n",
    "\n",
    "model2.summary()"
   ]
  },
  {
   "cell_type": "code",
   "execution_count": 10,
   "metadata": {},
   "outputs": [
    {
     "name": "stdout",
     "output_type": "stream",
     "text": [
      "Model: \"sequential_2\"\n",
      "_________________________________________________________________\n",
      " Layer (type)                Output Shape              Param #   \n",
      "=================================================================\n",
      " dense_5 (Dense)             (None, 100)               78500     \n",
      "                                                                 \n",
      " dense_6 (Dense)             (None, 10)                1010      \n",
      "                                                                 \n",
      "=================================================================\n",
      "Total params: 79,510\n",
      "Trainable params: 79,510\n",
      "Non-trainable params: 0\n",
      "_________________________________________________________________\n"
     ]
    }
   ],
   "source": [
    "model3 = keras.Sequential()\n",
    "\n",
    "model3.add(keras.layers.Dense(100, activation = 'sigmoid', input_shape = (784,)))\n",
    "model3.add(keras.layers.Dense(10, activation = 'softmax'))\n",
    "\n",
    "model3.summary()"
   ]
  },
  {
   "cell_type": "code",
   "execution_count": 12,
   "metadata": {},
   "outputs": [
    {
     "data": {
      "text/plain": [
       "<keras.callbacks.History at 0x2328014cd90>"
      ]
     },
     "execution_count": 12,
     "metadata": {},
     "output_type": "execute_result"
    }
   ],
   "source": [
    "model3.compile(loss = 'sparse_categorical_crossentropy', metrics='accuracy')\n",
    "model3.fit(train_scaled, train_target, epochs = 10, verbose = 0, batch_size=20)"
   ]
  },
  {
   "cell_type": "code",
   "execution_count": 14,
   "metadata": {},
   "outputs": [
    {
     "name": "stdout",
     "output_type": "stream",
     "text": [
      "375/375 [==============================] - 2s 3ms/step - loss: 0.3370 - accuracy: 0.8850\n"
     ]
    },
    {
     "data": {
      "text/plain": [
       "[0.33701005578041077, 0.8849999904632568]"
      ]
     },
     "execution_count": 14,
     "metadata": {},
     "output_type": "execute_result"
    }
   ],
   "source": [
    "model3.evaluate(val_scaled, val_target)"
   ]
  },
  {
   "cell_type": "markdown",
   "metadata": {},
   "source": [
    "## 9.30 수업"
   ]
  },
  {
   "cell_type": "markdown",
   "metadata": {},
   "source": [
    "### 신경망 모델 훈련\n",
    "\n",
    "- 드롭아웃 : 훈련과정에서 층에 있는 일부 뉴런을 랜덤하게 껴서(즉, 뉴런의 출력을 0으로 만들어) 과대적합을 막음\n",
    "\n",
    "- 콜백 : 케라스에서 훈련 과정 중간에 어떤 작업을 수행할 수 있게 하는 객체로 keras, callbacks 패키지 아래에 있는 클래스로 fit() 메서드의 callback 매개변수에 리스트로 전달하여 사용\n",
    "\n",
    "- 적응적 학습률 :"
   ]
  },
  {
   "cell_type": "code",
   "execution_count": 10,
   "metadata": {},
   "outputs": [],
   "source": [
    "from tensorflow import keras\n",
    "from sklearn.model_selection import train_test_split\n",
    "import matplotlib.pyplot as plt\n",
    "\n",
    "(train_input, train_target), (test_input, test_target) = keras.datasets.fashion_mnist.load_data()\n",
    "\n",
    "train_scaled = train_input / 255.0 \n",
    "\n",
    "train_scaled, val_scaled, train_target, val_target = train_test_split(train_scaled, train_target, test_size=0.2, random_state=42)"
   ]
  },
  {
   "cell_type": "code",
   "execution_count": 11,
   "metadata": {},
   "outputs": [
    {
     "name": "stdout",
     "output_type": "stream",
     "text": [
      "Model: \"sequential_3\"\n",
      "_________________________________________________________________\n",
      " Layer (type)                Output Shape              Param #   \n",
      "=================================================================\n",
      " flatten_3 (Flatten)         (None, 784)               0         \n",
      "                                                                 \n",
      " dense_6 (Dense)             (None, 100)               78500     \n",
      "                                                                 \n",
      " dense_7 (Dense)             (None, 10)                1010      \n",
      "                                                                 \n",
      "=================================================================\n",
      "Total params: 79,510\n",
      "Trainable params: 79,510\n",
      "Non-trainable params: 0\n",
      "_________________________________________________________________\n"
     ]
    }
   ],
   "source": [
    "# 모델 만들기 - 사용자 정의 함수\n",
    "# a_layer의 default는 None\n",
    "\n",
    "def model_fn(a_layer = None):\n",
    "    model = keras.Sequential()\n",
    "    model.add(keras.layers.Flatten(input_shape = (28,28)))\n",
    "    model.add(keras.layers.Dense(100, activation = 'relu'))\n",
    "    if a_layer:\n",
    "        model.add(a_layer)\n",
    "    # if 구문의 역할은 model_fn() 함수에 (a_layer 매개변수로) 케라스 층을 추가하면 은닉층 뒤에 또 하나의 층을 추가\n",
    "    model.add(keras.layers.Dense(10, activation = 'softmax'))\n",
    "    return model\n",
    "    \n",
    "# 여기서는 a_layer 매개변수로 층을 추가하지 않고 단순하게 model_fn() 함수를 호출\n",
    "# 모델 구조를 출력하면 이전 절과 동일한 모델구조임을 확인\n",
    "\n",
    "model = model_fn()\n",
    "model.summary()\n"
   ]
  },
  {
   "cell_type": "code",
   "execution_count": 37,
   "metadata": {},
   "outputs": [
    {
     "name": "stdout",
     "output_type": "stream",
     "text": [
      "Epoch 1/5\n",
      "1500/1500 [==============================] - 7s 4ms/step - loss: 0.2591 - accuracy: 0.9109\n",
      "Epoch 2/5\n",
      "1500/1500 [==============================] - 7s 5ms/step - loss: 0.2546 - accuracy: 0.9122\n",
      "Epoch 3/5\n",
      "1500/1500 [==============================] - 7s 5ms/step - loss: 0.2473 - accuracy: 0.9146\n",
      "Epoch 4/5\n",
      "1500/1500 [==============================] - 6s 4ms/step - loss: 0.2419 - accuracy: 0.9169\n",
      "Epoch 5/5\n",
      "1500/1500 [==============================] - 6s 4ms/step - loss: 0.2373 - accuracy: 0.9178\n"
     ]
    }
   ],
   "source": [
    "model.compile(loss = 'sparse_categorical_crossentropy', metrics = 'accuracy')\n",
    "history = model.fit(train_scaled, train_target, epochs = 5, verbose = 1)"
   ]
  },
  {
   "cell_type": "code",
   "execution_count": 46,
   "metadata": {},
   "outputs": [
    {
     "name": "stdout",
     "output_type": "stream",
     "text": [
      "dict_keys(['loss', 'accuracy'])\n",
      "[0.910854160785675, 0.9121666550636292, 0.9145833253860474, 0.9169374704360962, 0.9177916646003723]\n",
      "[0.2590738832950592, 0.25456497073173523, 0.24732568860054016, 0.24190294742584229, 0.23726911842823029]\n"
     ]
    }
   ],
   "source": [
    "print(history.history.keys())\n",
    "print(history.history['accuracy'])\n",
    "print(history.history['loss'])\n",
    "\n",
    "# 케라스는 기본적으로 에폭마다 손실 계산\n",
    "# 정확도는 compile() 메서드에서 metrics 매개변수에 accuracy를 추가했기 때문에 history 속성에 포함"
   ]
  },
  {
   "cell_type": "code",
   "execution_count": 52,
   "metadata": {},
   "outputs": [
    {
     "data": {
      "text/plain": [
       "['Solarize_Light2',\n",
       " '_classic_test_patch',\n",
       " '_mpl-gallery',\n",
       " '_mpl-gallery-nogrid',\n",
       " 'bmh',\n",
       " 'classic',\n",
       " 'dark_background',\n",
       " 'fast',\n",
       " 'fivethirtyeight',\n",
       " 'ggplot',\n",
       " 'grayscale',\n",
       " 'seaborn',\n",
       " 'seaborn-bright',\n",
       " 'seaborn-colorblind',\n",
       " 'seaborn-dark',\n",
       " 'seaborn-dark-palette',\n",
       " 'seaborn-darkgrid',\n",
       " 'seaborn-deep',\n",
       " 'seaborn-muted',\n",
       " 'seaborn-notebook',\n",
       " 'seaborn-paper',\n",
       " 'seaborn-pastel',\n",
       " 'seaborn-poster',\n",
       " 'seaborn-talk',\n",
       " 'seaborn-ticks',\n",
       " 'seaborn-white',\n",
       " 'seaborn-whitegrid',\n",
       " 'tableau-colorblind10']"
      ]
     },
     "execution_count": 52,
     "metadata": {},
     "output_type": "execute_result"
    }
   ],
   "source": [
    "plt.style.available"
   ]
  },
  {
   "cell_type": "code",
   "execution_count": 58,
   "metadata": {},
   "outputs": [
    {
     "data": {
      "image/png": "[encoded data removed]",
      "text/plain": [
       "<Figure size 1008x720 with 1 Axes>"
      ]
     },
     "metadata": {},
     "output_type": "display_data"
    }
   ],
   "source": [
    "plt.figure(figsize=(14,10))\n",
    "plt.plot(history.history['loss'])\n",
    "plt.xlabel('epoch')\n",
    "plt.ylabel('loss')\n",
    "plt.style.use('dark_background')\n",
    "plt.show()"
   ]
  },
  {
   "cell_type": "code",
   "execution_count": 59,
   "metadata": {},
   "outputs": [],
   "source": [
    "# 검증 손실 - 훈련 세트와 검증 세트의 그래프\n",
    "\n",
    "model = model_fn()\n",
    "model.compile(loss = 'sparse_categorical_crossentropy', metrics = 'accuracy')\n",
    "history = model.fit(train_scaled, train_target, epochs = 20, verbose = 0,\n",
    "                    validation_data = (val_scaled, val_target))"
   ]
  },
  {
   "cell_type": "code",
   "execution_count": 75,
   "metadata": {},
   "outputs": [
    {
     "data": {
      "text/plain": [
       "[0.8524166941642761,\n",
       " 0.8686666488647461,\n",
       " 0.8617500066757202,\n",
       " 0.8742499947547913,\n",
       " 0.8662499785423279,\n",
       " 0.8802499771118164,\n",
       " 0.8765833377838135,\n",
       " 0.8774999976158142,\n",
       " 0.874750018119812,\n",
       " 0.8790000081062317,\n",
       " 0.8844166398048401,\n",
       " 0.877916693687439,\n",
       " 0.8816666603088379,\n",
       " 0.8758333325386047,\n",
       " 0.8792499899864197,\n",
       " 0.8831666707992554,\n",
       " 0.8817499876022339,\n",
       " 0.8842499852180481,\n",
       " 0.8812500238418579,\n",
       " 0.8761666417121887]"
      ]
     },
     "execution_count": 75,
     "metadata": {},
     "output_type": "execute_result"
    }
   ],
   "source": [
    "history.history.keys()\n",
    "history.history['val_accuracy']"
   ]
  },
  {
   "cell_type": "code",
   "execution_count": 79,
   "metadata": {},
   "outputs": [
    {
     "data": {
      "image/png": "[encoded data removed]",
      "text/plain": [
       "<Figure size 1008x720 with 1 Axes>"
      ]
     },
     "metadata": {},
     "output_type": "display_data"
    }
   ],
   "source": [
    "plt.figure(figsize = (14,10))\n",
    "plt.plot(history.history['loss'])\n",
    "plt.plot(history.history['val_loss'])\n",
    "plt.legend(['train','val']) # 리스트 형식\n",
    "plt.xlabel('epoch')\n",
    "plt.ylabel('loss')\n",
    "plt.show()"
   ]
  },
  {
   "cell_type": "code",
   "execution_count": 77,
   "metadata": {},
   "outputs": [
    {
     "data": {
      "image/png": "[encoded data removed]",
      "text/plain": [
       "<Figure size 1008x720 with 1 Axes>"
      ]
     },
     "metadata": {},
     "output_type": "display_data"
    }
   ],
   "source": [
    "plt.figure(figsize = (14,10))\n",
    "plt.plot(history.history['accuracy'])\n",
    "plt.plot(history.history['val_accuracy'])\n",
    "plt.legend(['train','val'])\n",
    "plt.xlabel('epoch')\n",
    "plt.ylabel('accuracy')\n",
    "plt.show()"
   ]
  },
  {
   "cell_type": "code",
   "execution_count": 80,
   "metadata": {},
   "outputs": [
    {
     "data": {
      "image/png": "[encoded data removed]",
      "text/plain": [
       "<Figure size 576x396 with 1 Axes>"
      ]
     },
     "metadata": {},
     "output_type": "display_data"
    }
   ],
   "source": [
    "# adam\n",
    "\n",
    "model = model_fn()\n",
    "model.compile(optimizer='adam', loss = 'sparse_categorical_crossentropy', metrics='accuracy')\n",
    "history = model.fit(train_scaled, train_target, epochs = 20, verbose = 0, validation_data=(val_scaled,val_target))\n",
    "\n",
    "plt.plot(history.history['loss'])\n",
    "plt.plot(history.history['val_loss'])\n",
    "plt.xlabel('epoch')\n",
    "plt.ylabel('loss')\n",
    "plt.show()"
   ]
  },
  {
   "cell_type": "code",
   "execution_count": 81,
   "metadata": {},
   "outputs": [
    {
     "name": "stdout",
     "output_type": "stream",
     "text": [
      "Model: \"sequential_6\"\n",
      "_________________________________________________________________\n",
      " Layer (type)                Output Shape              Param #   \n",
      "=================================================================\n",
      " flatten_6 (Flatten)         (None, 784)               0         \n",
      "                                                                 \n",
      " dense_12 (Dense)            (None, 100)               78500     \n",
      "                                                                 \n",
      " dropout (Dropout)           (None, 100)               0         \n",
      "                                                                 \n",
      " dense_13 (Dense)            (None, 10)                1010      \n",
      "                                                                 \n",
      "=================================================================\n",
      "Total params: 79,510\n",
      "Trainable params: 79,510\n",
      "Non-trainable params: 0\n",
      "_________________________________________________________________\n"
     ]
    }
   ],
   "source": [
    "# dropout\n",
    "\n",
    "model = model_fn(keras.layers.Dropout(0.3))\n",
    "model.summary()\n",
    "\n",
    "# 드롭아웃 층은 훈련되는 모델 파라미터가 없고 입/출력의 크기가 동일\n",
    "# 일부 뉴런의 출력을 0으로 만들지만 전체 출력 배열의 크기를 바꾸지는 않음\n",
    "# 어떤 층의 뒤에 드롭아웃을 두어 층의 출력을 랜덤하게 0으로 만들고, 층으로 사용되지만 훈련되는 모델 파라미터는 없음.\n"
   ]
  },
  {
   "cell_type": "code",
   "execution_count": null,
   "metadata": {},
   "outputs": [],
   "source": []
  }
 ],
 "metadata": {
  "kernelspec": {
   "display_name": "Python 3.9.12 ('base')",
   "language": "python",
   "name": "python3"
  },
  "language_info": {
   "codemirror_mode": {
    "name": "ipython",
    "version": 3
   },
   "file_extension": ".py",
   "mimetype": "text/x-python",
   "name": "python",
   "nbconvert_exporter": "python",
   "pygments_lexer": "ipython3",
   "version": "3.9.12"
  },
  "orig_nbformat": 4,
  "vscode": {
   "interpreter": {
    "hash": "43af7393c8e3bb0730eb35f197fc5ab4355397fc73467075a0f020e747dbc619"
   }
  }
 },
 "nbformat": 4,
 "nbformat_minor": 2
}
