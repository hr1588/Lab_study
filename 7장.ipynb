{
  "cells": [
    {
      "cell_type": "markdown",
      "source": [
        "# 패션 MNIST 분류 모델"
      ],
      "metadata": {
        "id": "24_TqelNWlDx"
      }
    },
    {
      "cell_type": "markdown",
      "metadata": {
        "id": "LwB3055oS1dp"
      },
      "source": [
        "### 인공신경망(ANN)\n",
        "\n",
        "- 인공신경망 : 생물학적 뉴런에서 영감을 받아 만든 머신러닝 알고리즘, 신경망은 기존의 머신러닝 알고리즘으로 다루기 어려웠던 이미지, 음성, 텍스트 분야에서 뛰어난 성능을 발휘하면서 \n",
        "크게 주목을 받고 있으며 종종 딥러닝이라고 부름\n",
        "\n",
        "- 밀집층(dense layer, or 완전연결층(fully connected layer)) : 케라스의 레이어 안의 가장 기본이 되는 층으로 양쪽의 뉴런이 모두 연결되어 있음\n",
        "\n",
        "- 텐서플로 : 구글이 만든 딥러닝 라이브러리로 CPU와 GPU를 이용해 인공신경망 모델을 효율적으로 훈련하며 모델 구축과 서비스에 필요한 다양한 도구 제공, 텐서플로 2.0부터는 신경망 모델을 빠르게 구성할 수 있는 케라스를 핵심 api로 채택. 케라스를 사용하면 간단한 모델에서 아주 복잡한 모델까지 손쉽게 만들 수 있음\n",
        "\n",
        "- 원-핫 인코딩 : 타깃값을 해당 클래스만 1이고 나머지는 모두 0인 배열로 만드는 것, 다중 분류에서 크로스 엔트로피 손실 함수를 사용하려면 0,1,2와 같이 정수로 된 타깃값을 인코딩으로 변환\n",
        "\n",
        "- 절편 : 뉴런마다 더해짐\n",
        "\n",
        "- 활성화 함수 : 뉴런의 선형방정식 계산 결과에 적용되는 함수\n"
      ]
    },
    {
      "cell_type": "code",
      "execution_count": 1,
      "metadata": {
        "id": "TD01CDQCS1ds"
      },
      "outputs": [],
      "source": [
        "# 라이브러리 호출\n",
        "\n",
        "import numpy as np\n",
        "import matplotlib.pyplot as plt\n",
        "from tensorflow import keras\n",
        "from sklearn.model_selection import cross_validate\n",
        "from sklearn.model_selection import train_test_split\n",
        "from sklearn.linear_model import SGDClassifier"
      ]
    },
    {
      "cell_type": "code",
      "execution_count": null,
      "metadata": {
        "id": "uOReAVvKS1dt"
      },
      "outputs": [],
      "source": [
        "(train_input, train_target), (test_input, test_target) = keras.datasets.fashion_mnist.load_data()"
      ]
    },
    {
      "cell_type": "code",
      "execution_count": null,
      "metadata": {
        "id": "mqyRzB_YS1dt",
        "outputId": "35b67c80-4701-4a64-f952-9d859be032df"
      },
      "outputs": [
        {
          "name": "stdout",
          "output_type": "stream",
          "text": [
            "(60000, 28, 28) (48000,)\n",
            "(10000, 28, 28) (10000,)\n"
          ]
        }
      ],
      "source": [
        "# 훈련 데이터 shape\n",
        "print(train_input.shape, train_target.shape)\n",
        "# 테스트 데이터 shape\n",
        "print(test_input.shape, test_target.shape)"
      ]
    },
    {
      "cell_type": "code",
      "execution_count": null,
      "metadata": {
        "id": "6r_PxKtCS1du"
      },
      "outputs": [],
      "source": [
        "train_scaled = train_input / 255.0 # 정규화\n",
        "train_scaled = train_scaled.reshape(-1,28*28) # 1차원 배열 변환 "
      ]
    },
    {
      "cell_type": "code",
      "execution_count": null,
      "metadata": {
        "id": "ieEwE2B3S1du"
      },
      "outputs": [],
      "source": [
        "train_scaled, val_scaled, train_target, val_target = train_test_split(train_scaled, train_target, test_size = 0.2, random_state=42)"
      ]
    },
    {
      "cell_type": "code",
      "execution_count": null,
      "metadata": {
        "id": "YCnIekjdS1dv",
        "outputId": "9cb5d588-51b5-472f-c8a0-28819a4e6313"
      },
      "outputs": [
        {
          "name": "stdout",
          "output_type": "stream",
          "text": [
            "(48000, 784) (48000,)\n",
            "(12000, 784) (12000,)\n"
          ]
        }
      ],
      "source": [
        "print(train_scaled.shape, train_target.shape)\n",
        "print(val_scaled.shape, val_target.shape)"
      ]
    },
    {
      "cell_type": "markdown",
      "metadata": {
        "id": "fDyN38TES1dv"
      },
      "source": [
        "### 밀집층(양쪽의 뉴런이 모두 연결하고 있기 때문에 완전연결층)"
      ]
    },
    {
      "cell_type": "code",
      "execution_count": null,
      "metadata": {
        "id": "5PjbNP0TS1dv"
      },
      "outputs": [],
      "source": [
        "dense = keras.layers.Dense(10, activation = 'softmax', input_shape = (784,)) # 밀집층 객체\n",
        "model = keras.Sequential(dense) # 신경망 모델 제작"
      ]
    },
    {
      "cell_type": "markdown",
      "metadata": {
        "id": "zpzIAsZcS1dv"
      },
      "source": [
        "- 케라스의 Dense 클래스를 사용해 밀집층 마들기 - 필요한 매개변수는 뉴런 개수, 뉴런의 출력적용 함수, 입력크기\n",
        "- 뉴런 개수는 10개인 패션아이템을 분류하기 때문에 10개, 적용 함수는 softmax 적용(이진 분류는 sigmoid 적용), 784개의 픽셀값 받음\n",
        "- Sequential 클래스의 객체를 만들 때 앞에서 만든 밀집층의 객체 dense를 전달함, 여기서 만든 모델이 신경망 모델\n",
        "\n",
        "- 은닉층에 활성화함수를 적용하는 이유 : 은닉층이 활성화함수가 없이 x와 가중치의 곱으로만 표현되어 있다면 뒤의 출력층과 합쳐서 하나의 층으로 표현할 수 있을 것. 은닉층에 활성화 함수를 거쳐서 비선형 함수로 데이터를 변형해서 단순히 선형식이 합쳐지지 못하도록 해야한다."
      ]
    },
    {
      "cell_type": "code",
      "execution_count": null,
      "metadata": {
        "id": "xmH0IHP3S1dv"
      },
      "outputs": [],
      "source": [
        "model.compile(loss = 'sparse_categorical_crossentropy', metrics='accuracy') \n",
        "# one-hot encoding으로 sparse하게 표현\n",
        "# 모델 손실함수와 metrics 설정"
      ]
    },
    {
      "cell_type": "markdown",
      "metadata": {
        "id": "BdufChXlS1dw"
      },
      "source": [
        "- 이진 분류 : binary_crossentropy\n",
        "- 다중 분류 : categorical_crossentropy\n",
        "- 로지스틱 손실 함수는 다중 분류를 위한 손실 함수인 크로스 엔트로피(cross entropy) 손실 함수를 이진 분류 버전으로 만든 것"
      ]
    },
    {
      "cell_type": "code",
      "execution_count": null,
      "metadata": {
        "id": "IDxNGKQXS1dw",
        "outputId": "220c5f3d-b47c-42e9-897c-917a2a212725"
      },
      "outputs": [
        {
          "name": "stdout",
          "output_type": "stream",
          "text": [
            "Epoch 1/5\n",
            "1500/1500 [==============================] - 8s 5ms/step - loss: 0.5650 - accuracy: 0.8075\n",
            "Epoch 2/5\n",
            "1500/1500 [==============================] - 7s 5ms/step - loss: 0.4081 - accuracy: 0.8525\n",
            "Epoch 3/5\n",
            "1500/1500 [==============================] - 7s 5ms/step - loss: 0.3751 - accuracy: 0.8660\n",
            "Epoch 4/5\n",
            "1500/1500 [==============================] - 7s 5ms/step - loss: 0.3515 - accuracy: 0.8733\n",
            "Epoch 5/5\n",
            "1500/1500 [==============================] - 7s 5ms/step - loss: 0.3343 - accuracy: 0.8794\n"
          ]
        },
        {
          "data": {
            "text/plain": [
              "<keras.callbacks.History at 0x134007cd610>"
            ]
          },
          "execution_count": 29,
          "metadata": {},
          "output_type": "execute_result"
        }
      ],
      "source": [
        "model.fit(train_scaled, train_target, epochs=5)"
      ]
    },
    {
      "cell_type": "code",
      "execution_count": null,
      "metadata": {
        "id": "gPNT7Z8ES1dw",
        "outputId": "313138d7-273d-431e-bc35-6024e7b8a02c"
      },
      "outputs": [
        {
          "name": "stdout",
          "output_type": "stream",
          "text": [
            "375/375 [==============================] - 1s 3ms/step - loss: 0.3566 - accuracy: 0.8681\n"
          ]
        },
        {
          "data": {
            "text/plain": [
              "[0.3565978705883026, 0.8680833578109741]"
            ]
          },
          "execution_count": 30,
          "metadata": {},
          "output_type": "execute_result"
        }
      ],
      "source": [
        "model.evaluate(val_scaled, val_target)"
      ]
    },
    {
      "cell_type": "markdown",
      "metadata": {
        "id": "5jYu8nMcS1dw"
      },
      "source": [
        "### 심층신경망(DNN)"
      ]
    },
    {
      "cell_type": "code",
      "execution_count": null,
      "metadata": {
        "id": "ckow1qc2S1dw",
        "outputId": "de34f37c-09b9-4ba7-aeba-e004d883c11a"
      },
      "outputs": [
        {
          "name": "stdout",
          "output_type": "stream",
          "text": [
            "Model: \"sequential_7\"\n",
            "_________________________________________________________________\n",
            " Layer (type)                Output Shape              Param #   \n",
            "=================================================================\n",
            " dense_14 (Dense)            (None, 100)               78500     \n",
            "                                                                 \n",
            " dense_15 (Dense)            (None, 10)                1010      \n",
            "                                                                 \n",
            "=================================================================\n",
            "Total params: 79,510\n",
            "Trainable params: 79,510\n",
            "Non-trainable params: 0\n",
            "_________________________________________________________________\n"
          ]
        }
      ],
      "source": [
        "# 층을 생성하는 방법, 각 밀집층 객체를 만들고 keras.Sequential에 인자로 전달\n",
        "\n",
        "dense1 = keras.layers.Dense(100, activation = 'sigmoid', input_shape = (784,))\n",
        "dense2 = keras.layers.Dense(10, activation = 'softmax') # 다중 선형 회귀 사용\n",
        "\n",
        "model = keras.Sequential([dense1, dense2])\n",
        "\n",
        "model.summary()"
      ]
    },
    {
      "cell_type": "markdown",
      "metadata": {
        "id": "cxzeyBaMS1dx"
      },
      "source": [
        "- dense1이 입력층과 은닉층을 연결하는 밀집층, dense2는 은닉층과 출력층을 연결하는 밀집층\n",
        "\n",
        "- dense1에 몇 개의 뉴런을 둬야할지에 대한 판단은 상당한 경험을 요하나, 출력층 뉴런보다는 많이 만들어야 함\n",
        "\n",
        "- output shape의 첫 번째 차원이 None인 이유 : 케라스는 미니 배치 경사 하강법을 사용해서 입력 데이터에 따라 크기가 달라진다.\n",
        "\n",
        "- params는 각 층의 모델 파라미터 개수 / 78,500 => 입력층 노드 784개, 은닉층 노드 100개의 곱에 절편 100개를 더한 값"
      ]
    },
    {
      "cell_type": "code",
      "execution_count": null,
      "metadata": {
        "id": "zErHuq7CS1dx",
        "outputId": "633cc76a-8c95-446b-e5b3-330766ad02f1"
      },
      "outputs": [
        {
          "name": "stdout",
          "output_type": "stream",
          "text": [
            "Model: \"패션 MINST 모델\"\n",
            "_________________________________________________________________\n",
            " Layer (type)                Output Shape              Param #   \n",
            "=================================================================\n",
            " hidden (Dense)              (None, 100)               78500     \n",
            "                                                                 \n",
            " output (Dense)              (None, 10)                1010      \n",
            "                                                                 \n",
            "=================================================================\n",
            "Total params: 79,510\n",
            "Trainable params: 79,510\n",
            "Non-trainable params: 0\n",
            "_________________________________________________________________\n"
          ]
        }
      ],
      "source": [
        "# 다른 방법 1\n",
        "\n",
        "model = keras.Sequential([\n",
        "    keras.layers.Dense(100,\n",
        "                       activation = 'sigmoid',\n",
        "                       input_shape = (784,),\n",
        "                       name = 'hidden'),\n",
        "    keras.layers.Dense(10,\n",
        "                       activation = 'softmax',\n",
        "                       name = 'output')\n",
        "], name = '패션 MINST 모델')\n",
        "\n",
        "model.summary()"
      ]
    },
    {
      "cell_type": "code",
      "execution_count": null,
      "metadata": {
        "id": "-oS8j5qQS1dx",
        "outputId": "06792112-b5c0-4c53-ac68-1ca0c77b0a8d"
      },
      "outputs": [
        {
          "name": "stdout",
          "output_type": "stream",
          "text": [
            "Model: \"sequential_5\"\n",
            "_________________________________________________________________\n",
            " Layer (type)                Output Shape              Param #   \n",
            "=================================================================\n",
            " hidden (Dense)              (None, 100)               78500     \n",
            "                                                                 \n",
            " output (Dense)              (None, 10)                1010      \n",
            "                                                                 \n",
            "=================================================================\n",
            "Total params: 79,510\n",
            "Trainable params: 79,510\n",
            "Non-trainable params: 0\n",
            "_________________________________________________________________\n"
          ]
        }
      ],
      "source": [
        "# 다른 방법 2, add를 사용해 층이 많을 때 편리함\n",
        "\n",
        "model = keras.Sequential()\n",
        "model.add(keras.layers.Dense(100,\n",
        "                             activation = 'sigmoid',\n",
        "                             input_shape = (784,),\n",
        "                             name = 'hidden'))\n",
        "model.add(keras.layers.Dense(10,\n",
        "                             activation = 'softmax',\n",
        "                             name = 'output'))\n",
        "\n",
        "model.summary()"
      ]
    },
    {
      "cell_type": "code",
      "execution_count": null,
      "metadata": {
        "id": "zD0plNvNS1dy",
        "outputId": "451067d9-bedd-47d6-b8ad-3cb906abbad0"
      },
      "outputs": [
        {
          "name": "stdout",
          "output_type": "stream",
          "text": [
            "Epoch 1/5\n",
            "1500/1500 [==============================] - 8s 5ms/step - loss: 0.5665 - accuracy: 0.8069\n",
            "Epoch 2/5\n",
            "1500/1500 [==============================] - 7s 5ms/step - loss: 0.4090 - accuracy: 0.8535\n",
            "Epoch 3/5\n",
            "1500/1500 [==============================] - 7s 5ms/step - loss: 0.3743 - accuracy: 0.8653\n",
            "Epoch 4/5\n",
            "1500/1500 [==============================] - 7s 5ms/step - loss: 0.3504 - accuracy: 0.8738\n",
            "Epoch 5/5\n",
            "1500/1500 [==============================] - 7s 4ms/step - loss: 0.3340 - accuracy: 0.8795\n"
          ]
        },
        {
          "data": {
            "text/plain": [
              "<keras.callbacks.History at 0x13409dc50d0>"
            ]
          },
          "execution_count": 33,
          "metadata": {},
          "output_type": "execute_result"
        }
      ],
      "source": [
        "model.compile(loss = 'sparse_categorical_crossentropy', metrics='accuracy')\n",
        "# binary_categorical_crossentropy : 이진 분류\n",
        "# sparse_categorical_crossentropy : 삼진 분류 이상\n",
        "\n",
        "model.fit(train_scaled, train_target, epochs=5)"
      ]
    },
    {
      "cell_type": "code",
      "execution_count": null,
      "metadata": {
        "id": "pyy5YK-US1dy",
        "outputId": "8bea1921-5762-4737-be51-232b2744a7d2"
      },
      "outputs": [
        {
          "name": "stdout",
          "output_type": "stream",
          "text": [
            "375/375 [==============================] - 1s 3ms/step - loss: 0.3525 - accuracy: 0.8738\n"
          ]
        },
        {
          "data": {
            "text/plain": [
              "[0.3525139093399048, 0.8738333582878113]"
            ]
          },
          "execution_count": 34,
          "metadata": {},
          "output_type": "execute_result"
        }
      ],
      "source": [
        "model.evaluate(val_scaled, val_target)"
      ]
    },
    {
      "cell_type": "markdown",
      "metadata": {
        "id": "820FSQfmS1dy"
      },
      "source": [
        "### 옵티마이저"
      ]
    },
    {
      "cell_type": "markdown",
      "metadata": {
        "id": "20o9wDOVS1dy"
      },
      "source": [
        "- 하이퍼 파라미터의 일종, RMSprop, Keras, SGD, Adam, Adagrad 등\n",
        "\n",
        "- 객체를 만들어쓰거나, 매개변수를 문자열로 줘도 된다.\n",
        "\n",
        "- 적응적 학습률(adaptive learning rate) : RMSprop, Adagrad, Adam\n",
        "\n",
        "- flatten : 데이터를 1차원 배열로 바꿔주는 메서드\n",
        "\n",
        "- sigmoid의 단점 : 양 끝으로 갈수록 그래프가 누워있어서 올바른 출력을 만드는데 신속하게 대응하지 못함, 특히 층이 길어질수록 학습을 더 어렵게 만듦.\n",
        "\n",
        "- softmax : 상대 빈도수를 활용"
      ]
    },
    {
      "cell_type": "code",
      "execution_count": 2,
      "metadata": {
        "colab": {
          "base_uri": "https://localhost:8080/"
        },
        "id": "gw2A-t7DS1dz",
        "outputId": "a2bfadd8-1c16-46aa-a5b6-0d67c257db95"
      },
      "outputs": [
        {
          "output_type": "stream",
          "name": "stdout",
          "text": [
            "Model: \"sequential\"\n",
            "_________________________________________________________________\n",
            " Layer (type)                Output Shape              Param #   \n",
            "=================================================================\n",
            " flatten (Flatten)           (None, 784)               0         \n",
            "                                                                 \n",
            " dense (Dense)               (None, 100)               78500     \n",
            "                                                                 \n",
            " dense_1 (Dense)             (None, 10)                1010      \n",
            "                                                                 \n",
            "=================================================================\n",
            "Total params: 79,510\n",
            "Trainable params: 79,510\n",
            "Non-trainable params: 0\n",
            "_________________________________________________________________\n"
          ]
        }
      ],
      "source": [
        "model = keras.Sequential()\n",
        "model.add(keras.layers.Flatten(input_shape=(28,28))) # 열 벡터 변환, 입력층 제작\n",
        "model.add(keras.layers.Dense(100, activation = 'relu')) # sigmoid에서 relu로 변경\n",
        "model.add(keras.layers.Dense(10, activation = 'softmax'))\n",
        "\n",
        "model.summary()"
      ]
    },
    {
      "cell_type": "code",
      "execution_count": 3,
      "metadata": {
        "colab": {
          "base_uri": "https://localhost:8080/"
        },
        "id": "qOQDmTekS1dz",
        "outputId": "94f1d2c4-0b20-4bcf-d5af-61ea4bf0a831"
      },
      "outputs": [
        {
          "output_type": "stream",
          "name": "stdout",
          "text": [
            "Downloading data from https://storage.googleapis.com/tensorflow/tf-keras-datasets/train-labels-idx1-ubyte.gz\n",
            "32768/29515 [=================================] - 0s 0us/step\n",
            "40960/29515 [=========================================] - 0s 0us/step\n",
            "Downloading data from https://storage.googleapis.com/tensorflow/tf-keras-datasets/train-images-idx3-ubyte.gz\n",
            "26427392/26421880 [==============================] - 0s 0us/step\n",
            "26435584/26421880 [==============================] - 0s 0us/step\n",
            "Downloading data from https://storage.googleapis.com/tensorflow/tf-keras-datasets/t10k-labels-idx1-ubyte.gz\n",
            "16384/5148 [===============================================================================================] - 0s 0us/step\n",
            "Downloading data from https://storage.googleapis.com/tensorflow/tf-keras-datasets/t10k-images-idx3-ubyte.gz\n",
            "4423680/4422102 [==============================] - 0s 0us/step\n",
            "4431872/4422102 [==============================] - 0s 0us/step\n"
          ]
        }
      ],
      "source": [
        "(train_input, train_target), (test_input, test_target) = keras.datasets.fashion_mnist.load_data()\n",
        "\n",
        "train_scaled = train_input / 255.0\n",
        "train_scaled, val_scaled, train_target, val_target = train_test_split(train_scaled, train_target, test_size = 0.2, random_state=42)"
      ]
    },
    {
      "cell_type": "code",
      "execution_count": null,
      "metadata": {
        "id": "ltfJk_WsS1dz",
        "outputId": "d3630dc7-8da3-4a9c-888c-0c4930230ef9"
      },
      "outputs": [
        {
          "name": "stdout",
          "output_type": "stream",
          "text": [
            "Epoch 1/5\n",
            "1500/1500 [==============================] - 10s 6ms/step - loss: 0.5281 - accuracy: 0.8126\n",
            "Epoch 2/5\n",
            "1500/1500 [==============================] - 9s 6ms/step - loss: 0.3910 - accuracy: 0.8585\n",
            "Epoch 3/5\n",
            "1500/1500 [==============================] - 7s 5ms/step - loss: 0.3562 - accuracy: 0.8708\n",
            "Epoch 4/5\n",
            "1500/1500 [==============================] - 7s 5ms/step - loss: 0.3347 - accuracy: 0.8797\n",
            "Epoch 5/5\n",
            "1500/1500 [==============================] - 7s 5ms/step - loss: 0.3213 - accuracy: 0.8856\n",
            "375/375 [==============================] - 1s 2ms/step - loss: 0.3627 - accuracy: 0.8764\n"
          ]
        },
        {
          "data": {
            "text/plain": [
              "[0.36269161105155945, 0.8764166831970215]"
            ]
          },
          "execution_count": 7,
          "metadata": {},
          "output_type": "execute_result"
        }
      ],
      "source": [
        "model.compile(loss = 'sparse_categorical_crossentropy', metrics='accuracy') # 각 그룹의 사이즈가 동일하면 정확도가 제일 좋은 성능 지표\n",
        "model.fit(train_scaled, train_target, epochs=5)\n",
        "model.evaluate(val_scaled, val_target)\n",
        "\n",
        "# 최초 ANN보다 정확도 향상 확인"
      ]
    },
    {
      "cell_type": "code",
      "execution_count": 11,
      "metadata": {
        "colab": {
          "base_uri": "https://localhost:8080/"
        },
        "id": "suAxZaSjS1dz",
        "outputId": "84cafd36-2f70-4d33-ba95-e92a1e9a0dc7"
      },
      "outputs": [
        {
          "output_type": "stream",
          "name": "stdout",
          "text": [
            "Epoch 1/10\n",
            "2400/2400 [==============================] - 6s 2ms/step - loss: 0.5163 - accuracy: 0.8183\n",
            "Epoch 2/10\n",
            "2400/2400 [==============================] - 5s 2ms/step - loss: 0.3888 - accuracy: 0.8607\n",
            "Epoch 3/10\n",
            "2400/2400 [==============================] - 5s 2ms/step - loss: 0.3474 - accuracy: 0.8745\n",
            "Epoch 4/10\n",
            "2400/2400 [==============================] - 5s 2ms/step - loss: 0.3229 - accuracy: 0.8830\n",
            "Epoch 5/10\n",
            "2400/2400 [==============================] - 6s 3ms/step - loss: 0.3028 - accuracy: 0.8893\n",
            "Epoch 6/10\n",
            "2400/2400 [==============================] - 5s 2ms/step - loss: 0.2880 - accuracy: 0.8932\n",
            "Epoch 7/10\n",
            "2400/2400 [==============================] - 5s 2ms/step - loss: 0.2764 - accuracy: 0.8978\n",
            "Epoch 8/10\n",
            "2400/2400 [==============================] - 5s 2ms/step - loss: 0.2646 - accuracy: 0.9009\n",
            "Epoch 9/10\n",
            "2400/2400 [==============================] - 5s 2ms/step - loss: 0.2533 - accuracy: 0.9051\n",
            "Epoch 10/10\n",
            "2400/2400 [==============================] - 5s 2ms/step - loss: 0.2479 - accuracy: 0.9071\n"
          ]
        },
        {
          "output_type": "execute_result",
          "data": {
            "text/plain": [
              "<keras.callbacks.History at 0x7fdf10421090>"
            ]
          },
          "metadata": {},
          "execution_count": 11
        }
      ],
      "source": [
        "# Adam : 옵티마이저의 일종, 모멘텀 최적화와 RMSprop의 장점을 접목\n",
        "\n",
        "model = keras.Sequential()\n",
        "model.add(keras.layers.Flatten(input_shape=(28,28)))\n",
        "model.add(keras.layers.Dense(100, activation = 'relu'))\n",
        "model.add(keras.layers.Dense(10, activation = 'softmax'))\n",
        "\n",
        "model.compile(optimizer='adam',\n",
        "              loss = 'sparse_categorical_crossentropy', \n",
        "              metrics='accuracy')\n",
        "model.fit(train_scaled, train_target, epochs=10, batch_size = 20)"
      ]
    },
    {
      "cell_type": "code",
      "execution_count": 12,
      "metadata": {
        "colab": {
          "base_uri": "https://localhost:8080/"
        },
        "id": "E_X7nPu2S1dz",
        "outputId": "93ccb1ff-c078-4fff-b2be-ccc783ef679c"
      },
      "outputs": [
        {
          "output_type": "stream",
          "name": "stdout",
          "text": [
            "375/375 [==============================] - 1s 2ms/step - loss: 0.3249 - accuracy: 0.8844\n"
          ]
        },
        {
          "output_type": "execute_result",
          "data": {
            "text/plain": [
              "[0.32487520575523376, 0.8844166398048401]"
            ]
          },
          "metadata": {},
          "execution_count": 12
        }
      ],
      "source": [
        "model.evaluate(val_scaled, val_target)\n",
        "\n",
        "# 최초 ANN보다 정확도 향상 확인"
      ]
    },
    {
      "cell_type": "markdown",
      "metadata": {
        "id": "zBtNX4NTS1d0"
      },
      "source": [
        "### 히스토리와 손실 곡선"
      ]
    },
    {
      "cell_type": "code",
      "execution_count": 13,
      "metadata": {
        "id": "1LntQjH7S1d0"
      },
      "outputs": [],
      "source": [
        "# 신경망 모델에 레이어를 추가하는 함수\n",
        "\n",
        "def model_fn(a_layer=None): # 매개변수 X, 즉 디폴트 값으로 설정\n",
        "    model = keras.Sequential()\n",
        "    model.add(keras.layers.Flatten(input_shape = (28,28)))\n",
        "    model.add(keras.layers.Dense(100, activation = 'relu'))\n",
        "    if a_layer:\n",
        "        model.add(a_layer)\n",
        "    model.add(keras.layers.Dense(10, activation = 'softmax'))\n",
        "    return model"
      ]
    },
    {
      "cell_type": "code",
      "execution_count": 14,
      "metadata": {
        "colab": {
          "base_uri": "https://localhost:8080/",
          "height": 279
        },
        "id": "KIgDni1bS1d0",
        "outputId": "9ac32d60-d267-4fec-893a-385ce07636c1"
      },
      "outputs": [
        {
          "output_type": "display_data",
          "data": {
            "text/plain": [
              "<Figure size 432x288 with 1 Axes>"
            ],
            "image/png": "[encoded data removed]"
          },
          "metadata": {
            "needs_background": "light"
          }
        }
      ],
      "source": [
        "model = model_fn()\n",
        "model.compile(optimizer = 'adam',loss = 'sparse_categorical_crossentropy', metrics='accuracy')\n",
        "history = model.fit(train_scaled, train_target,  epochs=10, batch_size = 20, verbose=0)\n",
        "\n",
        "# verbose = 0을 사용하면 훈련 과정 출력 X\n",
        "\n",
        "import matplotlib.pyplot as plt\n",
        "plt.plot(history.history['loss'])\n",
        "plt.xlabel('epoch')\n",
        "plt.ylabel('loss')\n",
        "plt.show()"
      ]
    },
    {
      "cell_type": "code",
      "execution_count": 15,
      "metadata": {
        "colab": {
          "base_uri": "https://localhost:8080/"
        },
        "id": "fKdQo3-bS1d0",
        "outputId": "b5f91385-bb3b-4508-fc0e-1c52534c7bd4"
      },
      "outputs": [
        {
          "output_type": "stream",
          "name": "stdout",
          "text": [
            "dict_keys(['loss', 'accuracy'])\n"
          ]
        }
      ],
      "source": [
        "print(history.history.keys())"
      ]
    },
    {
      "cell_type": "code",
      "execution_count": 16,
      "metadata": {
        "colab": {
          "base_uri": "https://localhost:8080/",
          "height": 279
        },
        "id": "DWy4-bycS1d0",
        "outputId": "de2de796-3be2-4f24-dd69-e6dbeb679fe2"
      },
      "outputs": [
        {
          "output_type": "display_data",
          "data": {
            "text/plain": [
              "<Figure size 432x288 with 1 Axes>"
            ],
            "image/png": "[encoded data removed]"
          },
          "metadata": {
            "needs_background": "light"
          }
        }
      ],
      "source": [
        "plt.plot(history.history['accuracy'])\n",
        "plt.xlabel('epoch')\n",
        "plt.ylabel('accuracy')\n",
        "plt.show()"
      ]
    },
    {
      "cell_type": "code",
      "execution_count": 17,
      "metadata": {
        "colab": {
          "base_uri": "https://localhost:8080/",
          "height": 279
        },
        "id": "ToQXZdSzS1d1",
        "outputId": "b27a26c1-7a63-4806-a649-274a14ceb01d"
      },
      "outputs": [
        {
          "output_type": "display_data",
          "data": {
            "text/plain": [
              "<Figure size 432x288 with 1 Axes>"
            ],
            "image/png": "[encoded data removed]"
          },
          "metadata": {
            "needs_background": "light"
          }
        }
      ],
      "source": [
        "# 에폭을 늘려서 손실 변화도 확인\n",
        "\n",
        "model = model_fn()\n",
        "model.compile(optimizer = 'adam',loss = 'sparse_categorical_crossentropy', metrics='accuracy')\n",
        "history = model.fit(train_scaled, train_target, epochs=20, batch_size = 20, verbose=0)\n",
        "\n",
        "import matplotlib.pyplot as plt\n",
        "plt.plot(history.history['loss'])\n",
        "plt.xlabel('epoch')\n",
        "plt.ylabel('loss')\n",
        "plt.show()\n",
        "\n",
        "# 손실이 감소함을 확인"
      ]
    },
    {
      "cell_type": "code",
      "source": [
        "plt.plot(history.history['loss'])\n",
        "plt.plot(history.history['accuracy'])\n",
        "plt.xlabel('epoch')\n",
        "plt.title('loss and accuracy')\n",
        "plt.show()"
      ],
      "metadata": {
        "colab": {
          "base_uri": "https://localhost:8080/",
          "height": 295
        },
        "id": "uV7unDKmihSm",
        "outputId": "92465abf-152e-4adb-ab5b-961655ecd7f3"
      },
      "execution_count": 28,
      "outputs": [
        {
          "output_type": "display_data",
          "data": {
            "text/plain": [
              "<Figure size 432x288 with 1 Axes>"
            ],
            "image/png": "[encoded data removed]"
          },
          "metadata": {
            "needs_background": "light"
          }
        }
      ]
    },
    {
      "cell_type": "markdown",
      "metadata": {
        "id": "NkB23ohSS1d1"
      },
      "source": [
        "### 검증 손실"
      ]
    },
    {
      "cell_type": "code",
      "execution_count": null,
      "metadata": {
        "id": "HMrEdFiQS1d1",
        "outputId": "5db13035-e816-436a-e35e-731cbf4f65b9"
      },
      "outputs": [
        {
          "name": "stdout",
          "output_type": "stream",
          "text": [
            "Epoch 1/20\n",
            "1500/1500 [==============================] - 10s 6ms/step - loss: 0.5302 - accuracy: 0.8116 - val_loss: 0.5604 - val_accuracy: 0.8061\n",
            "Epoch 2/20\n",
            "1500/1500 [==============================] - 9s 6ms/step - loss: 0.3935 - accuracy: 0.8590 - val_loss: 0.3977 - val_accuracy: 0.8611\n",
            "Epoch 3/20\n",
            "1500/1500 [==============================] - 8s 6ms/step - loss: 0.3544 - accuracy: 0.8724 - val_loss: 0.3950 - val_accuracy: 0.8635\n",
            "Epoch 4/20\n",
            "1500/1500 [==============================] - 8s 5ms/step - loss: 0.3339 - accuracy: 0.8803 - val_loss: 0.3581 - val_accuracy: 0.8756\n",
            "Epoch 5/20\n",
            "1500/1500 [==============================] - 8s 5ms/step - loss: 0.3191 - accuracy: 0.8859 - val_loss: 0.3544 - val_accuracy: 0.8786\n",
            "Epoch 6/20\n",
            "1500/1500 [==============================] - 8s 5ms/step - loss: 0.3099 - accuracy: 0.8905 - val_loss: 0.3831 - val_accuracy: 0.8764\n",
            "Epoch 7/20\n",
            "1500/1500 [==============================] - 8s 5ms/step - loss: 0.2999 - accuracy: 0.8944 - val_loss: 0.3756 - val_accuracy: 0.8760\n",
            "Epoch 8/20\n",
            "1500/1500 [==============================] - 9s 6ms/step - loss: 0.2929 - accuracy: 0.8961 - val_loss: 0.3715 - val_accuracy: 0.8826\n",
            "Epoch 9/20\n",
            "1500/1500 [==============================] - 7s 5ms/step - loss: 0.2839 - accuracy: 0.9006 - val_loss: 0.3869 - val_accuracy: 0.8784\n",
            "Epoch 10/20\n",
            "1500/1500 [==============================] - 7s 5ms/step - loss: 0.2787 - accuracy: 0.9021 - val_loss: 0.3859 - val_accuracy: 0.8788\n",
            "Epoch 11/20\n",
            "1500/1500 [==============================] - 8s 5ms/step - loss: 0.2710 - accuracy: 0.9057 - val_loss: 0.3903 - val_accuracy: 0.8767\n",
            "Epoch 12/20\n",
            "1500/1500 [==============================] - 7s 5ms/step - loss: 0.2665 - accuracy: 0.9075 - val_loss: 0.4045 - val_accuracy: 0.8806\n",
            "Epoch 13/20\n",
            "1500/1500 [==============================] - 8s 5ms/step - loss: 0.2597 - accuracy: 0.9086 - val_loss: 0.4032 - val_accuracy: 0.8823\n",
            "Epoch 14/20\n",
            "1500/1500 [==============================] - 9s 6ms/step - loss: 0.2545 - accuracy: 0.9122 - val_loss: 0.4192 - val_accuracy: 0.8751\n",
            "Epoch 15/20\n",
            "1500/1500 [==============================] - 9s 6ms/step - loss: 0.2512 - accuracy: 0.9135 - val_loss: 0.4272 - val_accuracy: 0.8804\n",
            "Epoch 16/20\n",
            "1500/1500 [==============================] - 9s 6ms/step - loss: 0.2492 - accuracy: 0.9146 - val_loss: 0.4380 - val_accuracy: 0.8793\n",
            "Epoch 17/20\n",
            "1500/1500 [==============================] - 9s 6ms/step - loss: 0.2433 - accuracy: 0.9181 - val_loss: 0.4248 - val_accuracy: 0.8803\n",
            "Epoch 18/20\n",
            "1500/1500 [==============================] - 9s 6ms/step - loss: 0.2388 - accuracy: 0.9187 - val_loss: 0.4540 - val_accuracy: 0.8832\n",
            "Epoch 19/20\n",
            "1500/1500 [==============================] - 8s 5ms/step - loss: 0.2373 - accuracy: 0.9206 - val_loss: 0.4584 - val_accuracy: 0.8831\n",
            "Epoch 20/20\n",
            "1500/1500 [==============================] - 9s 6ms/step - loss: 0.2316 - accuracy: 0.9228 - val_loss: 0.4842 - val_accuracy: 0.8813\n"
          ]
        }
      ],
      "source": [
        "model = model_fn()\n",
        "model.compile(loss = 'sparse_categorical_crossentropy', metrics='accuracy')\n",
        "history = model.fit(train_scaled, train_target, epochs=20, validation_data = (val_scaled, val_target))"
      ]
    },
    {
      "cell_type": "code",
      "execution_count": null,
      "metadata": {
        "id": "4CRtTZIdS1d1",
        "outputId": "cd677c88-e1e1-4836-f7e3-14e2b7b90377"
      },
      "outputs": [
        {
          "name": "stdout",
          "output_type": "stream",
          "text": [
            "dict_keys(['loss', 'accuracy', 'val_loss', 'val_accuracy'])\n"
          ]
        }
      ],
      "source": [
        "print(history.history.keys())"
      ]
    },
    {
      "cell_type": "code",
      "execution_count": null,
      "metadata": {
        "id": "z2vptztWS1d2",
        "outputId": "e4fc18e4-d6ce-4642-bf63-f0279076360c"
      },
      "outputs": [
        {
          "data": {
            "image/png": "[encoded data removed]",
            "text/plain": [
              "<Figure size 432x288 with 1 Axes>"
            ]
          },
          "metadata": {
            "needs_background": "light"
          },
          "output_type": "display_data"
        }
      ],
      "source": [
        "# 훈련 데이터와 검증 데이터의 손실 곡선 확인\n",
        "\n",
        "plt.plot(history.history['loss'])\n",
        "plt.plot(history.history['val_loss'])\n",
        "plt.xlabel('epoch')\n",
        "plt.ylabel('loss')\n",
        "plt.legend(['train','val'])\n",
        "plt.show()"
      ]
    },
    {
      "cell_type": "markdown",
      "metadata": {
        "id": "l55bG26pS1d2"
      },
      "source": [
        "- 다섯 번째 에폭 이후 과적합 발생"
      ]
    },
    {
      "cell_type": "code",
      "execution_count": null,
      "metadata": {
        "id": "O3dJBeIDS1d2",
        "outputId": "fc5c36a8-615e-4d2f-a86a-384176ff75a9"
      },
      "outputs": [
        {
          "data": {
            "image/png": "[encoded data removed]",
            "text/plain": [
              "<Figure size 432x288 with 1 Axes>"
            ]
          },
          "metadata": {
            "needs_background": "light"
          },
          "output_type": "display_data"
        }
      ],
      "source": [
        "# 옵티마이저 하이퍼 파라미터 조정으로 과대적합 완화\n",
        "\n",
        "model = model_fn()\n",
        "adam = keras.optimizers.Adam(learning_rate=0.001)\n",
        "\n",
        "model.compile(optimizer='adam', loss = 'sparse_categorical_crossentropy', metrics = 'accuracy')\n",
        "history = model.fit(train_scaled, train_target, epochs = 20, validation_data=(val_scaled, val_target), verbose = 0)\n",
        "\n",
        "plt.plot(history.history['loss'])\n",
        "plt.plot(history.history['val_loss'])\n",
        "plt.xlabel('epoch')\n",
        "plt.ylabel('loss')\n",
        "plt.legend(['train','val'])\n",
        "plt.show()\n"
      ]
    },
    {
      "cell_type": "markdown",
      "metadata": {
        "id": "KQQnGkVMS1d2"
      },
      "source": [
        "- 이전과 비교해 과대적합 감소 확인\n",
        "- RMSprop은 많은 문제에서 잘 작동하지만, 다른 옵티마이저를 사용한다면 Adam이 좋은 선택\n",
        "- Adam은 적응적 학습률을 사용, 에폭이 진행되면서 학습률의 크기 조정 가능"
      ]
    },
    {
      "cell_type": "code",
      "source": [
        "plt.plot(history.history['accuracy'])\n",
        "plt.plot(history.history['val_accuracy'])\n",
        "plt.xlabel('epoch')\n",
        "plt.ylabel('accuracy')\n",
        "plt.show()"
      ],
      "metadata": {
        "colab": {
          "base_uri": "https://localhost:8080/",
          "height": 281
        },
        "id": "XP5FCbKQi9qs",
        "outputId": "3356dba4-2041-4f86-ca4c-53cfe573397e"
      },
      "execution_count": 29,
      "outputs": [
        {
          "output_type": "display_data",
          "data": {
            "text/plain": [
              "<Figure size 432x288 with 1 Axes>"
            ],
            "image/png": "[encoded data removed]"
          },
          "metadata": {
            "needs_background": "light"
          }
        }
      ]
    },
    {
      "cell_type": "markdown",
      "metadata": {
        "id": "bv-taLdWS1d2"
      },
      "source": [
        "### 드롭아웃\n",
        "\n",
        "- 훈련 과정에서 층에 있는 일부 뉴런을 랜덤하게 꺼서(뉴런의 출력을 0으로 만들어) 과대적합 방지\n",
        "- 일부 뉴런이 랜덤하게 꺼지면 특정 뉴런에 과대하게 의존하는 것을 줄일 수 있고, 모든 입력에 주의를 기울어야 함"
      ]
    },
    {
      "cell_type": "code",
      "execution_count": 24,
      "metadata": {
        "colab": {
          "base_uri": "https://localhost:8080/"
        },
        "id": "Qpaynf4bS1d2",
        "outputId": "c25e1ff0-785a-4483-90da-ed7176c66457"
      },
      "outputs": [
        {
          "output_type": "stream",
          "name": "stdout",
          "text": [
            "Model: \"sequential_10\"\n",
            "_________________________________________________________________\n",
            " Layer (type)                Output Shape              Param #   \n",
            "=================================================================\n",
            " flatten_10 (Flatten)        (None, 784)               0         \n",
            "                                                                 \n",
            " dense_20 (Dense)            (None, 100)               78500     \n",
            "                                                                 \n",
            " dropout_1 (Dropout)         (None, 100)               0         \n",
            "                                                                 \n",
            " dense_21 (Dense)            (None, 10)                1010      \n",
            "                                                                 \n",
            "=================================================================\n",
            "Total params: 79,510\n",
            "Trainable params: 79,510\n",
            "Non-trainable params: 0\n",
            "_________________________________________________________________\n"
          ]
        }
      ],
      "source": [
        "model = model_fn(keras.layers.Dropout(0.3))\n",
        "model.summary()"
      ]
    },
    {
      "cell_type": "code",
      "execution_count": 25,
      "metadata": {
        "colab": {
          "base_uri": "https://localhost:8080/",
          "height": 279
        },
        "id": "Qgyyo_V4S1d2",
        "outputId": "3721be5a-12ca-4326-eed4-c5ce61cc040b"
      },
      "outputs": [
        {
          "output_type": "display_data",
          "data": {
            "text/plain": [
              "<Figure size 432x288 with 1 Axes>"
            ],
            "image/png": "[encoded data removed]"
          },
          "metadata": {
            "needs_background": "light"
          }
        }
      ],
      "source": [
        "model.compile(optimizer='adam', loss ='sparse_categorical_crossentropy', metrics='accuracy')\n",
        "history = model.fit(train_scaled, train_target, epochs=20, batch_size = 20, validation_data=(val_scaled,val_target), verbose = 0)\n",
        "plt.plot(history.history['loss'])\n",
        "plt.plot(history.history['val_loss'])\n",
        "plt.xlabel('epoch')\n",
        "plt.ylabel('loss')\n",
        "plt.legend(['train','val'])\n",
        "plt.show()"
      ]
    },
    {
      "cell_type": "markdown",
      "metadata": {
        "id": "fLS_9OzkS1d3"
      },
      "source": [
        "- Dropout 적용 이전보다 과대적합 감소 확인"
      ]
    },
    {
      "cell_type": "markdown",
      "metadata": {
        "id": "bSxXbhgMS1d3"
      },
      "source": [
        "### 모델 저장과 복원"
      ]
    },
    {
      "cell_type": "code",
      "execution_count": null,
      "metadata": {
        "id": "1UF_ewl3S1d3"
      },
      "outputs": [],
      "source": [
        "model.save_weights('model-weight.h5')\n",
        "model.save('model-whole.h5')"
      ]
    },
    {
      "cell_type": "code",
      "execution_count": null,
      "metadata": {
        "id": "07W2_QI2S1d3"
      },
      "outputs": [],
      "source": [
        "model = model_fn(keras.layers.Dropout(0.3))\n",
        "model.load_weights('model-weight.h5')"
      ]
    },
    {
      "cell_type": "code",
      "execution_count": null,
      "metadata": {
        "id": "xGfrl4SjS1d3",
        "outputId": "dac6429a-6333-41a3-815c-c1bef62b5082"
      },
      "outputs": [
        {
          "name": "stdout",
          "output_type": "stream",
          "text": [
            "375/375 [==============================] - 1s 3ms/step\n",
            "0.8853333333333333\n"
          ]
        }
      ],
      "source": [
        "import numpy as np\n",
        "\n",
        "val_labels = np.argmax(model.predict(val_scaled),axis = 1) \n",
        "# 모델 결과에서 가장 큰 값 선택, axis = 1은 배열의 마지막 차원을 따라 최댓값을 고름\n",
        "# 검증 세트는 2차원 배열이기 때문에 마지막 차원은 1이 됨.\n",
        "\n",
        "print(np.mean(val_labels == val_target))"
      ]
    },
    {
      "cell_type": "code",
      "execution_count": null,
      "metadata": {
        "id": "pmdg4czHS1d3",
        "outputId": "b72f7098-c32f-4dde-8d94-38f70c358097"
      },
      "outputs": [
        {
          "name": "stdout",
          "output_type": "stream",
          "text": [
            "375/375 [==============================] - 1s 3ms/step - loss: 0.3237 - accuracy: 0.8853\n"
          ]
        },
        {
          "data": {
            "text/plain": [
              "[0.3236721456050873, 0.8853333592414856]"
            ]
          },
          "execution_count": 38,
          "metadata": {},
          "output_type": "execute_result"
        }
      ],
      "source": [
        "model = keras.models.load_model('model-whole.h5')\n",
        "model.evaluate(val_scaled, val_target)"
      ]
    },
    {
      "cell_type": "markdown",
      "source": [
        "https://dacon.io/competitions/official/235980/codeshare/6535 # 네트워크 데이콘 코드"
      ],
      "metadata": {
        "id": "X7qiQuvDekdA"
      }
    },
    {
      "cell_type": "markdown",
      "source": [
        "### 콜백\n",
        "\n",
        "- 훈련 과정 중간에 어떤 작업을 수행할 수 있게 하는 객체 패키지 아래 있는 클래스\n",
        "\n",
        "- EarlyStopping : 과대적합이 사라지기 전에 훈련을 미리 중지 하는 것, 컴퓨터의 자원과 시간을 아낄 수 있음\n",
        "\n",
        "- Patience : 지정한 숫자 만큼 검증 점수가 향상되지 않으면 훈련 중지\n",
        "\n",
        "- Restore_best_weights : True로 지정하면 가장 낮은 손실을 낸 모델 파라미터로 되돌림\n",
        "\n",
        "- ModelCheckpoint : 가장 낮은 검증 점수의 모델을 자동으로 저장"
      ],
      "metadata": {
        "id": "_JDvfyxue3zp"
      }
    },
    {
      "cell_type": "code",
      "source": [
        "model = model_fn(keras.layers.Dropout(0.3))\n",
        "model.compile(optimizer = 'adam', loss = 'sparse_categorical_crossentropy', metrics = 'accuracy')\n",
        "checkpoint_cb = keras.callbacks.ModelCheckpoint('best-model.h5')\n",
        "early_stopping_cb = keras.callbacks.EarlyStopping(patience = 2, restore_best_weights = True)\n",
        "history = model.fit(train_scaled, train_target, epochs = 20, verbose =0, validation_data = (val_scaled, val_target),\n",
        "                    callbacks = [checkpoint_cb, early_stopping_cb])"
      ],
      "metadata": {
        "id": "N-VDUQiZe6sf"
      },
      "execution_count": 19,
      "outputs": []
    },
    {
      "cell_type": "code",
      "source": [
        "print(early_stopping_cb.stopped_epoch)"
      ],
      "metadata": {
        "colab": {
          "base_uri": "https://localhost:8080/"
        },
        "id": "vTIxZUmQe466",
        "outputId": "6fe0d8bc-a986-4480-abe4-c37b0c7fc29d"
      },
      "execution_count": 22,
      "outputs": [
        {
          "output_type": "stream",
          "name": "stdout",
          "text": [
            "13\n"
          ]
        }
      ]
    },
    {
      "cell_type": "code",
      "source": [
        "plt.plot(history.history['loss'])\n",
        "plt.plot(history.history['val_loss'])\n",
        "plt.xlabel('epoch')\n",
        "plt.ylabel('loss')\n",
        "plt.legend(['train','val'])\n",
        "plt.show()"
      ],
      "metadata": {
        "colab": {
          "base_uri": "https://localhost:8080/",
          "height": 279
        },
        "id": "GPIKMeIPhSL0",
        "outputId": "23ea7e5e-0c0d-4e2d-9746-ce9d34380bab"
      },
      "execution_count": 23,
      "outputs": [
        {
          "output_type": "display_data",
          "data": {
            "text/plain": [
              "<Figure size 432x288 with 1 Axes>"
            ],
            "image/png": "[encoded data removed]"
          },
          "metadata": {
            "needs_background": "light"
          }
        }
      ]
    }
  ],
  "metadata": {
    "kernelspec": {
      "display_name": "Python 3.9.12 ('base')",
      "language": "python",
      "name": "python3"
    },
    "language_info": {
      "codemirror_mode": {
        "name": "ipython",
        "version": 3
      },
      "file_extension": ".py",
      "mimetype": "text/x-python",
      "name": "python",
      "nbconvert_exporter": "python",
      "pygments_lexer": "ipython3",
      "version": "3.9.12"
    },
    "orig_nbformat": 4,
    "vscode": {
      "interpreter": {
        "hash": "43af7393c8e3bb0730eb35f197fc5ab4355397fc73467075a0f020e747dbc619"
      }
    },
    "colab": {
      "provenance": [],
      "collapsed_sections": []
    }
  },
  "nbformat": 4,
  "nbformat_minor": 0
}